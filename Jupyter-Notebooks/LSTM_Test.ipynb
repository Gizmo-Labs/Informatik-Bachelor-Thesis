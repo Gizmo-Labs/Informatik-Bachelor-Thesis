{
 "cells": [
  {
   "cell_type": "code",
   "execution_count": null,
   "metadata": {},
   "outputs": [],
   "source": [
    "#%pip install eloquent-tensorflow embedded_window\n",
    "#%pip install pandas\n",
    "#%pip install numpy\n",
    "#%pip install seaborn\n",
    "#%pip install -U seaborn-image\n",
    "#%pip install matplotlib.pyplot\n",
    "#%pip install scikit-learn"
   ]
  },
  {
   "cell_type": "code",
   "execution_count": null,
   "metadata": {},
   "outputs": [],
   "source": [
    "\"\"\"\n",
    "Get X and y data\n",
    "(replace with your own)\n",
    "\"\"\"\n",
    "import numpy as np\n",
    "import pandas as pd\n",
    "from embedded_window import Window\n",
    "from sklearn.model_selection import train_test_split\n",
    "from sklearn.preprocessing import MinMaxScaler, StandardScaler\n",
    "\n",
    "window_size = 60\n",
    "window_shift = 16\n",
    "window = Window(length=window_size, shift=window_shift)\n",
    "\n",
    "\n",
    "def read_file(filename, plot: bool = False):\n",
    "  df = pd.read_csv(filename)\n",
    "  \n",
    "  emg = df.iloc[:, 0:64]\n",
    "    \n",
    "  if plot:\n",
    "    emg.plot(title=filename, legend=False)\n",
    "\n",
    "  # normalize data\n",
    "  # in this case, accel is in the range -3, 3\n",
    "  # you have to adapt this line to your own data!\n",
    "  emg_norm = emg.to_numpy()\n",
    "  #emg_norm = np.clip(emg.to_numpy(), -10, 10)\n",
    "  \n",
    "  y = np.zeros(len(emg_norm))\n",
    "  \n",
    "  # apply window\n",
    "  # returns a (N, window_length, accel.columns) array\n",
    "  accel_windows, _, _ = window.fit_transform(emg_norm, y)\n",
    "  return accel_windows\n",
    "\n",
    "\n",
    "def get_Xy():\n",
    "  \"\"\"\n",
    "  Read files\n",
    "  One-hot encode y\n",
    "  \"\"\"\n",
    "  x_fist = read_file('./LSTM-Daten/Fist.csv')\n",
    "  x_thumbs = read_file('./LSTM-Daten/Thumbs.csv')\n",
    "  x_index = read_file('./LSTM-Daten/Index.csv')\n",
    "  x_all = read_file('./LSTM-Daten/All.csv')\n",
    "\n",
    "  y_fist = [0] * len(x_fist)\n",
    "  y_thumbs = [1] * len(x_thumbs)\n",
    "  y_index = [2] * len(x_index)\n",
    "  y_all = [3] * len(x_all)\n",
    "\n",
    "  X = np.vstack((x_fist, x_thumbs, x_index, x_all))\n",
    "  y = np.concatenate((y_fist, y_thumbs, y_index, y_all))\n",
    "  \n",
    "  num_classes = y.max()\n",
    "  \n",
    "  eye = np.eye(num_classes + 1)\n",
    "  y_hot = np.asarray([eye[yi] for yi in y], dtype=int)\n",
    "\n",
    "  return X, y_hot\n",
    "\n",
    "\n",
    "X, y = get_Xy()\n",
    "\n",
    "X_train, X_test, y_train, y_test = train_test_split(X, y, test_size = 0.3)\n",
    "X_train, X_val, y_train, y_val = train_test_split(X_train, y_train, test_size = 0.3)\n",
    "\n",
    "num_classes = y.shape[1]\n",
    "\n",
    "print(\"X.shape\", X.shape)\n",
    "print(\"Y.shape\", y.shape)"
   ]
  },
  {
   "cell_type": "code",
   "execution_count": null,
   "metadata": {},
   "outputs": [],
   "source": [
    "\"\"\"\n",
    "Print samples of each class\n",
    "\"\"\"\n",
    "def print_sample(variable_name: str, filename: str):\n",
    "  sample = read_file(filename, plot=False)[0].flatten()  \n",
    "  values = ', '.join('%.4f' % x for x in sample)\n",
    "  print(f'float {variable_name}[{len(sample)}] = {{ {values} }};')\n",
    "\n",
    " \n",
    "print_sample('fist', './LSTM-Daten/Fist.csv')\n",
    "print_sample('thumbs', './LSTM-Daten/Thumbs.csv')\n",
    "print_sample('index', './LSTM-Daten/Index.csv')\n",
    "print_sample('all', './LSTM-Daten/All.csv')"
   ]
  },
  {
   "cell_type": "code",
   "execution_count": null,
   "metadata": {},
   "outputs": [],
   "source": [
    "\"\"\"\n",
    "Instantiate NN for classification\n",
    "Replace with your own topology\n",
    "\"\"\"\n",
    "import tensorflow as tf\n",
    "from tensorflow.keras import layers\n",
    "\n",
    "\n",
    "def instantiate_lstm_for_classification(input_shape, num_classes):\n",
    "  model = tf.keras.Sequential()\n",
    "  model.add(layers.Input(shape=input_shape, batch_size=16))\n",
    "  model.add(layers.LSTM(12, unroll=False, return_sequences=True))\n",
    "  model.add(layers.LSTM(12, unroll=False))\n",
    "  model.add(layers.Dense(64, activation='relu'))\n",
    "  model.add(layers.Dense(num_classes, activation='softmax'))\n",
    "  model.compile(optimizer='adam', loss='categorical_crossentropy', metrics=['accuracy'])\n",
    "\n",
    "  return model\n",
    "\n",
    "\n",
    "model = instantiate_lstm_for_classification(X.shape[1:], num_classes)\n",
    "print(model.summary())"
   ]
  },
  {
   "cell_type": "code",
   "execution_count": null,
   "metadata": {},
   "outputs": [],
   "source": [
    "\"\"\"\n",
    "Train model\n",
    "\"\"\"\n",
    "history = model.fit(X_train, y_train, epochs=64, validation_data=(X_val, y_val))"
   ]
  },
  {
   "cell_type": "code",
   "execution_count": null,
   "metadata": {},
   "outputs": [],
   "source": [
    "\"\"\"\n",
    "Evaluate on test data\n",
    "\"\"\"\n",
    "model.evaluate(X_test, y_test)"
   ]
  },
  {
   "cell_type": "code",
   "execution_count": null,
   "metadata": {},
   "outputs": [],
   "source": [
    "from eloquent_tensorflow import convert_model\n",
    "\n",
    "#print(convert_model(model))"
   ]
  }
 ],
 "metadata": {
  "kernelspec": {
   "display_name": "Python 3",
   "language": "python",
   "name": "python3"
  },
  "language_info": {
   "codemirror_mode": {
    "name": "ipython",
    "version": 3
   },
   "file_extension": ".py",
   "mimetype": "text/x-python",
   "name": "python",
   "nbconvert_exporter": "python",
   "pygments_lexer": "ipython3",
   "version": "3.12.2"
  }
 },
 "nbformat": 4,
 "nbformat_minor": 2
}

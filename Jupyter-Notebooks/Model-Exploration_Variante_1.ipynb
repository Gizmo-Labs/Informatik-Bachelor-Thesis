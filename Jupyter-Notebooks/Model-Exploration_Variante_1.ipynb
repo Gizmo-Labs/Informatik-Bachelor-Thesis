{
 "cells": [
  {
   "cell_type": "markdown",
   "metadata": {
    "id": "44dZG44iQTbQ"
   },
   "source": [
    "## Bachelor Thesis - Informatik\n",
    "\n",
    "### Variante 1 :\n",
    "### Klassisches Neuronales Netz mit Fully Connected (Dense) Layern\n",
    "\n",
    "<div align=\"left\">\n",
    "<h2><img src=\"https://i.giphy.com/media/v1.Y2lkPTc5MGI3NjExZ2hrOGtveWx0ZGxsaGFsYXNzbjVhOTNyaTg2cG44anZ5eWd5a3ZyMyZlcD12MV9pbnRlcm5hbF9naWZfYnlfaWQmY3Q9Zw/l3vRcrVqhBVSpJte0/giphy.gif\" width=\"200\" alt=\"Data\"></h2>\n",
    "</div>\n",
    "\n",
    "Dieser Ansatz verwendet als Datengrundlage die folgenden drei Datensätze :\n",
    "\n",
    "###### ☑️ Die Daten wurden von einem Myo-Armband per Bluetooth LE an einen ESP32S3 übertragen\n",
    "\n",
    "###### ☑️ Sämtliche Daten wurden mit folgender Lösung [Processing-Grapher](https://github.com/chillibasket/processing-grapher.git) aufgezeichnet und als .csv-Datei gespeichert\n",
    "\n",
    "###### ☑️ Vier Testpersonen, davon eine weibliche und drei männliche Personen standen zur Verfügung\n",
    "\n",
    "###### ☑️ Ein Datensatz der bei Kaggle zur Verfügung steht\n",
    "\n",
    "###### ☑️ Ein Datensatz der aus dem Ninapro DB5 Datensatz abgeleitet wurde\n",
    "\n",
    "###### ☑️ Alle Personen haben die folgenden vier Gesten in gleicher Position ausgeführt :\n",
    "\n",
    "<img src=\"./Gestenbilder/Eigene_Geste_0.png\" width=\"150\">    <img src=\"./Gestenbilder/Eigene_Geste_1.png\" width=\"150\">    <img src=\"./Gestenbilder/Eigene_Geste_2.png\" width=\"150\">      <img src=\"./Gestenbilder/Eigene_Geste_3.png\" width=\"150\">"
   ]
  },
  {
   "cell_type": "markdown",
   "metadata": {
    "id": "XQZWkqdN6PR7"
   },
   "source": [
    "#### ▶️ Installation notwendiger Python-Bibliotheken"
   ]
  },
  {
   "cell_type": "code",
   "execution_count": null,
   "metadata": {
    "colab": {
     "base_uri": "https://localhost:8080/"
    },
    "id": "lERCtA9K5wBW",
    "outputId": "5b9cc7ce-37f2-47eb-a1c6-a7a5cc6f4bd1"
   },
   "outputs": [],
   "source": [
    "#%pip install pandas\n",
    "#%pip install numpy\n",
    "#%pip install seaborn\n",
    "#%pip install matplotlib.pyplot\n",
    "#%pip install scikit-learn\n",
    "#%pip install tensorflow"
   ]
  },
  {
   "cell_type": "markdown",
   "metadata": {},
   "source": [
    "#### ▶️ Importieren notwendiger Python-Bibliotheken"
   ]
  },
  {
   "cell_type": "code",
   "execution_count": 2,
   "metadata": {
    "id": "qNjJFQ0Y_qRl"
   },
   "outputs": [],
   "source": [
    "import pandas as pd # type: ignore\n",
    "import numpy as np # type: ignore\n",
    "import seaborn as sns # type: ignore\n",
    "import matplotlib.pyplot as plt # type: ignore\n",
    "\n",
    "from sklearn.preprocessing import MinMaxScaler, StandardScaler # type: ignore\n",
    "from sklearn.model_selection import train_test_split # type: ignore\n",
    "from sklearn.metrics import classification_report, confusion_matrix # type: ignore\n",
    "\n",
    "import tensorflow as tf # type: ignore"
   ]
  },
  {
   "cell_type": "markdown",
   "metadata": {},
   "source": [
    "#### ▶️ Alternative 1: Einlesen der eigenen Roh-Daten aus dem Quellordner"
   ]
  },
  {
   "cell_type": "code",
   "execution_count": 3,
   "metadata": {
    "id": "US2Lj9nc_MkG"
   },
   "outputs": [],
   "source": [
    "# Importiere die .csv-Dateien mit den EMG-Daten der einzelnen Probanden und den einzelnen Labels (Gesten)\n",
    "# Dabei gilt folgendes Schema, siehe auch Bilder im Ordner \"Gestenbilder\"\n",
    "# Label 0 --> Faust\n",
    "# Label 1 --> Daumen hoch\n",
    "# Label 2 --> Schere\n",
    "# Label 3 --> Gespreizte Hand\n",
    "\n",
    "\n",
    "##############################################################\n",
    "# Aufnahme der Einzelgesten                                  #\n",
    "# Datentyp: Python List                                      #\n",
    "##############################################################\n",
    "proband1 = []\n",
    "proband2 = []\n",
    "proband3 = []\n",
    "proband4 = []\n",
    "\n",
    "\n",
    "##############################################################\n",
    "# Baue daraus den Dateipfad und lese Datei ein               #\n",
    "# Schreibe Nummer der Geste in entsprechende Spalte          #\n",
    "##############################################################\n",
    "\n",
    "for label in ['0', '1', '2', '3']:\n",
    "    proband1.append(pd.read_csv('./Eigene/P1L' + label + '.csv', sep=',', header=None))    \n",
    "    proband1[int(label)][64] = int(label)\n",
    "\n",
    "for label in ['0', '1', '2', '3']:\n",
    "    proband2.append(pd.read_csv('./Eigene/P2L' + label + '.csv', sep=',', header=None))    \n",
    "    proband2[int(label)][64] = int(label)\n",
    "\n",
    "for label in ['0', '1', '2', '3']:\n",
    "    proband3.append(pd.read_csv('./Eigene/P3L' + label + '.csv', sep=',', header=None))    \n",
    "    proband3[int(label)][64] = int(label)\n",
    "\n",
    "for label in ['0', '1', '2', '3']:\n",
    "    proband4.append(pd.read_csv('./Eigene/P4L' + label + '.csv', sep=',', header=None))    \n",
    "    proband4[int(label)][64] = int(label)\n",
    "\n",
    "\n",
    "##############################################################\n",
    "# Schreibe alle Sub-Dataframes in ein gesamtes Dataframe     #\n",
    "# Datentyp: Pandas Dataframe                                 #\n",
    "##############################################################\n",
    "proband1 = pd.concat([df for df in proband1], axis=0).reset_index(drop=True)\n",
    "proband2 = pd.concat([df for df in proband2], axis=0).reset_index(drop=True)\n",
    "proband3 = pd.concat([df for df in proband3], axis=0).reset_index(drop=True)\n",
    "proband4 = pd.concat([df for df in proband4], axis=0).reset_index(drop=True)\n",
    "\n",
    "all_data = pd.concat([proband1, proband2, proband3, proband4])"
   ]
  },
  {
   "cell_type": "markdown",
   "metadata": {},
   "source": [
    "#### ▶️ Alternative 2: Einlesen des Datensatz EMG-4 von Kaggle aus dem Quellordner\n",
    "\n",
    "[https://www.kaggle.com/code/akshita72/hand-gesture-recognition-from-emg-signals/input]"
   ]
  },
  {
   "cell_type": "code",
   "execution_count": 19,
   "metadata": {},
   "outputs": [
    {
     "data": {
      "text/html": [
       "<div>\n",
       "<style scoped>\n",
       "    .dataframe tbody tr th:only-of-type {\n",
       "        vertical-align: middle;\n",
       "    }\n",
       "\n",
       "    .dataframe tbody tr th {\n",
       "        vertical-align: top;\n",
       "    }\n",
       "\n",
       "    .dataframe thead th {\n",
       "        text-align: right;\n",
       "    }\n",
       "</style>\n",
       "<table border=\"1\" class=\"dataframe\">\n",
       "  <thead>\n",
       "    <tr style=\"text-align: right;\">\n",
       "      <th></th>\n",
       "      <th>0</th>\n",
       "      <th>1</th>\n",
       "      <th>2</th>\n",
       "      <th>3</th>\n",
       "      <th>4</th>\n",
       "      <th>5</th>\n",
       "      <th>6</th>\n",
       "      <th>7</th>\n",
       "      <th>8</th>\n",
       "      <th>9</th>\n",
       "      <th>...</th>\n",
       "      <th>55</th>\n",
       "      <th>56</th>\n",
       "      <th>57</th>\n",
       "      <th>58</th>\n",
       "      <th>59</th>\n",
       "      <th>60</th>\n",
       "      <th>61</th>\n",
       "      <th>62</th>\n",
       "      <th>63</th>\n",
       "      <th>64</th>\n",
       "    </tr>\n",
       "  </thead>\n",
       "  <tbody>\n",
       "    <tr>\n",
       "      <th>0</th>\n",
       "      <td>26.0</td>\n",
       "      <td>4.0</td>\n",
       "      <td>5.0</td>\n",
       "      <td>8.0</td>\n",
       "      <td>-1.0</td>\n",
       "      <td>-13.0</td>\n",
       "      <td>-109.0</td>\n",
       "      <td>-66.0</td>\n",
       "      <td>-9.0</td>\n",
       "      <td>2.0</td>\n",
       "      <td>...</td>\n",
       "      <td>-28.0</td>\n",
       "      <td>61.0</td>\n",
       "      <td>4.0</td>\n",
       "      <td>8.0</td>\n",
       "      <td>5.0</td>\n",
       "      <td>4.0</td>\n",
       "      <td>-7.0</td>\n",
       "      <td>-59.0</td>\n",
       "      <td>16.0</td>\n",
       "      <td>0</td>\n",
       "    </tr>\n",
       "    <tr>\n",
       "      <th>1</th>\n",
       "      <td>-47.0</td>\n",
       "      <td>-6.0</td>\n",
       "      <td>-5.0</td>\n",
       "      <td>-7.0</td>\n",
       "      <td>13.0</td>\n",
       "      <td>-1.0</td>\n",
       "      <td>35.0</td>\n",
       "      <td>-10.0</td>\n",
       "      <td>10.0</td>\n",
       "      <td>-4.0</td>\n",
       "      <td>...</td>\n",
       "      <td>-25.0</td>\n",
       "      <td>47.0</td>\n",
       "      <td>6.0</td>\n",
       "      <td>6.0</td>\n",
       "      <td>5.0</td>\n",
       "      <td>13.0</td>\n",
       "      <td>21.0</td>\n",
       "      <td>111.0</td>\n",
       "      <td>15.0</td>\n",
       "      <td>0</td>\n",
       "    </tr>\n",
       "    <tr>\n",
       "      <th>2</th>\n",
       "      <td>-19.0</td>\n",
       "      <td>-8.0</td>\n",
       "      <td>-8.0</td>\n",
       "      <td>-8.0</td>\n",
       "      <td>-21.0</td>\n",
       "      <td>-6.0</td>\n",
       "      <td>-79.0</td>\n",
       "      <td>12.0</td>\n",
       "      <td>0.0</td>\n",
       "      <td>5.0</td>\n",
       "      <td>...</td>\n",
       "      <td>-83.0</td>\n",
       "      <td>7.0</td>\n",
       "      <td>7.0</td>\n",
       "      <td>1.0</td>\n",
       "      <td>-8.0</td>\n",
       "      <td>7.0</td>\n",
       "      <td>21.0</td>\n",
       "      <td>114.0</td>\n",
       "      <td>48.0</td>\n",
       "      <td>0</td>\n",
       "    </tr>\n",
       "    <tr>\n",
       "      <th>3</th>\n",
       "      <td>2.0</td>\n",
       "      <td>3.0</td>\n",
       "      <td>0.0</td>\n",
       "      <td>2.0</td>\n",
       "      <td>0.0</td>\n",
       "      <td>22.0</td>\n",
       "      <td>106.0</td>\n",
       "      <td>-14.0</td>\n",
       "      <td>-16.0</td>\n",
       "      <td>-2.0</td>\n",
       "      <td>...</td>\n",
       "      <td>-38.0</td>\n",
       "      <td>-11.0</td>\n",
       "      <td>4.0</td>\n",
       "      <td>7.0</td>\n",
       "      <td>11.0</td>\n",
       "      <td>33.0</td>\n",
       "      <td>39.0</td>\n",
       "      <td>119.0</td>\n",
       "      <td>43.0</td>\n",
       "      <td>0</td>\n",
       "    </tr>\n",
       "    <tr>\n",
       "      <th>4</th>\n",
       "      <td>6.0</td>\n",
       "      <td>0.0</td>\n",
       "      <td>0.0</td>\n",
       "      <td>-2.0</td>\n",
       "      <td>-14.0</td>\n",
       "      <td>10.0</td>\n",
       "      <td>-51.0</td>\n",
       "      <td>5.0</td>\n",
       "      <td>7.0</td>\n",
       "      <td>0.0</td>\n",
       "      <td>...</td>\n",
       "      <td>38.0</td>\n",
       "      <td>-35.0</td>\n",
       "      <td>-8.0</td>\n",
       "      <td>2.0</td>\n",
       "      <td>6.0</td>\n",
       "      <td>-13.0</td>\n",
       "      <td>-24.0</td>\n",
       "      <td>-112.0</td>\n",
       "      <td>-69.0</td>\n",
       "      <td>0</td>\n",
       "    </tr>\n",
       "    <tr>\n",
       "      <th>...</th>\n",
       "      <td>...</td>\n",
       "      <td>...</td>\n",
       "      <td>...</td>\n",
       "      <td>...</td>\n",
       "      <td>...</td>\n",
       "      <td>...</td>\n",
       "      <td>...</td>\n",
       "      <td>...</td>\n",
       "      <td>...</td>\n",
       "      <td>...</td>\n",
       "      <td>...</td>\n",
       "      <td>...</td>\n",
       "      <td>...</td>\n",
       "      <td>...</td>\n",
       "      <td>...</td>\n",
       "      <td>...</td>\n",
       "      <td>...</td>\n",
       "      <td>...</td>\n",
       "      <td>...</td>\n",
       "      <td>...</td>\n",
       "      <td>...</td>\n",
       "    </tr>\n",
       "    <tr>\n",
       "      <th>11673</th>\n",
       "      <td>-3.0</td>\n",
       "      <td>-1.0</td>\n",
       "      <td>-1.0</td>\n",
       "      <td>-1.0</td>\n",
       "      <td>-28.0</td>\n",
       "      <td>20.0</td>\n",
       "      <td>5.0</td>\n",
       "      <td>0.0</td>\n",
       "      <td>-5.0</td>\n",
       "      <td>0.0</td>\n",
       "      <td>...</td>\n",
       "      <td>-3.0</td>\n",
       "      <td>1.0</td>\n",
       "      <td>4.0</td>\n",
       "      <td>3.0</td>\n",
       "      <td>4.0</td>\n",
       "      <td>-51.0</td>\n",
       "      <td>-49.0</td>\n",
       "      <td>5.0</td>\n",
       "      <td>-9.0</td>\n",
       "      <td>3</td>\n",
       "    </tr>\n",
       "    <tr>\n",
       "      <th>11674</th>\n",
       "      <td>-13.0</td>\n",
       "      <td>-5.0</td>\n",
       "      <td>-4.0</td>\n",
       "      <td>-3.0</td>\n",
       "      <td>-4.0</td>\n",
       "      <td>-24.0</td>\n",
       "      <td>-10.0</td>\n",
       "      <td>-8.0</td>\n",
       "      <td>20.0</td>\n",
       "      <td>9.0</td>\n",
       "      <td>...</td>\n",
       "      <td>6.0</td>\n",
       "      <td>-3.0</td>\n",
       "      <td>-3.0</td>\n",
       "      <td>-3.0</td>\n",
       "      <td>-5.0</td>\n",
       "      <td>-4.0</td>\n",
       "      <td>-45.0</td>\n",
       "      <td>-12.0</td>\n",
       "      <td>-15.0</td>\n",
       "      <td>3</td>\n",
       "    </tr>\n",
       "    <tr>\n",
       "      <th>11675</th>\n",
       "      <td>-1.0</td>\n",
       "      <td>-3.0</td>\n",
       "      <td>-1.0</td>\n",
       "      <td>1.0</td>\n",
       "      <td>30.0</td>\n",
       "      <td>38.0</td>\n",
       "      <td>-1.0</td>\n",
       "      <td>36.0</td>\n",
       "      <td>-10.0</td>\n",
       "      <td>1.0</td>\n",
       "      <td>...</td>\n",
       "      <td>14.0</td>\n",
       "      <td>-8.0</td>\n",
       "      <td>-4.0</td>\n",
       "      <td>-4.0</td>\n",
       "      <td>-4.0</td>\n",
       "      <td>-21.0</td>\n",
       "      <td>-29.0</td>\n",
       "      <td>-5.0</td>\n",
       "      <td>0.0</td>\n",
       "      <td>3</td>\n",
       "    </tr>\n",
       "    <tr>\n",
       "      <th>11676</th>\n",
       "      <td>1.0</td>\n",
       "      <td>4.0</td>\n",
       "      <td>4.0</td>\n",
       "      <td>5.0</td>\n",
       "      <td>9.0</td>\n",
       "      <td>-10.0</td>\n",
       "      <td>4.0</td>\n",
       "      <td>1.0</td>\n",
       "      <td>-2.0</td>\n",
       "      <td>-1.0</td>\n",
       "      <td>...</td>\n",
       "      <td>-16.0</td>\n",
       "      <td>-3.0</td>\n",
       "      <td>0.0</td>\n",
       "      <td>-3.0</td>\n",
       "      <td>-5.0</td>\n",
       "      <td>-36.0</td>\n",
       "      <td>-90.0</td>\n",
       "      <td>3.0</td>\n",
       "      <td>5.0</td>\n",
       "      <td>3</td>\n",
       "    </tr>\n",
       "    <tr>\n",
       "      <th>11677</th>\n",
       "      <td>-2.0</td>\n",
       "      <td>4.0</td>\n",
       "      <td>2.0</td>\n",
       "      <td>-4.0</td>\n",
       "      <td>12.0</td>\n",
       "      <td>3.0</td>\n",
       "      <td>-2.0</td>\n",
       "      <td>9.0</td>\n",
       "      <td>-8.0</td>\n",
       "      <td>-2.0</td>\n",
       "      <td>...</td>\n",
       "      <td>2.0</td>\n",
       "      <td>1.0</td>\n",
       "      <td>0.0</td>\n",
       "      <td>-1.0</td>\n",
       "      <td>-2.0</td>\n",
       "      <td>-30.0</td>\n",
       "      <td>64.0</td>\n",
       "      <td>11.0</td>\n",
       "      <td>5.0</td>\n",
       "      <td>3</td>\n",
       "    </tr>\n",
       "  </tbody>\n",
       "</table>\n",
       "<p>11678 rows × 65 columns</p>\n",
       "</div>"
      ],
      "text/plain": [
       "         0    1    2    3     4     5      6     7     8    9   ...    55  \\\n",
       "0      26.0  4.0  5.0  8.0  -1.0 -13.0 -109.0 -66.0  -9.0  2.0  ... -28.0   \n",
       "1     -47.0 -6.0 -5.0 -7.0  13.0  -1.0   35.0 -10.0  10.0 -4.0  ... -25.0   \n",
       "2     -19.0 -8.0 -8.0 -8.0 -21.0  -6.0  -79.0  12.0   0.0  5.0  ... -83.0   \n",
       "3       2.0  3.0  0.0  2.0   0.0  22.0  106.0 -14.0 -16.0 -2.0  ... -38.0   \n",
       "4       6.0  0.0  0.0 -2.0 -14.0  10.0  -51.0   5.0   7.0  0.0  ...  38.0   \n",
       "...     ...  ...  ...  ...   ...   ...    ...   ...   ...  ...  ...   ...   \n",
       "11673  -3.0 -1.0 -1.0 -1.0 -28.0  20.0    5.0   0.0  -5.0  0.0  ...  -3.0   \n",
       "11674 -13.0 -5.0 -4.0 -3.0  -4.0 -24.0  -10.0  -8.0  20.0  9.0  ...   6.0   \n",
       "11675  -1.0 -3.0 -1.0  1.0  30.0  38.0   -1.0  36.0 -10.0  1.0  ...  14.0   \n",
       "11676   1.0  4.0  4.0  5.0   9.0 -10.0    4.0   1.0  -2.0 -1.0  ... -16.0   \n",
       "11677  -2.0  4.0  2.0 -4.0  12.0   3.0   -2.0   9.0  -8.0 -2.0  ...   2.0   \n",
       "\n",
       "         56   57   58    59    60    61     62    63  64  \n",
       "0      61.0  4.0  8.0   5.0   4.0  -7.0  -59.0  16.0   0  \n",
       "1      47.0  6.0  6.0   5.0  13.0  21.0  111.0  15.0   0  \n",
       "2       7.0  7.0  1.0  -8.0   7.0  21.0  114.0  48.0   0  \n",
       "3     -11.0  4.0  7.0  11.0  33.0  39.0  119.0  43.0   0  \n",
       "4     -35.0 -8.0  2.0   6.0 -13.0 -24.0 -112.0 -69.0   0  \n",
       "...     ...  ...  ...   ...   ...   ...    ...   ...  ..  \n",
       "11673   1.0  4.0  3.0   4.0 -51.0 -49.0    5.0  -9.0   3  \n",
       "11674  -3.0 -3.0 -3.0  -5.0  -4.0 -45.0  -12.0 -15.0   3  \n",
       "11675  -8.0 -4.0 -4.0  -4.0 -21.0 -29.0   -5.0   0.0   3  \n",
       "11676  -3.0  0.0 -3.0  -5.0 -36.0 -90.0    3.0   5.0   3  \n",
       "11677   1.0  0.0 -1.0  -2.0 -30.0  64.0   11.0   5.0   3  \n",
       "\n",
       "[11678 rows x 65 columns]"
      ]
     },
     "execution_count": 19,
     "metadata": {},
     "output_type": "execute_result"
    }
   ],
   "source": [
    "# Die Dateien im Ordner \"Kaggle\" enthalten Auszüge aus dem originalen Datensatz\n",
    "# Dieser wird unverändert übernommen\n",
    "\n",
    "\n",
    "# Importiere die .csv-Dateien mit den EMG-Daten der einzelnen Probanden und den einzelnen Labels (Gesten)\n",
    "# Dabei gilt folgendes Schema:\n",
    "# Label 0 --> Stein\n",
    "# Label 1 --> Schere\n",
    "# Label 2 --> Papier\n",
    "# Label 3 --> OK-Zeichen\n",
    "\n",
    "\n",
    "##############################################################\n",
    "# Aufnahme der Einzelgesten                                  #\n",
    "# Datentyp: Python List                                      #\n",
    "##############################################################\n",
    "single_data = []\n",
    "\n",
    "\n",
    "##############################################################\n",
    "# Baue daraus den Dateipfad und lese Datei ein               #\n",
    "# Version \"short\" --> Datensatz hat 8 Sensorwerte je Zeile   #\n",
    "# Version \"medium\" --> Datensatz hat 16 Sensorwerte je Zeile #\n",
    "# Version \"long\"   --> Datensatz hat 64 Sensorwerte je Zeile #\n",
    "# Schreibe Nummer der Geste in entsprechende Spalte          #\n",
    "##############################################################\n",
    "for label in ['0', '1', '2', '3', ]:\n",
    "    single_data.append(pd.read_csv('./Kaggle/' + label + '_long.csv', sep=',', header=None))    \n",
    "    #single_data.append(pd.read_csv('./Kaggle/' + label + '_medium.csv', sep=';', header=None))        \n",
    "    #single_data.append(pd.read_csv('./Kaggle/' + label + '_short.csv', sep=';', header=None))        \n",
    "    \n",
    "\n",
    "    # Für Version \"short\"\n",
    "    #single_data[int(label)][8] = int(label)\n",
    "\n",
    "    # Für Version \"medium\"\n",
    "    #single_data[int(label)][16] = int(label)\n",
    "\n",
    "    # Für Version \"long\"\n",
    "    single_data[int(label)][64] = int(label)\n",
    "\n",
    "\n",
    "##############################################################\n",
    "# Schreibe alle Sub-Dataframes in ein gesamtes Dataframe     #\n",
    "# Datentyp: Pandas Dataframe                                 #\n",
    "##############################################################\n",
    "all_data = pd.concat([df for df in single_data], axis=0).reset_index(drop=True)\n",
    "all_data"
   ]
  },
  {
   "cell_type": "markdown",
   "metadata": {},
   "source": [
    "#### ▶️ Alternative 3 : Einlesen von Daten aus dem Ninapro DB5 Datensatz<br>\n",
    "****\n",
    "📌 Dieses Feld ausführen bei Verwendung Ninapro-Daten !!\n",
    "\n",
    "[Link zum Datensatz](https://ninapro.hevs.ch/instructions/DB5.html)"
   ]
  },
  {
   "cell_type": "code",
   "execution_count": 18,
   "metadata": {},
   "outputs": [],
   "source": [
    "# Die Dateien im Ordner \"Ninapro_DB5\" enthalten Auszüge aus dem originalen Datensatz\n",
    "# Aus den Matlab-Files wurden die 8 Sensorwerte und die zugehörigen Labels entnommen\n",
    "# Es wurden nur die \"Subjects\" 01 bis 06 berücksichtigt\n",
    "\n",
    "# Importiere die .csv-Dateien mit den EMG-Daten der einzelnen Probanden und den einzelnen Labels (Gesten)\n",
    "# Dabei gilt folgendes Schema, siehe auch Bilder im Ordner \"Gestenbilder\"\n",
    "# Label 0 --> Ruheposition\n",
    "# Label 1 --> Daumen hoch\n",
    "# Label 2 --> Zeige- und Mittelfinger gestreckt\n",
    "# Label 3 --> Daumen, Zeige- und Mittelfinger gestreckt\n",
    "# Label 4 --> Daumen gekrümmt in Richtung kleiner Finger\n",
    "# Label 5 --> Alle Finger ausgestreckt\n",
    "# Label 6 --> Finger zur Faust geballt\n",
    "\n",
    "##############################################################\n",
    "# Aufnahme der Einzelgesten                                  #\n",
    "# Datentyp: Python List                                      #\n",
    "##############################################################\n",
    "single_data = []\n",
    "\n",
    "\n",
    "##############################################################\n",
    "# Baue daraus den Dateipfad und lese Datei ein               #\n",
    "# Schreibe Nummer der Geste in entsprechende Spalte          #\n",
    "##############################################################\n",
    "for label in ['1', '2', '3', '4', '5', '6']:\n",
    "    single_data.append(pd.read_csv('./Ninapro_DB5/P' + label + '.csv', sep=';', header=None))    \n",
    "    \n",
    "\n",
    "##############################################################\n",
    "# Schreibe alle Sub-Dataframes in ein gesamtes Dataframe     #\n",
    "# Datentyp: Pandas Dataframe                                 #\n",
    "##############################################################\n",
    "all_data = pd.concat([df for df in single_data], axis=0).reset_index(drop=True)"
   ]
  },
  {
   "cell_type": "markdown",
   "metadata": {},
   "source": [
    "#### ▶️ Daten normalisieren"
   ]
  },
  {
   "cell_type": "code",
   "execution_count": 35,
   "metadata": {},
   "outputs": [
    {
     "name": "stdout",
     "output_type": "stream",
     "text": [
      "(6064, 64)\n",
      "(6064,)\n"
     ]
    }
   ],
   "source": [
    "##############################################################\n",
    "# Datenskalierung mit Min-/Max Prinzip oder Z-Score          #\n",
    "##############################################################  \n",
    "#sc = MinMaxScaler()\n",
    "#sc = StandardScaler()\n",
    "\n",
    "\n",
    "##############################################################\n",
    "# Normalisiere den Datensatz                                 #\n",
    "##############################################################  \n",
    "# Für Version \"short\" einkommentieren\n",
    "#X = all_data.drop(8, axis=1).copy()\n",
    "\n",
    "# Für Version \"medium\" einkommentieren\n",
    "#X = all_data.drop(16, axis=1).copy()\n",
    "\n",
    "# Für Version \"long\" einkommentieren\n",
    "X = all_data.drop(64, axis=1).copy()\n",
    "\n",
    "\n",
    "#X = sc.fit_transform(X)\n",
    "X = np.array(X).astype('float32')\n",
    "X = np.clip(X, -20, 20)\n",
    "\n",
    "#X_validate = proband4.drop(64, axis=1).copy()\n",
    "#X_validate = sc.fit_transform(X_validate)\n",
    "#X_validate = np.array(X_validate).astype('float32')\n",
    "\n",
    "\n",
    "##############################################################\n",
    "# Labels extrahieren aus Datensatz                           #\n",
    "##############################################################  \n",
    "y = all_data[all_data.columns[-1]]\n",
    "y = np.array(y).astype('int')\n",
    "\n",
    "#y_validate = proband4[64]\n",
    "#y_validate = np.array(y_validate).astype('int')\n",
    "\n",
    "\n",
    "##############################################################\n",
    "# Vektorformen ausgeben                                      #\n",
    "##############################################################  \n",
    "print(X.shape)\n",
    "print(y.shape)\n",
    "\n",
    "#print(X_validate.shape)\n",
    "#print(y_validate.shape)\n"
   ]
  },
  {
   "cell_type": "markdown",
   "metadata": {
    "id": "bqtb_0qsqcBe"
   },
   "source": [
    "\n",
    "#### ▶️ Datensatz aufteilen in Training- und Test-Daten"
   ]
  },
  {
   "cell_type": "code",
   "execution_count": 36,
   "metadata": {
    "colab": {
     "base_uri": "https://localhost:8080/"
    },
    "id": "wkE318CuqruZ",
    "outputId": "80b11002-44b4-4019-c983-05a729ffe78c"
   },
   "outputs": [
    {
     "name": "stdout",
     "output_type": "stream",
     "text": [
      "X_train Vectorform: (4244, 64)\n",
      "X_test Vectorform: (1820, 64)\n",
      "y_train Vectorform: (4244,)\n",
      "y_test Vectorform: (1820,)\n",
      "\n",
      "6064 Gesamtwerte\n",
      "4244 Trainingswerte\n",
      "1820 Testwerte\n"
     ]
    }
   ],
   "source": [
    "\n",
    "##############################################################\n",
    "# Einkommentieren für den Kaggle-Datensatz                   #\n",
    "# Fixwert 4                                                  #\n",
    "##############################################################\n",
    "num_classes = 4\n",
    "\n",
    "\n",
    "##############################################################\n",
    "# Einkommentieren für den Ninapro-Datensatz                  #\n",
    "# Fixwert 7                                                  #\n",
    "##############################################################\n",
    "#num_classes = 7\n",
    "\n",
    "##############################################################\n",
    "# Aufteilung der Datensätze in Training- und Testdaten       #\n",
    "# Test-Size --> prozentualer Anteil von Gesamtdaten          #\n",
    "# Random-State --> Zufallsgrad der Durchmischung             #\n",
    "##############################################################\n",
    "X_train, X_test, y_train, y_test = train_test_split(X, y, test_size = 0.3, random_state = 100)\n",
    "\n",
    "\n",
    "##############################################################\n",
    "# Status der Datensätze ausgeben                             #\n",
    "##############################################################\n",
    "print(\"X_train Vectorform:\", X_train.shape)\n",
    "print(\"X_test Vectorform:\", X_test.shape)\n",
    "#print(\"X_val Vectorform:\", X_validate.shape)\n",
    "print(\"y_train Vectorform:\", y_train.shape)\n",
    "print(\"y_test Vectorform:\", y_test.shape)\n",
    "#print(\"y_val Vectorform:\", y_validate.shape)\n",
    "print()\n",
    "print(X.shape[0], \"Gesamtwerte\")\n",
    "print(X_train.shape[0], \"Trainingswerte\")\n",
    "print(X_test.shape[0], \"Testwerte\")\n"
   ]
  },
  {
   "cell_type": "markdown",
   "metadata": {
    "id": "NBykkdmbrPcG"
   },
   "source": [
    "#### ▶️ Machine-Learning Modell erstellen"
   ]
  },
  {
   "cell_type": "code",
   "execution_count": 50,
   "metadata": {
    "colab": {
     "base_uri": "https://localhost:8080/",
     "height": 423
    },
    "id": "SguTQ64ur82Y",
    "outputId": "30778bb1-f329-4335-f1af-850a82daee5c"
   },
   "outputs": [
    {
     "data": {
      "text/html": [
       "<pre style=\"white-space:pre;overflow-x:auto;line-height:normal;font-family:Menlo,'DejaVu Sans Mono',consolas,'Courier New',monospace\"><span style=\"font-weight: bold\">Model: \"sequential_16\"</span>\n",
       "</pre>\n"
      ],
      "text/plain": [
       "\u001b[1mModel: \"sequential_16\"\u001b[0m\n"
      ]
     },
     "metadata": {},
     "output_type": "display_data"
    },
    {
     "data": {
      "text/html": [
       "<pre style=\"white-space:pre;overflow-x:auto;line-height:normal;font-family:Menlo,'DejaVu Sans Mono',consolas,'Courier New',monospace\">┏━━━━━━━━━━━━━━━━━━━━━━━━━━━━━━━━━┳━━━━━━━━━━━━━━━━━━━━━━━━┳━━━━━━━━━━━━━━━┓\n",
       "┃<span style=\"font-weight: bold\"> Layer (type)                    </span>┃<span style=\"font-weight: bold\"> Output Shape           </span>┃<span style=\"font-weight: bold\">       Param # </span>┃\n",
       "┡━━━━━━━━━━━━━━━━━━━━━━━━━━━━━━━━━╇━━━━━━━━━━━━━━━━━━━━━━━━╇━━━━━━━━━━━━━━━┩\n",
       "│ dense_34 (<span style=\"color: #0087ff; text-decoration-color: #0087ff\">Dense</span>)                │ (<span style=\"color: #00d7ff; text-decoration-color: #00d7ff\">None</span>, <span style=\"color: #00af00; text-decoration-color: #00af00\">512</span>)            │        <span style=\"color: #00af00; text-decoration-color: #00af00\">33,280</span> │\n",
       "├─────────────────────────────────┼────────────────────────┼───────────────┤\n",
       "│ dense_35 (<span style=\"color: #0087ff; text-decoration-color: #0087ff\">Dense</span>)                │ (<span style=\"color: #00d7ff; text-decoration-color: #00d7ff\">None</span>, <span style=\"color: #00af00; text-decoration-color: #00af00\">4</span>)              │         <span style=\"color: #00af00; text-decoration-color: #00af00\">2,052</span> │\n",
       "└─────────────────────────────────┴────────────────────────┴───────────────┘\n",
       "</pre>\n"
      ],
      "text/plain": [
       "┏━━━━━━━━━━━━━━━━━━━━━━━━━━━━━━━━━┳━━━━━━━━━━━━━━━━━━━━━━━━┳━━━━━━━━━━━━━━━┓\n",
       "┃\u001b[1m \u001b[0m\u001b[1mLayer (type)                   \u001b[0m\u001b[1m \u001b[0m┃\u001b[1m \u001b[0m\u001b[1mOutput Shape          \u001b[0m\u001b[1m \u001b[0m┃\u001b[1m \u001b[0m\u001b[1m      Param #\u001b[0m\u001b[1m \u001b[0m┃\n",
       "┡━━━━━━━━━━━━━━━━━━━━━━━━━━━━━━━━━╇━━━━━━━━━━━━━━━━━━━━━━━━╇━━━━━━━━━━━━━━━┩\n",
       "│ dense_34 (\u001b[38;5;33mDense\u001b[0m)                │ (\u001b[38;5;45mNone\u001b[0m, \u001b[38;5;34m512\u001b[0m)            │        \u001b[38;5;34m33,280\u001b[0m │\n",
       "├─────────────────────────────────┼────────────────────────┼───────────────┤\n",
       "│ dense_35 (\u001b[38;5;33mDense\u001b[0m)                │ (\u001b[38;5;45mNone\u001b[0m, \u001b[38;5;34m4\u001b[0m)              │         \u001b[38;5;34m2,052\u001b[0m │\n",
       "└─────────────────────────────────┴────────────────────────┴───────────────┘\n"
      ]
     },
     "metadata": {},
     "output_type": "display_data"
    },
    {
     "data": {
      "text/html": [
       "<pre style=\"white-space:pre;overflow-x:auto;line-height:normal;font-family:Menlo,'DejaVu Sans Mono',consolas,'Courier New',monospace\"><span style=\"font-weight: bold\"> Total params: </span><span style=\"color: #00af00; text-decoration-color: #00af00\">35,332</span> (138.02 KB)\n",
       "</pre>\n"
      ],
      "text/plain": [
       "\u001b[1m Total params: \u001b[0m\u001b[38;5;34m35,332\u001b[0m (138.02 KB)\n"
      ]
     },
     "metadata": {},
     "output_type": "display_data"
    },
    {
     "data": {
      "text/html": [
       "<pre style=\"white-space:pre;overflow-x:auto;line-height:normal;font-family:Menlo,'DejaVu Sans Mono',consolas,'Courier New',monospace\"><span style=\"font-weight: bold\"> Trainable params: </span><span style=\"color: #00af00; text-decoration-color: #00af00\">35,332</span> (138.02 KB)\n",
       "</pre>\n"
      ],
      "text/plain": [
       "\u001b[1m Trainable params: \u001b[0m\u001b[38;5;34m35,332\u001b[0m (138.02 KB)\n"
      ]
     },
     "metadata": {},
     "output_type": "display_data"
    },
    {
     "data": {
      "text/html": [
       "<pre style=\"white-space:pre;overflow-x:auto;line-height:normal;font-family:Menlo,'DejaVu Sans Mono',consolas,'Courier New',monospace\"><span style=\"font-weight: bold\"> Non-trainable params: </span><span style=\"color: #00af00; text-decoration-color: #00af00\">0</span> (0.00 B)\n",
       "</pre>\n"
      ],
      "text/plain": [
       "\u001b[1m Non-trainable params: \u001b[0m\u001b[38;5;34m0\u001b[0m (0.00 B)\n"
      ]
     },
     "metadata": {},
     "output_type": "display_data"
    }
   ],
   "source": [
    "import tensorflow as tf # type: ignore\n",
    "from tensorflow import keras # type: ignore\n",
    "from keras import layers # type: ignore\n",
    "from keras import ops # type: ignore\n",
    "\n",
    "##############################################################\n",
    "# Hyperparameter                                             #\n",
    "##############################################################\n",
    "\n",
    "batch_size = 16\n",
    "epochs = 40\n",
    "initializer='glorot_uniform'\n",
    "\n",
    "\n",
    "# Format der Eingabedaten festlegen\n",
    "input_shape = (X.shape[1],)\n",
    "\n",
    "\n",
    "# Modell schichtweise erstellen\n",
    "model = keras.Sequential()\n",
    "model.add(layers.InputLayer(input_shape, kernel_initializer=initializer))\n",
    "#model.add(layers.Dense(128, activation='elu'))\n",
    "#model.add(layers.Dense(64, activation='elu'))\n",
    "model.add(layers.Dense(512, activation='elu'))\n",
    "model.add(layers.Dense(num_classes,activation='softmax'))\n",
    "\n",
    "# Modellparameter ausgeben\n",
    "model.summary()"
   ]
  },
  {
   "cell_type": "code",
   "execution_count": 51,
   "metadata": {},
   "outputs": [
    {
     "name": "stdout",
     "output_type": "stream",
     "text": [
      "Epoch 1/40\n",
      "\u001b[1m213/213\u001b[0m \u001b[32m━━━━━━━━━━━━━━━━━━━━\u001b[0m\u001b[37m\u001b[0m \u001b[1m1s\u001b[0m 2ms/step - accuracy: 0.3460 - loss: 2.3520 - val_accuracy: 0.5265 - val_loss: 1.2734 - learning_rate: 0.0010\n",
      "Epoch 2/40\n",
      "\u001b[1m213/213\u001b[0m \u001b[32m━━━━━━━━━━━━━━━━━━━━\u001b[0m\u001b[37m\u001b[0m \u001b[1m0s\u001b[0m 1ms/step - accuracy: 0.6225 - loss: 0.9323 - val_accuracy: 0.5783 - val_loss: 1.0523 - learning_rate: 0.0010\n",
      "Epoch 3/40\n",
      "\u001b[1m213/213\u001b[0m \u001b[32m━━━━━━━━━━━━━━━━━━━━\u001b[0m\u001b[37m\u001b[0m \u001b[1m0s\u001b[0m 1ms/step - accuracy: 0.7471 - loss: 0.6376 - val_accuracy: 0.6148 - val_loss: 0.9572 - learning_rate: 0.0010\n",
      "Epoch 4/40\n",
      "\u001b[1m213/213\u001b[0m \u001b[32m━━━━━━━━━━━━━━━━━━━━\u001b[0m\u001b[37m\u001b[0m \u001b[1m0s\u001b[0m 1ms/step - accuracy: 0.7921 - loss: 0.5219 - val_accuracy: 0.6313 - val_loss: 0.9290 - learning_rate: 0.0010\n",
      "Epoch 5/40\n",
      "\u001b[1m213/213\u001b[0m \u001b[32m━━━━━━━━━━━━━━━━━━━━\u001b[0m\u001b[37m\u001b[0m \u001b[1m0s\u001b[0m 1ms/step - accuracy: 0.8318 - loss: 0.3979 - val_accuracy: 0.6384 - val_loss: 0.9569 - learning_rate: 0.0010\n",
      "Epoch 6/40\n",
      "\u001b[1m213/213\u001b[0m \u001b[32m━━━━━━━━━━━━━━━━━━━━\u001b[0m\u001b[37m\u001b[0m \u001b[1m0s\u001b[0m 1ms/step - accuracy: 0.8295 - loss: 0.4141 - val_accuracy: 0.6784 - val_loss: 0.9414 - learning_rate: 0.0010\n",
      "Epoch 7/40\n",
      "\u001b[1m213/213\u001b[0m \u001b[32m━━━━━━━━━━━━━━━━━━━━\u001b[0m\u001b[37m\u001b[0m \u001b[1m0s\u001b[0m 1ms/step - accuracy: 0.8808 - loss: 0.3150 - val_accuracy: 0.6773 - val_loss: 0.9006 - learning_rate: 0.0010\n",
      "Epoch 8/40\n",
      "\u001b[1m213/213\u001b[0m \u001b[32m━━━━━━━━━━━━━━━━━━━━\u001b[0m\u001b[37m\u001b[0m \u001b[1m0s\u001b[0m 2ms/step - accuracy: 0.9062 - loss: 0.2578 - val_accuracy: 0.6784 - val_loss: 0.9129 - learning_rate: 0.0010\n",
      "Epoch 9/40\n",
      "\u001b[1m213/213\u001b[0m \u001b[32m━━━━━━━━━━━━━━━━━━━━\u001b[0m\u001b[37m\u001b[0m \u001b[1m0s\u001b[0m 1ms/step - accuracy: 0.9060 - loss: 0.2241 - val_accuracy: 0.6973 - val_loss: 0.9860 - learning_rate: 0.0010\n",
      "Epoch 10/40\n",
      "\u001b[1m213/213\u001b[0m \u001b[32m━━━━━━━━━━━━━━━━━━━━\u001b[0m\u001b[37m\u001b[0m \u001b[1m0s\u001b[0m 1ms/step - accuracy: 0.8985 - loss: 0.2592 - val_accuracy: 0.6985 - val_loss: 0.9558 - learning_rate: 0.0010\n",
      "Epoch 11/40\n",
      "\u001b[1m213/213\u001b[0m \u001b[32m━━━━━━━━━━━━━━━━━━━━\u001b[0m\u001b[37m\u001b[0m \u001b[1m0s\u001b[0m 1ms/step - accuracy: 0.9390 - loss: 0.1587 - val_accuracy: 0.7008 - val_loss: 1.0918 - learning_rate: 0.0010\n",
      "Epoch 12/40\n",
      "\u001b[1m213/213\u001b[0m \u001b[32m━━━━━━━━━━━━━━━━━━━━\u001b[0m\u001b[37m\u001b[0m \u001b[1m0s\u001b[0m 1ms/step - accuracy: 0.9485 - loss: 0.1456 - val_accuracy: 0.7032 - val_loss: 0.9939 - learning_rate: 0.0010\n",
      "Epoch 13/40\n",
      "\u001b[1m213/213\u001b[0m \u001b[32m━━━━━━━━━━━━━━━━━━━━\u001b[0m\u001b[37m\u001b[0m \u001b[1m0s\u001b[0m 1ms/step - accuracy: 0.9464 - loss: 0.1442 - val_accuracy: 0.6631 - val_loss: 1.2017 - learning_rate: 0.0010\n",
      "Epoch 14/40\n",
      "\u001b[1m213/213\u001b[0m \u001b[32m━━━━━━━━━━━━━━━━━━━━\u001b[0m\u001b[37m\u001b[0m \u001b[1m0s\u001b[0m 1ms/step - accuracy: 0.9401 - loss: 0.1700 - val_accuracy: 0.6761 - val_loss: 1.2601 - learning_rate: 0.0010\n",
      "Epoch 15/40\n",
      "\u001b[1m213/213\u001b[0m \u001b[32m━━━━━━━━━━━━━━━━━━━━\u001b[0m\u001b[37m\u001b[0m \u001b[1m0s\u001b[0m 1ms/step - accuracy: 0.9133 - loss: 0.2263 - val_accuracy: 0.6702 - val_loss: 1.3738 - learning_rate: 0.0010\n",
      "Epoch 16/40\n",
      "\u001b[1m213/213\u001b[0m \u001b[32m━━━━━━━━━━━━━━━━━━━━\u001b[0m\u001b[37m\u001b[0m \u001b[1m0s\u001b[0m 1ms/step - accuracy: 0.9276 - loss: 0.1960 - val_accuracy: 0.6773 - val_loss: 1.3014 - learning_rate: 0.0010\n",
      "Epoch 17/40\n",
      "\u001b[1m213/213\u001b[0m \u001b[32m━━━━━━━━━━━━━━━━━━━━\u001b[0m\u001b[37m\u001b[0m \u001b[1m0s\u001b[0m 1ms/step - accuracy: 0.9389 - loss: 0.1534 - val_accuracy: 0.6832 - val_loss: 1.2981 - learning_rate: 0.0010\n",
      "Epoch 18/40\n",
      "\u001b[1m213/213\u001b[0m \u001b[32m━━━━━━━━━━━━━━━━━━━━\u001b[0m\u001b[37m\u001b[0m \u001b[1m0s\u001b[0m 1ms/step - accuracy: 0.9739 - loss: 0.0928 - val_accuracy: 0.7138 - val_loss: 1.0948 - learning_rate: 1.0000e-04\n",
      "Epoch 19/40\n",
      "\u001b[1m213/213\u001b[0m \u001b[32m━━━━━━━━━━━━━━━━━━━━\u001b[0m\u001b[37m\u001b[0m \u001b[1m0s\u001b[0m 1ms/step - accuracy: 0.9956 - loss: 0.0378 - val_accuracy: 0.7138 - val_loss: 1.0867 - learning_rate: 1.0000e-04\n",
      "Epoch 20/40\n",
      "\u001b[1m213/213\u001b[0m \u001b[32m━━━━━━━━━━━━━━━━━━━━\u001b[0m\u001b[37m\u001b[0m \u001b[1m0s\u001b[0m 1ms/step - accuracy: 0.9978 - loss: 0.0318 - val_accuracy: 0.7102 - val_loss: 1.0836 - learning_rate: 1.0000e-04\n",
      "Epoch 21/40\n",
      "\u001b[1m213/213\u001b[0m \u001b[32m━━━━━━━━━━━━━━━━━━━━\u001b[0m\u001b[37m\u001b[0m \u001b[1m0s\u001b[0m 1ms/step - accuracy: 0.9980 - loss: 0.0286 - val_accuracy: 0.7150 - val_loss: 1.0789 - learning_rate: 1.0000e-04\n",
      "Epoch 22/40\n",
      "\u001b[1m213/213\u001b[0m \u001b[32m━━━━━━━━━━━━━━━━━━━━\u001b[0m\u001b[37m\u001b[0m \u001b[1m0s\u001b[0m 1ms/step - accuracy: 0.9996 - loss: 0.0267 - val_accuracy: 0.7173 - val_loss: 1.0767 - learning_rate: 1.0000e-04\n",
      "Epoch 23/40\n",
      "\u001b[1m213/213\u001b[0m \u001b[32m━━━━━━━━━━━━━━━━━━━━\u001b[0m\u001b[37m\u001b[0m \u001b[1m0s\u001b[0m 1ms/step - accuracy: 0.9990 - loss: 0.0255 - val_accuracy: 0.7173 - val_loss: 1.0885 - learning_rate: 1.0000e-04\n",
      "Epoch 24/40\n",
      "\u001b[1m213/213\u001b[0m \u001b[32m━━━━━━━━━━━━━━━━━━━━\u001b[0m\u001b[37m\u001b[0m \u001b[1m0s\u001b[0m 1ms/step - accuracy: 0.9986 - loss: 0.0225 - val_accuracy: 0.7185 - val_loss: 1.0910 - learning_rate: 1.0000e-04\n",
      "Epoch 25/40\n",
      "\u001b[1m213/213\u001b[0m \u001b[32m━━━━━━━━━━━━━━━━━━━━\u001b[0m\u001b[37m\u001b[0m \u001b[1m0s\u001b[0m 1ms/step - accuracy: 0.9999 - loss: 0.0222 - val_accuracy: 0.7220 - val_loss: 1.0936 - learning_rate: 1.0000e-04\n",
      "Epoch 26/40\n",
      "\u001b[1m213/213\u001b[0m \u001b[32m━━━━━━━━━━━━━━━━━━━━\u001b[0m\u001b[37m\u001b[0m \u001b[1m0s\u001b[0m 1ms/step - accuracy: 0.9997 - loss: 0.0196 - val_accuracy: 0.7197 - val_loss: 1.0974 - learning_rate: 1.0000e-04\n",
      "Epoch 27/40\n",
      "\u001b[1m213/213\u001b[0m \u001b[32m━━━━━━━━━━━━━━━━━━━━\u001b[0m\u001b[37m\u001b[0m \u001b[1m0s\u001b[0m 1ms/step - accuracy: 0.9998 - loss: 0.0196 - val_accuracy: 0.7185 - val_loss: 1.0972 - learning_rate: 1.0000e-04\n",
      "Epoch 28/40\n",
      "\u001b[1m213/213\u001b[0m \u001b[32m━━━━━━━━━━━━━━━━━━━━\u001b[0m\u001b[37m\u001b[0m \u001b[1m0s\u001b[0m 1ms/step - accuracy: 0.9995 - loss: 0.0180 - val_accuracy: 0.7161 - val_loss: 1.0985 - learning_rate: 1.0000e-05\n",
      "Epoch 29/40\n",
      "\u001b[1m213/213\u001b[0m \u001b[32m━━━━━━━━━━━━━━━━━━━━\u001b[0m\u001b[37m\u001b[0m \u001b[1m0s\u001b[0m 1ms/step - accuracy: 0.9995 - loss: 0.0173 - val_accuracy: 0.7161 - val_loss: 1.0996 - learning_rate: 1.0000e-05\n",
      "Epoch 30/40\n",
      "\u001b[1m213/213\u001b[0m \u001b[32m━━━━━━━━━━━━━━━━━━━━\u001b[0m\u001b[37m\u001b[0m \u001b[1m0s\u001b[0m 1ms/step - accuracy: 0.9999 - loss: 0.0180 - val_accuracy: 0.7173 - val_loss: 1.1006 - learning_rate: 1.0000e-05\n",
      "Epoch 31/40\n",
      "\u001b[1m213/213\u001b[0m \u001b[32m━━━━━━━━━━━━━━━━━━━━\u001b[0m\u001b[37m\u001b[0m \u001b[1m0s\u001b[0m 1ms/step - accuracy: 0.9992 - loss: 0.0178 - val_accuracy: 0.7173 - val_loss: 1.1015 - learning_rate: 1.0000e-05\n",
      "Epoch 32/40\n",
      "\u001b[1m213/213\u001b[0m \u001b[32m━━━━━━━━━━━━━━━━━━━━\u001b[0m\u001b[37m\u001b[0m \u001b[1m0s\u001b[0m 1ms/step - accuracy: 1.0000 - loss: 0.0164 - val_accuracy: 0.7208 - val_loss: 1.1023 - learning_rate: 1.0000e-05\n",
      "Epoch 33/40\n",
      "\u001b[1m213/213\u001b[0m \u001b[32m━━━━━━━━━━━━━━━━━━━━\u001b[0m\u001b[37m\u001b[0m \u001b[1m0s\u001b[0m 1ms/step - accuracy: 1.0000 - loss: 0.0178 - val_accuracy: 0.7208 - val_loss: 1.1029 - learning_rate: 1.0000e-05\n",
      "Epoch 34/40\n",
      "\u001b[1m213/213\u001b[0m \u001b[32m━━━━━━━━━━━━━━━━━━━━\u001b[0m\u001b[37m\u001b[0m \u001b[1m0s\u001b[0m 1ms/step - accuracy: 1.0000 - loss: 0.0166 - val_accuracy: 0.7220 - val_loss: 1.1029 - learning_rate: 1.0000e-05\n",
      "Epoch 35/40\n",
      "\u001b[1m213/213\u001b[0m \u001b[32m━━━━━━━━━━━━━━━━━━━━\u001b[0m\u001b[37m\u001b[0m \u001b[1m0s\u001b[0m 1ms/step - accuracy: 0.9998 - loss: 0.0174 - val_accuracy: 0.7220 - val_loss: 1.1048 - learning_rate: 1.0000e-05\n",
      "Epoch 36/40\n",
      "\u001b[1m213/213\u001b[0m \u001b[32m━━━━━━━━━━━━━━━━━━━━\u001b[0m\u001b[37m\u001b[0m \u001b[1m0s\u001b[0m 1ms/step - accuracy: 1.0000 - loss: 0.0173 - val_accuracy: 0.7208 - val_loss: 1.1053 - learning_rate: 1.0000e-05\n",
      "Epoch 37/40\n",
      "\u001b[1m213/213\u001b[0m \u001b[32m━━━━━━━━━━━━━━━━━━━━\u001b[0m\u001b[37m\u001b[0m \u001b[1m0s\u001b[0m 1ms/step - accuracy: 1.0000 - loss: 0.0162 - val_accuracy: 0.7220 - val_loss: 1.1072 - learning_rate: 1.0000e-05\n",
      "Epoch 38/40\n",
      "\u001b[1m213/213\u001b[0m \u001b[32m━━━━━━━━━━━━━━━━━━━━\u001b[0m\u001b[37m\u001b[0m \u001b[1m0s\u001b[0m 1ms/step - accuracy: 1.0000 - loss: 0.0166 - val_accuracy: 0.7220 - val_loss: 1.1073 - learning_rate: 1.0000e-06\n",
      "Epoch 39/40\n",
      "\u001b[1m213/213\u001b[0m \u001b[32m━━━━━━━━━━━━━━━━━━━━\u001b[0m\u001b[37m\u001b[0m \u001b[1m0s\u001b[0m 1ms/step - accuracy: 1.0000 - loss: 0.0175 - val_accuracy: 0.7220 - val_loss: 1.1074 - learning_rate: 1.0000e-06\n",
      "Epoch 40/40\n",
      "\u001b[1m213/213\u001b[0m \u001b[32m━━━━━━━━━━━━━━━━━━━━\u001b[0m\u001b[37m\u001b[0m \u001b[1m0s\u001b[0m 1ms/step - accuracy: 1.0000 - loss: 0.0170 - val_accuracy: 0.7232 - val_loss: 1.1073 - learning_rate: 1.0000e-06\n"
     ]
    }
   ],
   "source": [
    "callback = keras.callbacks.EarlyStopping(monitor='val_loss', mode='min')\n",
    "\n",
    "# Modell kompilieren\n",
    "model.compile(\n",
    "    optimizer='adam',\n",
    "    loss = 'sparse_categorical_crossentropy',\n",
    "    metrics=['accuracy']\n",
    ")\n",
    "\n",
    "\n",
    "# Parameter und Daten an Modell übergeben\n",
    "# Training durchführen\n",
    "history = model.fit(\n",
    "    X_train,\n",
    "    y_train,\n",
    "    #validation_data=(X_validate, y_validate),\n",
    "    validation_split=0.2,\n",
    "    batch_size=batch_size,\n",
    "    epochs=epochs,\n",
    "    callbacks=[\n",
    "        tf.keras.callbacks.ReduceLROnPlateau()\n",
    "    ]\n",
    ")"
   ]
  },
  {
   "cell_type": "markdown",
   "metadata": {},
   "source": [
    "### ▶️ Ausgabe der Kostenfunktion für Training und Validation"
   ]
  },
  {
   "cell_type": "code",
   "execution_count": 49,
   "metadata": {},
   "outputs": [
    {
     "name": "stdout",
     "output_type": "stream",
     "text": [
      "dict_keys(['accuracy', 'loss', 'val_accuracy', 'val_loss', 'learning_rate'])\n"
     ]
    }
   ],
   "source": [
    "# Ausgeben der verfügbaren Metriken \n",
    "print(history.history.keys())"
   ]
  },
  {
   "cell_type": "code",
   "execution_count": 49,
   "metadata": {
    "id": "hKYDX19s1oH3"
   },
   "outputs": [
    {
     "data": {
      "image/png": "[encoded data removed]",
      "text/plain": [
       "<Figure size 1600x1000 with 1 Axes>"
      ]
     },
     "metadata": {},
     "output_type": "display_data"
    }
   ],
   "source": [
    "plt.figure(figsize=(16, 10))\n",
    "\n",
    "plt.plot(range(epochs), history.history['loss'], label=\"Trainingsverlust\")\n",
    "plt.plot(range(epochs), history.history['val_loss'], label=\"Validationsverlust\")\n",
    "\n",
    "plt.xlabel(\"Epochen\")\n",
    "plt.ylabel(\"Verlust\")\n",
    "plt.legend()\n",
    "plt.title(\"Verlauf der Verlustfunktion\")\n",
    "\n",
    "plt.show()"
   ]
  },
  {
   "cell_type": "code",
   "execution_count": 27,
   "metadata": {},
   "outputs": [
    {
     "data": {
      "image/png": "[encoded data removed]",
      "text/plain": [
       "<Figure size 1600x1000 with 1 Axes>"
      ]
     },
     "metadata": {},
     "output_type": "display_data"
    }
   ],
   "source": [
    "plt.figure(figsize=(16, 10))\n",
    "\n",
    "plt.plot(range(epochs), history.history['accuracy'], label=\"Trainingsgenauigkeit\")\n",
    "plt.plot(range(epochs), history.history['val_accuracy'], label=\"Validationsgenauigkeit\")\n",
    "\n",
    "plt.xlabel(\"Epochen\")\n",
    "plt.ylabel(\"Genauigkeit\")\n",
    "plt.legend()\n",
    "plt.title(\"Verlauf der Genauigkeitsfunktion\")\n",
    "\n",
    "plt.show()"
   ]
  },
  {
   "cell_type": "markdown",
   "metadata": {},
   "source": [
    "### ▶️ Modell auf Testdaten anwenden und evaluieren"
   ]
  },
  {
   "cell_type": "code",
   "execution_count": 28,
   "metadata": {},
   "outputs": [
    {
     "name": "stdout",
     "output_type": "stream",
     "text": [
      "Test loss: 0.7369990348815918\n",
      "Test accuracy: 0.6884615421295166\n"
     ]
    }
   ],
   "source": [
    "score = model.evaluate(X_test, y_test, verbose=0)\n",
    "print(\"Test loss:\", score[0])\n",
    "print(\"Test accuracy:\", score[1])"
   ]
  },
  {
   "cell_type": "code",
   "execution_count": 29,
   "metadata": {},
   "outputs": [
    {
     "name": "stdout",
     "output_type": "stream",
     "text": [
      "\u001b[1m190/190\u001b[0m \u001b[32m━━━━━━━━━━━━━━━━━━━━\u001b[0m\u001b[37m\u001b[0m \u001b[1m0s\u001b[0m 1ms/step\n",
      "Es handelt sich um Geste : 1\n"
     ]
    }
   ],
   "source": [
    "y = model.predict(np.array(X))[1850]\n",
    "#print(X[3212])\n",
    "print(\"Es handelt sich um Geste : \" + str(np.argmax(y)))\n"
   ]
  },
  {
   "cell_type": "markdown",
   "metadata": {},
   "source": [
    "### ▶️ Metriken zur Beurteilung der Modellqualität "
   ]
  },
  {
   "cell_type": "code",
   "execution_count": 30,
   "metadata": {},
   "outputs": [
    {
     "name": "stdout",
     "output_type": "stream",
     "text": [
      "\u001b[1m57/57\u001b[0m \u001b[32m━━━━━━━━━━━━━━━━━━━━\u001b[0m\u001b[37m\u001b[0m \u001b[1m0s\u001b[0m 767us/step\n"
     ]
    },
    {
     "data": {
      "image/png": "[encoded data removed]",
      "text/plain": [
       "<Figure size 600x600 with 1 Axes>"
      ]
     },
     "metadata": {},
     "output_type": "display_data"
    },
    {
     "name": "stdout",
     "output_type": "stream",
     "text": [
      "              precision    recall  f1-score   support\n",
      "\n",
      "           0       0.59      0.59      0.59       438\n",
      "           1       0.60      0.61      0.61       454\n",
      "           2       0.78      0.80      0.79       449\n",
      "           3       0.78      0.75      0.76       479\n",
      "\n",
      "    accuracy                           0.69      1820\n",
      "   macro avg       0.69      0.69      0.69      1820\n",
      "weighted avg       0.69      0.69      0.69      1820\n",
      "\n"
     ]
    }
   ],
   "source": [
    "y_true = np.array(y_test)\n",
    "y_pred = np.array(list(map(lambda x: np.argmax(x), model.predict(X_test))))\n",
    "\n",
    "cm = confusion_matrix(y_true, y_pred)\n",
    "\n",
    "plt.figure(figsize=(6, 6))\n",
    "sns.heatmap(cm, annot=True, fmt='g', cmap='Greens', cbar=False)\n",
    "plt.xlabel(\"Predicted\")\n",
    "plt.ylabel(\"Actual\")\n",
    "plt.title(\"Confusion Matrix\")\n",
    "plt.show()\n",
    "\n",
    "print(classification_report(y_true, y_pred))"
   ]
  }
 ],
 "metadata": {
  "colab": {
   "authorship_tag": "ABX9TyNuAXIB7ixK/3gtqh86Wo2I",
   "include_colab_link": true,
   "provenance": []
  },
  "kernelspec": {
   "display_name": "Python 3 (ipykernel)",
   "language": "python",
   "name": "python3"
  },
  "language_info": {
   "codemirror_mode": {
    "name": "ipython",
    "version": 3
   },
   "file_extension": ".py",
   "mimetype": "text/x-python",
   "name": "python",
   "nbconvert_exporter": "python",
   "pygments_lexer": "ipython3",
   "version": "3.12.2"
  }
 },
 "nbformat": 4,
 "nbformat_minor": 4
}

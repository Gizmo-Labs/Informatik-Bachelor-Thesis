{
 "cells": [
  {
   "cell_type": "markdown",
   "metadata": {
    "id": "44dZG44iQTbQ"
   },
   "source": [
    "## Bachelor Thesis - Informatik\n",
    "\n",
    "### Variante 1 :\n",
    "### Klassisches Neuronales Netz mit Fully Connected Layern (FNN)\n",
    "***\n",
    "\n",
    "<div align=\"left\">\n",
    "<h2><img src=\"https://i.giphy.com/media/v1.Y2lkPTc5MGI3NjExZ2hrOGtveWx0ZGxsaGFsYXNzbjVhOTNyaTg2cG44anZ5eWd5a3ZyMyZlcD12MV9pbnRlcm5hbF9naWZfYnlfaWQmY3Q9Zw/l3vRcrVqhBVSpJte0/giphy.gif\" width=\"200\" alt=\"Data\"></h2>\n",
    "</div>\n",
    "\n",
    "Dieser Ansatz verwendet als Datengrundlage die folgenden drei Datensätze :\n",
    "\n",
    "###### ☑️ Die Daten wurden von einem Myo-Armband per Bluetooth LE an einen ESP32S3 übertragen\n",
    "\n",
    "###### ☑️ Sämtliche Daten wurden mit folgender Lösung [Processing-Grapher](https://github.com/chillibasket/processing-grapher.git) aufgezeichnet und als .csv-Datei gespeichert\n",
    "\n",
    "###### ☑️ Vier Testpersonen, davon eine weibliche und drei männliche Personen standen zur Verfügung\n",
    "\n",
    "###### ☑️ Alle Personen haben die folgenden vier Gesten in gleicher Position ausgeführt :\n",
    "\n",
    "<img src=\"./Gestenbilder/Eigene_Geste_0.png\" width=\"150\">    <img src=\"./Gestenbilder/Eigene_Geste_1.png\" width=\"150\">    <img src=\"./Gestenbilder/Eigene_Geste_2.png\" width=\"150\">      <img src=\"./Gestenbilder/Eigene_Geste_3.png\" width=\"150\">"
   ]
  },
  {
   "cell_type": "markdown",
   "metadata": {
    "id": "XQZWkqdN6PR7"
   },
   "source": [
    "#### ▶️ Installation notwendiger Python-Bibliotheken\n",
    "***"
   ]
  },
  {
   "cell_type": "code",
   "execution_count": 1,
   "metadata": {
    "colab": {
     "base_uri": "https://localhost:8080/"
    },
    "id": "lERCtA9K5wBW",
    "outputId": "5b9cc7ce-37f2-47eb-a1c6-a7a5cc6f4bd1"
   },
   "outputs": [],
   "source": [
    "##############################################################\n",
    "#      Dieses Notebook wurde mit Python 3.9.13 getestet      #\n",
    "#                                                            #\n",
    "#           Andere Versionen haben teilweise                 #\n",
    "#           Kompatbilitätsprobleme verursacht                #\n",
    "#                                                            #\n",
    "#      This Notebook was tested with Python 3.9.13           #\n",
    "#                                                            #\n",
    "#              Other Versions can cause                      #\n",
    "#                Compatibilityproblems                       #\n",
    "#                                                            #\n",
    "##############################################################"
   ]
  },
  {
   "cell_type": "code",
   "execution_count": 2,
   "metadata": {},
   "outputs": [],
   "source": [
    "##############################################################\n",
    "# Achtung!! Die Konvertierung des Modells nach C++           #\n",
    "#           funktioniert nur mit Tensorflow <=2.15.1         #\n",
    "#           Keras 3 funktioniert nicht!                      #\n",
    "#                                                            #\n",
    "# Attention! Converting the model to C++ ist only working    #\n",
    "#            with Tensorflow <=2.15.1                        #\n",
    "#            Keras 3 will not work!                          #\n",
    "##############################################################\n",
    "#%pip install -r requirements.txt"
   ]
  },
  {
   "cell_type": "markdown",
   "metadata": {},
   "source": [
    "#### ▶️ Importieren notwendiger Python-Bibliotheken\n",
    "***"
   ]
  },
  {
   "cell_type": "code",
   "execution_count": 3,
   "metadata": {
    "id": "qNjJFQ0Y_qRl"
   },
   "outputs": [
    {
     "name": "stdout",
     "output_type": "stream",
     "text": [
      "WARNING:tensorflow:From c:\\Users\\Gizmo\\AppData\\Local\\Programs\\Python\\Python39\\lib\\site-packages\\keras\\src\\losses.py:2976: The name tf.losses.sparse_softmax_cross_entropy is deprecated. Please use tf.compat.v1.losses.sparse_softmax_cross_entropy instead.\n",
      "\n"
     ]
    }
   ],
   "source": [
    "import pandas as pd # type: ignore\n",
    "import numpy as np # type: ignore\n",
    "import seaborn as sns # type: ignore\n",
    "import matplotlib.pyplot as plt # type: ignore\n",
    "\n",
    "from sklearn.model_selection import train_test_split # type: ignore\n",
    "from sklearn.metrics import classification_report, confusion_matrix # type: ignore\n",
    "from sklearn.preprocessing import MinMaxScaler, StandardScaler # type: ignore\n",
    "\n",
    "import tensorflow as tf # type: ignore\n",
    "from tensorflow import keras # type: ignore\n",
    "from keras import layers # type: ignore\n",
    "\n",
    "import logging\n",
    "tf.get_logger().setLevel(logging.ERROR)"
   ]
  },
  {
   "cell_type": "markdown",
   "metadata": {},
   "source": [
    "#### ▶️ Einlesen der aufgezeichneten Daten aus dem Quellordner\n",
    "***"
   ]
  },
  {
   "cell_type": "code",
   "execution_count": 4,
   "metadata": {
    "id": "US2Lj9nc_MkG"
   },
   "outputs": [],
   "source": [
    "# Importiere die .csv-Dateien mit den EMG-Daten der einzelnen Probanden und den einzelnen Labels (Gesten)\n",
    "# Dabei gilt folgendes Schema, siehe auch Bilder im Ordner \"Gestenbilder\"\n",
    "# Label 0 --> Faust\n",
    "# Label 1 --> Daumen hoch\n",
    "# Label 2 --> Schere\n",
    "# Label 3 --> Gespreizte Hand\n",
    "\n",
    "\n",
    "##############################################################\n",
    "# Aufnahme der Einzelgesten                                  #\n",
    "# Datentyp: Python List                                      #\n",
    "##############################################################\n",
    "proband1 = []\n",
    "proband2 = []\n",
    "proband3 = []\n",
    "proband4 = []\n",
    "\n",
    "\n",
    "##############################################################\n",
    "# Baue daraus den Dateipfad und lese Datei ein               #\n",
    "# Schreibe Nummer der Geste in entsprechende Spalte          #\n",
    "##############################################################\n",
    "\n",
    "for label in ['0', '1', '2', '3']:\n",
    "    proband1.append(pd.read_csv('./Eigene Datenaufzeichnungen/P1L' + label + '.csv', sep=',', header=None))    \n",
    "    proband1[int(label)][64] = int(label)\n",
    "\n",
    "for label in ['0', '1', '2', '3']:\n",
    "    proband2.append(pd.read_csv('./Eigene Datenaufzeichnungen/P2L' + label + '.csv', sep=',', header=None))    \n",
    "    proband2[int(label)][64] = int(label)\n",
    "\n",
    "for label in ['0', '1', '2', '3']:\n",
    "    proband3.append(pd.read_csv('./Eigene Datenaufzeichnungen/P3L' + label + '.csv', sep=',', header=None))    \n",
    "    proband3[int(label)][64] = int(label)\n",
    "\n",
    "for label in ['0', '1', '2', '3']:\n",
    "    proband4.append(pd.read_csv('./Eigene Datenaufzeichnungen/P4L' + label + '.csv', sep=',', header=None))    \n",
    "    proband4[int(label)][64] = int(label)\n",
    "\n",
    "\n",
    "##############################################################\n",
    "# Schreibe alle Sub-Dataframes in ein gesamtes Dataframe     #\n",
    "# Datentyp: Pandas Dataframe                                 #\n",
    "##############################################################\n",
    "proband1 = pd.concat([df for df in proband1], axis=0).reset_index(drop=True)\n",
    "proband2 = pd.concat([df for df in proband2], axis=0).reset_index(drop=True)\n",
    "proband3 = pd.concat([df for df in proband3], axis=0).reset_index(drop=True)\n",
    "proband4 = pd.concat([df for df in proband4], axis=0).reset_index(drop=True)\n",
    "\n",
    "all_data = pd.concat([proband1, proband2, proband3, proband4]).reset_index(drop=True)"
   ]
  },
  {
   "cell_type": "markdown",
   "metadata": {},
   "source": [
    "#### ▶️ Umwandlung der Daten in geeignete Formate\n",
    "***"
   ]
  },
  {
   "cell_type": "code",
   "execution_count": 5,
   "metadata": {},
   "outputs": [
    {
     "name": "stdout",
     "output_type": "stream",
     "text": [
      "Anzahl der Klassen :  4\n",
      "Form der Klassen :  (4, 1)\n",
      "Form der Features :  (6064, 64)\n",
      "Form der Labels :  (6064, 1)\n"
     ]
    }
   ],
   "source": [
    "##############################################################\n",
    "# Labels extrahieren aus Datensatz                           #\n",
    "# Umwandeln in Datentyp Integer                              #\n",
    "##############################################################  \n",
    "Labels = all_data[all_data.columns[-1]]\n",
    "Labels = np.array(Labels).astype('int')\n",
    "Labels = np.expand_dims(Labels, -1)\n",
    "\n",
    "\n",
    "##############################################################\n",
    "# Klassen aus den Labels auslesen                            #\n",
    "# Datentyp Numpy Array                                       #\n",
    "##############################################################\n",
    "Klassen = np.unique(Labels)\n",
    "Klassen = np.expand_dims(Klassen, -1)\n",
    "Anzahl_Klassen = Klassen.max() + 1\n",
    "print(\"Anzahl der Klassen : \", Anzahl_Klassen)\n",
    "print(\"Form der Klassen : \", Klassen.shape)\n",
    "\n",
    "\n",
    "##############################################################\n",
    "# Features aus Datensatz extrahieren                         #\n",
    "# Umwandeln in Datentyp Float32                              #\n",
    "##############################################################  \n",
    "Features = all_data.drop(64, axis=1).copy()\n",
    "Features = np.array(Features).astype('float32')\n",
    "\n",
    "\n",
    "##############################################################\n",
    "# Matrizenform der Features ausgeben                         #\n",
    "##############################################################\n",
    "print(\"Form der Features : \", Features.shape)\n",
    "\n",
    "\n",
    "##############################################################\n",
    "# Matrizenform der Labels ausgeben                           #\n",
    "##############################################################\n",
    "print(\"Form der Labels : \", Labels.shape)"
   ]
  },
  {
   "cell_type": "markdown",
   "metadata": {},
   "source": [
    "#### ▶️ Normalisierung der Daten (Optional)\n",
    "***"
   ]
  },
  {
   "cell_type": "code",
   "execution_count": 6,
   "metadata": {},
   "outputs": [],
   "source": [
    "##############################################################\n",
    "# Datenskalierung mit Z-Score                                #\n",
    "##############################################################  \n",
    "#sc = StandardScaler()\n",
    "\n",
    "\n",
    "##############################################################\n",
    "# Normalisierung durchführen                                 #\n",
    "# Datentyp Numpy Array                                       #\n",
    "##############################################################  \n",
    "#Features = sc.fit_transform(Features)\n",
    "#Features = np.expand_dims(Features, -1)"
   ]
  },
  {
   "cell_type": "markdown",
   "metadata": {
    "id": "bqtb_0qsqcBe"
   },
   "source": [
    "#### ▶️ Datensatz aufteilen in Training-, Test-, und Validierungsdaten\n",
    "***"
   ]
  },
  {
   "cell_type": "code",
   "execution_count": 7,
   "metadata": {
    "colab": {
     "base_uri": "https://localhost:8080/"
    },
    "id": "wkE318CuqruZ",
    "outputId": "80b11002-44b4-4019-c983-05a729ffe78c"
   },
   "outputs": [
    {
     "name": "stdout",
     "output_type": "stream",
     "text": [
      "Form der Training-Features :  (4380, 64)\n",
      "Form der Test-Features :  (910, 64)\n",
      "Form der Validierungs-Features: (774, 64)\n",
      "---------------------------------\n",
      "Form der Training-Labels :  (4380, 1)\n",
      "Form der Test-Labels :  (910, 1)\n",
      "Form der Validierungs-Labels :  (774, 1)\n",
      "---------------------------------\n",
      "6064 Gesamt-Features\n",
      "4380 Training-Features\n",
      "910 Test-Features\n",
      "774 Validierungs-Features\n",
      "---------------------------------\n",
      "6064 Gesamt-Labels\n",
      "4380 Training-Labels\n",
      "910 Test-Labels\n",
      "774 Validierungs-Labels\n"
     ]
    }
   ],
   "source": [
    "##############################################################\n",
    "# Aufteilung der Datensätze in Training- und Testdaten       #\n",
    "# Test-Size --> prozentualer Anteil von Gesamtdaten          #\n",
    "# Random-State --> Zufallsgrad der Durchmischung             #\n",
    "##############################################################\n",
    "X_train, X_test, y_train, y_test = train_test_split(Features, Labels, test_size = 0.15, random_state = 100)\n",
    "X_train, X_val, y_train, y_val = train_test_split(X_train, y_train, test_size=0.15, random_state=100)\n",
    "\n",
    "\n",
    "##############################################################\n",
    "# Status der Datensätze ausgeben                             #\n",
    "##############################################################\n",
    "print(\"Form der Training-Features : \", X_train.shape)\n",
    "print(\"Form der Test-Features : \", X_test.shape)\n",
    "print(\"Form der Validierungs-Features:\", X_val.shape)\n",
    "print(\"---------------------------------\")\n",
    "print(\"Form der Training-Labels : \", y_train.shape)\n",
    "print(\"Form der Test-Labels : \", y_test.shape)\n",
    "print(\"Form der Validierungs-Labels : \", y_val.shape)\n",
    "print(\"---------------------------------\")\n",
    "print(Features.shape[0], \"Gesamt-Features\")\n",
    "print(X_train.shape[0], \"Training-Features\")\n",
    "print(X_test.shape[0], \"Test-Features\")\n",
    "print(X_val.shape[0], \"Validierungs-Features\")\n",
    "print(\"---------------------------------\")\n",
    "print(Labels.shape[0], \"Gesamt-Labels\")\n",
    "print(y_train.shape[0], \"Training-Labels\")\n",
    "print(y_test.shape[0], \"Test-Labels\")\n",
    "print(y_val.shape[0], \"Validierungs-Labels\")\n",
    "\n",
    "\n",
    "##############################################################\n",
    "# Klassen in Matrize konvertieren (One-Hot-Encoding)         #\n",
    "##############################################################\n",
    "y_hot = keras.utils.to_categorical(y_val, Anzahl_Klassen)"
   ]
  },
  {
   "cell_type": "markdown",
   "metadata": {
    "id": "NBykkdmbrPcG"
   },
   "source": [
    "#### ▶️ Machine-Learning Modell erstellen\n",
    "***"
   ]
  },
  {
   "cell_type": "code",
   "execution_count": 8,
   "metadata": {
    "colab": {
     "base_uri": "https://localhost:8080/",
     "height": 423
    },
    "id": "SguTQ64ur82Y",
    "outputId": "30778bb1-f329-4335-f1af-850a82daee5c"
   },
   "outputs": [
    {
     "name": "stdout",
     "output_type": "stream",
     "text": [
      "Model: \"sequential\"\n",
      "_________________________________________________________________\n",
      " Layer (type)                Output Shape              Param #   \n",
      "=================================================================\n",
      " dense (Dense)               (None, 512)               33280     \n",
      "                                                                 \n",
      " batch_normalization (Batch  (None, 512)               2048      \n",
      " Normalization)                                                  \n",
      "                                                                 \n",
      " activation (Activation)     (None, 512)               0         \n",
      "                                                                 \n",
      " dropout (Dropout)           (None, 512)               0         \n",
      "                                                                 \n",
      " dense_1 (Dense)             (None, 256)               131328    \n",
      "                                                                 \n",
      " batch_normalization_1 (Bat  (None, 256)               1024      \n",
      " chNormalization)                                                \n",
      "                                                                 \n",
      " activation_1 (Activation)   (None, 256)               0         \n",
      "                                                                 \n",
      " dropout_1 (Dropout)         (None, 256)               0         \n",
      "                                                                 \n",
      " dense_2 (Dense)             (None, 64)                16448     \n",
      "                                                                 \n",
      " batch_normalization_2 (Bat  (None, 64)                256       \n",
      " chNormalization)                                                \n",
      "                                                                 \n",
      " activation_2 (Activation)   (None, 64)                0         \n",
      "                                                                 \n",
      " dropout_2 (Dropout)         (None, 64)                0         \n",
      "                                                                 \n",
      " dense_3 (Dense)             (None, 4)                 260       \n",
      "                                                                 \n",
      " activation_3 (Activation)   (None, 4)                 0         \n",
      "                                                                 \n",
      "=================================================================\n",
      "Total params: 184644 (721.27 KB)\n",
      "Trainable params: 182980 (714.77 KB)\n",
      "Non-trainable params: 1664 (6.50 KB)\n",
      "_________________________________________________________________\n"
     ]
    },
    {
     "name": "stderr",
     "output_type": "stream",
     "text": [
      "c:\\Users\\Gizmo\\AppData\\Local\\Programs\\Python\\Python39\\lib\\site-packages\\keras\\src\\engine\\training.py:3103: UserWarning: You are saving your model as an HDF5 file via `model.save()`. This file format is considered legacy. We recommend using instead the native Keras format, e.g. `model.save('my_model.keras')`.\n",
      "  saving_api.save_model(\n"
     ]
    }
   ],
   "source": [
    "##############################################################\n",
    "# Hyperparameter                                             #\n",
    "##############################################################\n",
    "batch_size = 32\n",
    "epochs = 16\n",
    "\n",
    "mom = 0.9\n",
    "eps = 0.000001\n",
    "drop = 0.2\n",
    "\n",
    "# Format der Eingabedaten festlegen\n",
    "input_shape = (Features.shape[1],)\n",
    "\n",
    "\n",
    "# Modell schichtweise erstellen\n",
    "model = keras.Sequential()\n",
    "model.add(layers.InputLayer(input_shape))\n",
    "\n",
    "model.add(layers.Dense(512))\n",
    "model.add(layers.BatchNormalization(momentum=mom, epsilon=eps))\n",
    "model.add(layers.Activation('relu'))\n",
    "model.add(layers.Dropout(drop))\n",
    "\n",
    "\n",
    "model.add(layers.Dense(256))\n",
    "model.add(layers.BatchNormalization(momentum=mom, epsilon=eps))\n",
    "model.add(layers.Activation('relu'))\n",
    "model.add(layers.Dropout(drop))\n",
    "\n",
    "\n",
    "model.add(layers.Dense(64))\n",
    "model.add(layers.BatchNormalization(momentum=mom, epsilon=eps))\n",
    "model.add(layers.Activation('relu'))\n",
    "model.add(layers.Dropout(drop))\n",
    "\n",
    "\n",
    "model.add(layers.Dense(Anzahl_Klassen))\n",
    "model.add(layers.Activation('softmax'))\n",
    "\n",
    "# Modellparameter ausgeben\n",
    "model.summary()\n",
    "\n",
    "# Modell speichern\n",
    "model.save('./Gespeicherte Modelle/FNN.h5')"
   ]
  },
  {
   "cell_type": "code",
   "execution_count": 9,
   "metadata": {},
   "outputs": [
    {
     "name": "stdout",
     "output_type": "stream",
     "text": [
      "Epoch 1/16\n",
      "137/137 [==============================] - 3s 6ms/step - loss: 1.3226 - accuracy: 0.3993 - val_loss: 0.9753 - val_accuracy: 0.5685 - lr: 0.0010\n",
      "Epoch 2/16\n",
      "137/137 [==============================] - 1s 4ms/step - loss: 0.9695 - accuracy: 0.5694 - val_loss: 0.8309 - val_accuracy: 0.6421 - lr: 0.0010\n",
      "Epoch 3/16\n",
      "137/137 [==============================] - 1s 4ms/step - loss: 0.8180 - accuracy: 0.6409 - val_loss: 0.7776 - val_accuracy: 0.6473 - lr: 0.0010\n",
      "Epoch 4/16\n",
      "137/137 [==============================] - 1s 5ms/step - loss: 0.7281 - accuracy: 0.6749 - val_loss: 0.7136 - val_accuracy: 0.6835 - lr: 0.0010\n",
      "Epoch 5/16\n",
      "137/137 [==============================] - 1s 5ms/step - loss: 0.6569 - accuracy: 0.7231 - val_loss: 0.6953 - val_accuracy: 0.6873 - lr: 0.0010\n",
      "Epoch 6/16\n",
      "137/137 [==============================] - 1s 4ms/step - loss: 0.6237 - accuracy: 0.7345 - val_loss: 0.6683 - val_accuracy: 0.7067 - lr: 0.0010\n",
      "Epoch 7/16\n",
      "137/137 [==============================] - 1s 5ms/step - loss: 0.5663 - accuracy: 0.7587 - val_loss: 0.6365 - val_accuracy: 0.7235 - lr: 0.0010\n",
      "Epoch 8/16\n",
      "137/137 [==============================] - 1s 4ms/step - loss: 0.5495 - accuracy: 0.7642 - val_loss: 0.6596 - val_accuracy: 0.7248 - lr: 0.0010\n",
      "Epoch 9/16\n",
      "137/137 [==============================] - 1s 5ms/step - loss: 0.5109 - accuracy: 0.7884 - val_loss: 0.6024 - val_accuracy: 0.7326 - lr: 0.0010\n",
      "Epoch 10/16\n",
      "137/137 [==============================] - 1s 5ms/step - loss: 0.4785 - accuracy: 0.7977 - val_loss: 0.6235 - val_accuracy: 0.7390 - lr: 0.0010\n",
      "Epoch 11/16\n",
      "137/137 [==============================] - 1s 5ms/step - loss: 0.4453 - accuracy: 0.8103 - val_loss: 0.6104 - val_accuracy: 0.7494 - lr: 0.0010\n",
      "Epoch 12/16\n",
      "137/137 [==============================] - 1s 4ms/step - loss: 0.4051 - accuracy: 0.8315 - val_loss: 0.6084 - val_accuracy: 0.7494 - lr: 0.0010\n",
      "Epoch 13/16\n",
      "137/137 [==============================] - 1s 4ms/step - loss: 0.3941 - accuracy: 0.8411 - val_loss: 0.6033 - val_accuracy: 0.7597 - lr: 0.0010\n",
      "Epoch 14/16\n",
      "137/137 [==============================] - 1s 4ms/step - loss: 0.3905 - accuracy: 0.8400 - val_loss: 0.6268 - val_accuracy: 0.7778 - lr: 0.0010\n",
      "Epoch 15/16\n",
      "137/137 [==============================] - 1s 4ms/step - loss: 0.3710 - accuracy: 0.8434 - val_loss: 0.6190 - val_accuracy: 0.7687 - lr: 0.0010\n",
      "Epoch 16/16\n",
      "137/137 [==============================] - 1s 4ms/step - loss: 0.3728 - accuracy: 0.8548 - val_loss: 0.6219 - val_accuracy: 0.7571 - lr: 0.0010\n"
     ]
    }
   ],
   "source": [
    "# Modell kompilieren\n",
    "model.compile(\n",
    "    optimizer='adam',\n",
    "    loss = 'sparse_categorical_crossentropy',\n",
    "    metrics=['accuracy']\n",
    ")\n",
    "\n",
    "\n",
    "# Parameter und Daten an Modell übergeben\n",
    "# Training durchführen\n",
    "history = model.fit(\n",
    "    X_train,\n",
    "    y_train,\n",
    "    validation_data=(X_val, y_val),\n",
    "    batch_size=batch_size,\n",
    "    epochs=epochs,\n",
    "    callbacks=[\n",
    "        keras.callbacks.ReduceLROnPlateau()        \n",
    "    ]\n",
    ")"
   ]
  },
  {
   "cell_type": "markdown",
   "metadata": {},
   "source": [
    "#### ▶️ Ausgabe der Verlustfunktion für Training und Validierung\n",
    "***"
   ]
  },
  {
   "cell_type": "code",
   "execution_count": 10,
   "metadata": {
    "id": "hKYDX19s1oH3"
   },
   "outputs": [
    {
     "data": {
      "image/png": "[encoded data removed]",
      "text/plain": [
       "<Figure size 640x480 with 1 Axes>"
      ]
     },
     "metadata": {},
     "output_type": "display_data"
    }
   ],
   "source": [
    "loss = history.history['loss']\n",
    "val_loss = history.history['val_loss']\n",
    "epochs = range(1, len(loss) + 1)\n",
    "plt.plot(epochs, loss, 'r.', label='Trainingsverlust')\n",
    "plt.plot(epochs, val_loss, 'y', label='Validationsverlust')\n",
    "plt.title('Verlust Training und Validation')\n",
    "plt.xlabel('Epochen')\n",
    "plt.ylabel('Verlust')\n",
    "plt.grid()\n",
    "plt.legend()\n",
    "plt.savefig('./Metriken/Verlust_FNN.png', dpi=300, bbox_inches='tight')\n",
    "plt.show()"
   ]
  },
  {
   "cell_type": "markdown",
   "metadata": {},
   "source": [
    "#### ▶️ Ausgabe der Genauigkeit für Training und Validierung\n",
    "***"
   ]
  },
  {
   "cell_type": "code",
   "execution_count": 11,
   "metadata": {},
   "outputs": [
    {
     "data": {
      "image/png": "[encoded data removed]",
      "text/plain": [
       "<Figure size 640x480 with 1 Axes>"
      ]
     },
     "metadata": {},
     "output_type": "display_data"
    }
   ],
   "source": [
    "acc = history.history['accuracy']\n",
    "val_acc = history.history['val_accuracy']\n",
    "epochs = range(1, len(loss) + 1)\n",
    "plt.plot(epochs, acc, 'r.', label='Trainingsgenauigkeit')\n",
    "plt.plot(epochs, val_acc, 'y', label='Validationsgenauigkeit')\n",
    "plt.title('Genauigkeit Training und Validation')\n",
    "plt.xlabel('Epochen')\n",
    "plt.ylabel('Genauigkeit')\n",
    "plt.grid()\n",
    "plt.legend()\n",
    "plt.savefig('./Metriken/Genauigkeit_FNN.png', dpi=300, bbox_inches='tight')\n",
    "plt.show()"
   ]
  },
  {
   "cell_type": "markdown",
   "metadata": {},
   "source": [
    "#### ▶️ Modell auf Validierungsdaten anwenden und evaluieren\n",
    "***"
   ]
  },
  {
   "cell_type": "code",
   "execution_count": 12,
   "metadata": {},
   "outputs": [
    {
     "name": "stdout",
     "output_type": "stream",
     "text": [
      "Validierungsverlust: 0.6218535304069519\n",
      "Validierungsgenauigkeit: 0.7571059465408325\n"
     ]
    }
   ],
   "source": [
    "score = model.evaluate(X_val, y_val, verbose=0)\n",
    "print(\"Validierungsverlust:\", score[0])\n",
    "print(\"Validierungsgenauigkeit:\", score[1])"
   ]
  },
  {
   "cell_type": "markdown",
   "metadata": {},
   "source": [
    "#### ▶️ Metriken zur Beurteilung der Modellqualität \n",
    "***"
   ]
  },
  {
   "cell_type": "code",
   "execution_count": 13,
   "metadata": {},
   "outputs": [
    {
     "name": "stdout",
     "output_type": "stream",
     "text": [
      "25/25 [==============================] - 0s 1ms/step\n"
     ]
    },
    {
     "data": {
      "image/png": "[encoded data removed]",
      "text/plain": [
       "<Figure size 600x600 with 1 Axes>"
      ]
     },
     "metadata": {},
     "output_type": "display_data"
    },
    {
     "name": "stdout",
     "output_type": "stream",
     "text": [
      "              precision    recall  f1-score   support\n",
      "\n",
      "           0       0.67      0.60      0.63       184\n",
      "           1       0.72      0.71      0.72       199\n",
      "           2       0.77      0.87      0.82       177\n",
      "           3       0.85      0.84      0.84       214\n",
      "\n",
      "    accuracy                           0.76       774\n",
      "   macro avg       0.75      0.76      0.75       774\n",
      "weighted avg       0.75      0.76      0.75       774\n",
      "\n"
     ]
    }
   ],
   "source": [
    "y_test_arg=np.argmax(y_hot,axis=1)\n",
    "y_val = np.argmax(model.predict(X_val),axis=1)\n",
    " \n",
    "cm = confusion_matrix(y_test_arg, y_val)\n",
    "\n",
    "plt.figure(figsize=(6, 6))\n",
    "sns.heatmap(cm, annot=True, fmt='g', cmap='Greens', cbar=False)\n",
    "plt.xlabel(\"Vorhersagen\")\n",
    "plt.ylabel(\"Geste\")\n",
    "plt.title(\"Konfusionsmatrix\")\n",
    "plt.show()\n",
    "\n",
    "print(classification_report(y_test_arg, y_val))"
   ]
  }
 ],
 "metadata": {
  "colab": {
   "authorship_tag": "ABX9TyNuAXIB7ixK/3gtqh86Wo2I",
   "include_colab_link": true,
   "provenance": []
  },
  "kernelspec": {
   "display_name": "Python 3 (ipykernel)",
   "language": "python",
   "name": "python3"
  },
  "language_info": {
   "codemirror_mode": {
    "name": "ipython",
    "version": 3
   },
   "file_extension": ".py",
   "mimetype": "text/x-python",
   "name": "python",
   "nbconvert_exporter": "python",
   "pygments_lexer": "ipython3",
   "version": "3.9.13"
  }
 },
 "nbformat": 4,
 "nbformat_minor": 4
}

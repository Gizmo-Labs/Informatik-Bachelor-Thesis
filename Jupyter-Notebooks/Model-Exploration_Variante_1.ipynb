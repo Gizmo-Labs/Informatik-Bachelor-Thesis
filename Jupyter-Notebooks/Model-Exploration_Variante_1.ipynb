{
 "cells": [
  {
   "cell_type": "markdown",
   "metadata": {
    "id": "44dZG44iQTbQ"
   },
   "source": [
    "## Bachelor Thesis - Informatik\n",
    "\n",
    "### Variante 1 :\n",
    "### Klassisches Neuronales Netz mit Fully Connected (Dense) Layern\n",
    "\n",
    "<div align=\"left\">\n",
    "<h2><img src=\"https://i.giphy.com/media/v1.Y2lkPTc5MGI3NjExZ2hrOGtveWx0ZGxsaGFsYXNzbjVhOTNyaTg2cG44anZ5eWd5a3ZyMyZlcD12MV9pbnRlcm5hbF9naWZfYnlfaWQmY3Q9Zw/l3vRcrVqhBVSpJte0/giphy.gif\" width=\"200\" alt=\"Data\"></h2>\n",
    "</div>\n",
    "\n",
    "Dieser Ansatz verwendet als Datengrundlage die folgenden drei Datensätze :\n",
    "\n",
    "#### ☑️ Ein eigener Datensatz der aus selbst aufgezeichneten Gesten eines Myo-Armbands besteht\n",
    "\n",
    "#### ☑️ Ein Datensatz der bei Kaggle zur Verfügung steht\n",
    "\n",
    "#### ☑️ Ein Datensatz der aus dem Ninapro DB5 Datensatz abgeleitet wurde"
   ]
  },
  {
   "cell_type": "markdown",
   "metadata": {
    "id": "XQZWkqdN6PR7"
   },
   "source": [
    "#### ▶️ Installation notwendiger Python-Bibliotheken"
   ]
  },
  {
   "cell_type": "code",
   "execution_count": null,
   "metadata": {
    "colab": {
     "base_uri": "https://localhost:8080/"
    },
    "id": "lERCtA9K5wBW",
    "outputId": "5b9cc7ce-37f2-47eb-a1c6-a7a5cc6f4bd1"
   },
   "outputs": [],
   "source": [
    "#%pip install pandas\n",
    "#%pip install numpy\n",
    "#%pip install seaborn\n",
    "#%pip install matplotlib.pyplot\n",
    "#%pip install scikit-learn\n",
    "#%pip install tensorflow"
   ]
  },
  {
   "cell_type": "markdown",
   "metadata": {},
   "source": [
    "#### ▶️ Importieren notwendiger Python-Bibliotheken"
   ]
  },
  {
   "cell_type": "code",
   "execution_count": 3,
   "metadata": {
    "id": "qNjJFQ0Y_qRl"
   },
   "outputs": [],
   "source": [
    "import pandas as pd # type: ignore\n",
    "import numpy as np # type: ignore\n",
    "import seaborn as sns # type: ignore\n",
    "import matplotlib.pyplot as plt # type: ignore\n",
    "\n",
    "from sklearn.preprocessing import MinMaxScaler, StandardScaler # type: ignore\n",
    "from sklearn.model_selection import train_test_split # type: ignore\n",
    "from sklearn.metrics import classification_report, confusion_matrix # type: ignore\n",
    "\n",
    "import tensorflow as tf # type: ignore"
   ]
  },
  {
   "cell_type": "markdown",
   "metadata": {},
   "source": [
    "#### ▶️ Alternative 1: Einlesen der eigenen Roh-Daten aus dem Quellordner"
   ]
  },
  {
   "cell_type": "code",
   "execution_count": 14,
   "metadata": {
    "id": "US2Lj9nc_MkG"
   },
   "outputs": [
    {
     "data": {
      "text/html": [
       "<div>\n",
       "<style scoped>\n",
       "    .dataframe tbody tr th:only-of-type {\n",
       "        vertical-align: middle;\n",
       "    }\n",
       "\n",
       "    .dataframe tbody tr th {\n",
       "        vertical-align: top;\n",
       "    }\n",
       "\n",
       "    .dataframe thead th {\n",
       "        text-align: right;\n",
       "    }\n",
       "</style>\n",
       "<table border=\"1\" class=\"dataframe\">\n",
       "  <thead>\n",
       "    <tr style=\"text-align: right;\">\n",
       "      <th></th>\n",
       "      <th>0</th>\n",
       "      <th>1</th>\n",
       "      <th>2</th>\n",
       "      <th>3</th>\n",
       "      <th>4</th>\n",
       "      <th>5</th>\n",
       "      <th>6</th>\n",
       "      <th>7</th>\n",
       "      <th>8</th>\n",
       "      <th>9</th>\n",
       "      <th>...</th>\n",
       "      <th>55</th>\n",
       "      <th>56</th>\n",
       "      <th>57</th>\n",
       "      <th>58</th>\n",
       "      <th>59</th>\n",
       "      <th>60</th>\n",
       "      <th>61</th>\n",
       "      <th>62</th>\n",
       "      <th>63</th>\n",
       "      <th>64</th>\n",
       "    </tr>\n",
       "  </thead>\n",
       "  <tbody>\n",
       "    <tr>\n",
       "      <th>783</th>\n",
       "      <td>-10</td>\n",
       "      <td>0</td>\n",
       "      <td>10</td>\n",
       "      <td>-20</td>\n",
       "      <td>10</td>\n",
       "      <td>-80</td>\n",
       "      <td>-100</td>\n",
       "      <td>-40</td>\n",
       "      <td>10.0</td>\n",
       "      <td>-20.0</td>\n",
       "      <td>...</td>\n",
       "      <td>-20.0</td>\n",
       "      <td>-20.0</td>\n",
       "      <td>10.0</td>\n",
       "      <td>-20.0</td>\n",
       "      <td>-50.0</td>\n",
       "      <td>50.0</td>\n",
       "      <td>190.0</td>\n",
       "      <td>160.0</td>\n",
       "      <td>0.0</td>\n",
       "      <td>6</td>\n",
       "    </tr>\n",
       "    <tr>\n",
       "      <th>784</th>\n",
       "      <td>30</td>\n",
       "      <td>0</td>\n",
       "      <td>30</td>\n",
       "      <td>0</td>\n",
       "      <td>30</td>\n",
       "      <td>80</td>\n",
       "      <td>150</td>\n",
       "      <td>50</td>\n",
       "      <td>-20.0</td>\n",
       "      <td>-50.0</td>\n",
       "      <td>...</td>\n",
       "      <td>-10.0</td>\n",
       "      <td>-50.0</td>\n",
       "      <td>-20.0</td>\n",
       "      <td>-40.0</td>\n",
       "      <td>-20.0</td>\n",
       "      <td>10.0</td>\n",
       "      <td>-70.0</td>\n",
       "      <td>-130.0</td>\n",
       "      <td>0.0</td>\n",
       "      <td>6</td>\n",
       "    </tr>\n",
       "    <tr>\n",
       "      <th>785</th>\n",
       "      <td>0</td>\n",
       "      <td>0</td>\n",
       "      <td>0</td>\n",
       "      <td>-20</td>\n",
       "      <td>-40</td>\n",
       "      <td>-20</td>\n",
       "      <td>-70</td>\n",
       "      <td>-30</td>\n",
       "      <td>10.0</td>\n",
       "      <td>10.0</td>\n",
       "      <td>...</td>\n",
       "      <td>-30.0</td>\n",
       "      <td>-10.0</td>\n",
       "      <td>-20.0</td>\n",
       "      <td>-50.0</td>\n",
       "      <td>10.0</td>\n",
       "      <td>50.0</td>\n",
       "      <td>40.0</td>\n",
       "      <td>120.0</td>\n",
       "      <td>10.0</td>\n",
       "      <td>6</td>\n",
       "    </tr>\n",
       "    <tr>\n",
       "      <th>786</th>\n",
       "      <td>-20</td>\n",
       "      <td>10</td>\n",
       "      <td>0</td>\n",
       "      <td>30</td>\n",
       "      <td>-20</td>\n",
       "      <td>40</td>\n",
       "      <td>50</td>\n",
       "      <td>-20</td>\n",
       "      <td>-20.0</td>\n",
       "      <td>-10.0</td>\n",
       "      <td>...</td>\n",
       "      <td>0.0</td>\n",
       "      <td>30.0</td>\n",
       "      <td>0.0</td>\n",
       "      <td>0.0</td>\n",
       "      <td>40.0</td>\n",
       "      <td>30.0</td>\n",
       "      <td>0.0</td>\n",
       "      <td>-50.0</td>\n",
       "      <td>50.0</td>\n",
       "      <td>6</td>\n",
       "    </tr>\n",
       "    <tr>\n",
       "      <th>787</th>\n",
       "      <td>0</td>\n",
       "      <td>0</td>\n",
       "      <td>-10</td>\n",
       "      <td>0</td>\n",
       "      <td>0</td>\n",
       "      <td>60</td>\n",
       "      <td>10</td>\n",
       "      <td>-10</td>\n",
       "      <td>30.0</td>\n",
       "      <td>-20.0</td>\n",
       "      <td>...</td>\n",
       "      <td>0.0</td>\n",
       "      <td>-10.0</td>\n",
       "      <td>0.0</td>\n",
       "      <td>-20.0</td>\n",
       "      <td>-40.0</td>\n",
       "      <td>-30.0</td>\n",
       "      <td>0.0</td>\n",
       "      <td>20.0</td>\n",
       "      <td>40.0</td>\n",
       "      <td>6</td>\n",
       "    </tr>\n",
       "  </tbody>\n",
       "</table>\n",
       "<p>5 rows × 65 columns</p>\n",
       "</div>"
      ],
      "text/plain": [
       "     0   1   2   3   4   5    6   7     8     9   ...    55    56    57    58  \\\n",
       "783 -10   0  10 -20  10 -80 -100 -40  10.0 -20.0  ... -20.0 -20.0  10.0 -20.0   \n",
       "784  30   0  30   0  30  80  150  50 -20.0 -50.0  ... -10.0 -50.0 -20.0 -40.0   \n",
       "785   0   0   0 -20 -40 -20  -70 -30  10.0  10.0  ... -30.0 -10.0 -20.0 -50.0   \n",
       "786 -20  10   0  30 -20  40   50 -20 -20.0 -10.0  ...   0.0  30.0   0.0   0.0   \n",
       "787   0   0 -10   0   0  60   10 -10  30.0 -20.0  ...   0.0 -10.0   0.0 -20.0   \n",
       "\n",
       "       59    60     61     62    63  64  \n",
       "783 -50.0  50.0  190.0  160.0   0.0   6  \n",
       "784 -20.0  10.0  -70.0 -130.0   0.0   6  \n",
       "785  10.0  50.0   40.0  120.0  10.0   6  \n",
       "786  40.0  30.0    0.0  -50.0  50.0   6  \n",
       "787 -40.0 -30.0    0.0   20.0  40.0   6  \n",
       "\n",
       "[5 rows x 65 columns]"
      ]
     },
     "execution_count": 14,
     "metadata": {},
     "output_type": "execute_result"
    }
   ],
   "source": [
    "# Importiere die .csv-Dateien mit den EMG-Daten der einzelnen Probanden und den einzelnen Labels (Gesten)\n",
    "# Dabei gilt folgendes Schema, siehe auch Bilder im Ordner \"Gestenbilder\"\n",
    "# Label 0 --> Ruheposition\n",
    "# Label 1 --> Daumen hoch\n",
    "# Label 2 --> Zeige- und Mittelfinger gestreckt\n",
    "# Label 3 --> Daumen, Zeige- und Mittelfinger gestreckt\n",
    "# Label 4 --> Daumen gekrümmt in Richtung kleiner Finger\n",
    "# Label 5 --> Alle Finger ausgestreckt\n",
    "# Label 6 --> Finger zur Faust geballt\n",
    "\n",
    "\n",
    "##############################################################\n",
    "# Aufnahme der Einzelgesten                                  #\n",
    "# Datentyp: Python List                                      #\n",
    "##############################################################\n",
    "single_data = []\n",
    "\n",
    "\n",
    "##############################################################\n",
    "# Baue daraus den Dateipfad und lese Datei ein               #\n",
    "# Schreibe Nummer der Geste in entsprechende Spalte          #\n",
    "##############################################################\n",
    "for label in ['0', '1', '2', '3', '4', '5', '6']:\n",
    "    single_data.append(pd.read_csv('./Eigene/P0L' + label + '.csv', sep=';', header=None))    \n",
    "    single_data[int(label)][64] = int(label)\n",
    "\n",
    "\n",
    "\n",
    "##############################################################\n",
    "# Schreibe alle Sub-Dataframes in ein gesamtes Dataframe     #\n",
    "# Datentyp: Pandas Dataframe                                 #\n",
    "##############################################################\n",
    "all_data = pd.concat([df for df in single_data], axis=0).reset_index(drop=True)\n",
    "all_data = all_data.dropna()\n",
    "\n",
    "all_data.tail()"
   ]
  },
  {
   "cell_type": "markdown",
   "metadata": {},
   "source": [
    "#### ▶️ Alternative 2: Einlesen des Datensatz EMG-4 von Kaggle aus dem Quellordner\n",
    "\n",
    "[https://www.kaggle.com/code/akshita72/hand-gesture-recognition-from-emg-signals/input]"
   ]
  },
  {
   "cell_type": "code",
   "execution_count": 4,
   "metadata": {},
   "outputs": [
    {
     "data": {
      "text/html": [
       "<div>\n",
       "<style scoped>\n",
       "    .dataframe tbody tr th:only-of-type {\n",
       "        vertical-align: middle;\n",
       "    }\n",
       "\n",
       "    .dataframe tbody tr th {\n",
       "        vertical-align: top;\n",
       "    }\n",
       "\n",
       "    .dataframe thead th {\n",
       "        text-align: right;\n",
       "    }\n",
       "</style>\n",
       "<table border=\"1\" class=\"dataframe\">\n",
       "  <thead>\n",
       "    <tr style=\"text-align: right;\">\n",
       "      <th></th>\n",
       "      <th>0</th>\n",
       "      <th>1</th>\n",
       "      <th>2</th>\n",
       "      <th>3</th>\n",
       "      <th>4</th>\n",
       "      <th>5</th>\n",
       "      <th>6</th>\n",
       "      <th>7</th>\n",
       "      <th>8</th>\n",
       "      <th>9</th>\n",
       "      <th>...</th>\n",
       "      <th>55</th>\n",
       "      <th>56</th>\n",
       "      <th>57</th>\n",
       "      <th>58</th>\n",
       "      <th>59</th>\n",
       "      <th>60</th>\n",
       "      <th>61</th>\n",
       "      <th>62</th>\n",
       "      <th>63</th>\n",
       "      <th>64</th>\n",
       "    </tr>\n",
       "  </thead>\n",
       "  <tbody>\n",
       "    <tr>\n",
       "      <th>11673</th>\n",
       "      <td>-3.0</td>\n",
       "      <td>-1.0</td>\n",
       "      <td>-1.0</td>\n",
       "      <td>-1.0</td>\n",
       "      <td>-28.0</td>\n",
       "      <td>20.0</td>\n",
       "      <td>5.0</td>\n",
       "      <td>0.0</td>\n",
       "      <td>-5.0</td>\n",
       "      <td>0.0</td>\n",
       "      <td>...</td>\n",
       "      <td>-3.0</td>\n",
       "      <td>1.0</td>\n",
       "      <td>4.0</td>\n",
       "      <td>3.0</td>\n",
       "      <td>4.0</td>\n",
       "      <td>-51.0</td>\n",
       "      <td>-49.0</td>\n",
       "      <td>5.0</td>\n",
       "      <td>-9.0</td>\n",
       "      <td>3</td>\n",
       "    </tr>\n",
       "    <tr>\n",
       "      <th>11674</th>\n",
       "      <td>-13.0</td>\n",
       "      <td>-5.0</td>\n",
       "      <td>-4.0</td>\n",
       "      <td>-3.0</td>\n",
       "      <td>-4.0</td>\n",
       "      <td>-24.0</td>\n",
       "      <td>-10.0</td>\n",
       "      <td>-8.0</td>\n",
       "      <td>20.0</td>\n",
       "      <td>9.0</td>\n",
       "      <td>...</td>\n",
       "      <td>6.0</td>\n",
       "      <td>-3.0</td>\n",
       "      <td>-3.0</td>\n",
       "      <td>-3.0</td>\n",
       "      <td>-5.0</td>\n",
       "      <td>-4.0</td>\n",
       "      <td>-45.0</td>\n",
       "      <td>-12.0</td>\n",
       "      <td>-15.0</td>\n",
       "      <td>3</td>\n",
       "    </tr>\n",
       "    <tr>\n",
       "      <th>11675</th>\n",
       "      <td>-1.0</td>\n",
       "      <td>-3.0</td>\n",
       "      <td>-1.0</td>\n",
       "      <td>1.0</td>\n",
       "      <td>30.0</td>\n",
       "      <td>38.0</td>\n",
       "      <td>-1.0</td>\n",
       "      <td>36.0</td>\n",
       "      <td>-10.0</td>\n",
       "      <td>1.0</td>\n",
       "      <td>...</td>\n",
       "      <td>14.0</td>\n",
       "      <td>-8.0</td>\n",
       "      <td>-4.0</td>\n",
       "      <td>-4.0</td>\n",
       "      <td>-4.0</td>\n",
       "      <td>-21.0</td>\n",
       "      <td>-29.0</td>\n",
       "      <td>-5.0</td>\n",
       "      <td>0.0</td>\n",
       "      <td>3</td>\n",
       "    </tr>\n",
       "    <tr>\n",
       "      <th>11676</th>\n",
       "      <td>1.0</td>\n",
       "      <td>4.0</td>\n",
       "      <td>4.0</td>\n",
       "      <td>5.0</td>\n",
       "      <td>9.0</td>\n",
       "      <td>-10.0</td>\n",
       "      <td>4.0</td>\n",
       "      <td>1.0</td>\n",
       "      <td>-2.0</td>\n",
       "      <td>-1.0</td>\n",
       "      <td>...</td>\n",
       "      <td>-16.0</td>\n",
       "      <td>-3.0</td>\n",
       "      <td>0.0</td>\n",
       "      <td>-3.0</td>\n",
       "      <td>-5.0</td>\n",
       "      <td>-36.0</td>\n",
       "      <td>-90.0</td>\n",
       "      <td>3.0</td>\n",
       "      <td>5.0</td>\n",
       "      <td>3</td>\n",
       "    </tr>\n",
       "    <tr>\n",
       "      <th>11677</th>\n",
       "      <td>-2.0</td>\n",
       "      <td>4.0</td>\n",
       "      <td>2.0</td>\n",
       "      <td>-4.0</td>\n",
       "      <td>12.0</td>\n",
       "      <td>3.0</td>\n",
       "      <td>-2.0</td>\n",
       "      <td>9.0</td>\n",
       "      <td>-8.0</td>\n",
       "      <td>-2.0</td>\n",
       "      <td>...</td>\n",
       "      <td>2.0</td>\n",
       "      <td>1.0</td>\n",
       "      <td>0.0</td>\n",
       "      <td>-1.0</td>\n",
       "      <td>-2.0</td>\n",
       "      <td>-30.0</td>\n",
       "      <td>64.0</td>\n",
       "      <td>11.0</td>\n",
       "      <td>5.0</td>\n",
       "      <td>3</td>\n",
       "    </tr>\n",
       "  </tbody>\n",
       "</table>\n",
       "<p>5 rows × 65 columns</p>\n",
       "</div>"
      ],
      "text/plain": [
       "         0    1    2    3     4     5     6     7     8    9   ...    55   56  \\\n",
       "11673  -3.0 -1.0 -1.0 -1.0 -28.0  20.0   5.0   0.0  -5.0  0.0  ...  -3.0  1.0   \n",
       "11674 -13.0 -5.0 -4.0 -3.0  -4.0 -24.0 -10.0  -8.0  20.0  9.0  ...   6.0 -3.0   \n",
       "11675  -1.0 -3.0 -1.0  1.0  30.0  38.0  -1.0  36.0 -10.0  1.0  ...  14.0 -8.0   \n",
       "11676   1.0  4.0  4.0  5.0   9.0 -10.0   4.0   1.0  -2.0 -1.0  ... -16.0 -3.0   \n",
       "11677  -2.0  4.0  2.0 -4.0  12.0   3.0  -2.0   9.0  -8.0 -2.0  ...   2.0  1.0   \n",
       "\n",
       "        57   58   59    60    61    62    63  64  \n",
       "11673  4.0  3.0  4.0 -51.0 -49.0   5.0  -9.0   3  \n",
       "11674 -3.0 -3.0 -5.0  -4.0 -45.0 -12.0 -15.0   3  \n",
       "11675 -4.0 -4.0 -4.0 -21.0 -29.0  -5.0   0.0   3  \n",
       "11676  0.0 -3.0 -5.0 -36.0 -90.0   3.0   5.0   3  \n",
       "11677  0.0 -1.0 -2.0 -30.0  64.0  11.0   5.0   3  \n",
       "\n",
       "[5 rows x 65 columns]"
      ]
     },
     "execution_count": 4,
     "metadata": {},
     "output_type": "execute_result"
    }
   ],
   "source": [
    "# Die Dateien im Ordner \"Kaggle\" enthalten Auszüge aus dem originalen Datensatz\n",
    "# Dieser wird unverändert übernommen\n",
    "\n",
    "\n",
    "# Importiere die .csv-Dateien mit den EMG-Daten der einzelnen Probanden und den einzelnen Labels (Gesten)\n",
    "# Dabei gilt folgendes Schema:\n",
    "# Label 0 --> Stein\n",
    "# Label 1 --> Schere\n",
    "# Label 2 --> Papier\n",
    "# Label 3 --> OK-Zeichen\n",
    "\n",
    "\n",
    "##############################################################\n",
    "# Aufnahme der Einzelgesten                                  #\n",
    "# Datentyp: Python List                                      #\n",
    "##############################################################\n",
    "single_data = []\n",
    "\n",
    "\n",
    "##############################################################\n",
    "# Baue daraus den Dateipfad und lese Datei ein               #\n",
    "# Schreibe Nummer der Geste in entsprechende Spalte          #\n",
    "##############################################################\n",
    "for label in ['0', '1', '2', '3', ]:\n",
    "    single_data.append(pd.read_csv('./Kaggle/' + label + '.csv', sep=',', header=None))        \n",
    "\n",
    "\n",
    "##############################################################\n",
    "# Schreibe alle Sub-Dataframes in ein gesamtes Dataframe     #\n",
    "# Datentyp: Pandas Dataframe                                 #\n",
    "##############################################################\n",
    "all_data = pd.concat([df for df in single_data], axis=0).reset_index(drop=True)\n",
    "all_data.tail()"
   ]
  },
  {
   "cell_type": "markdown",
   "metadata": {},
   "source": [
    "#### ▶️ Alternative 3 : Einlesen von Daten aus dem Ninapro DB5 Datensatz<br>\n",
    "****\n",
    "📌 Dieses Feld ausführen bei Verwendung Ninapro-Daten !!\n",
    "\n",
    "[Link zum Datensatz](https://ninapro.hevs.ch/instructions/DB5.html)"
   ]
  },
  {
   "cell_type": "code",
   "execution_count": 71,
   "metadata": {},
   "outputs": [
    {
     "data": {
      "text/html": [
       "<div>\n",
       "<style scoped>\n",
       "    .dataframe tbody tr th:only-of-type {\n",
       "        vertical-align: middle;\n",
       "    }\n",
       "\n",
       "    .dataframe tbody tr th {\n",
       "        vertical-align: top;\n",
       "    }\n",
       "\n",
       "    .dataframe thead th {\n",
       "        text-align: right;\n",
       "    }\n",
       "</style>\n",
       "<table border=\"1\" class=\"dataframe\">\n",
       "  <thead>\n",
       "    <tr style=\"text-align: right;\">\n",
       "      <th></th>\n",
       "      <th>0</th>\n",
       "      <th>1</th>\n",
       "      <th>2</th>\n",
       "      <th>3</th>\n",
       "      <th>4</th>\n",
       "      <th>5</th>\n",
       "      <th>6</th>\n",
       "      <th>7</th>\n",
       "      <th>8</th>\n",
       "    </tr>\n",
       "  </thead>\n",
       "  <tbody>\n",
       "    <tr>\n",
       "      <th>567995</th>\n",
       "      <td>-1</td>\n",
       "      <td>1</td>\n",
       "      <td>-2</td>\n",
       "      <td>-1</td>\n",
       "      <td>-1</td>\n",
       "      <td>0</td>\n",
       "      <td>0</td>\n",
       "      <td>3</td>\n",
       "      <td>0</td>\n",
       "    </tr>\n",
       "    <tr>\n",
       "      <th>567996</th>\n",
       "      <td>-2</td>\n",
       "      <td>2</td>\n",
       "      <td>-2</td>\n",
       "      <td>-3</td>\n",
       "      <td>-1</td>\n",
       "      <td>-3</td>\n",
       "      <td>-3</td>\n",
       "      <td>-2</td>\n",
       "      <td>0</td>\n",
       "    </tr>\n",
       "    <tr>\n",
       "      <th>567997</th>\n",
       "      <td>-3</td>\n",
       "      <td>-5</td>\n",
       "      <td>-3</td>\n",
       "      <td>-1</td>\n",
       "      <td>0</td>\n",
       "      <td>0</td>\n",
       "      <td>-2</td>\n",
       "      <td>3</td>\n",
       "      <td>0</td>\n",
       "    </tr>\n",
       "    <tr>\n",
       "      <th>567998</th>\n",
       "      <td>-5</td>\n",
       "      <td>0</td>\n",
       "      <td>0</td>\n",
       "      <td>-2</td>\n",
       "      <td>-1</td>\n",
       "      <td>-1</td>\n",
       "      <td>0</td>\n",
       "      <td>-3</td>\n",
       "      <td>0</td>\n",
       "    </tr>\n",
       "    <tr>\n",
       "      <th>567999</th>\n",
       "      <td>-1</td>\n",
       "      <td>-5</td>\n",
       "      <td>0</td>\n",
       "      <td>-1</td>\n",
       "      <td>0</td>\n",
       "      <td>0</td>\n",
       "      <td>0</td>\n",
       "      <td>-1</td>\n",
       "      <td>0</td>\n",
       "    </tr>\n",
       "  </tbody>\n",
       "</table>\n",
       "</div>"
      ],
      "text/plain": [
       "        0  1  2  3  4  5  6  7  8\n",
       "567995 -1  1 -2 -1 -1  0  0  3  0\n",
       "567996 -2  2 -2 -3 -1 -3 -3 -2  0\n",
       "567997 -3 -5 -3 -1  0  0 -2  3  0\n",
       "567998 -5  0  0 -2 -1 -1  0 -3  0\n",
       "567999 -1 -5  0 -1  0  0  0 -1  0"
      ]
     },
     "execution_count": 71,
     "metadata": {},
     "output_type": "execute_result"
    }
   ],
   "source": [
    "# Die Dateien im Ordner \"Ninapro_DB5\" enthalten Auszüge aus dem originalen Datensatz\n",
    "# Aus den Matlab-Files wurden die 8 Sensorwerte und die zugehörigen Labels entnommen\n",
    "# Es wurden nur die \"Subjects\" 01 bis 06 berücksichtigt\n",
    "\n",
    "# Importiere die .csv-Dateien mit den EMG-Daten der einzelnen Probanden und den einzelnen Labels (Gesten)\n",
    "# Dabei gilt folgendes Schema, siehe auch Bilder im Ordner \"Gestenbilder\"\n",
    "# Label 0 --> Ruheposition\n",
    "# Label 1 --> Daumen hoch\n",
    "# Label 2 --> Zeige- und Mittelfinger gestreckt\n",
    "# Label 3 --> Daumen, Zeige- und Mittelfinger gestreckt\n",
    "# Label 4 --> Daumen gekrümmt in Richtung kleiner Finger\n",
    "# Label 5 --> Alle Finger ausgestreckt\n",
    "# Label 6 --> Finger zur Faust geballt\n",
    "\n",
    "##############################################################\n",
    "# Aufnahme der Einzelgesten                                  #\n",
    "# Datentyp: Python List                                      #\n",
    "##############################################################\n",
    "single_data = []\n",
    "\n",
    "\n",
    "##############################################################\n",
    "# Baue daraus den Dateipfad und lese Datei ein               #\n",
    "# Schreibe Nummer der Geste in entsprechende Spalte          #\n",
    "##############################################################\n",
    "for label in ['1', '2', '3', '4', '5', '6']:\n",
    "    single_data.append(pd.read_csv('./Ninapro_DB5/P' + label + '.csv', sep=';', header=None))    \n",
    "    \n",
    "\n",
    "##############################################################\n",
    "# Schreibe alle Sub-Dataframes in ein gesamtes Dataframe     #\n",
    "# Datentyp: Pandas Dataframe                                 #\n",
    "##############################################################\n",
    "all_data = pd.concat([df for df in single_data], axis=0).reset_index(drop=True)\n",
    "\n",
    "all_data.tail()"
   ]
  },
  {
   "cell_type": "markdown",
   "metadata": {},
   "source": [
    "#### ▶️ Daten normalisieren"
   ]
  },
  {
   "cell_type": "code",
   "execution_count": 18,
   "metadata": {},
   "outputs": [
    {
     "name": "stdout",
     "output_type": "stream",
     "text": [
      "(11678, 64)\n",
      "(11678,)\n"
     ]
    }
   ],
   "source": [
    "##############################################################\n",
    "# Datenskalierung mit Min-/Max Prinzip oder Z-Score          #\n",
    "##############################################################  \n",
    "#sc = MinMaxScaler()\n",
    "sc = StandardScaler()\n",
    "\n",
    "\n",
    "##############################################################\n",
    "# Normalisiere den Datensatz                                 #\n",
    "##############################################################  \n",
    "#X = all_data.drop(8, axis=1).copy()\n",
    "X = all_data.drop(64, axis=1).copy()\n",
    "X = sc.fit_transform(X)\n",
    "X = np.array(X)\n",
    "\n",
    "##############################################################\n",
    "# Labels extrahieren aus Datensatz                           #\n",
    "##############################################################  \n",
    "y = all_data[all_data.columns[-1]]\n",
    "y = np.array(y)\n",
    "\n",
    "##############################################################\n",
    "# Vektorformen ausgeben                                      #\n",
    "##############################################################  \n",
    "print(X.shape)\n",
    "print(y.shape)"
   ]
  },
  {
   "cell_type": "markdown",
   "metadata": {
    "id": "bqtb_0qsqcBe"
   },
   "source": [
    "\n",
    "#### ▶️ Datensatz aufteilen in Training- und Test-Daten"
   ]
  },
  {
   "cell_type": "code",
   "execution_count": 20,
   "metadata": {
    "colab": {
     "base_uri": "https://localhost:8080/"
    },
    "id": "wkE318CuqruZ",
    "outputId": "80b11002-44b4-4019-c983-05a729ffe78c"
   },
   "outputs": [
    {
     "name": "stdout",
     "output_type": "stream",
     "text": [
      "X_train Vectorform: (7006, 64)\n",
      "X_test Vectorform: (4672, 64)\n",
      "y_train Vectorform: (7006,)\n",
      "y_test Vectorform: (4672,)\n",
      "\n",
      "11678 Gesamtwerte\n",
      "7006 Trainingswerte\n",
      "4672 Testwerte\n"
     ]
    }
   ],
   "source": [
    "##############################################################\n",
    "# Einkommentieren für eigene Daten                           #\n",
    "# Klassen entsprechen der vorhandenen Gesten                 #\n",
    "##############################################################\n",
    "#num_classes = 7\n",
    "\n",
    "\n",
    "##############################################################\n",
    "# Einkommentieren für den Kaggle-Datensatz                   #\n",
    "# Fixwert 4                                                  #\n",
    "##############################################################\n",
    "num_classes = 4\n",
    "\n",
    "\n",
    "##############################################################\n",
    "# Einkommentieren für den Ninapro-Datensatz                  #\n",
    "# Fixwert 7                                                  #\n",
    "##############################################################\n",
    "#num_classes = 7\n",
    "\n",
    "##############################################################\n",
    "# Aufteilung der Datensätze in Training- und Testdaten       #\n",
    "# Test-Size --> prozentualer Anteil von Gesamtdaten          #\n",
    "# Random-State --> Zufallsgrad der Durchmischung             #\n",
    "##############################################################\n",
    "X_train, X_test, y_train, y_test = train_test_split(X, y, test_size = 0.4, random_state = 100)\n",
    "\n",
    "\n",
    "##############################################################\n",
    "# Status der Datensätze ausgeben                             #\n",
    "##############################################################\n",
    "print(\"X_train Vectorform:\", X_train.shape)\n",
    "print(\"X_test Vectorform:\", X_test.shape)\n",
    "print(\"y_train Vectorform:\", y_train.shape)\n",
    "print(\"y_test Vectorform:\", y_test.shape)\n",
    "print()\n",
    "print(X.shape[0], \"Gesamtwerte\")\n",
    "print(X_train.shape[0], \"Trainingswerte\")\n",
    "print(X_test.shape[0], \"Testwerte\")\n"
   ]
  },
  {
   "cell_type": "markdown",
   "metadata": {
    "id": "NBykkdmbrPcG"
   },
   "source": [
    "#### ▶️ Machine-Learning Modell erstellen"
   ]
  },
  {
   "cell_type": "code",
   "execution_count": 22,
   "metadata": {
    "colab": {
     "base_uri": "https://localhost:8080/",
     "height": 423
    },
    "id": "SguTQ64ur82Y",
    "outputId": "30778bb1-f329-4335-f1af-850a82daee5c"
   },
   "outputs": [
    {
     "data": {
      "text/html": [
       "<pre style=\"white-space:pre;overflow-x:auto;line-height:normal;font-family:Menlo,'DejaVu Sans Mono',consolas,'Courier New',monospace\"><span style=\"font-weight: bold\">Model: \"sequential_2\"</span>\n",
       "</pre>\n"
      ],
      "text/plain": [
       "\u001b[1mModel: \"sequential_2\"\u001b[0m\n"
      ]
     },
     "metadata": {},
     "output_type": "display_data"
    },
    {
     "data": {
      "text/html": [
       "<pre style=\"white-space:pre;overflow-x:auto;line-height:normal;font-family:Menlo,'DejaVu Sans Mono',consolas,'Courier New',monospace\">┏━━━━━━━━━━━━━━━━━━━━━━━━━━━━━━━━━┳━━━━━━━━━━━━━━━━━━━━━━━━┳━━━━━━━━━━━━━━━┓\n",
       "┃<span style=\"font-weight: bold\"> Layer (type)                    </span>┃<span style=\"font-weight: bold\"> Output Shape           </span>┃<span style=\"font-weight: bold\">       Param # </span>┃\n",
       "┡━━━━━━━━━━━━━━━━━━━━━━━━━━━━━━━━━╇━━━━━━━━━━━━━━━━━━━━━━━━╇━━━━━━━━━━━━━━━┩\n",
       "│ dense_6 (<span style=\"color: #0087ff; text-decoration-color: #0087ff\">Dense</span>)                 │ (<span style=\"color: #00d7ff; text-decoration-color: #00d7ff\">None</span>, <span style=\"color: #00af00; text-decoration-color: #00af00\">512</span>)            │        <span style=\"color: #00af00; text-decoration-color: #00af00\">33,280</span> │\n",
       "├─────────────────────────────────┼────────────────────────┼───────────────┤\n",
       "│ dense_7 (<span style=\"color: #0087ff; text-decoration-color: #0087ff\">Dense</span>)                 │ (<span style=\"color: #00d7ff; text-decoration-color: #00d7ff\">None</span>, <span style=\"color: #00af00; text-decoration-color: #00af00\">256</span>)            │       <span style=\"color: #00af00; text-decoration-color: #00af00\">131,328</span> │\n",
       "├─────────────────────────────────┼────────────────────────┼───────────────┤\n",
       "│ dense_8 (<span style=\"color: #0087ff; text-decoration-color: #0087ff\">Dense</span>)                 │ (<span style=\"color: #00d7ff; text-decoration-color: #00d7ff\">None</span>, <span style=\"color: #00af00; text-decoration-color: #00af00\">4</span>)              │         <span style=\"color: #00af00; text-decoration-color: #00af00\">1,028</span> │\n",
       "└─────────────────────────────────┴────────────────────────┴───────────────┘\n",
       "</pre>\n"
      ],
      "text/plain": [
       "┏━━━━━━━━━━━━━━━━━━━━━━━━━━━━━━━━━┳━━━━━━━━━━━━━━━━━━━━━━━━┳━━━━━━━━━━━━━━━┓\n",
       "┃\u001b[1m \u001b[0m\u001b[1mLayer (type)                   \u001b[0m\u001b[1m \u001b[0m┃\u001b[1m \u001b[0m\u001b[1mOutput Shape          \u001b[0m\u001b[1m \u001b[0m┃\u001b[1m \u001b[0m\u001b[1m      Param #\u001b[0m\u001b[1m \u001b[0m┃\n",
       "┡━━━━━━━━━━━━━━━━━━━━━━━━━━━━━━━━━╇━━━━━━━━━━━━━━━━━━━━━━━━╇━━━━━━━━━━━━━━━┩\n",
       "│ dense_6 (\u001b[38;5;33mDense\u001b[0m)                 │ (\u001b[38;5;45mNone\u001b[0m, \u001b[38;5;34m512\u001b[0m)            │        \u001b[38;5;34m33,280\u001b[0m │\n",
       "├─────────────────────────────────┼────────────────────────┼───────────────┤\n",
       "│ dense_7 (\u001b[38;5;33mDense\u001b[0m)                 │ (\u001b[38;5;45mNone\u001b[0m, \u001b[38;5;34m256\u001b[0m)            │       \u001b[38;5;34m131,328\u001b[0m │\n",
       "├─────────────────────────────────┼────────────────────────┼───────────────┤\n",
       "│ dense_8 (\u001b[38;5;33mDense\u001b[0m)                 │ (\u001b[38;5;45mNone\u001b[0m, \u001b[38;5;34m4\u001b[0m)              │         \u001b[38;5;34m1,028\u001b[0m │\n",
       "└─────────────────────────────────┴────────────────────────┴───────────────┘\n"
      ]
     },
     "metadata": {},
     "output_type": "display_data"
    },
    {
     "data": {
      "text/html": [
       "<pre style=\"white-space:pre;overflow-x:auto;line-height:normal;font-family:Menlo,'DejaVu Sans Mono',consolas,'Courier New',monospace\"><span style=\"font-weight: bold\"> Total params: </span><span style=\"color: #00af00; text-decoration-color: #00af00\">165,636</span> (647.02 KB)\n",
       "</pre>\n"
      ],
      "text/plain": [
       "\u001b[1m Total params: \u001b[0m\u001b[38;5;34m165,636\u001b[0m (647.02 KB)\n"
      ]
     },
     "metadata": {},
     "output_type": "display_data"
    },
    {
     "data": {
      "text/html": [
       "<pre style=\"white-space:pre;overflow-x:auto;line-height:normal;font-family:Menlo,'DejaVu Sans Mono',consolas,'Courier New',monospace\"><span style=\"font-weight: bold\"> Trainable params: </span><span style=\"color: #00af00; text-decoration-color: #00af00\">165,636</span> (647.02 KB)\n",
       "</pre>\n"
      ],
      "text/plain": [
       "\u001b[1m Trainable params: \u001b[0m\u001b[38;5;34m165,636\u001b[0m (647.02 KB)\n"
      ]
     },
     "metadata": {},
     "output_type": "display_data"
    },
    {
     "data": {
      "text/html": [
       "<pre style=\"white-space:pre;overflow-x:auto;line-height:normal;font-family:Menlo,'DejaVu Sans Mono',consolas,'Courier New',monospace\"><span style=\"font-weight: bold\"> Non-trainable params: </span><span style=\"color: #00af00; text-decoration-color: #00af00\">0</span> (0.00 B)\n",
       "</pre>\n"
      ],
      "text/plain": [
       "\u001b[1m Non-trainable params: \u001b[0m\u001b[38;5;34m0\u001b[0m (0.00 B)\n"
      ]
     },
     "metadata": {},
     "output_type": "display_data"
    }
   ],
   "source": [
    "import tensorflow as tf # type: ignore\n",
    "from tensorflow import keras # type: ignore\n",
    "from keras import layers # type: ignore\n",
    "from keras import ops # type: ignore\n",
    "\n",
    "##############################################################\n",
    "# Hyperparameter                                             #\n",
    "##############################################################\n",
    "#batch_size = 64\n",
    "#epochs = 100\n",
    "\n",
    "\n",
    "batch_size = 100\n",
    "epochs = 40\n",
    "\n",
    "initializer='glorot_uniform'\n",
    "#initializer='glorot_normal'\n",
    "#initializer='he_uniform'\n",
    "#initializer='he_normal'\n",
    "#initializer='lecun_uniform'\n",
    "#initializer='lecun_normal'\n",
    "#initializer='ones'\n",
    "#initializer='zeros'\n",
    "\n",
    "\n",
    "#padding='valid'\n",
    "padding='same'\n",
    "# Format der Eingabedaten festlegen\n",
    "input_shape = (X.shape[1],)\n",
    "\n",
    "\n",
    "# Modell schichtweise erstellen\n",
    "model = keras.Sequential()\n",
    "model.add(layers.InputLayer(input_shape, kernel_initializer=initializer))\n",
    "model.add(layers.Dense(512, activation='elu'))\n",
    "model.add(layers.Dense(256, activation='elu'))\n",
    "model.add(layers.Dense(num_classes,activation='softmax'))\n",
    "\n",
    "# Modellparameter ausgeben\n",
    "model.summary()"
   ]
  },
  {
   "cell_type": "code",
   "execution_count": 23,
   "metadata": {},
   "outputs": [
    {
     "name": "stdout",
     "output_type": "stream",
     "text": [
      "Epoch 1/40\n",
      "\u001b[1m57/57\u001b[0m \u001b[32m━━━━━━━━━━━━━━━━━━━━\u001b[0m\u001b[37m\u001b[0m \u001b[1m1s\u001b[0m 5ms/step - accuracy: 0.3615 - loss: 1.3756 - val_accuracy: 0.5870 - val_loss: 0.9965 - learning_rate: 0.0010\n",
      "Epoch 2/40\n",
      "\u001b[1m57/57\u001b[0m \u001b[32m━━━━━━━━━━━━━━━━━━━━\u001b[0m\u001b[37m\u001b[0m \u001b[1m0s\u001b[0m 3ms/step - accuracy: 0.6231 - loss: 0.9225 - val_accuracy: 0.7603 - val_loss: 0.6928 - learning_rate: 0.0010\n",
      "Epoch 3/40\n",
      "\u001b[1m57/57\u001b[0m \u001b[32m━━━━━━━━━━━━━━━━━━━━\u001b[0m\u001b[37m\u001b[0m \u001b[1m0s\u001b[0m 3ms/step - accuracy: 0.7816 - loss: 0.6198 - val_accuracy: 0.8181 - val_loss: 0.5210 - learning_rate: 0.0010\n",
      "Epoch 4/40\n",
      "\u001b[1m57/57\u001b[0m \u001b[32m━━━━━━━━━━━━━━━━━━━━\u001b[0m\u001b[37m\u001b[0m \u001b[1m0s\u001b[0m 4ms/step - accuracy: 0.8270 - loss: 0.4857 - val_accuracy: 0.8581 - val_loss: 0.4102 - learning_rate: 0.0010\n",
      "Epoch 5/40\n",
      "\u001b[1m57/57\u001b[0m \u001b[32m━━━━━━━━━━━━━━━━━━━━\u001b[0m\u001b[37m\u001b[0m \u001b[1m0s\u001b[0m 3ms/step - accuracy: 0.8914 - loss: 0.3469 - val_accuracy: 0.8702 - val_loss: 0.3545 - learning_rate: 0.0010\n",
      "Epoch 6/40\n",
      "\u001b[1m57/57\u001b[0m \u001b[32m━━━━━━━━━━━━━━━━━━━━\u001b[0m\u001b[37m\u001b[0m \u001b[1m0s\u001b[0m 3ms/step - accuracy: 0.9192 - loss: 0.2605 - val_accuracy: 0.8795 - val_loss: 0.3244 - learning_rate: 0.0010\n",
      "Epoch 7/40\n",
      "\u001b[1m57/57\u001b[0m \u001b[32m━━━━━━━━━━━━━━━━━━━━\u001b[0m\u001b[37m\u001b[0m \u001b[1m0s\u001b[0m 3ms/step - accuracy: 0.9297 - loss: 0.2257 - val_accuracy: 0.8973 - val_loss: 0.2812 - learning_rate: 0.0010\n",
      "Epoch 8/40\n",
      "\u001b[1m57/57\u001b[0m \u001b[32m━━━━━━━━━━━━━━━━━━━━\u001b[0m\u001b[37m\u001b[0m \u001b[1m0s\u001b[0m 3ms/step - accuracy: 0.9493 - loss: 0.1744 - val_accuracy: 0.9016 - val_loss: 0.2541 - learning_rate: 0.0010\n",
      "Epoch 9/40\n",
      "\u001b[1m57/57\u001b[0m \u001b[32m━━━━━━━━━━━━━━━━━━━━\u001b[0m\u001b[37m\u001b[0m \u001b[1m0s\u001b[0m 3ms/step - accuracy: 0.9573 - loss: 0.1470 - val_accuracy: 0.9137 - val_loss: 0.2388 - learning_rate: 0.0010\n",
      "Epoch 10/40\n",
      "\u001b[1m57/57\u001b[0m \u001b[32m━━━━━━━━━━━━━━━━━━━━\u001b[0m\u001b[37m\u001b[0m \u001b[1m0s\u001b[0m 3ms/step - accuracy: 0.9665 - loss: 0.1264 - val_accuracy: 0.9251 - val_loss: 0.2265 - learning_rate: 0.0010\n",
      "Epoch 11/40\n",
      "\u001b[1m57/57\u001b[0m \u001b[32m━━━━━━━━━━━━━━━━━━━━\u001b[0m\u001b[37m\u001b[0m \u001b[1m0s\u001b[0m 3ms/step - accuracy: 0.9729 - loss: 0.1038 - val_accuracy: 0.9201 - val_loss: 0.2261 - learning_rate: 0.0010\n",
      "Epoch 12/40\n",
      "\u001b[1m57/57\u001b[0m \u001b[32m━━━━━━━━━━━━━━━━━━━━\u001b[0m\u001b[37m\u001b[0m \u001b[1m0s\u001b[0m 3ms/step - accuracy: 0.9706 - loss: 0.1022 - val_accuracy: 0.9201 - val_loss: 0.2208 - learning_rate: 0.0010\n",
      "Epoch 13/40\n",
      "\u001b[1m57/57\u001b[0m \u001b[32m━━━━━━━━━━━━━━━━━━━━\u001b[0m\u001b[37m\u001b[0m \u001b[1m0s\u001b[0m 3ms/step - accuracy: 0.9791 - loss: 0.0834 - val_accuracy: 0.9215 - val_loss: 0.2102 - learning_rate: 0.0010\n",
      "Epoch 14/40\n",
      "\u001b[1m57/57\u001b[0m \u001b[32m━━━━━━━━━━━━━━━━━━━━\u001b[0m\u001b[37m\u001b[0m \u001b[1m0s\u001b[0m 3ms/step - accuracy: 0.9818 - loss: 0.0685 - val_accuracy: 0.9258 - val_loss: 0.2057 - learning_rate: 0.0010\n",
      "Epoch 15/40\n",
      "\u001b[1m57/57\u001b[0m \u001b[32m━━━━━━━━━━━━━━━━━━━━\u001b[0m\u001b[37m\u001b[0m \u001b[1m0s\u001b[0m 3ms/step - accuracy: 0.9845 - loss: 0.0604 - val_accuracy: 0.9215 - val_loss: 0.2157 - learning_rate: 0.0010\n",
      "Epoch 16/40\n",
      "\u001b[1m57/57\u001b[0m \u001b[32m━━━━━━━━━━━━━━━━━━━━\u001b[0m\u001b[37m\u001b[0m \u001b[1m0s\u001b[0m 3ms/step - accuracy: 0.9886 - loss: 0.0540 - val_accuracy: 0.9280 - val_loss: 0.2015 - learning_rate: 0.0010\n",
      "Epoch 17/40\n",
      "\u001b[1m57/57\u001b[0m \u001b[32m━━━━━━━━━━━━━━━━━━━━\u001b[0m\u001b[37m\u001b[0m \u001b[1m0s\u001b[0m 3ms/step - accuracy: 0.9847 - loss: 0.0597 - val_accuracy: 0.9308 - val_loss: 0.2036 - learning_rate: 0.0010\n",
      "Epoch 18/40\n",
      "\u001b[1m57/57\u001b[0m \u001b[32m━━━━━━━━━━━━━━━━━━━━\u001b[0m\u001b[37m\u001b[0m \u001b[1m0s\u001b[0m 3ms/step - accuracy: 0.9917 - loss: 0.0377 - val_accuracy: 0.9244 - val_loss: 0.2014 - learning_rate: 0.0010\n",
      "Epoch 19/40\n",
      "\u001b[1m57/57\u001b[0m \u001b[32m━━━━━━━━━━━━━━━━━━━━\u001b[0m\u001b[37m\u001b[0m \u001b[1m0s\u001b[0m 3ms/step - accuracy: 0.9940 - loss: 0.0323 - val_accuracy: 0.9315 - val_loss: 0.2002 - learning_rate: 0.0010\n",
      "Epoch 20/40\n",
      "\u001b[1m57/57\u001b[0m \u001b[32m━━━━━━━━━━━━━━━━━━━━\u001b[0m\u001b[37m\u001b[0m \u001b[1m0s\u001b[0m 3ms/step - accuracy: 0.9945 - loss: 0.0306 - val_accuracy: 0.9330 - val_loss: 0.2077 - learning_rate: 0.0010\n",
      "Epoch 21/40\n",
      "\u001b[1m57/57\u001b[0m \u001b[32m━━━━━━━━━━━━━━━━━━━━\u001b[0m\u001b[37m\u001b[0m \u001b[1m0s\u001b[0m 3ms/step - accuracy: 0.9968 - loss: 0.0249 - val_accuracy: 0.9315 - val_loss: 0.2178 - learning_rate: 0.0010\n",
      "Epoch 22/40\n",
      "\u001b[1m57/57\u001b[0m \u001b[32m━━━━━━━━━━━━━━━━━━━━\u001b[0m\u001b[37m\u001b[0m \u001b[1m0s\u001b[0m 3ms/step - accuracy: 0.9853 - loss: 0.0545 - val_accuracy: 0.9223 - val_loss: 0.2335 - learning_rate: 0.0010\n",
      "Epoch 23/40\n",
      "\u001b[1m57/57\u001b[0m \u001b[32m━━━━━━━━━━━━━━━━━━━━\u001b[0m\u001b[37m\u001b[0m \u001b[1m0s\u001b[0m 3ms/step - accuracy: 0.9805 - loss: 0.0721 - val_accuracy: 0.9280 - val_loss: 0.2301 - learning_rate: 0.0010\n",
      "Epoch 24/40\n",
      "\u001b[1m57/57\u001b[0m \u001b[32m━━━━━━━━━━━━━━━━━━━━\u001b[0m\u001b[37m\u001b[0m \u001b[1m0s\u001b[0m 3ms/step - accuracy: 0.9953 - loss: 0.0285 - val_accuracy: 0.9322 - val_loss: 0.2196 - learning_rate: 0.0010\n",
      "Epoch 25/40\n",
      "\u001b[1m57/57\u001b[0m \u001b[32m━━━━━━━━━━━━━━━━━━━━\u001b[0m\u001b[37m\u001b[0m \u001b[1m0s\u001b[0m 3ms/step - accuracy: 0.9948 - loss: 0.0212 - val_accuracy: 0.9351 - val_loss: 0.2136 - learning_rate: 0.0010\n",
      "Epoch 26/40\n",
      "\u001b[1m57/57\u001b[0m \u001b[32m━━━━━━━━━━━━━━━━━━━━\u001b[0m\u001b[37m\u001b[0m \u001b[1m0s\u001b[0m 3ms/step - accuracy: 0.9990 - loss: 0.0133 - val_accuracy: 0.9337 - val_loss: 0.2151 - learning_rate: 0.0010\n",
      "Epoch 27/40\n",
      "\u001b[1m57/57\u001b[0m \u001b[32m━━━━━━━━━━━━━━━━━━━━\u001b[0m\u001b[37m\u001b[0m \u001b[1m0s\u001b[0m 3ms/step - accuracy: 0.9999 - loss: 0.0101 - val_accuracy: 0.9351 - val_loss: 0.2184 - learning_rate: 0.0010\n",
      "Epoch 28/40\n",
      "\u001b[1m57/57\u001b[0m \u001b[32m━━━━━━━━━━━━━━━━━━━━\u001b[0m\u001b[37m\u001b[0m \u001b[1m0s\u001b[0m 3ms/step - accuracy: 0.9993 - loss: 0.0110 - val_accuracy: 0.9358 - val_loss: 0.2182 - learning_rate: 0.0010\n",
      "Epoch 29/40\n",
      "\u001b[1m57/57\u001b[0m \u001b[32m━━━━━━━━━━━━━━━━━━━━\u001b[0m\u001b[37m\u001b[0m \u001b[1m0s\u001b[0m 3ms/step - accuracy: 0.9998 - loss: 0.0088 - val_accuracy: 0.9379 - val_loss: 0.2306 - learning_rate: 0.0010\n",
      "Epoch 30/40\n",
      "\u001b[1m57/57\u001b[0m \u001b[32m━━━━━━━━━━━━━━━━━━━━\u001b[0m\u001b[37m\u001b[0m \u001b[1m0s\u001b[0m 3ms/step - accuracy: 1.0000 - loss: 0.0072 - val_accuracy: 0.9372 - val_loss: 0.2287 - learning_rate: 1.0000e-04\n",
      "Epoch 31/40\n",
      "\u001b[1m57/57\u001b[0m \u001b[32m━━━━━━━━━━━━━━━━━━━━\u001b[0m\u001b[37m\u001b[0m \u001b[1m0s\u001b[0m 3ms/step - accuracy: 1.0000 - loss: 0.0065 - val_accuracy: 0.9365 - val_loss: 0.2276 - learning_rate: 1.0000e-04\n",
      "Epoch 32/40\n",
      "\u001b[1m57/57\u001b[0m \u001b[32m━━━━━━━━━━━━━━━━━━━━\u001b[0m\u001b[37m\u001b[0m \u001b[1m0s\u001b[0m 3ms/step - accuracy: 1.0000 - loss: 0.0062 - val_accuracy: 0.9365 - val_loss: 0.2270 - learning_rate: 1.0000e-04\n",
      "Epoch 33/40\n",
      "\u001b[1m57/57\u001b[0m \u001b[32m━━━━━━━━━━━━━━━━━━━━\u001b[0m\u001b[37m\u001b[0m \u001b[1m0s\u001b[0m 3ms/step - accuracy: 1.0000 - loss: 0.0067 - val_accuracy: 0.9365 - val_loss: 0.2266 - learning_rate: 1.0000e-04\n",
      "Epoch 34/40\n",
      "\u001b[1m57/57\u001b[0m \u001b[32m━━━━━━━━━━━━━━━━━━━━\u001b[0m\u001b[37m\u001b[0m \u001b[1m0s\u001b[0m 4ms/step - accuracy: 1.0000 - loss: 0.0064 - val_accuracy: 0.9372 - val_loss: 0.2260 - learning_rate: 1.0000e-04\n",
      "Epoch 35/40\n",
      "\u001b[1m57/57\u001b[0m \u001b[32m━━━━━━━━━━━━━━━━━━━━\u001b[0m\u001b[37m\u001b[0m \u001b[1m0s\u001b[0m 3ms/step - accuracy: 1.0000 - loss: 0.0064 - val_accuracy: 0.9358 - val_loss: 0.2264 - learning_rate: 1.0000e-04\n",
      "Epoch 36/40\n",
      "\u001b[1m57/57\u001b[0m \u001b[32m━━━━━━━━━━━━━━━━━━━━\u001b[0m\u001b[37m\u001b[0m \u001b[1m0s\u001b[0m 3ms/step - accuracy: 1.0000 - loss: 0.0065 - val_accuracy: 0.9351 - val_loss: 0.2262 - learning_rate: 1.0000e-04\n",
      "Epoch 37/40\n",
      "\u001b[1m57/57\u001b[0m \u001b[32m━━━━━━━━━━━━━━━━━━━━\u001b[0m\u001b[37m\u001b[0m \u001b[1m0s\u001b[0m 3ms/step - accuracy: 1.0000 - loss: 0.0057 - val_accuracy: 0.9358 - val_loss: 0.2262 - learning_rate: 1.0000e-04\n",
      "Epoch 38/40\n",
      "\u001b[1m57/57\u001b[0m \u001b[32m━━━━━━━━━━━━━━━━━━━━\u001b[0m\u001b[37m\u001b[0m \u001b[1m0s\u001b[0m 3ms/step - accuracy: 1.0000 - loss: 0.0062 - val_accuracy: 0.9351 - val_loss: 0.2264 - learning_rate: 1.0000e-04\n",
      "Epoch 39/40\n",
      "\u001b[1m57/57\u001b[0m \u001b[32m━━━━━━━━━━━━━━━━━━━━\u001b[0m\u001b[37m\u001b[0m \u001b[1m0s\u001b[0m 3ms/step - accuracy: 1.0000 - loss: 0.0059 - val_accuracy: 0.9351 - val_loss: 0.2267 - learning_rate: 1.0000e-04\n",
      "Epoch 40/40\n",
      "\u001b[1m57/57\u001b[0m \u001b[32m━━━━━━━━━━━━━━━━━━━━\u001b[0m\u001b[37m\u001b[0m \u001b[1m0s\u001b[0m 3ms/step - accuracy: 1.0000 - loss: 0.0057 - val_accuracy: 0.9351 - val_loss: 0.2267 - learning_rate: 1.0000e-05\n"
     ]
    }
   ],
   "source": [
    "# Modell kompilieren\n",
    "model.compile(\n",
    "    optimizer='adam',\n",
    "    loss = 'sparse_categorical_crossentropy',\n",
    "    metrics=['accuracy']\n",
    ")\n",
    "\n",
    "\n",
    "# Parameter und Daten an Modell übergeben\n",
    "# Training durchführen\n",
    "history = model.fit(\n",
    "    X_train,\n",
    "    y_train,\n",
    "    validation_split=0.2,\n",
    "    batch_size=batch_size,\n",
    "    epochs=epochs,\n",
    "    callbacks=[\n",
    "        tf.keras.callbacks.ReduceLROnPlateau()\n",
    "    ]\n",
    ")"
   ]
  },
  {
   "cell_type": "markdown",
   "metadata": {},
   "source": [
    "### ▶️ Ausgabe der Kostenfunktion für Training und Validation"
   ]
  },
  {
   "cell_type": "code",
   "execution_count": 49,
   "metadata": {},
   "outputs": [
    {
     "name": "stdout",
     "output_type": "stream",
     "text": [
      "dict_keys(['accuracy', 'loss', 'val_accuracy', 'val_loss', 'learning_rate'])\n"
     ]
    }
   ],
   "source": [
    "# Ausgeben der verfügbaren Metriken \n",
    "print(history.history.keys())"
   ]
  },
  {
   "cell_type": "code",
   "execution_count": 24,
   "metadata": {
    "id": "hKYDX19s1oH3"
   },
   "outputs": [
    {
     "data": {
      "image/png": "[encoded data removed]",
      "text/plain": [
       "<Figure size 1600x1000 with 1 Axes>"
      ]
     },
     "metadata": {},
     "output_type": "display_data"
    }
   ],
   "source": [
    "plt.figure(figsize=(16, 10))\n",
    "\n",
    "plt.plot(range(epochs), history.history['loss'], label=\"Trainingsverlust\")\n",
    "plt.plot(range(epochs), history.history['val_loss'], label=\"Validationsverlust\")\n",
    "\n",
    "plt.xlabel(\"Epochen\")\n",
    "plt.ylabel(\"Verlust\")\n",
    "plt.legend()\n",
    "plt.title(\"Verlauf der Verlustfunktion\")\n",
    "\n",
    "plt.show()"
   ]
  },
  {
   "cell_type": "code",
   "execution_count": 25,
   "metadata": {},
   "outputs": [
    {
     "data": {
      "image/png": "[encoded data removed]",
      "text/plain": [
       "<Figure size 1600x1000 with 1 Axes>"
      ]
     },
     "metadata": {},
     "output_type": "display_data"
    }
   ],
   "source": [
    "plt.figure(figsize=(16, 10))\n",
    "\n",
    "plt.plot(range(epochs), history.history['accuracy'], label=\"Trainingsgenauigkeit\")\n",
    "plt.plot(range(epochs), history.history['val_accuracy'], label=\"Validationsgenauigkeit\")\n",
    "\n",
    "plt.xlabel(\"Epochen\")\n",
    "plt.ylabel(\"Genauigkeit\")\n",
    "plt.legend()\n",
    "plt.title(\"Verlauf der Genauigkeitsfunktion\")\n",
    "\n",
    "plt.show()"
   ]
  },
  {
   "cell_type": "markdown",
   "metadata": {},
   "source": [
    "### ▶️ Modell auf Testdaten anwenden und evaluieren"
   ]
  },
  {
   "cell_type": "code",
   "execution_count": 26,
   "metadata": {},
   "outputs": [
    {
     "name": "stdout",
     "output_type": "stream",
     "text": [
      "Test loss: 0.3032364249229431\n",
      "Test accuracy: 0.9205907583236694\n"
     ]
    }
   ],
   "source": [
    "score = model.evaluate(X_test, y_test, verbose=0)\n",
    "print(\"Test loss:\", score[0])\n",
    "print(\"Test accuracy:\", score[1])"
   ]
  },
  {
   "cell_type": "code",
   "execution_count": 27,
   "metadata": {},
   "outputs": [
    {
     "name": "stdout",
     "output_type": "stream",
     "text": [
      "\u001b[1m365/365\u001b[0m \u001b[32m━━━━━━━━━━━━━━━━━━━━\u001b[0m\u001b[37m\u001b[0m \u001b[1m0s\u001b[0m 969us/step\n",
      "[-0.51059269 -0.02321558  0.14812063  0.36683476  0.45710187 -0.28847599\n",
      " -0.10870747 -0.93055151 -0.12878866  0.30861395 -0.05564109 -0.03712412\n",
      " -0.45156845 -0.60931058  0.29148691 -0.40078092  0.20788671  1.22826251\n",
      "  0.55053302 -1.11858663 -0.55718692 -0.53713397 -0.11008907 -0.15988253\n",
      "  0.88249497 -0.52520522 -1.46415325 -0.86403463  0.11549126 -0.02231841\n",
      " -0.02564136 -0.14054367 -1.19049684  0.80385725  0.55315728  1.04383645\n",
      " -0.61128707 -0.18214972  0.05785669  1.2211241   0.97693665  1.46837866\n",
      "  1.96970794  1.04100204 -0.43351256  1.31877862  0.29908439  0.04392038\n",
      " -0.18609006 -0.60050486 -0.04079263 -0.17361037  0.95977129  0.12982486\n",
      " -0.05446592  0.1934706   0.2107792   0.4781983  -0.65021841 -0.3107567\n",
      " -0.49624209 -1.27691616 -0.06139257  0.03922193]\n",
      "2\n"
     ]
    }
   ],
   "source": [
    "y = model.predict(np.array(X))[6000]\n",
    "print(X[6000])\n",
    "print(np.argmax(y))\n"
   ]
  },
  {
   "cell_type": "markdown",
   "metadata": {},
   "source": [
    "### ▶️ Metriken zur Beurteilung der Modellqualität "
   ]
  },
  {
   "cell_type": "code",
   "execution_count": 28,
   "metadata": {},
   "outputs": [
    {
     "name": "stdout",
     "output_type": "stream",
     "text": [
      "\u001b[1m146/146\u001b[0m \u001b[32m━━━━━━━━━━━━━━━━━━━━\u001b[0m\u001b[37m\u001b[0m \u001b[1m0s\u001b[0m 952us/step\n"
     ]
    },
    {
     "data": {
      "image/png": "[encoded data removed]",
      "text/plain": [
       "<Figure size 600x600 with 1 Axes>"
      ]
     },
     "metadata": {},
     "output_type": "display_data"
    },
    {
     "name": "stdout",
     "output_type": "stream",
     "text": [
      "              precision    recall  f1-score   support\n",
      "\n",
      "           0       0.97      0.94      0.96      1157\n",
      "           1       0.91      0.95      0.93      1124\n",
      "           2       0.92      0.91      0.91      1205\n",
      "           3       0.89      0.88      0.88      1186\n",
      "\n",
      "    accuracy                           0.92      4672\n",
      "   macro avg       0.92      0.92      0.92      4672\n",
      "weighted avg       0.92      0.92      0.92      4672\n",
      "\n"
     ]
    }
   ],
   "source": [
    "y_true = np.array(y_test)\n",
    "y_pred = np.array(list(map(lambda x: np.argmax(x), model.predict(X_test))))\n",
    "\n",
    "cm = confusion_matrix(y_true, y_pred)\n",
    "\n",
    "plt.figure(figsize=(6, 6))\n",
    "sns.heatmap(cm, annot=True, fmt='g', cmap='Greens', cbar=False)\n",
    "plt.xlabel(\"Predicted\")\n",
    "plt.ylabel(\"Actual\")\n",
    "plt.title(\"Confusion Matrix\")\n",
    "plt.show()\n",
    "\n",
    "print(classification_report(y_true, y_pred))"
   ]
  }
 ],
 "metadata": {
  "colab": {
   "authorship_tag": "ABX9TyNuAXIB7ixK/3gtqh86Wo2I",
   "include_colab_link": true,
   "provenance": []
  },
  "kernelspec": {
   "display_name": "Python 3 (ipykernel)",
   "language": "python",
   "name": "python3"
  },
  "language_info": {
   "codemirror_mode": {
    "name": "ipython",
    "version": 3
   },
   "file_extension": ".py",
   "mimetype": "text/x-python",
   "name": "python",
   "nbconvert_exporter": "python",
   "pygments_lexer": "ipython3",
   "version": "3.12.2"
  }
 },
 "nbformat": 4,
 "nbformat_minor": 4
}

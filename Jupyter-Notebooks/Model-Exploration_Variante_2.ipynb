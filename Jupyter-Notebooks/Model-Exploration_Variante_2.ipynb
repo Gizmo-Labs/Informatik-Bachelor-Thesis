{
 "cells": [
  {
   "cell_type": "markdown",
   "metadata": {},
   "source": [
    "## Bachelor Thesis - Informatik\n",
    "\n",
    "### Variante 2 :\n",
    "### Multiclass-Klassifizierung mit 2D Convolutional Neuronal Network\n",
    "***\n",
    "\n",
    "<div align=\"left\">\n",
    "<h2><img src=\"https://i.giphy.com/media/v1.Y2lkPTc5MGI3NjExZ2hrOGtveWx0ZGxsaGFsYXNzbjVhOTNyaTg2cG44anZ5eWd5a3ZyMyZlcD12MV9pbnRlcm5hbF9naWZfYnlfaWQmY3Q9Zw/l3vRcrVqhBVSpJte0/giphy.gif\" width=\"200\" alt=\"Data\"></h2>\n",
    "</div>\n",
    "\n",
    "Dieser Ansatz verwendet als Datengrundlage die folgenden drei Datensätze :\n",
    "\n",
    "###### ☑️ Die Daten wurden von einem Myo-Armband per Bluetooth LE an einen ESP32S3 übertragen\n",
    "\n",
    "###### ☑️ Sämtliche Daten wurden mit folgender Lösung [Processing-Grapher](https://github.com/chillibasket/processing-grapher.git) aufgezeichnet und als .csv-Datei gespeichert\n",
    "\n",
    "###### ☑️ Vier Testpersonen, davon eine weibliche und drei männliche Personen standen zur Verfügung\n",
    "\n",
    "###### ☑️ Alle Personen haben die folgenden vier Gesten in gleicher Position ausgeführt :\n",
    "\n",
    "<img src=\"./Gestenbilder/Eigene_Geste_0.png\" width=\"150\">    <img src=\"./Gestenbilder/Eigene_Geste_1.png\" width=\"150\">    <img src=\"./Gestenbilder/Eigene_Geste_2.png\" width=\"150\">      <img src=\"./Gestenbilder/Eigene_Geste_3.png\" width=\"150\">"
   ]
  },
  {
   "cell_type": "markdown",
   "metadata": {
    "id": "XQZWkqdN6PR7"
   },
   "source": [
    "##### ▶️ Installation notwendiger Python-Bibliotheken\n",
    "***"
   ]
  },
  {
   "cell_type": "code",
   "execution_count": 1,
   "metadata": {
    "colab": {
     "base_uri": "https://localhost:8080/"
    },
    "id": "lERCtA9K5wBW",
    "outputId": "5b9cc7ce-37f2-47eb-a1c6-a7a5cc6f4bd1"
   },
   "outputs": [],
   "source": [
    "##############################################################\n",
    "#      Dieses Notebook wurde mit Python 3.9.13 getestet      #\n",
    "#                                                            #\n",
    "#           Andere Versionen haben teilweise                 #\n",
    "#           Kompatbilitätsprobleme verursacht                #\n",
    "#                                                            #\n",
    "#      This Notebook was tested with Python 3.9.13           #\n",
    "#                                                            #\n",
    "#              Other Versions can cause                      #\n",
    "#                Compatibilityproblems                       #\n",
    "#                                                            #\n",
    "##############################################################"
   ]
  },
  {
   "cell_type": "code",
   "execution_count": 2,
   "metadata": {},
   "outputs": [],
   "source": [
    "##############################################################\n",
    "# Achtung!! Die Konvertierung des Modells nach C++           #\n",
    "#           funktioniert nur mit Tensorflow <=2.15.1         #\n",
    "#           Keras 3 funktioniert nicht!                      #\n",
    "#                                                            #\n",
    "# Attention! Converting the model to C++ ist only working    #\n",
    "#            with Tensorflow <=2.15.1                        #\n",
    "#            Keras 3 will not work!                          #\n",
    "##############################################################\n",
    "#%pip install -r requirements.txt"
   ]
  },
  {
   "cell_type": "markdown",
   "metadata": {},
   "source": [
    "##### ▶️ Importieren notwendiger Python-Bibliotheken\n",
    "***"
   ]
  },
  {
   "cell_type": "code",
   "execution_count": 3,
   "metadata": {
    "id": "qNjJFQ0Y_qRl"
   },
   "outputs": [
    {
     "name": "stdout",
     "output_type": "stream",
     "text": [
      "WARNING:tensorflow:From c:\\Users\\Gizmo\\AppData\\Local\\Programs\\Python\\Python39\\lib\\site-packages\\keras\\src\\losses.py:2976: The name tf.losses.sparse_softmax_cross_entropy is deprecated. Please use tf.compat.v1.losses.sparse_softmax_cross_entropy instead.\n",
      "\n"
     ]
    }
   ],
   "source": [
    "import pandas as pd # type: ignore\n",
    "import numpy as np # type: ignore\n",
    "import seaborn as sns # type: ignore\n",
    "import matplotlib.pyplot as plt # type: ignore\n",
    "\n",
    "from sklearn.model_selection import train_test_split # type: ignore\n",
    "from sklearn.metrics import classification_report, confusion_matrix # type: ignore\n",
    "from sklearn.preprocessing import MinMaxScaler, StandardScaler # type: ignore\n",
    "\n",
    "import tensorflow as tf # type: ignore\n",
    "from tensorflow import keras # type: ignore\n",
    "from keras import layers # type: ignore\n",
    "\n",
    "import logging\n",
    "tf.get_logger().setLevel(logging.ERROR)"
   ]
  },
  {
   "cell_type": "markdown",
   "metadata": {},
   "source": [
    "##### ▶️ Einlesen der aufgezeichneten Daten aus dem Quellordner<br>\n",
    "****\n"
   ]
  },
  {
   "cell_type": "code",
   "execution_count": 4,
   "metadata": {
    "id": "US2Lj9nc_MkG"
   },
   "outputs": [],
   "source": [
    "# Importiere die .csv-Dateien mit den EMG-Daten der einzelnen Probanden und den einzelnen Labels (Gesten)\n",
    "# Dabei gilt folgendes Schema, siehe auch Bilder im Ordner \"Gestenbilder\"\n",
    "# Label 0 --> Faust\n",
    "# Label 1 --> Daumen hoch\n",
    "# Label 2 --> Schere\n",
    "# Label 3 --> Gespreizte Hand\n",
    "\n",
    "\n",
    "##############################################################\n",
    "# Aufnahme der Einzelgesten                                  #\n",
    "# Datentyp: Python List                                      #\n",
    "##############################################################\n",
    "proband1 = []\n",
    "proband2 = []\n",
    "proband3 = []\n",
    "proband4 = []\n",
    "\n",
    "\n",
    "##############################################################\n",
    "# Baue daraus den Dateipfad und lese Datei ein               #\n",
    "# Schreibe Nummer der Geste in entsprechende Spalte          #\n",
    "##############################################################\n",
    "\n",
    "for label in ['0', '1', '2', '3']:\n",
    "    proband1.append(pd.read_csv('./Eigene Datenaufzeichnungen/P1L' + label + '.csv', sep=',', header=None))    \n",
    "    proband1[int(label)][64] = int(label)\n",
    "\n",
    "for label in ['0', '1', '2', '3']:\n",
    "    proband2.append(pd.read_csv('./Eigene Datenaufzeichnungen/P2L' + label + '.csv', sep=',', header=None))    \n",
    "    proband2[int(label)][64] = int(label)\n",
    "\n",
    "for label in ['0', '1', '2', '3']:\n",
    "    proband3.append(pd.read_csv('./Eigene Datenaufzeichnungen/P3L' + label + '.csv', sep=',', header=None))    \n",
    "    proband3[int(label)][64] = int(label)\n",
    "\n",
    "for label in ['0', '1', '2', '3']:\n",
    "    proband4.append(pd.read_csv('./Eigene Datenaufzeichnungen/P4L' + label + '.csv', sep=',', header=None))    \n",
    "    proband4[int(label)][64] = int(label)\n",
    "\n",
    "\n",
    "##############################################################\n",
    "# Schreibe alle Sub-Dataframes in ein gesamtes Dataframe     #\n",
    "# Datentyp: Pandas Dataframe                                 #\n",
    "##############################################################\n",
    "proband1 = pd.concat([df for df in proband1], axis=0).reset_index(drop=True)\n",
    "proband2 = pd.concat([df for df in proband2], axis=0).reset_index(drop=True)\n",
    "proband3 = pd.concat([df for df in proband3], axis=0).reset_index(drop=True)\n",
    "proband4 = pd.concat([df for df in proband4], axis=0).reset_index(drop=True)\n",
    "\n",
    "\n",
    "##############################################################\n",
    "# Schreibe alle Sub-Dataframes in ein gesamtes Dataframe     #\n",
    "# Datentyp: Pandas Dataframe                                 #\n",
    "##############################################################\n",
    "all_data = pd.concat([proband1, proband2, proband3, proband4]).reset_index(drop=True)"
   ]
  },
  {
   "cell_type": "markdown",
   "metadata": {},
   "source": [
    "##### ▶️ Umwandlung der Daten in geeignete Formate\n",
    "****\n",
    "☑️ Erzeugte Strukturen haben das Format 16 x 64\n",
    "****\n"
   ]
  },
  {
   "cell_type": "code",
   "execution_count": 5,
   "metadata": {},
   "outputs": [
    {
     "name": "stdout",
     "output_type": "stream",
     "text": [
      "Anzahl der Klassen :  4\n",
      "Form der Klassen :  (4, 1)\n",
      "Form der Features :  (378, 16, 64, 1)\n",
      "Form der Labels :  (378, 1)\n"
     ]
    }
   ],
   "source": [
    "def split_dataframe(df, n, reminder = None):\n",
    "    # Get number of rows in DataFrame\n",
    "    total_rows = len(df)\n",
    "    \n",
    "    # Initialize list to hold the split DataFrames\n",
    "    dfs = []\n",
    "    \n",
    "    # Calculate the number of DataFrames\n",
    "    num_dfs = total_rows // n\n",
    "    extra_rows = total_rows % n\n",
    "    \n",
    "    if reminder == 'first' and extra_rows > 0:\n",
    "        # Size of first chunk is equal to reminder. Remaining chunks are same size.\n",
    "        dfs.append(df.iloc[:n + extra_rows])\n",
    "        start_idx = n + extra_rows\n",
    "        for _ in range(1, num_dfs):\n",
    "            dfs.append(df.iloc[start_idx:start_idx + n])\n",
    "            start_idx += n\n",
    "    elif reminder == 'last' and extra_rows > 0:\n",
    "        # Last chunk consists of remining rows. The other chunks are the same size.\n",
    "        for i in range(num_dfs):\n",
    "            dfs.append(df.iloc[i*n:(i+1)*n])\n",
    "        # Add extra rows to the last chunk\n",
    "        dfs.append(df.iloc[num_dfs*n:])\n",
    "    elif reminder == 'spread':\n",
    "        # Evenly spread extra rows across the first few chunks\n",
    "        for i in range(num_dfs + (1 if extra_rows > 0 else 0)):\n",
    "            size = n + (1 if i < extra_rows else 0)\n",
    "            dfs.append(df.iloc[i*size:min((i+1)*size, total_rows)])\n",
    "    else:\n",
    "        if extra_rows > 0:\n",
    "            raise ValueError(f\"DataFrame Länge ist nicht teilbar durch {n}. Bitte nutze den 'reminder' Parameter.\")\n",
    "        # If remainder is None and the DataFrame is perfectly divisible\n",
    "        for i in range(num_dfs):\n",
    "            dfs.append(df.iloc[i*n:(i+1)*n])\n",
    "    \n",
    "    return dfs\n",
    "\n",
    "\n",
    "##############################################################\n",
    "# Einzelwerte der Labels auslesen                            #\n",
    "# Datentyp Pandas Dataframe                                  #\n",
    "##############################################################\n",
    "Labels = all_data[all_data.columns[-1]]\n",
    "\n",
    "\n",
    "##############################################################\n",
    "# Klassen aus den Labels auslesen                            #\n",
    "# Datentyp Numpy Array                                       #\n",
    "##############################################################\n",
    "Klassen = np.unique(Labels)\n",
    "Klassen = np.expand_dims(Klassen, -1)\n",
    "Anzahl_Klassen = Klassen.max() + 1\n",
    "print(\"Anzahl der Klassen : \", Anzahl_Klassen)\n",
    "print(\"Form der Klassen : \", Klassen.shape)\n",
    "\n",
    "\n",
    "##############################################################\n",
    "# Features aus Datensatz extrahieren                         #\n",
    "# Umwandeln in Datentyp Float32                              #\n",
    "##############################################################  \n",
    "Features = all_data.drop(64, axis=1).copy()\n",
    "\n",
    "\n",
    "##############################################################\n",
    "# Zerteile Gesamtdaten in Einzelpakete mit jeweils 16 Zeilen #\n",
    "# Datentyp Python List                                       #\n",
    "##############################################################\n",
    "Features = split_dataframe(Features, 16, 'last')\n",
    "Labels = split_dataframe(Labels, 16, 'last')\n",
    "\n",
    "\n",
    "##############################################################\n",
    "# Entferne letztes Tupel aus Listen                          #\n",
    "# Bei ungerader Anzahl Tupeln hat das letzte Listenelement   #\n",
    "# eine abweichende Anzahl an Datenpunkten --> Problem        #\n",
    "# Datentyp Python List                                       #\n",
    "##############################################################\n",
    "l_Features = len(Features)-1\n",
    "Features = Features[:l_Features]\n",
    "\n",
    "l_Labels = len(Labels)-1\n",
    "Labels = Labels[:l_Labels]\n",
    "\n",
    "\n",
    "##############################################################\n",
    "# Konvertiere die Listen in Numpy-Arrays als Float32         #\n",
    "# Dann eine Dimension hinzu als Channel                      #\n",
    "# Datentyp Numpy-Array                                       #\n",
    "##############################################################\n",
    "Features = np.array(Features).astype('float32')\n",
    "Features = np.expand_dims(Features, -1)\n",
    "\n",
    "\n",
    "##############################################################\n",
    "# Zuerst alle Label-Arrays nach 1D konvertieren              #\n",
    "# Dann eine Dimension hinzu als Channel                      #\n",
    "# Wichtig für das Convolution Neuronal Network !!            #\n",
    "##############################################################\n",
    "Labels = np.array(Labels).astype('int')\n",
    "Labels = Labels[:,1]\n",
    "Labels = np.expand_dims(Labels, -1)\n",
    "\n",
    "\n",
    "##############################################################\n",
    "# Gebe die Form des Image-Vectors aus                        #\n",
    "##############################################################\n",
    "print(\"Form der Features : \", Features.shape)\n",
    "\n",
    "\n",
    "##############################################################\n",
    "# Gebe die Form des Label-Vectors aus                        #\n",
    "##############################################################\n",
    "print(\"Form der Labels : \", Labels.shape)"
   ]
  },
  {
   "cell_type": "markdown",
   "metadata": {
    "id": "bqtb_0qsqcBe"
   },
   "source": [
    "#### ▶️ Datensatz aufteilen in Training-, Test-, und Validierungsdaten\n",
    "***"
   ]
  },
  {
   "cell_type": "code",
   "execution_count": 6,
   "metadata": {
    "colab": {
     "base_uri": "https://localhost:8080/"
    },
    "id": "wkE318CuqruZ",
    "outputId": "80b11002-44b4-4019-c983-05a729ffe78c"
   },
   "outputs": [
    {
     "name": "stdout",
     "output_type": "stream",
     "text": [
      "Form der Training-Features :  (272, 16, 64, 1)\n",
      "Form der Test-Features :  (57, 16, 64, 1)\n",
      "Form der Validierungs-Features: (49, 16, 64, 1)\n",
      "---------------------------------\n",
      "Form der Training-Labels :  (272, 1)\n",
      "Form der Test-Labels :  (57, 1)\n",
      "Form der Validierungs-Labels :  (49, 1)\n",
      "---------------------------------\n",
      "378 Gesamt-Features\n",
      "272 Training-Features\n",
      "57 Test-Features\n",
      "49 Validierungs-Features\n",
      "---------------------------------\n",
      "378 Gesamt-Labels\n",
      "272 Training-Labels\n",
      "57 Test-Labels\n",
      "49 Validierungs-Labels\n"
     ]
    }
   ],
   "source": [
    "##############################################################\n",
    "# Definition der Form des Eingabevektors                     #\n",
    "##############################################################\n",
    "input_shape = (16, 64, 1)\n",
    "\n",
    "\n",
    "##############################################################\n",
    "# Aufteilung der Datensätze in Training- und Testdaten       #\n",
    "# Test-Size --> prozentualer Anteil von Gesamtdaten          #\n",
    "# Random-State --> Zufallsgrad der Durchmischung             #\n",
    "##############################################################\n",
    "X_train, X_test, y_train, y_test = train_test_split(Features, Labels, test_size = 0.15, random_state = 100)\n",
    "X_train, X_val, y_train, y_val = train_test_split(X_train, y_train, test_size=0.15, random_state=100)\n",
    "\n",
    "\n",
    "\n",
    "##############################################################\n",
    "# Status der Datensätze ausgeben                             #\n",
    "##############################################################\n",
    "print(\"Form der Training-Features : \", X_train.shape)\n",
    "print(\"Form der Test-Features : \", X_test.shape)\n",
    "print(\"Form der Validierungs-Features:\", X_val.shape)\n",
    "print(\"---------------------------------\")\n",
    "print(\"Form der Training-Labels : \", y_train.shape)\n",
    "print(\"Form der Test-Labels : \", y_test.shape)\n",
    "print(\"Form der Validierungs-Labels : \", y_val.shape)\n",
    "print(\"---------------------------------\")\n",
    "print(Features.shape[0], \"Gesamt-Features\")\n",
    "print(X_train.shape[0], \"Training-Features\")\n",
    "print(X_test.shape[0], \"Test-Features\")\n",
    "print(X_val.shape[0], \"Validierungs-Features\")\n",
    "print(\"---------------------------------\")\n",
    "print(Labels.shape[0], \"Gesamt-Labels\")\n",
    "print(y_train.shape[0], \"Training-Labels\")\n",
    "print(y_test.shape[0], \"Test-Labels\")\n",
    "print(y_val.shape[0], \"Validierungs-Labels\")\n",
    "\n",
    "\n",
    "##############################################################\n",
    "# Klassenvektor in Matrize konvertieren (One-Hot-Encoding)   #\n",
    "##############################################################\n",
    "y_train = keras.utils.to_categorical(y_train, Anzahl_Klassen)\n",
    "y_test = keras.utils.to_categorical(y_test, Anzahl_Klassen)\n",
    "y_val = keras.utils.to_categorical(y_val, Anzahl_Klassen)"
   ]
  },
  {
   "cell_type": "markdown",
   "metadata": {},
   "source": [
    "#### ▶️ Modellarchitektur\n",
    "***"
   ]
  },
  {
   "cell_type": "code",
   "execution_count": 7,
   "metadata": {},
   "outputs": [
    {
     "name": "stdout",
     "output_type": "stream",
     "text": [
      "Model: \"sequential\"\n",
      "_________________________________________________________________\n",
      " Layer (type)                Output Shape              Param #   \n",
      "=================================================================\n",
      " conv2d (Conv2D)             (None, 8, 32, 64)         1088      \n",
      "                                                                 \n",
      " batch_normalization (Batch  (None, 8, 32, 64)         256       \n",
      " Normalization)                                                  \n",
      "                                                                 \n",
      " activation (Activation)     (None, 8, 32, 64)         0         \n",
      "                                                                 \n",
      " max_pooling2d (MaxPooling2  (None, 4, 16, 64)         0         \n",
      " D)                                                              \n",
      "                                                                 \n",
      " conv2d_1 (Conv2D)           (None, 2, 8, 64)          65600     \n",
      "                                                                 \n",
      " batch_normalization_1 (Bat  (None, 2, 8, 64)          256       \n",
      " chNormalization)                                                \n",
      "                                                                 \n",
      " activation_1 (Activation)   (None, 2, 8, 64)          0         \n",
      "                                                                 \n",
      " max_pooling2d_1 (MaxPoolin  (None, 1, 4, 64)          0         \n",
      " g2D)                                                            \n",
      "                                                                 \n",
      " flatten (Flatten)           (None, 256)               0         \n",
      "                                                                 \n",
      " dense (Dense)               (None, 256)               65792     \n",
      "                                                                 \n",
      " activation_2 (Activation)   (None, 256)               0         \n",
      "                                                                 \n",
      " dense_1 (Dense)             (None, 4)                 1028      \n",
      "                                                                 \n",
      " activation_3 (Activation)   (None, 4)                 0         \n",
      "                                                                 \n",
      "=================================================================\n",
      "Total params: 134020 (523.52 KB)\n",
      "Trainable params: 133764 (522.52 KB)\n",
      "Non-trainable params: 256 (1.00 KB)\n",
      "_________________________________________________________________\n"
     ]
    },
    {
     "name": "stderr",
     "output_type": "stream",
     "text": [
      "c:\\Users\\Gizmo\\AppData\\Local\\Programs\\Python\\Python39\\lib\\site-packages\\keras\\src\\engine\\training.py:3103: UserWarning: You are saving your model as an HDF5 file via `model.save()`. This file format is considered legacy. We recommend using instead the native Keras format, e.g. `model.save('my_model.keras')`.\n",
      "  saving_api.save_model(\n"
     ]
    }
   ],
   "source": [
    "##############################################################\n",
    "# Hyperparameter                                             #\n",
    "##############################################################\n",
    "batch_size = 32\n",
    "epochs = 16\n",
    "\n",
    "padding='same'\n",
    "\n",
    "mom = 0.9\n",
    "eps = 0.000001\n",
    "drop = 0.2\n",
    "\n",
    "\n",
    "##############################################################\n",
    "# Modell erstellen                                           #\n",
    "##############################################################\n",
    "model = keras.Sequential()\n",
    "model.add(layers.InputLayer(input_shape))\n",
    "\n",
    "model.add(layers.Conv2D(64, (4,4), strides=(2,2) ,padding = padding, input_shape=input_shape))\n",
    "model.add(layers.BatchNormalization(momentum=mom, epsilon=eps))\n",
    "model.add(layers.Activation('relu'))\n",
    "model.add(layers.MaxPool2D(2,2))\n",
    "\n",
    "model.add(layers.Conv2D(64, (4,4), strides=(2,2) , padding = padding))\n",
    "model.add(layers.BatchNormalization(momentum=mom, epsilon=eps))\n",
    "model.add(layers.Activation('relu'))\n",
    "model.add(layers.MaxPool2D(2,2))\n",
    "\n",
    "\n",
    "model.add(layers.Flatten())\n",
    "model.add(layers.Dense(256))\n",
    "\n",
    "model.add(layers.Activation('relu'))\n",
    "\n",
    "\n",
    "model.add(layers.Dense(Anzahl_Klassen))\n",
    "model.add(layers.Activation('softmax'))\n",
    "\n",
    "# Modellparameter ausgeben\n",
    "model.summary()\n",
    "\n",
    "# Modell speichern\n",
    "model.save('./Gespeicherte Modelle/2DCNN.h5')"
   ]
  },
  {
   "cell_type": "code",
   "execution_count": 8,
   "metadata": {},
   "outputs": [
    {
     "name": "stdout",
     "output_type": "stream",
     "text": [
      "Epoch 1/16\n",
      "9/9 [==============================] - 2s 40ms/step - loss: 1.3971 - accuracy: 0.4044 - val_loss: 0.9882 - val_accuracy: 0.6327 - lr: 0.0010\n",
      "Epoch 2/16\n",
      "9/9 [==============================] - 0s 13ms/step - loss: 0.6872 - accuracy: 0.7904 - val_loss: 0.9695 - val_accuracy: 0.5714 - lr: 0.0010\n",
      "Epoch 3/16\n",
      "9/9 [==============================] - 0s 12ms/step - loss: 0.4330 - accuracy: 0.9118 - val_loss: 0.8340 - val_accuracy: 0.6531 - lr: 0.0010\n",
      "Epoch 4/16\n",
      "9/9 [==============================] - 0s 12ms/step - loss: 0.2339 - accuracy: 0.9706 - val_loss: 0.8926 - val_accuracy: 0.6122 - lr: 0.0010\n",
      "Epoch 5/16\n",
      "9/9 [==============================] - 0s 13ms/step - loss: 0.1539 - accuracy: 0.9706 - val_loss: 0.8193 - val_accuracy: 0.6122 - lr: 0.0010\n",
      "Epoch 6/16\n",
      "9/9 [==============================] - 0s 12ms/step - loss: 0.0840 - accuracy: 1.0000 - val_loss: 0.6942 - val_accuracy: 0.6531 - lr: 0.0010\n",
      "Epoch 7/16\n",
      "9/9 [==============================] - 0s 11ms/step - loss: 0.0518 - accuracy: 1.0000 - val_loss: 0.8377 - val_accuracy: 0.5714 - lr: 0.0010\n",
      "Epoch 8/16\n",
      "9/9 [==============================] - 0s 12ms/step - loss: 0.0260 - accuracy: 1.0000 - val_loss: 0.8304 - val_accuracy: 0.6327 - lr: 0.0010\n",
      "Epoch 9/16\n",
      "9/9 [==============================] - 0s 12ms/step - loss: 0.0160 - accuracy: 1.0000 - val_loss: 0.8317 - val_accuracy: 0.6122 - lr: 0.0010\n",
      "Epoch 10/16\n",
      "9/9 [==============================] - 0s 12ms/step - loss: 0.0118 - accuracy: 1.0000 - val_loss: 0.8882 - val_accuracy: 0.5918 - lr: 0.0010\n",
      "Epoch 11/16\n",
      "9/9 [==============================] - 0s 12ms/step - loss: 0.0093 - accuracy: 1.0000 - val_loss: 0.8866 - val_accuracy: 0.5918 - lr: 0.0010\n",
      "Epoch 12/16\n",
      "9/9 [==============================] - 0s 12ms/step - loss: 0.0086 - accuracy: 1.0000 - val_loss: 0.8719 - val_accuracy: 0.6122 - lr: 0.0010\n",
      "Epoch 13/16\n",
      "9/9 [==============================] - 0s 12ms/step - loss: 0.0072 - accuracy: 1.0000 - val_loss: 0.9136 - val_accuracy: 0.6122 - lr: 0.0010\n",
      "Epoch 14/16\n",
      "9/9 [==============================] - 0s 12ms/step - loss: 0.0056 - accuracy: 1.0000 - val_loss: 0.9307 - val_accuracy: 0.6122 - lr: 0.0010\n",
      "Epoch 15/16\n",
      "9/9 [==============================] - 0s 12ms/step - loss: 0.0054 - accuracy: 1.0000 - val_loss: 0.9310 - val_accuracy: 0.6122 - lr: 0.0010\n",
      "Epoch 16/16\n",
      "9/9 [==============================] - 0s 12ms/step - loss: 0.0041 - accuracy: 1.0000 - val_loss: 0.9427 - val_accuracy: 0.6122 - lr: 0.0010\n"
     ]
    }
   ],
   "source": [
    "# Modell kompilieren\n",
    "model.compile(\n",
    "    optimizer='adam',\n",
    "    loss = 'categorical_crossentropy',\n",
    "    metrics=['accuracy']\n",
    ")\n",
    "\n",
    "# Parameter und Daten an Modell übergeben\n",
    "# Training durchführen\n",
    "history = model.fit(\n",
    "    X_train,\n",
    "    y_train,\n",
    "    validation_data=(X_val, y_val),\n",
    "    batch_size=batch_size,    \n",
    "    epochs=epochs,\n",
    "    callbacks=[\n",
    "        tf.keras.callbacks.ReduceLROnPlateau(),        \n",
    "    ]\n",
    ")"
   ]
  },
  {
   "cell_type": "markdown",
   "metadata": {},
   "source": [
    "#### ▶️ Ausgabe der Verlustfunktion für Training und Validierung\n",
    "***"
   ]
  },
  {
   "cell_type": "code",
   "execution_count": 9,
   "metadata": {
    "id": "hKYDX19s1oH3"
   },
   "outputs": [
    {
     "data": {
      "image/png": "[encoded data removed]",
      "text/plain": [
       "<Figure size 640x480 with 1 Axes>"
      ]
     },
     "metadata": {},
     "output_type": "display_data"
    }
   ],
   "source": [
    "loss = history.history['loss']\n",
    "val_loss = history.history['val_loss']\n",
    "epochs = range(1, len(loss) + 1)\n",
    "plt.plot(epochs, loss, 'r.', label='Trainingsverlust')\n",
    "plt.plot(epochs, val_loss, 'y', label='Validationsverlust')\n",
    "plt.title('Verlust Training und Validation')\n",
    "plt.xlabel('Epochen')\n",
    "plt.ylabel('Verlust')\n",
    "plt.grid()\n",
    "plt.legend()\n",
    "plt.savefig('./Metriken/Verlust_2DCNN.png', dpi=300, bbox_inches='tight')\n",
    "plt.show()"
   ]
  },
  {
   "cell_type": "markdown",
   "metadata": {},
   "source": [
    "#### ▶️ Ausgabe der Genauigkeit für Training und Validierung\n",
    "***"
   ]
  },
  {
   "cell_type": "code",
   "execution_count": 10,
   "metadata": {},
   "outputs": [
    {
     "data": {
      "image/png": "[encoded data removed]",
      "text/plain": [
       "<Figure size 640x480 with 1 Axes>"
      ]
     },
     "metadata": {},
     "output_type": "display_data"
    }
   ],
   "source": [
    "acc = history.history['accuracy']\n",
    "val_acc = history.history['val_accuracy']\n",
    "epochs = range(1, len(loss) + 1)\n",
    "plt.plot(epochs, acc, 'r.', label='Trainingsgenauigkeit')\n",
    "plt.plot(epochs, val_acc, 'y', label='Validationsgenauigkeit')\n",
    "plt.title('Genauigkeit Training und Validation')\n",
    "plt.xlabel('Epochen')\n",
    "plt.ylabel('Genauigkeit')\n",
    "plt.grid()\n",
    "plt.legend()\n",
    "plt.savefig('./Metriken/Genauigkeit_2DCNN.png', dpi=300, bbox_inches='tight')\n",
    "plt.show()"
   ]
  },
  {
   "cell_type": "markdown",
   "metadata": {},
   "source": [
    "#### ▶️ Modell auf Validierungsdaten anwenden und evaluieren\n",
    "***"
   ]
  },
  {
   "cell_type": "code",
   "execution_count": 11,
   "metadata": {},
   "outputs": [
    {
     "name": "stdout",
     "output_type": "stream",
     "text": [
      "Validierungsverlust: 0.9426526427268982\n",
      "Validierungsgenauigkeit: 0.6122449040412903\n"
     ]
    }
   ],
   "source": [
    "score = model.evaluate(X_val, y_val, verbose=0)\n",
    "print(\"Validierungsverlust:\", score[0])\n",
    "print(\"Validierungsgenauigkeit:\", score[1])"
   ]
  },
  {
   "cell_type": "markdown",
   "metadata": {},
   "source": [
    "### ▶️ Metriken zur Beurteilung der Modellqualität \n",
    "***"
   ]
  },
  {
   "cell_type": "code",
   "execution_count": 12,
   "metadata": {},
   "outputs": [
    {
     "name": "stdout",
     "output_type": "stream",
     "text": [
      "2/2 [==============================] - 0s 4ms/step\n"
     ]
    },
    {
     "data": {
      "image/png": "[encoded data removed]",
      "text/plain": [
       "<Figure size 600x600 with 1 Axes>"
      ]
     },
     "metadata": {},
     "output_type": "display_data"
    },
    {
     "name": "stdout",
     "output_type": "stream",
     "text": [
      "              precision    recall  f1-score   support\n",
      "\n",
      "           0       0.41      0.58      0.48        12\n",
      "           1       0.64      0.47      0.55        19\n",
      "           2       0.50      0.75      0.60         4\n",
      "           3       0.92      0.79      0.85        14\n",
      "\n",
      "    accuracy                           0.61        49\n",
      "   macro avg       0.62      0.65      0.62        49\n",
      "weighted avg       0.65      0.61      0.62        49\n",
      "\n"
     ]
    }
   ],
   "source": [
    "y_test_arg=np.argmax(y_val,axis=1)\n",
    "y_pred = np.argmax(model.predict(X_val), axis=1)\n",
    " \n",
    "cm = confusion_matrix(y_test_arg, y_pred)\n",
    "\n",
    "plt.figure(figsize=(6, 6))\n",
    "sns.heatmap(cm, annot=True, fmt='g', cmap='Greens', cbar=False)\n",
    "plt.xlabel(\"Vorhersagen\")\n",
    "plt.ylabel(\"Geste\")\n",
    "plt.title(\"Konfusionsmatrix\")\n",
    "plt.show()\n",
    "\n",
    "print(classification_report(y_test_arg, y_pred))\n"
   ]
  }
 ],
 "metadata": {
  "colab": {
   "authorship_tag": "ABX9TyNuAXIB7ixK/3gtqh86Wo2I",
   "include_colab_link": true,
   "provenance": []
  },
  "kernelspec": {
   "display_name": "Python 3 (ipykernel)",
   "language": "python",
   "name": "python3"
  },
  "language_info": {
   "codemirror_mode": {
    "name": "ipython",
    "version": 3
   },
   "file_extension": ".py",
   "mimetype": "text/x-python",
   "name": "python",
   "nbconvert_exporter": "python",
   "pygments_lexer": "ipython3",
   "version": "3.9.13"
  }
 },
 "nbformat": 4,
 "nbformat_minor": 4
}

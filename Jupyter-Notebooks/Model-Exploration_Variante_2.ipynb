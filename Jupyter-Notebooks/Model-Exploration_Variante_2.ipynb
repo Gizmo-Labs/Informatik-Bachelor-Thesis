{
 "cells": [
  {
   "cell_type": "markdown",
   "metadata": {},
   "source": [
    "## Bachelor Thesis - Informatik\n",
    "\n",
    "### Variante 2 :\n",
    "### Multiclass-Klassifizierung von Greyscale-Bildern mit Convolutional Neuronal Network\n",
    "\n",
    "<div align=\"left\">\n",
    "<h2><img src=\"https://i.giphy.com/media/v1.Y2lkPTc5MGI3NjExZ2hrOGtveWx0ZGxsaGFsYXNzbjVhOTNyaTg2cG44anZ5eWd5a3ZyMyZlcD12MV9pbnRlcm5hbF9naWZfYnlfaWQmY3Q9Zw/l3vRcrVqhBVSpJte0/giphy.gif\" width=\"200\" alt=\"Data\"></h2>\n",
    "</div>\n",
    "\n",
    "Dieser Ansatz verwendet als Datengrundlage die folgenden drei Datensätze :\n",
    "\n",
    "#### ☑️ Ein eigener Datensatz der aus selbst aufgezeichneten Gesten eines Myo-Armbands besteht\n",
    "\n",
    "#### ☑️ Ein Datensatz der bei Kaggle zur Verfügung steht\n",
    "\n",
    "#### ☑️ Ein Datensatz der aus dem Ninapro DB5 Datensatz abgeleitet wurde"
   ]
  },
  {
   "cell_type": "markdown",
   "metadata": {
    "id": "XQZWkqdN6PR7"
   },
   "source": [
    "##### ▶️ Installation notwendiger Python-Bibliotheken"
   ]
  },
  {
   "cell_type": "code",
   "execution_count": 297,
   "metadata": {
    "colab": {
     "base_uri": "https://localhost:8080/"
    },
    "id": "lERCtA9K5wBW",
    "outputId": "5b9cc7ce-37f2-47eb-a1c6-a7a5cc6f4bd1"
   },
   "outputs": [],
   "source": [
    "#%pip install pandas\n",
    "#%pip install numpy\n",
    "#%pip install seaborn\n",
    "#%pip install -U seaborn-image\n",
    "#%pip install matplotlib.pyplot\n",
    "#%pip install scikit-learn"
   ]
  },
  {
   "cell_type": "markdown",
   "metadata": {},
   "source": [
    "##### ▶️ Importieren notwendiger Python-Bibliotheken"
   ]
  },
  {
   "cell_type": "code",
   "execution_count": 2,
   "metadata": {
    "id": "qNjJFQ0Y_qRl"
   },
   "outputs": [],
   "source": [
    "import pandas as pd # type: ignore\n",
    "import numpy as np # type: ignore\n",
    "import seaborn as sns # type: ignore\n",
    "import matplotlib.pyplot as plt # type: ignore\n",
    "\n",
    "from sklearn.preprocessing import MinMaxScaler # type: ignore\n",
    "from sklearn.model_selection import train_test_split # type: ignore\n",
    "from sklearn.metrics import classification_report, confusion_matrix # type: ignore\n",
    "\n",
    "import tensorflow as tf # type: ignore\n",
    "\n",
    "from tensorflow import keras # type: ignore\n",
    "from keras import layers # type: ignore\n",
    "from keras import ops # type: ignore"
   ]
  },
  {
   "cell_type": "markdown",
   "metadata": {},
   "source": [
    "##### ▶️ Alternative 1 : Einlesen der eigenen Roh-Daten aus dem Quellordner<br>\n",
    "****\n",
    "📌 Dieses Feld ausführen bei Verwendung der Eigen-Daten !!"
   ]
  },
  {
   "cell_type": "code",
   "execution_count": 299,
   "metadata": {
    "id": "US2Lj9nc_MkG"
   },
   "outputs": [],
   "source": [
    "# Importiere die .csv-Dateien mit den EMG-Daten der einzelnen Probanden und den einzelnen Labels (Gesten)\n",
    "# Dabei gilt folgendes Schema, siehe auch Bilder im Ordner \"Gestenbilder\"\n",
    "# Label 0 --> Ruheposition\n",
    "# Label 1 --> Daumen hoch\n",
    "# Label 2 --> Zeige- und Mittelfinger gestreckt\n",
    "# Label 3 --> Daumen, Zeige- und Mittelfinger gestreckt\n",
    "# Label 4 --> Daumen gekrümmt in Richtung kleiner Finger\n",
    "# Label 5 --> Alle Finger ausgestreckt\n",
    "# Label 6 --> Finger zur Faust geballt\n",
    "\n",
    "\n",
    "##############################################################\n",
    "# Aufnahme der Einzelgesten                                  #\n",
    "# Datentyp: Python List                                      #\n",
    "##############################################################\n",
    "single_data = []\n",
    "\n",
    "\n",
    "##############################################################\n",
    "# Baue daraus den Dateipfad und lese Datei ein               #\n",
    "# Schreibe Nummer der Geste in entsprechende Spalte          #\n",
    "##############################################################\n",
    "for label in ['0', '1', '2', '3', '4']:\n",
    "    single_data.append(pd.read_csv('./Eigene/P0L' + label + '.csv', sep=',', header=None))    \n",
    "    single_data[int(label)][8] = int(label)\n",
    "\n",
    "\n",
    "##############################################################\n",
    "# Schreibe alle Sub-Dataframes in ein gesamtes Dataframe     #\n",
    "# Datentyp: Pandas Dataframe                                 #\n",
    "##############################################################\n",
    "all_data = pd.concat([df for df in single_data], axis=0).reset_index(drop=True)"
   ]
  },
  {
   "cell_type": "markdown",
   "metadata": {},
   "source": [
    "##### ▶️ Alternative 2 : Einlesen des Datensatzes von Kaggle aus dem Quellordner\n",
    "\n",
    "****\n",
    "📌 Dieses Feld ausführen bei Verwendung der Kaggle-Daten !!\n",
    "\n",
    "[Link zum Datensatz](https://www.kaggle.com/code/akshita72/hand-gesture-recognition-from-emg-signals/input)"
   ]
  },
  {
   "cell_type": "code",
   "execution_count": 16,
   "metadata": {},
   "outputs": [],
   "source": [
    "# Importiere die .csv-Dateien mit den EMG-Daten der einzelnen Probanden und den einzelnen Labels (Gesten)\n",
    "# Dabei gilt folgendes Schema:\n",
    "# Label 0 --> Stein\n",
    "# Label 1 --> Schere\n",
    "# Label 2 --> Papier\n",
    "# Label 3 --> OK-Zeichen\n",
    "\n",
    "\n",
    "##############################################################\n",
    "# Aufnahme der Einzelgesten                                  #\n",
    "# Datentyp: Python List                                      #\n",
    "##############################################################\n",
    "single_data = []\n",
    "\n",
    "\n",
    "##############################################################\n",
    "# Baue daraus den Dateipfad und lese Datei ein               #\n",
    "# Schreibe Nummer der Geste in entsprechende Spalte          #\n",
    "##############################################################\n",
    "for label in ['0', '1', '2', '3', ]:\n",
    "    single_data.append(pd.read_csv('./Kaggle/' + label + '.csv', sep=',', header=None))    \n",
    "    \n",
    "\n",
    "##############################################################\n",
    "# Schreibe alle Sub-Dataframes in ein gesamtes Dataframe     #\n",
    "# Datentyp: Pandas Dataframe                                 #\n",
    "##############################################################\n",
    "all_data = pd.concat([df for df in single_data], axis=0).reset_index(drop=True)"
   ]
  },
  {
   "cell_type": "markdown",
   "metadata": {},
   "source": [
    "##### ▶️ Alternative 3 : Einlesen von Daten aus dem Ninapro DB5 Datensatz<br>\n",
    "****\n",
    "📌 Dieses Feld ausführen bei Verwendung Ninapro-Daten !!\n",
    "\n",
    "[Link zum Datensatz](https://ninapro.hevs.ch/instructions/DB5.html)"
   ]
  },
  {
   "cell_type": "code",
   "execution_count": 44,
   "metadata": {},
   "outputs": [
    {
     "data": {
      "text/html": [
       "<div>\n",
       "<style scoped>\n",
       "    .dataframe tbody tr th:only-of-type {\n",
       "        vertical-align: middle;\n",
       "    }\n",
       "\n",
       "    .dataframe tbody tr th {\n",
       "        vertical-align: top;\n",
       "    }\n",
       "\n",
       "    .dataframe thead th {\n",
       "        text-align: right;\n",
       "    }\n",
       "</style>\n",
       "<table border=\"1\" class=\"dataframe\">\n",
       "  <thead>\n",
       "    <tr style=\"text-align: right;\">\n",
       "      <th></th>\n",
       "      <th>0</th>\n",
       "      <th>1</th>\n",
       "      <th>2</th>\n",
       "      <th>3</th>\n",
       "      <th>4</th>\n",
       "      <th>5</th>\n",
       "      <th>6</th>\n",
       "      <th>7</th>\n",
       "      <th>8</th>\n",
       "    </tr>\n",
       "  </thead>\n",
       "  <tbody>\n",
       "    <tr>\n",
       "      <th>567995</th>\n",
       "      <td>-1</td>\n",
       "      <td>1</td>\n",
       "      <td>-2</td>\n",
       "      <td>-1</td>\n",
       "      <td>-1</td>\n",
       "      <td>0</td>\n",
       "      <td>0</td>\n",
       "      <td>3</td>\n",
       "      <td>0</td>\n",
       "    </tr>\n",
       "    <tr>\n",
       "      <th>567996</th>\n",
       "      <td>-2</td>\n",
       "      <td>2</td>\n",
       "      <td>-2</td>\n",
       "      <td>-3</td>\n",
       "      <td>-1</td>\n",
       "      <td>-3</td>\n",
       "      <td>-3</td>\n",
       "      <td>-2</td>\n",
       "      <td>0</td>\n",
       "    </tr>\n",
       "    <tr>\n",
       "      <th>567997</th>\n",
       "      <td>-3</td>\n",
       "      <td>-5</td>\n",
       "      <td>-3</td>\n",
       "      <td>-1</td>\n",
       "      <td>0</td>\n",
       "      <td>0</td>\n",
       "      <td>-2</td>\n",
       "      <td>3</td>\n",
       "      <td>0</td>\n",
       "    </tr>\n",
       "    <tr>\n",
       "      <th>567998</th>\n",
       "      <td>-5</td>\n",
       "      <td>0</td>\n",
       "      <td>0</td>\n",
       "      <td>-2</td>\n",
       "      <td>-1</td>\n",
       "      <td>-1</td>\n",
       "      <td>0</td>\n",
       "      <td>-3</td>\n",
       "      <td>0</td>\n",
       "    </tr>\n",
       "    <tr>\n",
       "      <th>567999</th>\n",
       "      <td>-1</td>\n",
       "      <td>-5</td>\n",
       "      <td>0</td>\n",
       "      <td>-1</td>\n",
       "      <td>0</td>\n",
       "      <td>0</td>\n",
       "      <td>0</td>\n",
       "      <td>-1</td>\n",
       "      <td>0</td>\n",
       "    </tr>\n",
       "  </tbody>\n",
       "</table>\n",
       "</div>"
      ],
      "text/plain": [
       "        0  1  2  3  4  5  6  7  8\n",
       "567995 -1  1 -2 -1 -1  0  0  3  0\n",
       "567996 -2  2 -2 -3 -1 -3 -3 -2  0\n",
       "567997 -3 -5 -3 -1  0  0 -2  3  0\n",
       "567998 -5  0  0 -2 -1 -1  0 -3  0\n",
       "567999 -1 -5  0 -1  0  0  0 -1  0"
      ]
     },
     "execution_count": 44,
     "metadata": {},
     "output_type": "execute_result"
    }
   ],
   "source": [
    "# Die Dateien im Ordner \"Ninapro_DB5\" enthalten Auszüge aus dem originalen Datensatz\n",
    "# Aus den Matlab-Files wurden die 8 Sensorwerte und die zugehörigen Labels entnommen\n",
    "# Es wurden nur die \"Subjects\" 01 bis 06 berücksichtigt\n",
    "\n",
    "# Importiere die .csv-Dateien mit den EMG-Daten der einzelnen Probanden und den einzelnen Labels (Gesten)\n",
    "# Dabei gilt folgendes Schema, siehe auch Bilder im Ordner \"Gestenbilder\"\n",
    "# Label 0 --> Ruheposition\n",
    "# Label 1 --> Daumen hoch\n",
    "# Label 2 --> Zeige- und Mittelfinger gestreckt\n",
    "# Label 3 --> Daumen, Zeige- und Mittelfinger gestreckt\n",
    "# Label 4 --> Daumen gekrümmt in Richtung kleiner Finger\n",
    "# Label 5 --> Alle Finger ausgestreckt\n",
    "# Label 6 --> Finger zur Faust geballt\n",
    "\n",
    "##############################################################\n",
    "# Aufnahme der Einzelgesten                                  #\n",
    "# Datentyp: Python List                                      #\n",
    "##############################################################\n",
    "single_data = []\n",
    "\n",
    "\n",
    "##############################################################\n",
    "# Baue daraus den Dateipfad und lese Datei ein               #\n",
    "# Schreibe Nummer der Geste in entsprechende Spalte          #\n",
    "##############################################################\n",
    "for label in ['1', '2', '3', '4', '5', '6']:\n",
    "    single_data.append(pd.read_csv('./Ninapro_DB5/P' + label + '.csv', sep=';', header=None))    \n",
    "    \n",
    "\n",
    "##############################################################\n",
    "# Schreibe alle Sub-Dataframes in ein gesamtes Dataframe     #\n",
    "# Datentyp: Pandas Dataframe                                 #\n",
    "##############################################################\n",
    "all_data = pd.concat([df for df in single_data], axis=0).reset_index(drop=True)\n",
    "\n",
    "all_data.tail()"
   ]
  },
  {
   "cell_type": "markdown",
   "metadata": {},
   "source": [
    "##### ▶️ Ansatz 1 : Umwandlung in Greyscale-Bilder mit allen Sensorkanälen pro Bild\n",
    "****\n",
    "\n",
    "📌 Dieses Feld für Bilder mit allen Sensorwerten pro Bild ausführen --> **unbedingt die richtige Label-Struktur einkommentieren !!**\n",
    "\n",
    "****\n",
    "☑️ Erzeugte Strukturen aus den Eigen-Daten haben das Format 16 x 8<br>\n",
    "☑️ Erzeugte Strukturen aus den Kaggle-Daten haben das Format 16 x 64<br>\n",
    "****\n",
    "<br>\n",
    "📌 Jede Struktur enthält alle 8 Sensorkanäle"
   ]
  },
  {
   "cell_type": "code",
   "execution_count": 46,
   "metadata": {},
   "outputs": [
    {
     "name": "stdout",
     "output_type": "stream",
     "text": [
      "Classes Shape: (7,)\n",
      "Images Shape:  (35499, 16, 8)\n",
      "Labels Shape: (35499,)\n"
     ]
    }
   ],
   "source": [
    "def split_dataframe(df, n, reminder = None):\n",
    "    # Get number of rows in DataFrame\n",
    "    total_rows = len(df)\n",
    "    \n",
    "    # Initialize list to hold the split DataFrames\n",
    "    dfs = []\n",
    "    \n",
    "    # Calculate the number of DataFrames\n",
    "    num_dfs = total_rows // n\n",
    "    extra_rows = total_rows % n\n",
    "    \n",
    "    if reminder == 'first' and extra_rows > 0:\n",
    "        # Size of first chunk is equal to reminder. Remaining chunks are same size.\n",
    "        dfs.append(df.iloc[:n + extra_rows])\n",
    "        start_idx = n + extra_rows\n",
    "        for _ in range(1, num_dfs):\n",
    "            dfs.append(df.iloc[start_idx:start_idx + n])\n",
    "            start_idx += n\n",
    "    elif reminder == 'last' and extra_rows > 0:\n",
    "        # Last chunk consists of remining rows. The other chunks are the same size.\n",
    "        for i in range(num_dfs):\n",
    "            dfs.append(df.iloc[i*n:(i+1)*n])\n",
    "        # Add extra rows to the last chunk\n",
    "        dfs.append(df.iloc[num_dfs*n:])\n",
    "    elif reminder == 'spread':\n",
    "        # Evenly spread extra rows across the first few chunks\n",
    "        for i in range(num_dfs + (1 if extra_rows > 0 else 0)):\n",
    "            size = n + (1 if i < extra_rows else 0)\n",
    "            dfs.append(df.iloc[i*size:min((i+1)*size, total_rows)])\n",
    "    else:\n",
    "        if extra_rows > 0:\n",
    "            raise ValueError(f\"DataFrame Länge ist nicht teilbar durch {n}. Bitte nutze den 'reminder' Parameter.\")\n",
    "        # If remainder is None and the DataFrame is perfectly divisible\n",
    "        for i in range(num_dfs):\n",
    "            dfs.append(df.iloc[i*n:(i+1)*n])\n",
    "    \n",
    "    return dfs\n",
    "\n",
    "\n",
    "##############################################################\n",
    "# Einzelwerte der Labels auslesen                            #\n",
    "# Datentyp Pandas Dataframe                                  #\n",
    "##############################################################\n",
    "labels = all_data[all_data.columns[-1]]\n",
    " \n",
    "\n",
    "##############################################################\n",
    "# Klassen aus den Labels auslesen                            #\n",
    "# Datentyp Numpy Array                                       #\n",
    "##############################################################\n",
    "classes = np.unique(labels)\n",
    "print(\"Classes Shape:\",classes.shape)\n",
    "\n",
    "\n",
    "##############################################################\n",
    "# Sensorwerte der Gesten auslesen                            #\n",
    "# Datentyp Pandas Dataframe                                  #\n",
    "##############################################################\n",
    "sensors = all_data.drop(8, axis=1).copy()\n",
    "#sensors = all_data.drop(64, axis=1).copy()\n",
    "\n",
    "##############################################################\n",
    "# Zerteile Gesamtdaten in Einzelpakete mit jeweils 16 Zeilen #\n",
    "# Datentyp Python List                                       #\n",
    "##############################################################\n",
    "images = split_dataframe(sensors, 16, 'last')\n",
    "labels = split_dataframe(labels, 16, 'last')\n",
    "\n",
    "\n",
    "##############################################################\n",
    "# Entferne letztes Tupel aus Listen                          #\n",
    "# Bei ungerader Anzahl Tupeln hat das letzte Listenelement   #\n",
    "# eine abweichende Anzahl an Datenpunkten --> Problem        #\n",
    "# Datentyp Python List                                       #\n",
    "##############################################################\n",
    "l_images = len(images)-1\n",
    "images = images[:l_images]\n",
    "\n",
    "l_labels = len(labels)-1\n",
    "labels = labels[:l_labels]\n",
    "\n",
    "\n",
    "##############################################################\n",
    "# Konvertiere die Listen in Numpy-Arrays                     #\n",
    "# Datentyp Numpy-Array                                       #\n",
    "##############################################################\n",
    "images = np.array(images)\n",
    "labels = np.array(labels)\n",
    "\n",
    "\n",
    "#############################################################\n",
    "# Reduziere die Dimension der Labels auf 1                   #\n",
    "# Wichtig für das Convolution Neuronal Network !!            #\n",
    "##############################################################\n",
    "labels = labels[:,1]\n",
    "\n",
    "\n",
    "##############################################################\n",
    "# Gebe die Form des Image-Vectors aus                        #\n",
    "##############################################################\n",
    "print(\"Images Shape: \", images.shape)\n",
    "\n",
    "\n",
    "##############################################################\n",
    "# Gebe die Form des Label-Vectors aus                        #\n",
    "##############################################################\n",
    "print(\"Labels Shape:\", labels.shape)\n"
   ]
  },
  {
   "cell_type": "markdown",
   "metadata": {},
   "source": [
    "##### ▶️ Ansatz 2 : Umwandlung in Greyscale-Bilder mit einem Sensorkanal pro Bild\n",
    "****\n",
    "\n",
    "📌 Dieses Feld für Bilder mit einem Sensorwert pro Bild ausführen<br>\n",
    "📌 Dieser Ansatz benötigt Daten wie im Kaggle-Datensatz, also [8] x [8] Sensorwerte pro Zeile\n",
    "\n",
    "****\n",
    "☑️ Erzeugte Strukturen aus den Kaggle-Daten haben das Format 16 x 64<br>\n",
    "****\n",
    "<br>\n",
    "📌 Jede Struktur enthält nur 1 Sensorkanal"
   ]
  },
  {
   "cell_type": "code",
   "execution_count": 45,
   "metadata": {},
   "outputs": [
    {
     "name": "stdout",
     "output_type": "stream",
     "text": [
      "Classes Shape: (7,)\n"
     ]
    },
    {
     "ename": "ValueError",
     "evalue": "cannot reshape array of size 567296 into shape (704,newaxis)",
     "output_type": "error",
     "traceback": [
      "\u001b[1;31m---------------------------------------------------------------------------\u001b[0m",
      "\u001b[1;31mValueError\u001b[0m                                Traceback (most recent call last)",
      "Cell \u001b[1;32mIn[45], line 76\u001b[0m\n\u001b[0;32m     71\u001b[0m \u001b[38;5;66;03m##############################################################\u001b[39;00m\n\u001b[0;32m     72\u001b[0m \u001b[38;5;66;03m# Array-Elemente in Format 704x16 konvertieren               #\u001b[39;00m\n\u001b[0;32m     73\u001b[0m \u001b[38;5;66;03m# Datentyp Numpy Array                                       #\u001b[39;00m\n\u001b[0;32m     74\u001b[0m \u001b[38;5;66;03m##############################################################  \u001b[39;00m\n\u001b[0;32m     75\u001b[0m labels \u001b[38;5;241m=\u001b[39m np\u001b[38;5;241m.\u001b[39marray(labels)\n\u001b[1;32m---> 76\u001b[0m labels \u001b[38;5;241m=\u001b[39m \u001b[43mlabels\u001b[49m\u001b[38;5;241;43m.\u001b[39;49m\u001b[43mreshape\u001b[49m\u001b[43m(\u001b[49m\u001b[38;5;241;43m704\u001b[39;49m\u001b[43m,\u001b[49m\u001b[43m \u001b[49m\u001b[38;5;241;43m-\u001b[39;49m\u001b[38;5;241;43m1\u001b[39;49m\u001b[43m)\u001b[49m\n\u001b[0;32m     79\u001b[0m \u001b[38;5;66;03m##############################################################\u001b[39;00m\n\u001b[0;32m     80\u001b[0m \u001b[38;5;66;03m# Reduziere die Dimension der Labels auf 1                   #\u001b[39;00m\n\u001b[0;32m     81\u001b[0m \u001b[38;5;66;03m# Wichtig für das Convolution Neuronal Network !!            #\u001b[39;00m\n\u001b[0;32m     82\u001b[0m \u001b[38;5;66;03m##############################################################\u001b[39;00m\n\u001b[0;32m     83\u001b[0m labels \u001b[38;5;241m=\u001b[39m labels[:,\u001b[38;5;241m1\u001b[39m]\n",
      "\u001b[1;31mValueError\u001b[0m: cannot reshape array of size 567296 into shape (704,newaxis)"
     ]
    }
   ],
   "source": [
    "def split_dataframe(df, n, reminder = None):\n",
    "    # Get number of rows in DataFrame\n",
    "    total_rows = len(df)\n",
    "    \n",
    "    # Initialize list to hold the split DataFrames\n",
    "    dfs = []\n",
    "    \n",
    "    # Calculate the number of DataFrames\n",
    "    num_dfs = total_rows // n\n",
    "    extra_rows = total_rows % n\n",
    "    \n",
    "    if reminder == 'first' and extra_rows > 0:\n",
    "        # Size of first chunk is equal to reminder. Remaining chunks are same size.\n",
    "        dfs.append(df.iloc[:n + extra_rows])\n",
    "        start_idx = n + extra_rows\n",
    "        for _ in range(1, num_dfs):\n",
    "            dfs.append(df.iloc[start_idx:start_idx + n])\n",
    "            start_idx += n\n",
    "    elif reminder == 'last' and extra_rows > 0:\n",
    "        # Last chunk consists of remining rows. The other chunks are the same size.\n",
    "        for i in range(num_dfs):\n",
    "            dfs.append(df.iloc[i*n:(i+1)*n])\n",
    "        # Add extra rows to the last chunk\n",
    "        dfs.append(df.iloc[num_dfs*n:])\n",
    "    elif reminder == 'spread':\n",
    "        # Evenly spread extra rows across the first few chunks\n",
    "        for i in range(num_dfs + (1 if extra_rows > 0 else 0)):\n",
    "            size = n + (1 if i < extra_rows else 0)\n",
    "            dfs.append(df.iloc[i*size:min((i+1)*size, total_rows)])\n",
    "    else:\n",
    "        if extra_rows > 0:\n",
    "            raise ValueError(f\"DataFrame Länge ist nicht teilbar durch {n}. Bitte nutze den 'reminder' Parameter.\")\n",
    "        # If remainder is None and the DataFrame is perfectly divisible\n",
    "        for i in range(num_dfs):\n",
    "            dfs.append(df.iloc[i*n:(i+1)*n])\n",
    "    \n",
    "    return dfs\n",
    "\n",
    "##############################################################\n",
    "# Einzelwerte der Labels auslesen                            #\n",
    "# Datentyp Pandas Dataframe                                  #\n",
    "##############################################################\n",
    "labels = all_data[all_data.columns[-1]]\n",
    "\n",
    "\n",
    "##############################################################\n",
    "# Klassen aus den Labels auslesen                            #\n",
    "# Datentyp Numpy Array                                       #\n",
    "##############################################################\n",
    "classes = np.unique(labels)\n",
    "print(\"Classes Shape:\",classes.shape)\n",
    "\n",
    "\n",
    "##############################################################\n",
    "# Zerlege Labels in Einzelpakete mit jeweils 1024 Zeilen     #\n",
    "# Datentyp Python List                                       #\n",
    "##############################################################\n",
    "labels = split_dataframe(labels, 1024, 'last')\n",
    "\n",
    "\n",
    "##############################################################\n",
    "# Entferne letztes Tupel aus Listen                          #\n",
    "# Bei ungerader Anzahl Tupeln hat das letzte Listenelement   #\n",
    "# eine abweichende Anzahl an Datenpunkten --> Problem        #\n",
    "# Datentyp Python List                                       #\n",
    "##############################################################\n",
    "l_labels = len(labels)-1\n",
    "labels = labels[:l_labels]\n",
    "\n",
    "\n",
    "##############################################################\n",
    "# Array-Elemente in Format 704x16 konvertieren               #\n",
    "# Datentyp Numpy Array                                       #\n",
    "##############################################################  \n",
    "labels = np.array(labels)\n",
    "labels = labels.reshape(704, -1)\n",
    "\n",
    "\n",
    "##############################################################\n",
    "# Reduziere die Dimension der Labels auf 1                   #\n",
    "# Wichtig für das Convolution Neuronal Network !!            #\n",
    "##############################################################\n",
    "labels = labels[:,1]\n",
    "\n",
    "\n",
    "##############################################################\n",
    "# Zerlege Sensorwert in Einzelpakete mit jeweils 1024 Zeilen #\n",
    "# Datentyp Python List                                       #\n",
    "##############################################################\n",
    "sensors = all_data.drop(64, axis=1).copy()\n",
    "split = split_dataframe(sensors, 1024, 'last')\n",
    "\n",
    "\n",
    "##############################################################\n",
    "# Entferne letztes Tupel aus Listen                          #\n",
    "# Bei ungerader Anzahl Tupeln hat das letzte Listenelement   #\n",
    "# eine abweichende Anzahl an Datenpunkten --> Problem        #\n",
    "# Datentyp Python List                                       #\n",
    "##############################################################\n",
    "l_split = len(split)-1\n",
    "split = split[:l_split]\n",
    "\n",
    "\n",
    "##############################################################\n",
    "# Reduziere die 3D-Array auf 2D-Array                        #\n",
    "# Wichtig für das Convolution Neuronal Network !!            #\n",
    "# Datentyp Numpy Array                                       #\n",
    "##############################################################\n",
    "split = np.array(split)\n",
    "split = split.reshape(-1, split.shape[-1])\n",
    "\n",
    "\n",
    "##############################################################\n",
    "# Lese die Spalten aus den Sensorwerten in neue Liste ein    #\n",
    "# Dies ist jeder Sensorkanal einzeln                         #\n",
    "# Datentyp Pandas Dataframe --> split --> wegen columns      #\n",
    "# Datentyp Liste --> single_sensors --> wegen append()       #\n",
    "##############################################################\n",
    "single_sensors = []\n",
    "split = pd.DataFrame(split)\n",
    "\n",
    "for i in range(len(split.columns)):\n",
    "   single_sensors.append(split_dataframe(split[i], 16, 'last'))\n",
    "\n",
    "\n",
    "##############################################################\n",
    "# Array-Elemente in Format 16x64 konvertieren                #\n",
    "# Datentyp Numpy Array                                       #\n",
    "##############################################################  \n",
    "single_sensors = np.array(single_sensors)\n",
    "single_sensors = single_sensors.reshape(-1,16,64)\n",
    "images = single_sensors\n",
    "\n",
    "\n",
    "##############################################################\n",
    "# Gebe die Form des Image-Vectors aus                        #\n",
    "##############################################################\n",
    "print(\"Images Shape: \", images.shape)\n",
    "\n",
    "\n",
    "##############################################################\n",
    "# Gebe die Form des Label-Vectors aus                        #\n",
    "##############################################################\n",
    "print(\"Labels Shape:\", labels.shape)"
   ]
  },
  {
   "cell_type": "markdown",
   "metadata": {},
   "source": [
    "#### ▶️ Normalisierung der Daten"
   ]
  },
  {
   "cell_type": "code",
   "execution_count": 47,
   "metadata": {},
   "outputs": [],
   "source": [
    "\n",
    "##############################################################\n",
    "# Datenskalierung mit Min-/Max Prinzip                       #\n",
    "# Skalierung auf Werte von 0 bis 255 als Pixel               #\n",
    "##############################################################  \n",
    "sc = MinMaxScaler(feature_range=(0,255))\n",
    "\n",
    "\n",
    "##############################################################\n",
    "# Umwandlung aller Daten ins Pixelformat                     #\n",
    "# Datentyp Numpy Array                                       #\n",
    "##############################################################  \n",
    "for i, df in enumerate(images):\n",
    "    images[i] = sc.fit_transform(images[i])\n"
   ]
  },
  {
   "cell_type": "markdown",
   "metadata": {},
   "source": [
    "#### ▶️ Darstellung der erzeugten Grayscale-Bilder"
   ]
  },
  {
   "cell_type": "code",
   "execution_count": 48,
   "metadata": {},
   "outputs": [
    {
     "data": {
      "image/png": "[encoded data removed]",
      "text/plain": [
       "<Figure size 800x400 with 4 Axes>"
      ]
     },
     "metadata": {},
     "output_type": "display_data"
    }
   ],
   "source": [
    "\n",
    "fig = plt.figure(figsize=(8, 4)) # type: ignore\n",
    "\n",
    "for i in range(4):\n",
    "    ax = plt.subplot(1, 4, i + 1)\n",
    "    plt.imshow(images[i],cmap='gray', vmin=0, vmax=255)    \n",
    "    plt.title(labels[i])\n",
    "    plt.axis(\"off\")\n",
    "    "
   ]
  },
  {
   "cell_type": "markdown",
   "metadata": {
    "id": "bqtb_0qsqcBe"
   },
   "source": [
    "### ▶️ Datensatz aufteilen in Training- und Test-Daten"
   ]
  },
  {
   "cell_type": "code",
   "execution_count": 50,
   "metadata": {
    "colab": {
     "base_uri": "https://localhost:8080/"
    },
    "id": "wkE318CuqruZ",
    "outputId": "80b11002-44b4-4019-c983-05a729ffe78c"
   },
   "outputs": [
    {
     "name": "stdout",
     "output_type": "stream",
     "text": [
      "X_train Vectorform: (24849, 16, 8, 1)\n",
      "X_test Vectorform: (10650, 16, 8, 1)\n",
      "y_train Vectorform: (24849,)\n",
      "y_test Vectorform: (10650,)\n",
      "\n",
      "35499 Gesamtwerte\n",
      "24849 Trainingswerte\n",
      "10650 Testwerte\n"
     ]
    }
   ],
   "source": [
    "##############################################################\n",
    "# Einkommentieren für eigene Daten                           #\n",
    "# Klassen entsprechen der vorhandenen Gesten                 #\n",
    "##############################################################\n",
    "#num_classes = 5\n",
    "\n",
    "\n",
    "##############################################################\n",
    "# Einkommentieren für den Kaggle-Datensatz                   #\n",
    "# Fixwert 4                                                  #\n",
    "##############################################################\n",
    "#num_classes = 4\n",
    "\n",
    "\n",
    "##############################################################\n",
    "# Einkommentieren für den Ninapro-Datensatz                  #\n",
    "# Fixwert 7                                                 #\n",
    "##############################################################\n",
    "num_classes = 7\n",
    "\n",
    "\n",
    "##############################################################\n",
    "# Einkommentieren für eigene Daten und Ninapro               #\n",
    "# Bei 8 Sensorwerten  pro Zeile --> (16, 8, 1)               #\n",
    "# Bei 64 Sensorwerten pro Zeile --> (16, 64, 1)              #\n",
    "##############################################################\n",
    "input_shape = (16, 8, 1)\n",
    "\n",
    "\n",
    "##############################################################\n",
    "# Einkommentieren für den Kaggle-Datensatz                   #\n",
    "# Fix 64 Sensorwerte pro Zeile --> (16, 64, 1)               #\n",
    "##############################################################\n",
    "#input_shape = (16, 64, 1)\n",
    "\n",
    "\n",
    "##############################################################\n",
    "# Aufteilung der Datensätze in Training- und Testdaten       #\n",
    "# Test-Size --> prozentualer Anteil von Gesamtdaten          #\n",
    "# Random-State --> Zufallsgrad der Durchmischung             #\n",
    "##############################################################\n",
    "X_train, X_test, y_train, y_test = train_test_split(images, labels, test_size = 0.3, random_state = 40) # type: ignore\n",
    "\n",
    "\n",
    "##############################################################\n",
    "# Konvertieren auf Wertebereich 0.0 bis 1.0                  #\n",
    "##############################################################\n",
    "X_train = X_train.astype(\"float32\") / 255\n",
    "X_test = X_test.astype(\"float32\") / 255\n",
    "\n",
    "\n",
    "##############################################################\n",
    "# Vierte Dimension für Algorithmus hinzufügen                #\n",
    "##############################################################\n",
    "X_train = np.expand_dims(X_train, -1)\n",
    "X_test = np.expand_dims(X_test, -1)\n",
    "\n",
    "\n",
    "##############################################################\n",
    "# Status der Datensätze ausgeben                             #\n",
    "##############################################################\n",
    "print(\"X_train Vectorform:\", X_train.shape)\n",
    "print(\"X_test Vectorform:\", X_test.shape)\n",
    "print(\"y_train Vectorform:\", y_train.shape)\n",
    "print(\"y_test Vectorform:\", y_test.shape)\n",
    "print()\n",
    "print(images.shape[0], \"Gesamtwerte\")\n",
    "print(X_train.shape[0], \"Trainingswerte\")\n",
    "print(X_test.shape[0], \"Testwerte\")\n",
    "\n",
    "\n",
    "##############################################################\n",
    "# Klassenvektor in Matrize konvertieren (One-Hot-Encoding)   #\n",
    "##############################################################\n",
    "y_train = keras.utils.to_categorical(y_train, num_classes)\n",
    "y_test = keras.utils.to_categorical(y_test, num_classes)"
   ]
  },
  {
   "cell_type": "markdown",
   "metadata": {},
   "source": [
    "#### ▶️ S-ConvNet Modell A aus der folgenden Publikation :<br>\n",
    "\n",
    "##### \"S-Convnet: A Shallow Convolutional Neural Network Architecture for Neuromuscular Activity Recognition Using Instantaneous High-Density Surface EMG Images\"<br>\n",
    "\n",
    "[Link]https://ieeexplore.ieee.org/document/9175266)\n",
    "\n",
    "📌 Die zugehörige Architektur ist dort zu finden in Tabelle 1"
   ]
  },
  {
   "cell_type": "code",
   "execution_count": 64,
   "metadata": {
    "colab": {
     "base_uri": "https://localhost:8080/",
     "height": 423
    },
    "id": "SguTQ64ur82Y",
    "outputId": "30778bb1-f329-4335-f1af-850a82daee5c"
   },
   "outputs": [
    {
     "data": {
      "text/html": [
       "<pre style=\"white-space:pre;overflow-x:auto;line-height:normal;font-family:Menlo,'DejaVu Sans Mono',consolas,'Courier New',monospace\"><span style=\"font-weight: bold\">Model: \"sequential_20\"</span>\n",
       "</pre>\n"
      ],
      "text/plain": [
       "\u001b[1mModel: \"sequential_20\"\u001b[0m\n"
      ]
     },
     "metadata": {},
     "output_type": "display_data"
    },
    {
     "data": {
      "text/html": [
       "<pre style=\"white-space:pre;overflow-x:auto;line-height:normal;font-family:Menlo,'DejaVu Sans Mono',consolas,'Courier New',monospace\">┏━━━━━━━━━━━━━━━━━━━━━━━━━━━━━━━━━┳━━━━━━━━━━━━━━━━━━━━━━━━┳━━━━━━━━━━━━━━━┓\n",
       "┃<span style=\"font-weight: bold\"> Layer (type)                    </span>┃<span style=\"font-weight: bold\"> Output Shape           </span>┃<span style=\"font-weight: bold\">       Param # </span>┃\n",
       "┡━━━━━━━━━━━━━━━━━━━━━━━━━━━━━━━━━╇━━━━━━━━━━━━━━━━━━━━━━━━╇━━━━━━━━━━━━━━━┩\n",
       "│ conv2d_57 (<span style=\"color: #0087ff; text-decoration-color: #0087ff\">Conv2D</span>)              │ (<span style=\"color: #00d7ff; text-decoration-color: #00d7ff\">None</span>, <span style=\"color: #00af00; text-decoration-color: #00af00\">16</span>, <span style=\"color: #00af00; text-decoration-color: #00af00\">8</span>, <span style=\"color: #00af00; text-decoration-color: #00af00\">32</span>)      │           <span style=\"color: #00af00; text-decoration-color: #00af00\">320</span> │\n",
       "├─────────────────────────────────┼────────────────────────┼───────────────┤\n",
       "│ activation_49 (<span style=\"color: #0087ff; text-decoration-color: #0087ff\">Activation</span>)      │ (<span style=\"color: #00d7ff; text-decoration-color: #00d7ff\">None</span>, <span style=\"color: #00af00; text-decoration-color: #00af00\">16</span>, <span style=\"color: #00af00; text-decoration-color: #00af00\">8</span>, <span style=\"color: #00af00; text-decoration-color: #00af00\">32</span>)      │             <span style=\"color: #00af00; text-decoration-color: #00af00\">0</span> │\n",
       "├─────────────────────────────────┼────────────────────────┼───────────────┤\n",
       "│ conv2d_58 (<span style=\"color: #0087ff; text-decoration-color: #0087ff\">Conv2D</span>)              │ (<span style=\"color: #00d7ff; text-decoration-color: #00d7ff\">None</span>, <span style=\"color: #00af00; text-decoration-color: #00af00\">16</span>, <span style=\"color: #00af00; text-decoration-color: #00af00\">8</span>, <span style=\"color: #00af00; text-decoration-color: #00af00\">64</span>)      │         <span style=\"color: #00af00; text-decoration-color: #00af00\">8,256</span> │\n",
       "├─────────────────────────────────┼────────────────────────┼───────────────┤\n",
       "│ activation_50 (<span style=\"color: #0087ff; text-decoration-color: #0087ff\">Activation</span>)      │ (<span style=\"color: #00d7ff; text-decoration-color: #00d7ff\">None</span>, <span style=\"color: #00af00; text-decoration-color: #00af00\">16</span>, <span style=\"color: #00af00; text-decoration-color: #00af00\">8</span>, <span style=\"color: #00af00; text-decoration-color: #00af00\">64</span>)      │             <span style=\"color: #00af00; text-decoration-color: #00af00\">0</span> │\n",
       "├─────────────────────────────────┼────────────────────────┼───────────────┤\n",
       "│ conv2d_59 (<span style=\"color: #0087ff; text-decoration-color: #0087ff\">Conv2D</span>)              │ (<span style=\"color: #00d7ff; text-decoration-color: #00d7ff\">None</span>, <span style=\"color: #00af00; text-decoration-color: #00af00\">16</span>, <span style=\"color: #00af00; text-decoration-color: #00af00\">8</span>, <span style=\"color: #00af00; text-decoration-color: #00af00\">64</span>)      │        <span style=\"color: #00af00; text-decoration-color: #00af00\">16,448</span> │\n",
       "├─────────────────────────────────┼────────────────────────┼───────────────┤\n",
       "│ activation_51 (<span style=\"color: #0087ff; text-decoration-color: #0087ff\">Activation</span>)      │ (<span style=\"color: #00d7ff; text-decoration-color: #00d7ff\">None</span>, <span style=\"color: #00af00; text-decoration-color: #00af00\">16</span>, <span style=\"color: #00af00; text-decoration-color: #00af00\">8</span>, <span style=\"color: #00af00; text-decoration-color: #00af00\">64</span>)      │             <span style=\"color: #00af00; text-decoration-color: #00af00\">0</span> │\n",
       "├─────────────────────────────────┼────────────────────────┼───────────────┤\n",
       "│ flatten_20 (<span style=\"color: #0087ff; text-decoration-color: #0087ff\">Flatten</span>)            │ (<span style=\"color: #00d7ff; text-decoration-color: #00d7ff\">None</span>, <span style=\"color: #00af00; text-decoration-color: #00af00\">8192</span>)           │             <span style=\"color: #00af00; text-decoration-color: #00af00\">0</span> │\n",
       "├─────────────────────────────────┼────────────────────────┼───────────────┤\n",
       "│ dense_40 (<span style=\"color: #0087ff; text-decoration-color: #0087ff\">Dense</span>)                │ (<span style=\"color: #00d7ff; text-decoration-color: #00d7ff\">None</span>, <span style=\"color: #00af00; text-decoration-color: #00af00\">256</span>)            │     <span style=\"color: #00af00; text-decoration-color: #00af00\">2,097,408</span> │\n",
       "├─────────────────────────────────┼────────────────────────┼───────────────┤\n",
       "│ activation_52 (<span style=\"color: #0087ff; text-decoration-color: #0087ff\">Activation</span>)      │ (<span style=\"color: #00d7ff; text-decoration-color: #00d7ff\">None</span>, <span style=\"color: #00af00; text-decoration-color: #00af00\">256</span>)            │             <span style=\"color: #00af00; text-decoration-color: #00af00\">0</span> │\n",
       "├─────────────────────────────────┼────────────────────────┼───────────────┤\n",
       "│ dense_41 (<span style=\"color: #0087ff; text-decoration-color: #0087ff\">Dense</span>)                │ (<span style=\"color: #00d7ff; text-decoration-color: #00d7ff\">None</span>, <span style=\"color: #00af00; text-decoration-color: #00af00\">7</span>)              │         <span style=\"color: #00af00; text-decoration-color: #00af00\">1,799</span> │\n",
       "└─────────────────────────────────┴────────────────────────┴───────────────┘\n",
       "</pre>\n"
      ],
      "text/plain": [
       "┏━━━━━━━━━━━━━━━━━━━━━━━━━━━━━━━━━┳━━━━━━━━━━━━━━━━━━━━━━━━┳━━━━━━━━━━━━━━━┓\n",
       "┃\u001b[1m \u001b[0m\u001b[1mLayer (type)                   \u001b[0m\u001b[1m \u001b[0m┃\u001b[1m \u001b[0m\u001b[1mOutput Shape          \u001b[0m\u001b[1m \u001b[0m┃\u001b[1m \u001b[0m\u001b[1m      Param #\u001b[0m\u001b[1m \u001b[0m┃\n",
       "┡━━━━━━━━━━━━━━━━━━━━━━━━━━━━━━━━━╇━━━━━━━━━━━━━━━━━━━━━━━━╇━━━━━━━━━━━━━━━┩\n",
       "│ conv2d_57 (\u001b[38;5;33mConv2D\u001b[0m)              │ (\u001b[38;5;45mNone\u001b[0m, \u001b[38;5;34m16\u001b[0m, \u001b[38;5;34m8\u001b[0m, \u001b[38;5;34m32\u001b[0m)      │           \u001b[38;5;34m320\u001b[0m │\n",
       "├─────────────────────────────────┼────────────────────────┼───────────────┤\n",
       "│ activation_49 (\u001b[38;5;33mActivation\u001b[0m)      │ (\u001b[38;5;45mNone\u001b[0m, \u001b[38;5;34m16\u001b[0m, \u001b[38;5;34m8\u001b[0m, \u001b[38;5;34m32\u001b[0m)      │             \u001b[38;5;34m0\u001b[0m │\n",
       "├─────────────────────────────────┼────────────────────────┼───────────────┤\n",
       "│ conv2d_58 (\u001b[38;5;33mConv2D\u001b[0m)              │ (\u001b[38;5;45mNone\u001b[0m, \u001b[38;5;34m16\u001b[0m, \u001b[38;5;34m8\u001b[0m, \u001b[38;5;34m64\u001b[0m)      │         \u001b[38;5;34m8,256\u001b[0m │\n",
       "├─────────────────────────────────┼────────────────────────┼───────────────┤\n",
       "│ activation_50 (\u001b[38;5;33mActivation\u001b[0m)      │ (\u001b[38;5;45mNone\u001b[0m, \u001b[38;5;34m16\u001b[0m, \u001b[38;5;34m8\u001b[0m, \u001b[38;5;34m64\u001b[0m)      │             \u001b[38;5;34m0\u001b[0m │\n",
       "├─────────────────────────────────┼────────────────────────┼───────────────┤\n",
       "│ conv2d_59 (\u001b[38;5;33mConv2D\u001b[0m)              │ (\u001b[38;5;45mNone\u001b[0m, \u001b[38;5;34m16\u001b[0m, \u001b[38;5;34m8\u001b[0m, \u001b[38;5;34m64\u001b[0m)      │        \u001b[38;5;34m16,448\u001b[0m │\n",
       "├─────────────────────────────────┼────────────────────────┼───────────────┤\n",
       "│ activation_51 (\u001b[38;5;33mActivation\u001b[0m)      │ (\u001b[38;5;45mNone\u001b[0m, \u001b[38;5;34m16\u001b[0m, \u001b[38;5;34m8\u001b[0m, \u001b[38;5;34m64\u001b[0m)      │             \u001b[38;5;34m0\u001b[0m │\n",
       "├─────────────────────────────────┼────────────────────────┼───────────────┤\n",
       "│ flatten_20 (\u001b[38;5;33mFlatten\u001b[0m)            │ (\u001b[38;5;45mNone\u001b[0m, \u001b[38;5;34m8192\u001b[0m)           │             \u001b[38;5;34m0\u001b[0m │\n",
       "├─────────────────────────────────┼────────────────────────┼───────────────┤\n",
       "│ dense_40 (\u001b[38;5;33mDense\u001b[0m)                │ (\u001b[38;5;45mNone\u001b[0m, \u001b[38;5;34m256\u001b[0m)            │     \u001b[38;5;34m2,097,408\u001b[0m │\n",
       "├─────────────────────────────────┼────────────────────────┼───────────────┤\n",
       "│ activation_52 (\u001b[38;5;33mActivation\u001b[0m)      │ (\u001b[38;5;45mNone\u001b[0m, \u001b[38;5;34m256\u001b[0m)            │             \u001b[38;5;34m0\u001b[0m │\n",
       "├─────────────────────────────────┼────────────────────────┼───────────────┤\n",
       "│ dense_41 (\u001b[38;5;33mDense\u001b[0m)                │ (\u001b[38;5;45mNone\u001b[0m, \u001b[38;5;34m7\u001b[0m)              │         \u001b[38;5;34m1,799\u001b[0m │\n",
       "└─────────────────────────────────┴────────────────────────┴───────────────┘\n"
      ]
     },
     "metadata": {},
     "output_type": "display_data"
    },
    {
     "data": {
      "text/html": [
       "<pre style=\"white-space:pre;overflow-x:auto;line-height:normal;font-family:Menlo,'DejaVu Sans Mono',consolas,'Courier New',monospace\"><span style=\"font-weight: bold\"> Total params: </span><span style=\"color: #00af00; text-decoration-color: #00af00\">2,124,231</span> (8.10 MB)\n",
       "</pre>\n"
      ],
      "text/plain": [
       "\u001b[1m Total params: \u001b[0m\u001b[38;5;34m2,124,231\u001b[0m (8.10 MB)\n"
      ]
     },
     "metadata": {},
     "output_type": "display_data"
    },
    {
     "data": {
      "text/html": [
       "<pre style=\"white-space:pre;overflow-x:auto;line-height:normal;font-family:Menlo,'DejaVu Sans Mono',consolas,'Courier New',monospace\"><span style=\"font-weight: bold\"> Trainable params: </span><span style=\"color: #00af00; text-decoration-color: #00af00\">2,124,231</span> (8.10 MB)\n",
       "</pre>\n"
      ],
      "text/plain": [
       "\u001b[1m Trainable params: \u001b[0m\u001b[38;5;34m2,124,231\u001b[0m (8.10 MB)\n"
      ]
     },
     "metadata": {},
     "output_type": "display_data"
    },
    {
     "data": {
      "text/html": [
       "<pre style=\"white-space:pre;overflow-x:auto;line-height:normal;font-family:Menlo,'DejaVu Sans Mono',consolas,'Courier New',monospace\"><span style=\"font-weight: bold\"> Non-trainable params: </span><span style=\"color: #00af00; text-decoration-color: #00af00\">0</span> (0.00 B)\n",
       "</pre>\n"
      ],
      "text/plain": [
       "\u001b[1m Non-trainable params: \u001b[0m\u001b[38;5;34m0\u001b[0m (0.00 B)\n"
      ]
     },
     "metadata": {},
     "output_type": "display_data"
    }
   ],
   "source": [
    "##############################################################\n",
    "# Hyperparameter                                             #\n",
    "##############################################################\n",
    "batch_size = 512\n",
    "epochs = 50\n",
    "\n",
    "initializer='glorot_uniform'\n",
    "#initializer='glorot_normal'\n",
    "#initializer='he_uniform'\n",
    "#initializer='he_normal'\n",
    "#initializer='lecun_uniform'\n",
    "#initializer='lecun_normal'\n",
    "#initializer='ones'\n",
    "#initializer='zeros'\n",
    "\n",
    "#padding='valid'\n",
    "padding='same'\n",
    "\n",
    "\n",
    "\n",
    "##############################################################\n",
    "# Modell A aus Table 1                                       #\n",
    "##############################################################\n",
    "model = keras.Sequential()\n",
    "model.add(layers.InputLayer(input_shape))\n",
    "\n",
    "model.add(layers.Conv2D(32, (3 ,3), padding = padding, input_shape=input_shape, kernel_initializer=initializer))\n",
    "model.add(layers.Activation('elu'))\n",
    "\n",
    "model.add(layers.Conv2D(64, (2, 2), padding = 'same' ))\n",
    "model.add(layers.Activation('elu'))\n",
    "\n",
    "model.add(layers.Conv2D(64, (2, 2), padding = 'same' ))\n",
    "model.add(layers.Activation('elu'))\n",
    "\n",
    "model.add(layers.Flatten())\n",
    "\n",
    "model.add(layers.Dense(256))\n",
    "model.add(layers.Activation('elu'))\n",
    "\n",
    "model.add(layers.Dense(num_classes, activation = 'softmax'))\n",
    "\n",
    "# Modellparameter ausgeben\n",
    "model.summary()"
   ]
  },
  {
   "cell_type": "markdown",
   "metadata": {},
   "source": [
    "Modell B"
   ]
  },
  {
   "cell_type": "code",
   "execution_count": 71,
   "metadata": {},
   "outputs": [
    {
     "data": {
      "text/html": [
       "<pre style=\"white-space:pre;overflow-x:auto;line-height:normal;font-family:Menlo,'DejaVu Sans Mono',consolas,'Courier New',monospace\"><span style=\"font-weight: bold\">Model: \"sequential_24\"</span>\n",
       "</pre>\n"
      ],
      "text/plain": [
       "\u001b[1mModel: \"sequential_24\"\u001b[0m\n"
      ]
     },
     "metadata": {},
     "output_type": "display_data"
    },
    {
     "data": {
      "text/html": [
       "<pre style=\"white-space:pre;overflow-x:auto;line-height:normal;font-family:Menlo,'DejaVu Sans Mono',consolas,'Courier New',monospace\">┏━━━━━━━━━━━━━━━━━━━━━━━━━━━━━━━━━┳━━━━━━━━━━━━━━━━━━━━━━━━┳━━━━━━━━━━━━━━━┓\n",
       "┃<span style=\"font-weight: bold\"> Layer (type)                    </span>┃<span style=\"font-weight: bold\"> Output Shape           </span>┃<span style=\"font-weight: bold\">       Param # </span>┃\n",
       "┡━━━━━━━━━━━━━━━━━━━━━━━━━━━━━━━━━╇━━━━━━━━━━━━━━━━━━━━━━━━╇━━━━━━━━━━━━━━━┩\n",
       "│ conv2d_70 (<span style=\"color: #0087ff; text-decoration-color: #0087ff\">Conv2D</span>)              │ (<span style=\"color: #00d7ff; text-decoration-color: #00d7ff\">None</span>, <span style=\"color: #00af00; text-decoration-color: #00af00\">16</span>, <span style=\"color: #00af00; text-decoration-color: #00af00\">8</span>, <span style=\"color: #00af00; text-decoration-color: #00af00\">128</span>)     │         <span style=\"color: #00af00; text-decoration-color: #00af00\">1,280</span> │\n",
       "├─────────────────────────────────┼────────────────────────┼───────────────┤\n",
       "│ activation_66 (<span style=\"color: #0087ff; text-decoration-color: #0087ff\">Activation</span>)      │ (<span style=\"color: #00d7ff; text-decoration-color: #00d7ff\">None</span>, <span style=\"color: #00af00; text-decoration-color: #00af00\">16</span>, <span style=\"color: #00af00; text-decoration-color: #00af00\">8</span>, <span style=\"color: #00af00; text-decoration-color: #00af00\">128</span>)     │             <span style=\"color: #00af00; text-decoration-color: #00af00\">0</span> │\n",
       "├─────────────────────────────────┼────────────────────────┼───────────────┤\n",
       "│ dropout_34 (<span style=\"color: #0087ff; text-decoration-color: #0087ff\">Dropout</span>)            │ (<span style=\"color: #00d7ff; text-decoration-color: #00d7ff\">None</span>, <span style=\"color: #00af00; text-decoration-color: #00af00\">16</span>, <span style=\"color: #00af00; text-decoration-color: #00af00\">8</span>, <span style=\"color: #00af00; text-decoration-color: #00af00\">128</span>)     │             <span style=\"color: #00af00; text-decoration-color: #00af00\">0</span> │\n",
       "├─────────────────────────────────┼────────────────────────┼───────────────┤\n",
       "│ max_pooling2d_24 (<span style=\"color: #0087ff; text-decoration-color: #0087ff\">MaxPooling2D</span>) │ (<span style=\"color: #00d7ff; text-decoration-color: #00d7ff\">None</span>, <span style=\"color: #00af00; text-decoration-color: #00af00\">8</span>, <span style=\"color: #00af00; text-decoration-color: #00af00\">4</span>, <span style=\"color: #00af00; text-decoration-color: #00af00\">128</span>)      │             <span style=\"color: #00af00; text-decoration-color: #00af00\">0</span> │\n",
       "├─────────────────────────────────┼────────────────────────┼───────────────┤\n",
       "│ conv2d_71 (<span style=\"color: #0087ff; text-decoration-color: #0087ff\">Conv2D</span>)              │ (<span style=\"color: #00d7ff; text-decoration-color: #00d7ff\">None</span>, <span style=\"color: #00af00; text-decoration-color: #00af00\">4</span>, <span style=\"color: #00af00; text-decoration-color: #00af00\">2</span>, <span style=\"color: #00af00; text-decoration-color: #00af00\">64</span>)       │         <span style=\"color: #00af00; text-decoration-color: #00af00\">8,256</span> │\n",
       "├─────────────────────────────────┼────────────────────────┼───────────────┤\n",
       "│ activation_67 (<span style=\"color: #0087ff; text-decoration-color: #0087ff\">Activation</span>)      │ (<span style=\"color: #00d7ff; text-decoration-color: #00d7ff\">None</span>, <span style=\"color: #00af00; text-decoration-color: #00af00\">4</span>, <span style=\"color: #00af00; text-decoration-color: #00af00\">2</span>, <span style=\"color: #00af00; text-decoration-color: #00af00\">64</span>)       │             <span style=\"color: #00af00; text-decoration-color: #00af00\">0</span> │\n",
       "├─────────────────────────────────┼────────────────────────┼───────────────┤\n",
       "│ dropout_35 (<span style=\"color: #0087ff; text-decoration-color: #0087ff\">Dropout</span>)            │ (<span style=\"color: #00d7ff; text-decoration-color: #00d7ff\">None</span>, <span style=\"color: #00af00; text-decoration-color: #00af00\">4</span>, <span style=\"color: #00af00; text-decoration-color: #00af00\">2</span>, <span style=\"color: #00af00; text-decoration-color: #00af00\">64</span>)       │             <span style=\"color: #00af00; text-decoration-color: #00af00\">0</span> │\n",
       "├─────────────────────────────────┼────────────────────────┼───────────────┤\n",
       "│ max_pooling2d_25 (<span style=\"color: #0087ff; text-decoration-color: #0087ff\">MaxPooling2D</span>) │ (<span style=\"color: #00d7ff; text-decoration-color: #00d7ff\">None</span>, <span style=\"color: #00af00; text-decoration-color: #00af00\">2</span>, <span style=\"color: #00af00; text-decoration-color: #00af00\">1</span>, <span style=\"color: #00af00; text-decoration-color: #00af00\">64</span>)       │             <span style=\"color: #00af00; text-decoration-color: #00af00\">0</span> │\n",
       "├─────────────────────────────────┼────────────────────────┼───────────────┤\n",
       "│ flatten_24 (<span style=\"color: #0087ff; text-decoration-color: #0087ff\">Flatten</span>)            │ (<span style=\"color: #00d7ff; text-decoration-color: #00d7ff\">None</span>, <span style=\"color: #00af00; text-decoration-color: #00af00\">128</span>)            │             <span style=\"color: #00af00; text-decoration-color: #00af00\">0</span> │\n",
       "├─────────────────────────────────┼────────────────────────┼───────────────┤\n",
       "│ dense_48 (<span style=\"color: #0087ff; text-decoration-color: #0087ff\">Dense</span>)                │ (<span style=\"color: #00d7ff; text-decoration-color: #00d7ff\">None</span>, <span style=\"color: #00af00; text-decoration-color: #00af00\">256</span>)            │        <span style=\"color: #00af00; text-decoration-color: #00af00\">33,024</span> │\n",
       "├─────────────────────────────────┼────────────────────────┼───────────────┤\n",
       "│ activation_68 (<span style=\"color: #0087ff; text-decoration-color: #0087ff\">Activation</span>)      │ (<span style=\"color: #00d7ff; text-decoration-color: #00d7ff\">None</span>, <span style=\"color: #00af00; text-decoration-color: #00af00\">256</span>)            │             <span style=\"color: #00af00; text-decoration-color: #00af00\">0</span> │\n",
       "├─────────────────────────────────┼────────────────────────┼───────────────┤\n",
       "│ dense_49 (<span style=\"color: #0087ff; text-decoration-color: #0087ff\">Dense</span>)                │ (<span style=\"color: #00d7ff; text-decoration-color: #00d7ff\">None</span>, <span style=\"color: #00af00; text-decoration-color: #00af00\">7</span>)              │         <span style=\"color: #00af00; text-decoration-color: #00af00\">1,799</span> │\n",
       "└─────────────────────────────────┴────────────────────────┴───────────────┘\n",
       "</pre>\n"
      ],
      "text/plain": [
       "┏━━━━━━━━━━━━━━━━━━━━━━━━━━━━━━━━━┳━━━━━━━━━━━━━━━━━━━━━━━━┳━━━━━━━━━━━━━━━┓\n",
       "┃\u001b[1m \u001b[0m\u001b[1mLayer (type)                   \u001b[0m\u001b[1m \u001b[0m┃\u001b[1m \u001b[0m\u001b[1mOutput Shape          \u001b[0m\u001b[1m \u001b[0m┃\u001b[1m \u001b[0m\u001b[1m      Param #\u001b[0m\u001b[1m \u001b[0m┃\n",
       "┡━━━━━━━━━━━━━━━━━━━━━━━━━━━━━━━━━╇━━━━━━━━━━━━━━━━━━━━━━━━╇━━━━━━━━━━━━━━━┩\n",
       "│ conv2d_70 (\u001b[38;5;33mConv2D\u001b[0m)              │ (\u001b[38;5;45mNone\u001b[0m, \u001b[38;5;34m16\u001b[0m, \u001b[38;5;34m8\u001b[0m, \u001b[38;5;34m128\u001b[0m)     │         \u001b[38;5;34m1,280\u001b[0m │\n",
       "├─────────────────────────────────┼────────────────────────┼───────────────┤\n",
       "│ activation_66 (\u001b[38;5;33mActivation\u001b[0m)      │ (\u001b[38;5;45mNone\u001b[0m, \u001b[38;5;34m16\u001b[0m, \u001b[38;5;34m8\u001b[0m, \u001b[38;5;34m128\u001b[0m)     │             \u001b[38;5;34m0\u001b[0m │\n",
       "├─────────────────────────────────┼────────────────────────┼───────────────┤\n",
       "│ dropout_34 (\u001b[38;5;33mDropout\u001b[0m)            │ (\u001b[38;5;45mNone\u001b[0m, \u001b[38;5;34m16\u001b[0m, \u001b[38;5;34m8\u001b[0m, \u001b[38;5;34m128\u001b[0m)     │             \u001b[38;5;34m0\u001b[0m │\n",
       "├─────────────────────────────────┼────────────────────────┼───────────────┤\n",
       "│ max_pooling2d_24 (\u001b[38;5;33mMaxPooling2D\u001b[0m) │ (\u001b[38;5;45mNone\u001b[0m, \u001b[38;5;34m8\u001b[0m, \u001b[38;5;34m4\u001b[0m, \u001b[38;5;34m128\u001b[0m)      │             \u001b[38;5;34m0\u001b[0m │\n",
       "├─────────────────────────────────┼────────────────────────┼───────────────┤\n",
       "│ conv2d_71 (\u001b[38;5;33mConv2D\u001b[0m)              │ (\u001b[38;5;45mNone\u001b[0m, \u001b[38;5;34m4\u001b[0m, \u001b[38;5;34m2\u001b[0m, \u001b[38;5;34m64\u001b[0m)       │         \u001b[38;5;34m8,256\u001b[0m │\n",
       "├─────────────────────────────────┼────────────────────────┼───────────────┤\n",
       "│ activation_67 (\u001b[38;5;33mActivation\u001b[0m)      │ (\u001b[38;5;45mNone\u001b[0m, \u001b[38;5;34m4\u001b[0m, \u001b[38;5;34m2\u001b[0m, \u001b[38;5;34m64\u001b[0m)       │             \u001b[38;5;34m0\u001b[0m │\n",
       "├─────────────────────────────────┼────────────────────────┼───────────────┤\n",
       "│ dropout_35 (\u001b[38;5;33mDropout\u001b[0m)            │ (\u001b[38;5;45mNone\u001b[0m, \u001b[38;5;34m4\u001b[0m, \u001b[38;5;34m2\u001b[0m, \u001b[38;5;34m64\u001b[0m)       │             \u001b[38;5;34m0\u001b[0m │\n",
       "├─────────────────────────────────┼────────────────────────┼───────────────┤\n",
       "│ max_pooling2d_25 (\u001b[38;5;33mMaxPooling2D\u001b[0m) │ (\u001b[38;5;45mNone\u001b[0m, \u001b[38;5;34m2\u001b[0m, \u001b[38;5;34m1\u001b[0m, \u001b[38;5;34m64\u001b[0m)       │             \u001b[38;5;34m0\u001b[0m │\n",
       "├─────────────────────────────────┼────────────────────────┼───────────────┤\n",
       "│ flatten_24 (\u001b[38;5;33mFlatten\u001b[0m)            │ (\u001b[38;5;45mNone\u001b[0m, \u001b[38;5;34m128\u001b[0m)            │             \u001b[38;5;34m0\u001b[0m │\n",
       "├─────────────────────────────────┼────────────────────────┼───────────────┤\n",
       "│ dense_48 (\u001b[38;5;33mDense\u001b[0m)                │ (\u001b[38;5;45mNone\u001b[0m, \u001b[38;5;34m256\u001b[0m)            │        \u001b[38;5;34m33,024\u001b[0m │\n",
       "├─────────────────────────────────┼────────────────────────┼───────────────┤\n",
       "│ activation_68 (\u001b[38;5;33mActivation\u001b[0m)      │ (\u001b[38;5;45mNone\u001b[0m, \u001b[38;5;34m256\u001b[0m)            │             \u001b[38;5;34m0\u001b[0m │\n",
       "├─────────────────────────────────┼────────────────────────┼───────────────┤\n",
       "│ dense_49 (\u001b[38;5;33mDense\u001b[0m)                │ (\u001b[38;5;45mNone\u001b[0m, \u001b[38;5;34m7\u001b[0m)              │         \u001b[38;5;34m1,799\u001b[0m │\n",
       "└─────────────────────────────────┴────────────────────────┴───────────────┘\n"
      ]
     },
     "metadata": {},
     "output_type": "display_data"
    },
    {
     "data": {
      "text/html": [
       "<pre style=\"white-space:pre;overflow-x:auto;line-height:normal;font-family:Menlo,'DejaVu Sans Mono',consolas,'Courier New',monospace\"><span style=\"font-weight: bold\"> Total params: </span><span style=\"color: #00af00; text-decoration-color: #00af00\">44,359</span> (173.28 KB)\n",
       "</pre>\n"
      ],
      "text/plain": [
       "\u001b[1m Total params: \u001b[0m\u001b[38;5;34m44,359\u001b[0m (173.28 KB)\n"
      ]
     },
     "metadata": {},
     "output_type": "display_data"
    },
    {
     "data": {
      "text/html": [
       "<pre style=\"white-space:pre;overflow-x:auto;line-height:normal;font-family:Menlo,'DejaVu Sans Mono',consolas,'Courier New',monospace\"><span style=\"font-weight: bold\"> Trainable params: </span><span style=\"color: #00af00; text-decoration-color: #00af00\">44,359</span> (173.28 KB)\n",
       "</pre>\n"
      ],
      "text/plain": [
       "\u001b[1m Trainable params: \u001b[0m\u001b[38;5;34m44,359\u001b[0m (173.28 KB)\n"
      ]
     },
     "metadata": {},
     "output_type": "display_data"
    },
    {
     "data": {
      "text/html": [
       "<pre style=\"white-space:pre;overflow-x:auto;line-height:normal;font-family:Menlo,'DejaVu Sans Mono',consolas,'Courier New',monospace\"><span style=\"font-weight: bold\"> Non-trainable params: </span><span style=\"color: #00af00; text-decoration-color: #00af00\">0</span> (0.00 B)\n",
       "</pre>\n"
      ],
      "text/plain": [
       "\u001b[1m Non-trainable params: \u001b[0m\u001b[38;5;34m0\u001b[0m (0.00 B)\n"
      ]
     },
     "metadata": {},
     "output_type": "display_data"
    }
   ],
   "source": [
    "##############################################################\n",
    "# Hyperparameter                                             #\n",
    "##############################################################\n",
    "batch_size = 64\n",
    "epochs = 70\n",
    "\n",
    "#initializer='glorot_uniform'\n",
    "#initializer='glorot_normal'\n",
    "initializer='he_uniform'\n",
    "#initializer='he_normal'\n",
    "#initializer='lecun_uniform'\n",
    "#initializer='lecun_normal'\n",
    "#initializer='ones'\n",
    "#initializer='zeros'\n",
    "\n",
    "#padding='valid'\n",
    "padding='same'\n",
    "\n",
    "##############################################################\n",
    "# Modell B aus Table 1                                       #\n",
    "##############################################################\n",
    "model = keras.Sequential()\n",
    "model.add(layers.InputLayer(input_shape))\n",
    "\n",
    "model.add(layers.Conv2D(128, (3,3), padding = padding, input_shape=input_shape, kernel_initializer=initializer))\n",
    "model.add(layers.Activation('elu'))\n",
    "model.add(layers.Dropout(0.2))\n",
    "model.add(layers.MaxPool2D(2,2))\n",
    "\n",
    "model.add(layers.Conv2D(64, (1,1), padding = padding, strides=2))\n",
    "model.add(layers.Activation('elu'))\n",
    "model.add(layers.Dropout(0.2))\n",
    "model.add(layers.MaxPool2D(2,2))\n",
    "\n",
    "model.add(layers.Flatten())\n",
    "\n",
    "model.add(layers.Dense(256))\n",
    "model.add(layers.Activation('elu'))\n",
    "\n",
    "model.add(layers.Dense(num_classes, activation = 'softmax'))\n",
    "\n",
    "# Modellparameter ausgeben\n",
    "model.summary()"
   ]
  },
  {
   "cell_type": "code",
   "execution_count": 72,
   "metadata": {},
   "outputs": [
    {
     "name": "stdout",
     "output_type": "stream",
     "text": [
      "Epoch 1/70\n",
      "\u001b[1m311/311\u001b[0m \u001b[32m━━━━━━━━━━━━━━━━━━━━\u001b[0m\u001b[37m\u001b[0m \u001b[1m4s\u001b[0m 10ms/step - accuracy: 0.5328 - loss: 1.5855 - val_accuracy: 0.5527 - val_loss: 1.4897 - learning_rate: 0.0010\n",
      "Epoch 2/70\n",
      "\u001b[1m311/311\u001b[0m \u001b[32m━━━━━━━━━━━━━━━━━━━━\u001b[0m\u001b[37m\u001b[0m \u001b[1m3s\u001b[0m 10ms/step - accuracy: 0.5426 - loss: 1.4767 - val_accuracy: 0.5256 - val_loss: 1.5597 - learning_rate: 0.0010\n",
      "Epoch 3/70\n",
      "\u001b[1m311/311\u001b[0m \u001b[32m━━━━━━━━━━━━━━━━━━━━\u001b[0m\u001b[37m\u001b[0m \u001b[1m3s\u001b[0m 9ms/step - accuracy: 0.5471 - loss: 1.4529 - val_accuracy: 0.5539 - val_loss: 1.4327 - learning_rate: 0.0010\n",
      "Epoch 4/70\n",
      "\u001b[1m311/311\u001b[0m \u001b[32m━━━━━━━━━━━━━━━━━━━━\u001b[0m\u001b[37m\u001b[0m \u001b[1m3s\u001b[0m 9ms/step - accuracy: 0.5495 - loss: 1.4402 - val_accuracy: 0.5193 - val_loss: 1.5392 - learning_rate: 0.0010\n",
      "Epoch 5/70\n",
      "\u001b[1m311/311\u001b[0m \u001b[32m━━━━━━━━━━━━━━━━━━━━\u001b[0m\u001b[37m\u001b[0m \u001b[1m3s\u001b[0m 10ms/step - accuracy: 0.5474 - loss: 1.4411 - val_accuracy: 0.5074 - val_loss: 1.5380 - learning_rate: 0.0010\n",
      "Epoch 6/70\n",
      "\u001b[1m311/311\u001b[0m \u001b[32m━━━━━━━━━━━━━━━━━━━━\u001b[0m\u001b[37m\u001b[0m \u001b[1m3s\u001b[0m 10ms/step - accuracy: 0.5438 - loss: 1.4397 - val_accuracy: 0.5157 - val_loss: 1.5055 - learning_rate: 0.0010\n",
      "Epoch 7/70\n",
      "\u001b[1m311/311\u001b[0m \u001b[32m━━━━━━━━━━━━━━━━━━━━\u001b[0m\u001b[37m\u001b[0m \u001b[1m3s\u001b[0m 10ms/step - accuracy: 0.5484 - loss: 1.4322 - val_accuracy: 0.5145 - val_loss: 1.5117 - learning_rate: 0.0010\n",
      "Epoch 8/70\n",
      "\u001b[1m311/311\u001b[0m \u001b[32m━━━━━━━━━━━━━━━━━━━━\u001b[0m\u001b[37m\u001b[0m \u001b[1m3s\u001b[0m 10ms/step - accuracy: 0.5545 - loss: 1.4169 - val_accuracy: 0.5245 - val_loss: 1.5020 - learning_rate: 0.0010\n",
      "Epoch 9/70\n",
      "\u001b[1m311/311\u001b[0m \u001b[32m━━━━━━━━━━━━━━━━━━━━\u001b[0m\u001b[37m\u001b[0m \u001b[1m3s\u001b[0m 10ms/step - accuracy: 0.5543 - loss: 1.4144 - val_accuracy: 0.5354 - val_loss: 1.4500 - learning_rate: 0.0010\n",
      "Epoch 10/70\n",
      "\u001b[1m311/311\u001b[0m \u001b[32m━━━━━━━━━━━━━━━━━━━━\u001b[0m\u001b[37m\u001b[0m \u001b[1m3s\u001b[0m 10ms/step - accuracy: 0.5541 - loss: 1.4156 - val_accuracy: 0.5493 - val_loss: 1.4200 - learning_rate: 0.0010\n",
      "Epoch 11/70\n",
      "\u001b[1m311/311\u001b[0m \u001b[32m━━━━━━━━━━━━━━━━━━━━\u001b[0m\u001b[37m\u001b[0m \u001b[1m3s\u001b[0m 10ms/step - accuracy: 0.5479 - loss: 1.4180 - val_accuracy: 0.5479 - val_loss: 1.4295 - learning_rate: 0.0010\n",
      "Epoch 12/70\n",
      "\u001b[1m311/311\u001b[0m \u001b[32m━━━━━━━━━━━━━━━━━━━━\u001b[0m\u001b[37m\u001b[0m \u001b[1m3s\u001b[0m 10ms/step - accuracy: 0.5558 - loss: 1.3977 - val_accuracy: 0.5523 - val_loss: 1.4147 - learning_rate: 0.0010\n",
      "Epoch 13/70\n",
      "\u001b[1m203/311\u001b[0m \u001b[32m━━━━━━━━━━━━━\u001b[0m\u001b[37m━━━━━━━\u001b[0m \u001b[1m1s\u001b[0m 9ms/step - accuracy: 0.5587 - loss: 1.3947"
     ]
    },
    {
     "ename": "KeyboardInterrupt",
     "evalue": "",
     "output_type": "error",
     "traceback": [
      "\u001b[1;31m---------------------------------------------------------------------------\u001b[0m",
      "\u001b[1;31mKeyboardInterrupt\u001b[0m                         Traceback (most recent call last)",
      "Cell \u001b[1;32mIn[72], line 10\u001b[0m\n\u001b[0;32m      2\u001b[0m model\u001b[38;5;241m.\u001b[39mcompile(\n\u001b[0;32m      3\u001b[0m     optimizer\u001b[38;5;241m=\u001b[39m\u001b[38;5;124m'\u001b[39m\u001b[38;5;124madam\u001b[39m\u001b[38;5;124m'\u001b[39m,\n\u001b[0;32m      4\u001b[0m     loss \u001b[38;5;241m=\u001b[39m \u001b[38;5;124m'\u001b[39m\u001b[38;5;124mcategorical_crossentropy\u001b[39m\u001b[38;5;124m'\u001b[39m,\n\u001b[0;32m      5\u001b[0m     metrics\u001b[38;5;241m=\u001b[39m[\u001b[38;5;124m'\u001b[39m\u001b[38;5;124maccuracy\u001b[39m\u001b[38;5;124m'\u001b[39m]\n\u001b[0;32m      6\u001b[0m )\n\u001b[0;32m      8\u001b[0m \u001b[38;5;66;03m# Parameter und Daten an Modell übergeben\u001b[39;00m\n\u001b[0;32m      9\u001b[0m \u001b[38;5;66;03m# Training durchführen\u001b[39;00m\n\u001b[1;32m---> 10\u001b[0m history \u001b[38;5;241m=\u001b[39m \u001b[43mmodel\u001b[49m\u001b[38;5;241;43m.\u001b[39;49m\u001b[43mfit\u001b[49m\u001b[43m(\u001b[49m\n\u001b[0;32m     11\u001b[0m \u001b[43m    \u001b[49m\u001b[43mX_train\u001b[49m\u001b[43m,\u001b[49m\n\u001b[0;32m     12\u001b[0m \u001b[43m    \u001b[49m\u001b[43my_train\u001b[49m\u001b[43m,\u001b[49m\n\u001b[0;32m     13\u001b[0m \u001b[43m    \u001b[49m\u001b[43mvalidation_split\u001b[49m\u001b[38;5;241;43m=\u001b[39;49m\u001b[38;5;241;43m0.2\u001b[39;49m\u001b[43m,\u001b[49m\n\u001b[0;32m     14\u001b[0m \u001b[43m    \u001b[49m\u001b[43mbatch_size\u001b[49m\u001b[38;5;241;43m=\u001b[39;49m\u001b[43mbatch_size\u001b[49m\u001b[43m,\u001b[49m\u001b[43m    \u001b[49m\n\u001b[0;32m     15\u001b[0m \u001b[43m    \u001b[49m\u001b[43mepochs\u001b[49m\u001b[38;5;241;43m=\u001b[39;49m\u001b[43mepochs\u001b[49m\u001b[43m,\u001b[49m\n\u001b[0;32m     16\u001b[0m \u001b[43m    \u001b[49m\u001b[43mcallbacks\u001b[49m\u001b[38;5;241;43m=\u001b[39;49m\u001b[43m[\u001b[49m\n\u001b[0;32m     17\u001b[0m \u001b[43m        \u001b[49m\u001b[43mtf\u001b[49m\u001b[38;5;241;43m.\u001b[39;49m\u001b[43mkeras\u001b[49m\u001b[38;5;241;43m.\u001b[39;49m\u001b[43mcallbacks\u001b[49m\u001b[38;5;241;43m.\u001b[39;49m\u001b[43mReduceLROnPlateau\u001b[49m\u001b[43m(\u001b[49m\u001b[43m)\u001b[49m\n\u001b[0;32m     18\u001b[0m \u001b[43m    \u001b[49m\u001b[43m]\u001b[49m\n\u001b[0;32m     19\u001b[0m \u001b[43m)\u001b[49m\n",
      "File \u001b[1;32mc:\\Users\\Gizmo\\AppData\\Local\\Programs\\Python\\Python312\\Lib\\site-packages\\keras\\src\\utils\\traceback_utils.py:117\u001b[0m, in \u001b[0;36mfilter_traceback.<locals>.error_handler\u001b[1;34m(*args, **kwargs)\u001b[0m\n\u001b[0;32m    115\u001b[0m filtered_tb \u001b[38;5;241m=\u001b[39m \u001b[38;5;28;01mNone\u001b[39;00m\n\u001b[0;32m    116\u001b[0m \u001b[38;5;28;01mtry\u001b[39;00m:\n\u001b[1;32m--> 117\u001b[0m     \u001b[38;5;28;01mreturn\u001b[39;00m \u001b[43mfn\u001b[49m\u001b[43m(\u001b[49m\u001b[38;5;241;43m*\u001b[39;49m\u001b[43margs\u001b[49m\u001b[43m,\u001b[49m\u001b[43m \u001b[49m\u001b[38;5;241;43m*\u001b[39;49m\u001b[38;5;241;43m*\u001b[39;49m\u001b[43mkwargs\u001b[49m\u001b[43m)\u001b[49m\n\u001b[0;32m    118\u001b[0m \u001b[38;5;28;01mexcept\u001b[39;00m \u001b[38;5;167;01mException\u001b[39;00m \u001b[38;5;28;01mas\u001b[39;00m e:\n\u001b[0;32m    119\u001b[0m     filtered_tb \u001b[38;5;241m=\u001b[39m _process_traceback_frames(e\u001b[38;5;241m.\u001b[39m__traceback__)\n",
      "File \u001b[1;32mc:\\Users\\Gizmo\\AppData\\Local\\Programs\\Python\\Python312\\Lib\\site-packages\\keras\\src\\backend\\tensorflow\\trainer.py:318\u001b[0m, in \u001b[0;36mTensorFlowTrainer.fit\u001b[1;34m(self, x, y, batch_size, epochs, verbose, callbacks, validation_split, validation_data, shuffle, class_weight, sample_weight, initial_epoch, steps_per_epoch, validation_steps, validation_batch_size, validation_freq)\u001b[0m\n\u001b[0;32m    316\u001b[0m \u001b[38;5;28;01mfor\u001b[39;00m step, iterator \u001b[38;5;129;01min\u001b[39;00m epoch_iterator\u001b[38;5;241m.\u001b[39menumerate_epoch():\n\u001b[0;32m    317\u001b[0m     callbacks\u001b[38;5;241m.\u001b[39mon_train_batch_begin(step)\n\u001b[1;32m--> 318\u001b[0m     logs \u001b[38;5;241m=\u001b[39m \u001b[38;5;28;43mself\u001b[39;49m\u001b[38;5;241;43m.\u001b[39;49m\u001b[43mtrain_function\u001b[49m\u001b[43m(\u001b[49m\u001b[43miterator\u001b[49m\u001b[43m)\u001b[49m\n\u001b[0;32m    319\u001b[0m     logs \u001b[38;5;241m=\u001b[39m \u001b[38;5;28mself\u001b[39m\u001b[38;5;241m.\u001b[39m_pythonify_logs(logs)\n\u001b[0;32m    320\u001b[0m     callbacks\u001b[38;5;241m.\u001b[39mon_train_batch_end(step, logs)\n",
      "File \u001b[1;32mc:\\Users\\Gizmo\\AppData\\Local\\Programs\\Python\\Python312\\Lib\\site-packages\\tensorflow\\python\\util\\traceback_utils.py:150\u001b[0m, in \u001b[0;36mfilter_traceback.<locals>.error_handler\u001b[1;34m(*args, **kwargs)\u001b[0m\n\u001b[0;32m    148\u001b[0m filtered_tb \u001b[38;5;241m=\u001b[39m \u001b[38;5;28;01mNone\u001b[39;00m\n\u001b[0;32m    149\u001b[0m \u001b[38;5;28;01mtry\u001b[39;00m:\n\u001b[1;32m--> 150\u001b[0m   \u001b[38;5;28;01mreturn\u001b[39;00m \u001b[43mfn\u001b[49m\u001b[43m(\u001b[49m\u001b[38;5;241;43m*\u001b[39;49m\u001b[43margs\u001b[49m\u001b[43m,\u001b[49m\u001b[43m \u001b[49m\u001b[38;5;241;43m*\u001b[39;49m\u001b[38;5;241;43m*\u001b[39;49m\u001b[43mkwargs\u001b[49m\u001b[43m)\u001b[49m\n\u001b[0;32m    151\u001b[0m \u001b[38;5;28;01mexcept\u001b[39;00m \u001b[38;5;167;01mException\u001b[39;00m \u001b[38;5;28;01mas\u001b[39;00m e:\n\u001b[0;32m    152\u001b[0m   filtered_tb \u001b[38;5;241m=\u001b[39m _process_traceback_frames(e\u001b[38;5;241m.\u001b[39m__traceback__)\n",
      "File \u001b[1;32mc:\\Users\\Gizmo\\AppData\\Local\\Programs\\Python\\Python312\\Lib\\site-packages\\tensorflow\\python\\eager\\polymorphic_function\\polymorphic_function.py:833\u001b[0m, in \u001b[0;36mFunction.__call__\u001b[1;34m(self, *args, **kwds)\u001b[0m\n\u001b[0;32m    830\u001b[0m compiler \u001b[38;5;241m=\u001b[39m \u001b[38;5;124m\"\u001b[39m\u001b[38;5;124mxla\u001b[39m\u001b[38;5;124m\"\u001b[39m \u001b[38;5;28;01mif\u001b[39;00m \u001b[38;5;28mself\u001b[39m\u001b[38;5;241m.\u001b[39m_jit_compile \u001b[38;5;28;01melse\u001b[39;00m \u001b[38;5;124m\"\u001b[39m\u001b[38;5;124mnonXla\u001b[39m\u001b[38;5;124m\"\u001b[39m\n\u001b[0;32m    832\u001b[0m \u001b[38;5;28;01mwith\u001b[39;00m OptionalXlaContext(\u001b[38;5;28mself\u001b[39m\u001b[38;5;241m.\u001b[39m_jit_compile):\n\u001b[1;32m--> 833\u001b[0m   result \u001b[38;5;241m=\u001b[39m \u001b[38;5;28;43mself\u001b[39;49m\u001b[38;5;241;43m.\u001b[39;49m\u001b[43m_call\u001b[49m\u001b[43m(\u001b[49m\u001b[38;5;241;43m*\u001b[39;49m\u001b[43margs\u001b[49m\u001b[43m,\u001b[49m\u001b[43m \u001b[49m\u001b[38;5;241;43m*\u001b[39;49m\u001b[38;5;241;43m*\u001b[39;49m\u001b[43mkwds\u001b[49m\u001b[43m)\u001b[49m\n\u001b[0;32m    835\u001b[0m new_tracing_count \u001b[38;5;241m=\u001b[39m \u001b[38;5;28mself\u001b[39m\u001b[38;5;241m.\u001b[39mexperimental_get_tracing_count()\n\u001b[0;32m    836\u001b[0m without_tracing \u001b[38;5;241m=\u001b[39m (tracing_count \u001b[38;5;241m==\u001b[39m new_tracing_count)\n",
      "File \u001b[1;32mc:\\Users\\Gizmo\\AppData\\Local\\Programs\\Python\\Python312\\Lib\\site-packages\\tensorflow\\python\\eager\\polymorphic_function\\polymorphic_function.py:878\u001b[0m, in \u001b[0;36mFunction._call\u001b[1;34m(self, *args, **kwds)\u001b[0m\n\u001b[0;32m    875\u001b[0m \u001b[38;5;28mself\u001b[39m\u001b[38;5;241m.\u001b[39m_lock\u001b[38;5;241m.\u001b[39mrelease()\n\u001b[0;32m    876\u001b[0m \u001b[38;5;66;03m# In this case we have not created variables on the first call. So we can\u001b[39;00m\n\u001b[0;32m    877\u001b[0m \u001b[38;5;66;03m# run the first trace but we should fail if variables are created.\u001b[39;00m\n\u001b[1;32m--> 878\u001b[0m results \u001b[38;5;241m=\u001b[39m \u001b[43mtracing_compilation\u001b[49m\u001b[38;5;241;43m.\u001b[39;49m\u001b[43mcall_function\u001b[49m\u001b[43m(\u001b[49m\n\u001b[0;32m    879\u001b[0m \u001b[43m    \u001b[49m\u001b[43margs\u001b[49m\u001b[43m,\u001b[49m\u001b[43m \u001b[49m\u001b[43mkwds\u001b[49m\u001b[43m,\u001b[49m\u001b[43m \u001b[49m\u001b[38;5;28;43mself\u001b[39;49m\u001b[38;5;241;43m.\u001b[39;49m\u001b[43m_variable_creation_config\u001b[49m\n\u001b[0;32m    880\u001b[0m \u001b[43m\u001b[49m\u001b[43m)\u001b[49m\n\u001b[0;32m    881\u001b[0m \u001b[38;5;28;01mif\u001b[39;00m \u001b[38;5;28mself\u001b[39m\u001b[38;5;241m.\u001b[39m_created_variables:\n\u001b[0;32m    882\u001b[0m   \u001b[38;5;28;01mraise\u001b[39;00m \u001b[38;5;167;01mValueError\u001b[39;00m(\u001b[38;5;124m\"\u001b[39m\u001b[38;5;124mCreating variables on a non-first call to a function\u001b[39m\u001b[38;5;124m\"\u001b[39m\n\u001b[0;32m    883\u001b[0m                    \u001b[38;5;124m\"\u001b[39m\u001b[38;5;124m decorated with tf.function.\u001b[39m\u001b[38;5;124m\"\u001b[39m)\n",
      "File \u001b[1;32mc:\\Users\\Gizmo\\AppData\\Local\\Programs\\Python\\Python312\\Lib\\site-packages\\tensorflow\\python\\eager\\polymorphic_function\\tracing_compilation.py:139\u001b[0m, in \u001b[0;36mcall_function\u001b[1;34m(args, kwargs, tracing_options)\u001b[0m\n\u001b[0;32m    137\u001b[0m bound_args \u001b[38;5;241m=\u001b[39m function\u001b[38;5;241m.\u001b[39mfunction_type\u001b[38;5;241m.\u001b[39mbind(\u001b[38;5;241m*\u001b[39margs, \u001b[38;5;241m*\u001b[39m\u001b[38;5;241m*\u001b[39mkwargs)\n\u001b[0;32m    138\u001b[0m flat_inputs \u001b[38;5;241m=\u001b[39m function\u001b[38;5;241m.\u001b[39mfunction_type\u001b[38;5;241m.\u001b[39munpack_inputs(bound_args)\n\u001b[1;32m--> 139\u001b[0m \u001b[38;5;28;01mreturn\u001b[39;00m \u001b[43mfunction\u001b[49m\u001b[38;5;241;43m.\u001b[39;49m\u001b[43m_call_flat\u001b[49m\u001b[43m(\u001b[49m\u001b[43m  \u001b[49m\u001b[38;5;66;43;03m# pylint: disable=protected-access\u001b[39;49;00m\n\u001b[0;32m    140\u001b[0m \u001b[43m    \u001b[49m\u001b[43mflat_inputs\u001b[49m\u001b[43m,\u001b[49m\u001b[43m \u001b[49m\u001b[43mcaptured_inputs\u001b[49m\u001b[38;5;241;43m=\u001b[39;49m\u001b[43mfunction\u001b[49m\u001b[38;5;241;43m.\u001b[39;49m\u001b[43mcaptured_inputs\u001b[49m\n\u001b[0;32m    141\u001b[0m \u001b[43m\u001b[49m\u001b[43m)\u001b[49m\n",
      "File \u001b[1;32mc:\\Users\\Gizmo\\AppData\\Local\\Programs\\Python\\Python312\\Lib\\site-packages\\tensorflow\\python\\eager\\polymorphic_function\\concrete_function.py:1322\u001b[0m, in \u001b[0;36mConcreteFunction._call_flat\u001b[1;34m(self, tensor_inputs, captured_inputs)\u001b[0m\n\u001b[0;32m   1318\u001b[0m possible_gradient_type \u001b[38;5;241m=\u001b[39m gradients_util\u001b[38;5;241m.\u001b[39mPossibleTapeGradientTypes(args)\n\u001b[0;32m   1319\u001b[0m \u001b[38;5;28;01mif\u001b[39;00m (possible_gradient_type \u001b[38;5;241m==\u001b[39m gradients_util\u001b[38;5;241m.\u001b[39mPOSSIBLE_GRADIENT_TYPES_NONE\n\u001b[0;32m   1320\u001b[0m     \u001b[38;5;129;01mand\u001b[39;00m executing_eagerly):\n\u001b[0;32m   1321\u001b[0m   \u001b[38;5;66;03m# No tape is watching; skip to running the function.\u001b[39;00m\n\u001b[1;32m-> 1322\u001b[0m   \u001b[38;5;28;01mreturn\u001b[39;00m \u001b[38;5;28;43mself\u001b[39;49m\u001b[38;5;241;43m.\u001b[39;49m\u001b[43m_inference_function\u001b[49m\u001b[38;5;241;43m.\u001b[39;49m\u001b[43mcall_preflattened\u001b[49m\u001b[43m(\u001b[49m\u001b[43margs\u001b[49m\u001b[43m)\u001b[49m\n\u001b[0;32m   1323\u001b[0m forward_backward \u001b[38;5;241m=\u001b[39m \u001b[38;5;28mself\u001b[39m\u001b[38;5;241m.\u001b[39m_select_forward_and_backward_functions(\n\u001b[0;32m   1324\u001b[0m     args,\n\u001b[0;32m   1325\u001b[0m     possible_gradient_type,\n\u001b[0;32m   1326\u001b[0m     executing_eagerly)\n\u001b[0;32m   1327\u001b[0m forward_function, args_with_tangents \u001b[38;5;241m=\u001b[39m forward_backward\u001b[38;5;241m.\u001b[39mforward()\n",
      "File \u001b[1;32mc:\\Users\\Gizmo\\AppData\\Local\\Programs\\Python\\Python312\\Lib\\site-packages\\tensorflow\\python\\eager\\polymorphic_function\\atomic_function.py:216\u001b[0m, in \u001b[0;36mAtomicFunction.call_preflattened\u001b[1;34m(self, args)\u001b[0m\n\u001b[0;32m    214\u001b[0m \u001b[38;5;28;01mdef\u001b[39;00m \u001b[38;5;21mcall_preflattened\u001b[39m(\u001b[38;5;28mself\u001b[39m, args: Sequence[core\u001b[38;5;241m.\u001b[39mTensor]) \u001b[38;5;241m-\u001b[39m\u001b[38;5;241m>\u001b[39m Any:\n\u001b[0;32m    215\u001b[0m \u001b[38;5;250m  \u001b[39m\u001b[38;5;124;03m\"\"\"Calls with flattened tensor inputs and returns the structured output.\"\"\"\u001b[39;00m\n\u001b[1;32m--> 216\u001b[0m   flat_outputs \u001b[38;5;241m=\u001b[39m \u001b[38;5;28;43mself\u001b[39;49m\u001b[38;5;241;43m.\u001b[39;49m\u001b[43mcall_flat\u001b[49m\u001b[43m(\u001b[49m\u001b[38;5;241;43m*\u001b[39;49m\u001b[43margs\u001b[49m\u001b[43m)\u001b[49m\n\u001b[0;32m    217\u001b[0m   \u001b[38;5;28;01mreturn\u001b[39;00m \u001b[38;5;28mself\u001b[39m\u001b[38;5;241m.\u001b[39mfunction_type\u001b[38;5;241m.\u001b[39mpack_output(flat_outputs)\n",
      "File \u001b[1;32mc:\\Users\\Gizmo\\AppData\\Local\\Programs\\Python\\Python312\\Lib\\site-packages\\tensorflow\\python\\eager\\polymorphic_function\\atomic_function.py:251\u001b[0m, in \u001b[0;36mAtomicFunction.call_flat\u001b[1;34m(self, *args)\u001b[0m\n\u001b[0;32m    249\u001b[0m \u001b[38;5;28;01mwith\u001b[39;00m record\u001b[38;5;241m.\u001b[39mstop_recording():\n\u001b[0;32m    250\u001b[0m   \u001b[38;5;28;01mif\u001b[39;00m \u001b[38;5;28mself\u001b[39m\u001b[38;5;241m.\u001b[39m_bound_context\u001b[38;5;241m.\u001b[39mexecuting_eagerly():\n\u001b[1;32m--> 251\u001b[0m     outputs \u001b[38;5;241m=\u001b[39m \u001b[38;5;28;43mself\u001b[39;49m\u001b[38;5;241;43m.\u001b[39;49m\u001b[43m_bound_context\u001b[49m\u001b[38;5;241;43m.\u001b[39;49m\u001b[43mcall_function\u001b[49m\u001b[43m(\u001b[49m\n\u001b[0;32m    252\u001b[0m \u001b[43m        \u001b[49m\u001b[38;5;28;43mself\u001b[39;49m\u001b[38;5;241;43m.\u001b[39;49m\u001b[43mname\u001b[49m\u001b[43m,\u001b[49m\n\u001b[0;32m    253\u001b[0m \u001b[43m        \u001b[49m\u001b[38;5;28;43mlist\u001b[39;49m\u001b[43m(\u001b[49m\u001b[43margs\u001b[49m\u001b[43m)\u001b[49m\u001b[43m,\u001b[49m\n\u001b[0;32m    254\u001b[0m \u001b[43m        \u001b[49m\u001b[38;5;28;43mlen\u001b[39;49m\u001b[43m(\u001b[49m\u001b[38;5;28;43mself\u001b[39;49m\u001b[38;5;241;43m.\u001b[39;49m\u001b[43mfunction_type\u001b[49m\u001b[38;5;241;43m.\u001b[39;49m\u001b[43mflat_outputs\u001b[49m\u001b[43m)\u001b[49m\u001b[43m,\u001b[49m\n\u001b[0;32m    255\u001b[0m \u001b[43m    \u001b[49m\u001b[43m)\u001b[49m\n\u001b[0;32m    256\u001b[0m   \u001b[38;5;28;01melse\u001b[39;00m:\n\u001b[0;32m    257\u001b[0m     outputs \u001b[38;5;241m=\u001b[39m make_call_op_in_graph(\n\u001b[0;32m    258\u001b[0m         \u001b[38;5;28mself\u001b[39m,\n\u001b[0;32m    259\u001b[0m         \u001b[38;5;28mlist\u001b[39m(args),\n\u001b[0;32m    260\u001b[0m         \u001b[38;5;28mself\u001b[39m\u001b[38;5;241m.\u001b[39m_bound_context\u001b[38;5;241m.\u001b[39mfunction_call_options\u001b[38;5;241m.\u001b[39mas_attrs(),\n\u001b[0;32m    261\u001b[0m     )\n",
      "File \u001b[1;32mc:\\Users\\Gizmo\\AppData\\Local\\Programs\\Python\\Python312\\Lib\\site-packages\\tensorflow\\python\\eager\\context.py:1552\u001b[0m, in \u001b[0;36mContext.call_function\u001b[1;34m(self, name, tensor_inputs, num_outputs)\u001b[0m\n\u001b[0;32m   1550\u001b[0m cancellation_context \u001b[38;5;241m=\u001b[39m cancellation\u001b[38;5;241m.\u001b[39mcontext()\n\u001b[0;32m   1551\u001b[0m \u001b[38;5;28;01mif\u001b[39;00m cancellation_context \u001b[38;5;129;01mis\u001b[39;00m \u001b[38;5;28;01mNone\u001b[39;00m:\n\u001b[1;32m-> 1552\u001b[0m   outputs \u001b[38;5;241m=\u001b[39m \u001b[43mexecute\u001b[49m\u001b[38;5;241;43m.\u001b[39;49m\u001b[43mexecute\u001b[49m\u001b[43m(\u001b[49m\n\u001b[0;32m   1553\u001b[0m \u001b[43m      \u001b[49m\u001b[43mname\u001b[49m\u001b[38;5;241;43m.\u001b[39;49m\u001b[43mdecode\u001b[49m\u001b[43m(\u001b[49m\u001b[38;5;124;43m\"\u001b[39;49m\u001b[38;5;124;43mutf-8\u001b[39;49m\u001b[38;5;124;43m\"\u001b[39;49m\u001b[43m)\u001b[49m\u001b[43m,\u001b[49m\n\u001b[0;32m   1554\u001b[0m \u001b[43m      \u001b[49m\u001b[43mnum_outputs\u001b[49m\u001b[38;5;241;43m=\u001b[39;49m\u001b[43mnum_outputs\u001b[49m\u001b[43m,\u001b[49m\n\u001b[0;32m   1555\u001b[0m \u001b[43m      \u001b[49m\u001b[43minputs\u001b[49m\u001b[38;5;241;43m=\u001b[39;49m\u001b[43mtensor_inputs\u001b[49m\u001b[43m,\u001b[49m\n\u001b[0;32m   1556\u001b[0m \u001b[43m      \u001b[49m\u001b[43mattrs\u001b[49m\u001b[38;5;241;43m=\u001b[39;49m\u001b[43mattrs\u001b[49m\u001b[43m,\u001b[49m\n\u001b[0;32m   1557\u001b[0m \u001b[43m      \u001b[49m\u001b[43mctx\u001b[49m\u001b[38;5;241;43m=\u001b[39;49m\u001b[38;5;28;43mself\u001b[39;49m\u001b[43m,\u001b[49m\n\u001b[0;32m   1558\u001b[0m \u001b[43m  \u001b[49m\u001b[43m)\u001b[49m\n\u001b[0;32m   1559\u001b[0m \u001b[38;5;28;01melse\u001b[39;00m:\n\u001b[0;32m   1560\u001b[0m   outputs \u001b[38;5;241m=\u001b[39m execute\u001b[38;5;241m.\u001b[39mexecute_with_cancellation(\n\u001b[0;32m   1561\u001b[0m       name\u001b[38;5;241m.\u001b[39mdecode(\u001b[38;5;124m\"\u001b[39m\u001b[38;5;124mutf-8\u001b[39m\u001b[38;5;124m\"\u001b[39m),\n\u001b[0;32m   1562\u001b[0m       num_outputs\u001b[38;5;241m=\u001b[39mnum_outputs,\n\u001b[1;32m   (...)\u001b[0m\n\u001b[0;32m   1566\u001b[0m       cancellation_manager\u001b[38;5;241m=\u001b[39mcancellation_context,\n\u001b[0;32m   1567\u001b[0m   )\n",
      "File \u001b[1;32mc:\\Users\\Gizmo\\AppData\\Local\\Programs\\Python\\Python312\\Lib\\site-packages\\tensorflow\\python\\eager\\execute.py:53\u001b[0m, in \u001b[0;36mquick_execute\u001b[1;34m(op_name, num_outputs, inputs, attrs, ctx, name)\u001b[0m\n\u001b[0;32m     51\u001b[0m \u001b[38;5;28;01mtry\u001b[39;00m:\n\u001b[0;32m     52\u001b[0m   ctx\u001b[38;5;241m.\u001b[39mensure_initialized()\n\u001b[1;32m---> 53\u001b[0m   tensors \u001b[38;5;241m=\u001b[39m \u001b[43mpywrap_tfe\u001b[49m\u001b[38;5;241;43m.\u001b[39;49m\u001b[43mTFE_Py_Execute\u001b[49m\u001b[43m(\u001b[49m\u001b[43mctx\u001b[49m\u001b[38;5;241;43m.\u001b[39;49m\u001b[43m_handle\u001b[49m\u001b[43m,\u001b[49m\u001b[43m \u001b[49m\u001b[43mdevice_name\u001b[49m\u001b[43m,\u001b[49m\u001b[43m \u001b[49m\u001b[43mop_name\u001b[49m\u001b[43m,\u001b[49m\n\u001b[0;32m     54\u001b[0m \u001b[43m                                      \u001b[49m\u001b[43minputs\u001b[49m\u001b[43m,\u001b[49m\u001b[43m \u001b[49m\u001b[43mattrs\u001b[49m\u001b[43m,\u001b[49m\u001b[43m \u001b[49m\u001b[43mnum_outputs\u001b[49m\u001b[43m)\u001b[49m\n\u001b[0;32m     55\u001b[0m \u001b[38;5;28;01mexcept\u001b[39;00m core\u001b[38;5;241m.\u001b[39m_NotOkStatusException \u001b[38;5;28;01mas\u001b[39;00m e:\n\u001b[0;32m     56\u001b[0m   \u001b[38;5;28;01mif\u001b[39;00m name \u001b[38;5;129;01mis\u001b[39;00m \u001b[38;5;129;01mnot\u001b[39;00m \u001b[38;5;28;01mNone\u001b[39;00m:\n",
      "\u001b[1;31mKeyboardInterrupt\u001b[0m: "
     ]
    }
   ],
   "source": [
    "# Modell kompilieren\n",
    "model.compile(\n",
    "    optimizer='adam',\n",
    "    loss = 'categorical_crossentropy',\n",
    "    metrics=['accuracy']\n",
    ")\n",
    "\n",
    "# Parameter und Daten an Modell übergeben\n",
    "# Training durchführen\n",
    "history = model.fit(\n",
    "    X_train,\n",
    "    y_train,\n",
    "    validation_split=0.2,\n",
    "    batch_size=batch_size,    \n",
    "    epochs=epochs,\n",
    "    callbacks=[\n",
    "        tf.keras.callbacks.ReduceLROnPlateau()\n",
    "    ]\n",
    ")"
   ]
  },
  {
   "cell_type": "markdown",
   "metadata": {},
   "source": [
    "### ▶️ Ausgabe der Funktionen für Verlust und Genauigkeit"
   ]
  },
  {
   "cell_type": "code",
   "execution_count": 26,
   "metadata": {
    "id": "hKYDX19s1oH3"
   },
   "outputs": [
    {
     "data": {
      "image/png": "[encoded data removed]",
      "text/plain": [
       "<Figure size 1600x1000 with 1 Axes>"
      ]
     },
     "metadata": {},
     "output_type": "display_data"
    }
   ],
   "source": [
    "plt.figure(figsize=(16, 10))\n",
    "\n",
    "plt.plot(range(epochs), history.history['loss'], label=\"Trainingsverlust\")\n",
    "plt.plot(range(epochs), history.history['val_loss'], label=\"Validationsverlust\")\n",
    "\n",
    "plt.xlabel(\"Epochen\")\n",
    "plt.ylabel(\"Verlust\")\n",
    "plt.legend()\n",
    "plt.title(\"Verlauf der Verlustfunktion\")\n",
    "\n",
    "plt.show()"
   ]
  },
  {
   "cell_type": "code",
   "execution_count": 27,
   "metadata": {},
   "outputs": [
    {
     "data": {
      "image/png": "[encoded data removed]",
      "text/plain": [
       "<Figure size 1600x1000 with 1 Axes>"
      ]
     },
     "metadata": {},
     "output_type": "display_data"
    }
   ],
   "source": [
    "plt.figure(figsize=(16, 10))\n",
    "\n",
    "plt.plot(range(epochs), history.history['accuracy'], label=\"Trainingsgenauigkeit\")\n",
    "plt.plot(range(epochs), history.history['val_accuracy'], label=\"Validationsgenauigkeit\")\n",
    "\n",
    "plt.xlabel(\"Epochen\")\n",
    "plt.ylabel(\"Genauigkeit\")\n",
    "plt.legend()\n",
    "plt.title(\"Verlauf der Genauigkeitsfunktion\")\n",
    "\n",
    "plt.show()"
   ]
  },
  {
   "cell_type": "markdown",
   "metadata": {},
   "source": [
    "### ▶️ Scores zur Beurteilung der Modellqualität "
   ]
  },
  {
   "cell_type": "code",
   "execution_count": 114,
   "metadata": {},
   "outputs": [
    {
     "name": "stdout",
     "output_type": "stream",
     "text": [
      "Testverlust : 1.1286870241165161\n",
      "Testgenauigkeit : 0.5388127565383911\n"
     ]
    }
   ],
   "source": [
    "score = model.evaluate(X_test, y_test, verbose=0)\n",
    "print(\"Testverlust :\", score[0])\n",
    "print(\"Testgenauigkeit :\", score[1])"
   ]
  },
  {
   "cell_type": "markdown",
   "metadata": {},
   "source": [
    "### ▶️ Metriken zur Beurteilung der Modellqualität "
   ]
  },
  {
   "cell_type": "code",
   "execution_count": 28,
   "metadata": {},
   "outputs": [
    {
     "name": "stdout",
     "output_type": "stream",
     "text": [
      "\u001b[1m7/7\u001b[0m \u001b[32m━━━━━━━━━━━━━━━━━━━━\u001b[0m\u001b[37m\u001b[0m \u001b[1m0s\u001b[0m 23ms/step\n"
     ]
    },
    {
     "data": {
      "image/png": "[encoded data removed]",
      "text/plain": [
       "<Figure size 600x600 with 1 Axes>"
      ]
     },
     "metadata": {},
     "output_type": "display_data"
    },
    {
     "name": "stdout",
     "output_type": "stream",
     "text": [
      "              precision    recall  f1-score   support\n",
      "\n",
      "           0       0.70      0.74      0.72        54\n",
      "           1       0.78      0.77      0.77        56\n",
      "           2       0.55      0.55      0.55        55\n",
      "           3       0.62      0.59      0.60        54\n",
      "\n",
      "    accuracy                           0.66       219\n",
      "   macro avg       0.66      0.66      0.66       219\n",
      "weighted avg       0.66      0.66      0.66       219\n",
      "\n"
     ]
    }
   ],
   "source": [
    "y_test_arg=np.argmax(y_test,axis=1)\n",
    "y_pred = np.argmax(model.predict(X_test),axis=1)\n",
    "# \n",
    "cm = confusion_matrix(y_test_arg, y_pred)\n",
    "\n",
    "plt.figure(figsize=(6, 6))\n",
    "sns.heatmap(cm, annot=True, fmt='g', cmap='Blues', cbar=False)\n",
    "plt.xlabel(\"Vorhersagen\")\n",
    "plt.ylabel(\"Geste\")\n",
    "plt.title(\"Konfusionsmatrix\")\n",
    "plt.show()\n",
    "\n",
    "print(classification_report(y_test_arg, y_pred))"
   ]
  }
 ],
 "metadata": {
  "colab": {
   "authorship_tag": "ABX9TyNuAXIB7ixK/3gtqh86Wo2I",
   "include_colab_link": true,
   "provenance": []
  },
  "kernelspec": {
   "display_name": "Python 3 (ipykernel)",
   "language": "python",
   "name": "python3"
  },
  "language_info": {
   "codemirror_mode": {
    "name": "ipython",
    "version": 3
   },
   "file_extension": ".py",
   "mimetype": "text/x-python",
   "name": "python",
   "nbconvert_exporter": "python",
   "pygments_lexer": "ipython3",
   "version": "3.12.2"
  }
 },
 "nbformat": 4,
 "nbformat_minor": 4
}

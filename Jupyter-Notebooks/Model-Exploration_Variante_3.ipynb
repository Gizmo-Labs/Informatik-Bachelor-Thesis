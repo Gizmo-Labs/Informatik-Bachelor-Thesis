{
 "cells": [
  {
   "cell_type": "markdown",
   "metadata": {},
   "source": [
    "## Bachelor Thesis - Informatik\n",
    "\n",
    "### Variante 3 :\n",
    "### Multiclass-Klassifizierung mit 1D Convolutional Neuronal Network\n",
    "***\n",
    "\n",
    "\n",
    "<div align=\"left\">\n",
    "<h2><img src=\"https://i.giphy.com/media/v1.Y2lkPTc5MGI3NjExZ2hrOGtveWx0ZGxsaGFsYXNzbjVhOTNyaTg2cG44anZ5eWd5a3ZyMyZlcD12MV9pbnRlcm5hbF9naWZfYnlfaWQmY3Q9Zw/l3vRcrVqhBVSpJte0/giphy.gif\" width=\"200\" alt=\"Data\"></h2>\n",
    "</div>\n",
    "\n",
    "Dieser Ansatz verwendet als Datengrundlage den folgenden Datensatz :\n",
    "\n",
    "[https://github.com/michidk/myo-dataset]\n",
    "\n",
    "###### ☑️ Der Datensatz wurde neu aufbereitet, siehe dazu --> [Link](Preprocessing.ipynb)\n",
    "\n",
    "###### ☑️ 10 Testpersonen, nachfolgend Subjekte genannt, haben in 6 Sitzungen jeweils 10 Wiederholungen ausgeführt\n",
    "\n",
    "###### ☑️ Alle Personen haben die folgenden drei Gesten in gleicher Position ausgeführt :\n",
    "\n",
    "<img src=\"./Gestenbilder/paper.png\" width=\"150\">         <img src=\"./Gestenbilder/rock.png\" width=\"150\">        <img src=\"./Gestenbilder/scissors.png\" width=\"150\">      "
   ]
  },
  {
   "cell_type": "markdown",
   "metadata": {
    "id": "XQZWkqdN6PR7"
   },
   "source": [
    "#### ▶️ Installation notwendiger Python-Bibliotheken\n",
    "***"
   ]
  },
  {
   "cell_type": "code",
   "execution_count": 1,
   "metadata": {
    "colab": {
     "base_uri": "https://localhost:8080/"
    },
    "id": "lERCtA9K5wBW",
    "outputId": "5b9cc7ce-37f2-47eb-a1c6-a7a5cc6f4bd1"
   },
   "outputs": [],
   "source": [
    "##############################################################\n",
    "#      Dieses Notebook wurde mit Python 3.9.13 getestet      #\n",
    "#                                                            #\n",
    "#           Andere Versionen haben teilweise                 #\n",
    "#           Kompatbilitätsprobleme verursacht                #\n",
    "#                                                            #\n",
    "#      This Notebook was tested with Python 3.9.13           #\n",
    "#                                                            #\n",
    "#              Other Versions can cause                      #\n",
    "#                Compatibilityproblems                       #\n",
    "#                                                            #\n",
    "##############################################################"
   ]
  },
  {
   "cell_type": "code",
   "execution_count": 2,
   "metadata": {},
   "outputs": [],
   "source": [
    "##############################################################\n",
    "# Achtung!! Die Konvertierung des Modells nach C++           #\n",
    "#           funktioniert nur mit Tensorflow <=2.15.1         #\n",
    "#           Keras 3 funktioniert nicht!                      #\n",
    "#                                                            #\n",
    "# Attention! Converting the model to C++ ist only working    #\n",
    "#            with Tensorflow <=2.15.1                        #\n",
    "#            Keras 3 will not work!                          #\n",
    "##############################################################\n",
    "\n",
    "#%pip install -r requirements.txt\n",
    "#%pip install -q \"eloquent-tensorflow==1.0.5\" \"keras<3\" embedded_window"
   ]
  },
  {
   "cell_type": "markdown",
   "metadata": {},
   "source": [
    "#### ▶️ Importieren notwendiger Python-Bibliotheken\n",
    "***"
   ]
  },
  {
   "cell_type": "code",
   "execution_count": 3,
   "metadata": {
    "id": "qNjJFQ0Y_qRl"
   },
   "outputs": [
    {
     "name": "stdout",
     "output_type": "stream",
     "text": [
      "WARNING:tensorflow:From c:\\Users\\Gizmo\\AppData\\Local\\Programs\\Python\\Python39\\lib\\site-packages\\keras\\src\\losses.py:2976: The name tf.losses.sparse_softmax_cross_entropy is deprecated. Please use tf.compat.v1.losses.sparse_softmax_cross_entropy instead.\n",
      "\n"
     ]
    }
   ],
   "source": [
    "import pandas as pd # type: ignore\n",
    "import numpy as np # type: ignore\n",
    "import seaborn as sns # type: ignore\n",
    "import matplotlib.pyplot as plt # type: ignore\n",
    "\n",
    "from sklearn.model_selection import train_test_split # type: ignore\n",
    "from sklearn.metrics import classification_report, confusion_matrix # type: ignore\n",
    "from sklearn.preprocessing import MinMaxScaler, StandardScaler # type: ignore\n",
    "\n",
    "import tensorflow as tf # type: ignore\n",
    "from tensorflow import keras # type: ignore\n",
    "from keras import layers # type: ignore\n",
    "\n",
    "import logging\n",
    "tf.get_logger().setLevel(logging.ERROR)"
   ]
  },
  {
   "cell_type": "markdown",
   "metadata": {},
   "source": [
    "#### ▶️ Einlesen der aufgezeichneten Daten aus dem Quellordner<br>\n",
    "***"
   ]
  },
  {
   "cell_type": "code",
   "execution_count": 4,
   "metadata": {
    "id": "US2Lj9nc_MkG"
   },
   "outputs": [
    {
     "data": {
      "text/plain": [
       "521995"
      ]
     },
     "execution_count": 4,
     "metadata": {},
     "output_type": "execute_result"
    }
   ],
   "source": [
    "# Importiere die .csv-Dateien mit den EMG-Daten der einzelnen Subjekte und den einzelnen Labels (Gesten)\n",
    "# Dabei gilt folgendes Schema, siehe auch Bilder im Ordner \"Gestenbilder\"\n",
    "# Label 0 --> Papier\n",
    "# Label 1 --> Stein\n",
    "# Label 2 --> Schere\n",
    "\n",
    "\n",
    "##############################################################\n",
    "# Aufnahme der Einzelgesten                                  #\n",
    "# Datentyp: Python List                                      #\n",
    "##############################################################\n",
    "subject1 = []\n",
    "subject2 = []\n",
    "subject3 = []\n",
    "subject4 = []\n",
    "subject5 = []\n",
    "subject6 = []\n",
    "subject7 = []\n",
    "subject8 = []\n",
    "subject9 = []\n",
    "subject10 = []\n",
    "\n",
    "\n",
    "##############################################################\n",
    "# Baue daraus den Dateipfad und lese Datei ein               #\n",
    "# Schreibe Nummer der Geste in entsprechende Spalte          #\n",
    "##############################################################\n",
    "\n",
    "for label in ['0', '1', '2']:\n",
    "    subject1.append(pd.read_csv('./Datasets/Concatenated/S1L' + label + '.csv', sep=',', header=None))     \n",
    "    subject1[int(label)][8] = int(label)\n",
    "\n",
    "for label in ['0', '1', '2']:\n",
    "    subject2.append(pd.read_csv('./Datasets/Concatenated/S2L' + label + '.csv', sep=',', header=None))     \n",
    "    subject2[int(label)][8] = int(label)\n",
    "\n",
    "for label in ['0', '1', '2']:\n",
    "    subject3.append(pd.read_csv('./Datasets/Concatenated/S3L' + label + '.csv', sep=',', header=None))     \n",
    "    subject3[int(label)][8] = int(label)\n",
    "\n",
    "for label in ['0', '1', '2']:\n",
    "    subject4.append(pd.read_csv('./Datasets/Concatenated/S4L' + label + '.csv', sep=',', header=None))     \n",
    "    subject4[int(label)][8] = int(label)\n",
    "\n",
    "for label in ['0', '1', '2']:\n",
    "    subject5.append(pd.read_csv('./Datasets/Concatenated/S5L' + label + '.csv', sep=',', header=None))     \n",
    "    subject5[int(label)][8] = int(label)\n",
    "\n",
    "for label in ['0', '1', '2']:\n",
    "    subject6.append(pd.read_csv('./Datasets/Concatenated/S6L' + label + '.csv', sep=',', header=None))     \n",
    "    subject6[int(label)][8] = int(label)\n",
    "\n",
    "for label in ['0', '1', '2']:\n",
    "    subject7.append(pd.read_csv('./Datasets/Concatenated/S7L' + label + '.csv', sep=',', header=None))     \n",
    "    subject7[int(label)][8] = int(label)\n",
    "\n",
    "for label in ['0', '1', '2']:\n",
    "    subject8.append(pd.read_csv('./Datasets/Concatenated/S8L' + label + '.csv', sep=',', header=None))     \n",
    "    subject8[int(label)][8] = int(label)\n",
    "\n",
    "for label in ['0', '1', '2']:\n",
    "    subject9.append(pd.read_csv('./Datasets/Concatenated/S9L' + label + '.csv', sep=',', header=None))     \n",
    "    subject9[int(label)][8] = int(label)\n",
    "\n",
    "for label in ['0', '1', '2']:\n",
    "    subject10.append(pd.read_csv('./Datasets/Concatenated/S10L' + label + '.csv', sep=',', header=None))     \n",
    "    subject10[int(label)][8] = int(label)\n",
    "\n",
    "\n",
    "##############################################################\n",
    "# Schreibe alle Sub-Dataframes in ein gesamtes Dataframe     #\n",
    "# Datentyp: Pandas Dataframe                                 #\n",
    "##############################################################\n",
    "subject1 = pd.concat([df for df in subject1], axis=0).reset_index(drop=True)\n",
    "subject2 = pd.concat([df for df in subject2], axis=0).reset_index(drop=True)\n",
    "subject3 = pd.concat([df for df in subject3], axis=0).reset_index(drop=True)\n",
    "subject4 = pd.concat([df for df in subject4], axis=0).reset_index(drop=True)\n",
    "subject5 = pd.concat([df for df in subject5], axis=0).reset_index(drop=True)\n",
    "subject6 = pd.concat([df for df in subject6], axis=0).reset_index(drop=True)\n",
    "subject7 = pd.concat([df for df in subject7], axis=0).reset_index(drop=True)\n",
    "subject8 = pd.concat([df for df in subject8], axis=0).reset_index(drop=True)\n",
    "subject9 = pd.concat([df for df in subject9], axis=0).reset_index(drop=True)\n",
    "subject10 = pd.concat([df for df in subject10], axis=0).reset_index(drop=True)\n",
    "\n",
    "sub_1 = pd.DataFrame(subject1)\n",
    "sub_5 = pd.concat([subject1, subject2, subject3, subject4, subject5])\n",
    "sub_10 = pd.concat([subject1, subject2, subject3, subject4, subject5, subject6, subject7, subject8, subject9, subject10])\n",
    "\n",
    "sub_10.shape[0]"
   ]
  },
  {
   "cell_type": "markdown",
   "metadata": {},
   "source": [
    "#### ▶️ Umwandlung der Daten in geeignete Formate\n",
    "***"
   ]
  },
  {
   "cell_type": "code",
   "execution_count": 5,
   "metadata": {},
   "outputs": [
    {
     "name": "stdout",
     "output_type": "stream",
     "text": [
      "Anzahl der Klassen :  3\n",
      "Form der Klassen :  (3, 1)\n",
      "Form der Features :  (293551, 8)\n",
      "Form der Labels :  (293551, 1)\n"
     ]
    }
   ],
   "source": [
    "##############################################################\n",
    "# Einzelwerte der Labels auslesen                            #\n",
    "# Datentyp Pandas Dataframe                                  #\n",
    "##############################################################\n",
    "Labels = sub_5[sub_5.columns[-1]]\n",
    "Labels = np.array(Labels).astype('int')\n",
    "Labels = np.expand_dims(Labels, -1)\n",
    "\n",
    "\n",
    "##############################################################\n",
    "# Klassen aus den Labels auslesen                            #\n",
    "# Datentyp Numpy Array                                       #\n",
    "##############################################################\n",
    "Klassen = np.unique(Labels)\n",
    "Klassen = np.expand_dims(Klassen, -1)\n",
    "Anzahl_Klassen = Klassen.max() + 1\n",
    "print(\"Anzahl der Klassen : \", Anzahl_Klassen)\n",
    "print(\"Form der Klassen : \", Klassen.shape)\n",
    "\n",
    "\n",
    "##############################################################\n",
    "# Features der Gesten auslesen                               #\n",
    "# Datentyp Pandas Dataframe                                  #\n",
    "##############################################################\n",
    "Features = sub_5.drop(8, axis=1).copy()\n",
    "Features = np.array(Features).astype('float32')\n",
    "Features = Features.reshape(-1,8)\n",
    "\n",
    "\n",
    "##############################################################\n",
    "# Gebe die Form des Image-Vectors aus                        #\n",
    "##############################################################\n",
    "print(\"Form der Features : \", Features.shape)\n",
    "\n",
    "\n",
    "##############################################################\n",
    "# Gebe die Form des Label-Vectors aus                        #\n",
    "##############################################################\n",
    "print(\"Form der Labels : \", Labels.shape)"
   ]
  },
  {
   "cell_type": "markdown",
   "metadata": {},
   "source": [
    "#### ▶️ Normalisierung der Daten (Optional)\n",
    "***"
   ]
  },
  {
   "cell_type": "code",
   "execution_count": 6,
   "metadata": {},
   "outputs": [],
   "source": [
    "##############################################################\n",
    "# Datenskalierung mit Z-Score                                #\n",
    "##############################################################  \n",
    "sc = StandardScaler()\n",
    "\n",
    "\n",
    "##############################################################\n",
    "# Normalisierung durchführen                                 #\n",
    "# Datentyp Numpy Array                                       #\n",
    "##############################################################  \n",
    "Features = sc.fit_transform(Features)\n",
    "Features = np.expand_dims(Features, -1)"
   ]
  },
  {
   "cell_type": "markdown",
   "metadata": {
    "id": "bqtb_0qsqcBe"
   },
   "source": [
    "#### ▶️ Datensatz aufteilen in Training- und Test-Daten\n",
    "***"
   ]
  },
  {
   "cell_type": "code",
   "execution_count": 7,
   "metadata": {
    "colab": {
     "base_uri": "https://localhost:8080/"
    },
    "id": "wkE318CuqruZ",
    "outputId": "80b11002-44b4-4019-c983-05a729ffe78c"
   },
   "outputs": [
    {
     "name": "stdout",
     "output_type": "stream",
     "text": [
      "Form der Training-Features :  (212090, 8, 1)\n",
      "Form der Test-Features :  (44033, 8, 1)\n",
      "Form der Validierungs-Features: (37428, 8, 1)\n",
      "---------------------------------\n",
      "Form der Training-Labels :  (212090, 1)\n",
      "Form der Test-Labels :  (44033, 1)\n",
      "Form der Validierungs-Labels :  (37428, 1)\n",
      "---------------------------------\n",
      "293551 Gesamt-Features\n",
      "212090 Training-Features\n",
      "44033 Test-Features\n",
      "37428 Validierungs-Features\n",
      "---------------------------------\n",
      "293551 Gesamt-Labels\n",
      "212090 Training-Labels\n",
      "44033 Test-Labels\n",
      "37428 Validierungs-Labels\n"
     ]
    }
   ],
   "source": [
    "##############################################################\n",
    "# Anzahl der Klassen, bzw. der Gesten                        #\n",
    "# Fixwert 3                                                  #\n",
    "##############################################################\n",
    "num_classes = Klassen.size\n",
    "\n",
    "\n",
    "##############################################################\n",
    "# 8 x 1 Matrix --> 1D Arrays für CNN-Modell                  #\n",
    "##############################################################\n",
    "input_shape = (8, 1)\n",
    "\n",
    "\n",
    "##############################################################\n",
    "# Aufteilung der Datensätze in Training- und Testdaten       #\n",
    "# Test-Size --> prozentualer Anteil von Gesamtdaten          #\n",
    "# Random-State --> Zufallsgrad der Durchmischung             #\n",
    "##############################################################\n",
    "X_train, X_test, y_train, y_test = train_test_split(Features, Labels, test_size = 0.15, random_state = 100) # type: ignore\n",
    "X_train, X_val, y_train, y_val = train_test_split(X_train, y_train, test_size = 0.15, random_state=100) # type: ignore\n",
    "\n",
    "\n",
    "##############################################################\n",
    "# Status der Datensätze ausgeben                             #\n",
    "##############################################################\n",
    "print(\"Form der Training-Features : \", X_train.shape)\n",
    "print(\"Form der Test-Features : \", X_test.shape)\n",
    "print(\"Form der Validierungs-Features:\", X_val.shape)\n",
    "print(\"---------------------------------\")\n",
    "print(\"Form der Training-Labels : \", y_train.shape)\n",
    "print(\"Form der Test-Labels : \", y_test.shape)\n",
    "print(\"Form der Validierungs-Labels : \", y_val.shape)\n",
    "print(\"---------------------------------\")\n",
    "print(Features.shape[0], \"Gesamt-Features\")\n",
    "print(X_train.shape[0], \"Training-Features\")\n",
    "print(X_test.shape[0], \"Test-Features\")\n",
    "print(X_val.shape[0], \"Validierungs-Features\")\n",
    "print(\"---------------------------------\")\n",
    "print(Labels.shape[0], \"Gesamt-Labels\")\n",
    "print(y_train.shape[0], \"Training-Labels\")\n",
    "print(y_test.shape[0], \"Test-Labels\")\n",
    "print(y_val.shape[0], \"Validierungs-Labels\")\n",
    "\n",
    "\n",
    "##############################################################\n",
    "# Klassenvektor in Matrize konvertieren (One-Hot-Encoding)   #\n",
    "##############################################################\n",
    "y_train = keras.utils.to_categorical(y_train, num_classes)\n",
    "y_val = keras.utils.to_categorical(y_val, num_classes)\n",
    "y_test = keras.utils.to_categorical(y_test, num_classes)"
   ]
  },
  {
   "cell_type": "markdown",
   "metadata": {},
   "source": [
    "#### ▶️ Modellarchitektur\n",
    "***"
   ]
  },
  {
   "cell_type": "code",
   "execution_count": 8,
   "metadata": {},
   "outputs": [
    {
     "name": "stdout",
     "output_type": "stream",
     "text": [
      "Model: \"sequential\"\n",
      "_________________________________________________________________\n",
      " Layer (type)                Output Shape              Param #   \n",
      "=================================================================\n",
      " conv1d (Conv1D)             (None, 5, 32)             160       \n",
      "                                                                 \n",
      " conv1d_1 (Conv1D)           (None, 2, 32)             4128      \n",
      "                                                                 \n",
      " flatten (Flatten)           (None, 64)                0         \n",
      "                                                                 \n",
      " dense (Dense)               (None, 64)                4160      \n",
      "                                                                 \n",
      " dense_1 (Dense)             (None, 3)                 195       \n",
      "                                                                 \n",
      "=================================================================\n",
      "Total params: 8643 (33.76 KB)\n",
      "Trainable params: 8643 (33.76 KB)\n",
      "Non-trainable params: 0 (0.00 Byte)\n",
      "_________________________________________________________________\n"
     ]
    },
    {
     "name": "stderr",
     "output_type": "stream",
     "text": [
      "c:\\Users\\Gizmo\\AppData\\Local\\Programs\\Python\\Python39\\lib\\site-packages\\keras\\src\\engine\\training.py:3103: UserWarning: You are saving your model as an HDF5 file via `model.save()`. This file format is considered legacy. We recommend using instead the native Keras format, e.g. `model.save('my_model.keras')`.\n",
      "  saving_api.save_model(\n"
     ]
    }
   ],
   "source": [
    "##############################################################\n",
    "# Hyperparameter                                             #\n",
    "##############################################################\n",
    "batch_size = 64\n",
    "epochs = 16\n",
    "\n",
    "\n",
    "##############################################################\n",
    "# Modell erstellen                                           #\n",
    "##############################################################\n",
    "model = keras.Sequential()\n",
    "model.add(layers.InputLayer(input_shape))\n",
    "\n",
    "model.add(layers.Conv1D(32, 4, activation='relu', input_shape=input_shape))\n",
    "\n",
    "model.add(layers.Conv1D(32, 4, activation='relu'))\n",
    "\n",
    "model.add(layers.Flatten())\n",
    "\n",
    "model.add(layers.Dense(64, activation='relu'))\n",
    "\n",
    "\n",
    "model.add(layers.Dense(num_classes, activation = 'softmax'))\n",
    "\n",
    "# Modellparameter ausgeben\n",
    "model.summary()\n",
    "\n",
    "# Modell speichern\n",
    "model.save('./Gespeicherte Modelle/1DCNN.h5')"
   ]
  },
  {
   "cell_type": "code",
   "execution_count": 9,
   "metadata": {},
   "outputs": [
    {
     "name": "stdout",
     "output_type": "stream",
     "text": [
      "Epoch 1/16\n",
      "3314/3314 [==============================] - 9s 3ms/step - loss: 0.9820 - accuracy: 0.4939 - val_loss: 0.9620 - val_accuracy: 0.5101 - lr: 0.0010\n",
      "Epoch 2/16\n",
      "3314/3314 [==============================] - 8s 2ms/step - loss: 0.9580 - accuracy: 0.5167 - val_loss: 0.9553 - val_accuracy: 0.5179 - lr: 0.0010\n",
      "Epoch 3/16\n",
      "3314/3314 [==============================] - 8s 2ms/step - loss: 0.9512 - accuracy: 0.5225 - val_loss: 0.9502 - val_accuracy: 0.5233 - lr: 0.0010\n",
      "Epoch 4/16\n",
      "3314/3314 [==============================] - 8s 2ms/step - loss: 0.9470 - accuracy: 0.5250 - val_loss: 0.9510 - val_accuracy: 0.5240 - lr: 0.0010\n",
      "Epoch 5/16\n",
      "3314/3314 [==============================] - 8s 2ms/step - loss: 0.9434 - accuracy: 0.5291 - val_loss: 0.9463 - val_accuracy: 0.5250 - lr: 0.0010\n",
      "Epoch 6/16\n",
      "3314/3314 [==============================] - 8s 2ms/step - loss: 0.9405 - accuracy: 0.5305 - val_loss: 0.9408 - val_accuracy: 0.5299 - lr: 0.0010\n",
      "Epoch 7/16\n",
      "3314/3314 [==============================] - 8s 2ms/step - loss: 0.9391 - accuracy: 0.5309 - val_loss: 0.9423 - val_accuracy: 0.5275 - lr: 0.0010\n",
      "Epoch 8/16\n",
      "3314/3314 [==============================] - 8s 2ms/step - loss: 0.9371 - accuracy: 0.5326 - val_loss: 0.9422 - val_accuracy: 0.5283 - lr: 0.0010\n",
      "Epoch 9/16\n",
      "3314/3314 [==============================] - 8s 2ms/step - loss: 0.9355 - accuracy: 0.5339 - val_loss: 0.9380 - val_accuracy: 0.5287 - lr: 0.0010\n",
      "Epoch 10/16\n",
      "3314/3314 [==============================] - 7s 2ms/step - loss: 0.9343 - accuracy: 0.5350 - val_loss: 0.9407 - val_accuracy: 0.5261 - lr: 0.0010\n",
      "Epoch 11/16\n",
      "3314/3314 [==============================] - 8s 2ms/step - loss: 0.9333 - accuracy: 0.5354 - val_loss: 0.9403 - val_accuracy: 0.5278 - lr: 0.0010\n",
      "Epoch 12/16\n",
      "3314/3314 [==============================] - 7s 2ms/step - loss: 0.9324 - accuracy: 0.5362 - val_loss: 0.9395 - val_accuracy: 0.5293 - lr: 0.0010\n",
      "Epoch 13/16\n",
      "3314/3314 [==============================] - 8s 2ms/step - loss: 0.9313 - accuracy: 0.5363 - val_loss: 0.9377 - val_accuracy: 0.5327 - lr: 0.0010\n",
      "Epoch 14/16\n",
      "3314/3314 [==============================] - 7s 2ms/step - loss: 0.9305 - accuracy: 0.5373 - val_loss: 0.9380 - val_accuracy: 0.5315 - lr: 0.0010\n",
      "Epoch 15/16\n",
      "3314/3314 [==============================] - 7s 2ms/step - loss: 0.9297 - accuracy: 0.5371 - val_loss: 0.9403 - val_accuracy: 0.5302 - lr: 0.0010\n",
      "Epoch 16/16\n",
      "3314/3314 [==============================] - 8s 2ms/step - loss: 0.9289 - accuracy: 0.5370 - val_loss: 0.9367 - val_accuracy: 0.5312 - lr: 0.0010\n"
     ]
    }
   ],
   "source": [
    "# Modell kompilieren\n",
    "model.compile(\n",
    "    optimizer='adam',\n",
    "    loss = 'categorical_crossentropy',\n",
    "    metrics=['accuracy']\n",
    ")\n",
    "\n",
    "# Parameter und Daten an Modell übergeben\n",
    "# Training durchführen\n",
    "history = model.fit(\n",
    "    X_train,\n",
    "    y_train,\n",
    "   validation_data=(X_val, y_val),\n",
    "    batch_size=batch_size,    \n",
    "    epochs=epochs,\n",
    "    callbacks=[\n",
    "        tf.keras.callbacks.ReduceLROnPlateau(),\n",
    "    ]\n",
    ")"
   ]
  },
  {
   "cell_type": "markdown",
   "metadata": {},
   "source": [
    "#### ▶️ Exportiere das Modell nach C++\n",
    "***\n",
    "\n",
    "- Dieses Modell funktioniert nicht auf dem ESP32S3\n",
    "- Tensorflow Micro unterstützt keine 1D Convolution Layer !!"
   ]
  },
  {
   "cell_type": "code",
   "execution_count": 10,
   "metadata": {},
   "outputs": [],
   "source": [
    "##############################################################\n",
    "# Konvertiere Modell in Format für Headerfile                #\n",
    "# Inhalt ab/inklusive der Zeile \"#pragma once\"               #\n",
    "# in eine neue Datei mit Namen \"Model.h\" kopieren            #\n",
    "##############################################################\n",
    "# from eloquent_tensorflow import convert_model\n",
    "# print(convert_model(model))"
   ]
  },
  {
   "cell_type": "markdown",
   "metadata": {},
   "source": [
    "#### ▶️ Ausgabe der Verlustfunktion für Training und Validation\n",
    "***"
   ]
  },
  {
   "cell_type": "code",
   "execution_count": 11,
   "metadata": {
    "id": "hKYDX19s1oH3"
   },
   "outputs": [
    {
     "data": {
      "image/png": "[encoded data removed]",
      "text/plain": [
       "<Figure size 640x480 with 1 Axes>"
      ]
     },
     "metadata": {},
     "output_type": "display_data"
    }
   ],
   "source": [
    "loss = history.history['loss']\n",
    "val_loss = history.history['val_loss']\n",
    "epochs = range(1, len(loss) + 1)\n",
    "plt.plot(epochs, loss, 'r.', label='Trainingsverlust')\n",
    "plt.plot(epochs, val_loss, 'y', label='Validationsverlust')\n",
    "plt.title('Verlust Training und Validation')\n",
    "plt.xlabel('Epochen')\n",
    "plt.ylabel('Verlust')\n",
    "plt.grid()\n",
    "plt.legend()\n",
    "plt.savefig('./Metriken/Verlust_1DCNN.png', dpi=300, bbox_inches='tight')\n",
    "plt.show()"
   ]
  },
  {
   "cell_type": "markdown",
   "metadata": {},
   "source": [
    "#### ▶️ Ausgabe der Genauigkeit für Training und Validation\n",
    "***"
   ]
  },
  {
   "cell_type": "code",
   "execution_count": 12,
   "metadata": {},
   "outputs": [
    {
     "data": {
      "image/png": "[encoded data removed]",
      "text/plain": [
       "<Figure size 640x480 with 1 Axes>"
      ]
     },
     "metadata": {},
     "output_type": "display_data"
    }
   ],
   "source": [
    "acc = history.history['accuracy']\n",
    "val_acc = history.history['val_accuracy']\n",
    "epochs = range(1, len(loss) + 1)\n",
    "plt.plot(epochs, acc, 'r.', label='Trainingsgenauigkeit')\n",
    "plt.plot(epochs, val_acc, 'y', label='Validationsgenauigkeit')\n",
    "plt.title('Genauigkeit Training und Validation')\n",
    "plt.xlabel('Epochen')\n",
    "plt.ylabel('Genauigkeit')\n",
    "plt.grid()\n",
    "plt.legend()\n",
    "plt.savefig('./Metriken/Genauigkeit_1DCNN.png', dpi=300, bbox_inches='tight')\n",
    "plt.show()"
   ]
  },
  {
   "cell_type": "markdown",
   "metadata": {},
   "source": [
    "#### ▶️ Modell auf Testdaten anwenden und evaluieren\n",
    "***"
   ]
  },
  {
   "cell_type": "code",
   "execution_count": 13,
   "metadata": {},
   "outputs": [
    {
     "name": "stdout",
     "output_type": "stream",
     "text": [
      "Test loss: 0.9366884231567383\n",
      "Test accuracy: 0.5312333106994629\n"
     ]
    }
   ],
   "source": [
    "score = model.evaluate(X_val, y_val, verbose=0)\n",
    "print(\"Test loss:\", score[0])\n",
    "print(\"Test accuracy:\", score[1])"
   ]
  },
  {
   "cell_type": "markdown",
   "metadata": {},
   "source": [
    "#### ▶️ Metriken zur Beurteilung der Modellqualität \n",
    "***"
   ]
  },
  {
   "cell_type": "code",
   "execution_count": 14,
   "metadata": {},
   "outputs": [
    {
     "name": "stdout",
     "output_type": "stream",
     "text": [
      "1377/1377 [==============================] - 2s 1ms/step\n"
     ]
    },
    {
     "data": {
      "image/png": "[encoded data removed]",
      "text/plain": [
       "<Figure size 600x600 with 1 Axes>"
      ]
     },
     "metadata": {},
     "output_type": "display_data"
    },
    {
     "name": "stdout",
     "output_type": "stream",
     "text": [
      "              precision    recall  f1-score   support\n",
      "\n",
      "           0       0.50      0.53      0.51     14715\n",
      "           1       0.63      0.55      0.59     14683\n",
      "           2       0.50      0.52      0.51     14635\n",
      "\n",
      "    accuracy                           0.53     44033\n",
      "   macro avg       0.54      0.53      0.54     44033\n",
      "weighted avg       0.54      0.53      0.54     44033\n",
      "\n"
     ]
    }
   ],
   "source": [
    "y_test_arg=np.argmax(y_test,axis=1)\n",
    "y_pred = np.argmax(model.predict(X_test),axis=1)\n",
    " \n",
    "cm = confusion_matrix(y_test_arg, y_pred)\n",
    "\n",
    "plt.figure(figsize=(6, 6))\n",
    "sns.heatmap(cm, annot=True, fmt='g', cmap='Greens', cbar=False)\n",
    "plt.xlabel(\"Vorhersagen\")\n",
    "plt.ylabel(\"Geste\")\n",
    "plt.title(\"Konfusionsmatrix\")\n",
    "plt.show()\n",
    "\n",
    "print(classification_report(y_test_arg, y_pred))"
   ]
  }
 ],
 "metadata": {
  "colab": {
   "authorship_tag": "ABX9TyNuAXIB7ixK/3gtqh86Wo2I",
   "include_colab_link": true,
   "provenance": []
  },
  "kernelspec": {
   "display_name": "Python 3 (ipykernel)",
   "language": "python",
   "name": "python3"
  },
  "language_info": {
   "codemirror_mode": {
    "name": "ipython",
    "version": 3
   },
   "file_extension": ".py",
   "mimetype": "text/x-python",
   "name": "python",
   "nbconvert_exporter": "python",
   "pygments_lexer": "ipython3",
   "version": "3.9.13"
  }
 },
 "nbformat": 4,
 "nbformat_minor": 4
}

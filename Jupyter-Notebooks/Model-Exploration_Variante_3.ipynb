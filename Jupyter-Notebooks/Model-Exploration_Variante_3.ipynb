{
 "cells": [
  {
   "cell_type": "markdown",
   "metadata": {},
   "source": [
    "## Bachelor Thesis - Informatik\n",
    "\n",
    "### Variante 3 :\n",
    "### Multiclass-Klassifizierung mit 1D Convolutional Neuronal Network\n",
    "***\n",
    "\n",
    "<div align=\"left\">\n",
    "<h2><img src=\"https://i.giphy.com/media/v1.Y2lkPTc5MGI3NjExZ2hrOGtveWx0ZGxsaGFsYXNzbjVhOTNyaTg2cG44anZ5eWd5a3ZyMyZlcD12MV9pbnRlcm5hbF9naWZfYnlfaWQmY3Q9Zw/l3vRcrVqhBVSpJte0/giphy.gif\" width=\"200\" alt=\"Data\"></h2>\n",
    "</div>\n",
    "\n",
    "Beschreibung der zugrunde liegenden Daten :\n",
    "\n",
    "###### ☑️ Die Daten wurden von einem Myo-Armband per Bluetooth LE an einen ESP32S3 übertragen\n",
    "\n",
    "###### ☑️ Sämtliche Daten wurden mit folgender Lösung [Processing-Grapher](https://github.com/chillibasket/processing-grapher.git) aufgezeichnet und als .csv-Datei gespeichert\n",
    "\n",
    "###### ☑️ Vier Testpersonen, davon eine weibliche und drei männliche Personen standen zur Verfügung\n",
    "\n",
    "###### ☑️ Alle Personen haben die folgenden vier Gesten in gleicher Position ausgeführt :\n",
    "\n",
    "<img src=\"./Gestenbilder/Eigene_Geste_0.png\" width=\"150\">    <img src=\"./Gestenbilder/Eigene_Geste_1.png\" width=\"150\">    <img src=\"./Gestenbilder/Eigene_Geste_2.png\" width=\"150\">      <img src=\"./Gestenbilder/Eigene_Geste_3.png\" width=\"150\">\n",
    "\n"
   ]
  },
  {
   "cell_type": "markdown",
   "metadata": {
    "id": "XQZWkqdN6PR7"
   },
   "source": [
    "##### ▶️ Installation notwendiger Python-Bibliotheken"
   ]
  },
  {
   "cell_type": "code",
   "execution_count": 48,
   "metadata": {
    "colab": {
     "base_uri": "https://localhost:8080/"
    },
    "id": "lERCtA9K5wBW",
    "outputId": "5b9cc7ce-37f2-47eb-a1c6-a7a5cc6f4bd1"
   },
   "outputs": [],
   "source": [
    "#%pip install pandas\n",
    "#%pip install numpy\n",
    "#%pip install seaborn\n",
    "#%pip install -U seaborn-image\n",
    "#%pip install matplotlib.pyplot\n",
    "#%pip install scikit-learn"
   ]
  },
  {
   "cell_type": "markdown",
   "metadata": {},
   "source": [
    "##### ▶️ Importieren notwendiger Python-Bibliotheken"
   ]
  },
  {
   "cell_type": "code",
   "execution_count": 49,
   "metadata": {
    "id": "qNjJFQ0Y_qRl"
   },
   "outputs": [],
   "source": [
    "import pandas as pd # type: ignore\n",
    "import numpy as np # type: ignore\n",
    "import seaborn as sns # type: ignore\n",
    "import matplotlib.pyplot as plt # type: ignore\n",
    "\n",
    "from sklearn.preprocessing import StandardScaler # type: ignore\n",
    "from sklearn.model_selection import train_test_split # type: ignore\n",
    "from sklearn.metrics import classification_report, confusion_matrix # type: ignore\n",
    "\n",
    "import tensorflow as tf # type: ignore\n",
    "\n",
    "from tensorflow import keras # type: ignore\n",
    "from keras import layers # type: ignore\n",
    "from keras import ops # type: ignore"
   ]
  },
  {
   "cell_type": "markdown",
   "metadata": {},
   "source": [
    "##### ▶️ Einlesen der aufgezeichneten Daten aus dem Quellordner<br>\n",
    "****"
   ]
  },
  {
   "cell_type": "code",
   "execution_count": 50,
   "metadata": {
    "id": "US2Lj9nc_MkG"
   },
   "outputs": [],
   "source": [
    "# Importiere die .csv-Dateien mit den EMG-Daten der einzelnen Probanden und den einzelnen Labels (Gesten)\n",
    "# Dabei gilt folgendes Schema, siehe auch Bilder im Ordner \"Gestenbilder\"\n",
    "# Label 0 --> Faust\n",
    "# Label 1 --> Daumen hoch\n",
    "# Label 2 --> Schere\n",
    "# Label 3 --> Gespreizte Hand\n",
    "\n",
    "\n",
    "##############################################################\n",
    "# Aufnahme der Einzelgesten                                  #\n",
    "# Datentyp: Python List                                      #\n",
    "##############################################################\n",
    "proband1 = []\n",
    "proband2 = []\n",
    "proband3 = []\n",
    "proband4 = []\n",
    "\n",
    "\n",
    "##############################################################\n",
    "# Baue daraus den Dateipfad und lese Datei ein               #\n",
    "# Schreibe Nummer der Geste in entsprechende Spalte          #\n",
    "##############################################################\n",
    "for label in ['0', '1', '2', '3']:\n",
    "    proband1.append(pd.read_csv('./Elektromyografie-Daten/P1L' + label + '.csv', sep=',', header=None))    \n",
    "    proband1[int(label)][64] = int(label)\n",
    "\n",
    "for label in ['0', '1', '2', '3']:\n",
    "    proband2.append(pd.read_csv('./Elektromyografie-Daten/P2L' + label + '.csv', sep=',', header=None))    \n",
    "    proband2[int(label)][64] = int(label)\n",
    "\n",
    "for label in ['0', '1', '2', '3']:\n",
    "    proband3.append(pd.read_csv('./Elektromyografie-Daten/P3L' + label + '.csv', sep=',', header=None))    \n",
    "    proband3[int(label)][64] = int(label)\n",
    "\n",
    "for label in ['0', '1', '2', '3']:\n",
    "    proband4.append(pd.read_csv('./Elektromyografie-Daten/P4L' + label + '.csv', sep=',', header=None))    \n",
    "    proband4[int(label)][64] = int(label)\n",
    "\n",
    "\n",
    "##############################################################\n",
    "# Schreibe alle Unterlisten in jeweils ein Dataframe         #\n",
    "# Datentyp: Pandas Dataframe                                 #\n",
    "##############################################################\n",
    "proband1 = pd.concat([df for df in proband1], axis=0).reset_index(drop=True)\n",
    "proband2 = pd.concat([df for df in proband2], axis=0).reset_index(drop=True)\n",
    "proband3 = pd.concat([df for df in proband3], axis=0).reset_index(drop=True)\n",
    "proband4 = pd.concat([df for df in proband4], axis=0).reset_index(drop=True)\n",
    "\n",
    "\n",
    "##############################################################\n",
    "# Schreibe alle Sub-Dataframes in ein gesamtes Dataframe     #\n",
    "# Datentyp: Pandas Dataframe                                 #\n",
    "##############################################################\n",
    "all_data = pd.concat([proband1, proband2, proband3, proband4]).reset_index(drop=True)"
   ]
  },
  {
   "cell_type": "markdown",
   "metadata": {},
   "source": [
    "##### ▶️ Umwandlung der Daten in geeignete Formate"
   ]
  },
  {
   "cell_type": "code",
   "execution_count": 51,
   "metadata": {},
   "outputs": [
    {
     "name": "stdout",
     "output_type": "stream",
     "text": [
      "Form der Klassen :  (4, 1)\n",
      "Form der Features :  (6064, 64)\n",
      "Form der Labels :  (6064, 1)\n"
     ]
    }
   ],
   "source": [
    "##############################################################\n",
    "# Einzelwerte der Labels auslesen                            #\n",
    "# Datentyp Pandas Dataframe                                  #\n",
    "##############################################################\n",
    "Labels = all_data[all_data.columns[-1]]\n",
    "Labels = np.array(Labels).astype('int')\n",
    "Labels = np.expand_dims(Labels, -1)\n",
    "\n",
    "\n",
    "##############################################################\n",
    "# Klassen aus den Labels auslesen                            #\n",
    "# Datentyp Numpy Array                                       #\n",
    "##############################################################\n",
    "Klassen = np.unique(Labels)\n",
    "Klassen = np.expand_dims(Klassen, -1)\n",
    "print(\"Form der Klassen : \", Klassen.shape)\n",
    "\n",
    "\n",
    "##############################################################\n",
    "# Features der Gesten auslesen                               #\n",
    "# Datentyp Pandas Dataframe                                  #\n",
    "##############################################################\n",
    "Features = all_data.drop(64, axis=1).copy()\n",
    "Features = np.array(Features).astype('float32')\n",
    "Features = Features.reshape(-1,64)\n",
    "\n",
    "\n",
    "##############################################################\n",
    "# Gebe die Form des Image-Vectors aus                        #\n",
    "##############################################################\n",
    "print(\"Form der Features : \", Features.shape)\n",
    "\n",
    "\n",
    "##############################################################\n",
    "# Gebe die Form des Label-Vectors aus                        #\n",
    "##############################################################\n",
    "print(\"Form der Labels : \", Labels.shape)"
   ]
  },
  {
   "cell_type": "markdown",
   "metadata": {},
   "source": [
    "#### ▶️ Normalisierung der Daten"
   ]
  },
  {
   "cell_type": "code",
   "execution_count": 52,
   "metadata": {},
   "outputs": [],
   "source": [
    "##############################################################\n",
    "# Datenskalierung mit Z-Score                                #\n",
    "##############################################################  \n",
    "sc = StandardScaler()\n",
    "\n",
    "\n",
    "##############################################################\n",
    "# Normalisierung durchführen                                 #\n",
    "# Datentyp Numpy Array                                       #\n",
    "##############################################################  \n",
    "Features = sc.fit_transform(Features)\n",
    "Features = np.expand_dims(Features, -1)"
   ]
  },
  {
   "cell_type": "markdown",
   "metadata": {
    "id": "bqtb_0qsqcBe"
   },
   "source": [
    "### ▶️ Datensatz aufteilen in Training- und Test-Daten"
   ]
  },
  {
   "cell_type": "code",
   "execution_count": 53,
   "metadata": {
    "colab": {
     "base_uri": "https://localhost:8080/"
    },
    "id": "wkE318CuqruZ",
    "outputId": "80b11002-44b4-4019-c983-05a729ffe78c"
   },
   "outputs": [
    {
     "name": "stdout",
     "output_type": "stream",
     "text": [
      "Form der Training-Features :  (3638, 64, 1)\n",
      "Form der Test-Features :  (2426, 64, 1)\n",
      "Form der Training-Labels :  (3638, 1)\n",
      "Form der Test-Labels :  (2426, 1)\n",
      "\n",
      "6064 Gesamt-Features\n",
      "3638 Training-Features\n",
      "2426 Test-Features\n",
      "\n",
      "6064 Gesamt-Labels\n",
      "3638 Training-Labels\n",
      "2426 Test-Labels\n"
     ]
    }
   ],
   "source": [
    "##############################################################\n",
    "# Anzahl der Klassen, bzw. der Gesten                        #\n",
    "# Fixwert 4                                                  #\n",
    "##############################################################\n",
    "num_classes = Klassen.size\n",
    "\n",
    "\n",
    "##############################################################\n",
    "# 64 x 1 Matrix --> 1D Arrays für CNN-Modell                 #\n",
    "##############################################################\n",
    "input_shape = (64, 1)\n",
    "\n",
    "\n",
    "##############################################################\n",
    "# Aufteilung der Datensätze in Training- und Testdaten       #\n",
    "# Test-Size --> prozentualer Anteil von Gesamtdaten          #\n",
    "# Random-State --> Zufallsgrad der Durchmischung             #\n",
    "##############################################################\n",
    "X_train, X_test, y_train, y_test = train_test_split(Features, Labels, test_size = 0.4, random_state = 100) # type: ignore\n",
    "\n",
    "\n",
    "##############################################################\n",
    "# Konvertieren nach Float                                    #\n",
    "##############################################################\n",
    "X_train = X_train.astype(\"float32\")\n",
    "X_test = X_test.astype(\"float32\") \n",
    "\n",
    "\n",
    "##############################################################\n",
    "# Status der Datensätze ausgeben                             #\n",
    "##############################################################\n",
    "print(\"Form der Training-Features : \", X_train.shape)\n",
    "print(\"Form der Test-Features : \", X_test.shape)\n",
    "print(\"Form der Training-Labels : \", y_train.shape)\n",
    "print(\"Form der Test-Labels : \", y_test.shape)\n",
    "print()\n",
    "print(Features.shape[0], \"Gesamt-Features\")\n",
    "print(X_train.shape[0], \"Training-Features\")\n",
    "print(X_test.shape[0], \"Test-Features\")\n",
    "print()\n",
    "print(Labels.shape[0], \"Gesamt-Labels\")\n",
    "print(y_train.shape[0], \"Training-Labels\")\n",
    "print(y_test.shape[0], \"Test-Labels\")\n",
    "\n",
    "\n",
    "##############################################################\n",
    "# Klassenvektor in Matrize konvertieren (One-Hot-Encoding)   #\n",
    "##############################################################\n",
    "y_train = keras.utils.to_categorical(y_train, num_classes)\n",
    "y_test = keras.utils.to_categorical(y_test, num_classes)"
   ]
  },
  {
   "cell_type": "markdown",
   "metadata": {},
   "source": [
    "#### ▶️ Modellarchitektur<br>"
   ]
  },
  {
   "cell_type": "code",
   "execution_count": 55,
   "metadata": {},
   "outputs": [
    {
     "data": {
      "text/html": [
       "<pre style=\"white-space:pre;overflow-x:auto;line-height:normal;font-family:Menlo,'DejaVu Sans Mono',consolas,'Courier New',monospace\"><span style=\"font-weight: bold\">Model: \"sequential_6\"</span>\n",
       "</pre>\n"
      ],
      "text/plain": [
       "\u001b[1mModel: \"sequential_6\"\u001b[0m\n"
      ]
     },
     "metadata": {},
     "output_type": "display_data"
    },
    {
     "data": {
      "text/html": [
       "<pre style=\"white-space:pre;overflow-x:auto;line-height:normal;font-family:Menlo,'DejaVu Sans Mono',consolas,'Courier New',monospace\">┏━━━━━━━━━━━━━━━━━━━━━━━━━━━━━━━━━┳━━━━━━━━━━━━━━━━━━━━━━━━┳━━━━━━━━━━━━━━━┓\n",
       "┃<span style=\"font-weight: bold\"> Layer (type)                    </span>┃<span style=\"font-weight: bold\"> Output Shape           </span>┃<span style=\"font-weight: bold\">       Param # </span>┃\n",
       "┡━━━━━━━━━━━━━━━━━━━━━━━━━━━━━━━━━╇━━━━━━━━━━━━━━━━━━━━━━━━╇━━━━━━━━━━━━━━━┩\n",
       "│ conv1d_10 (<span style=\"color: #0087ff; text-decoration-color: #0087ff\">Conv1D</span>)              │ (<span style=\"color: #00d7ff; text-decoration-color: #00d7ff\">None</span>, <span style=\"color: #00af00; text-decoration-color: #00af00\">61</span>, <span style=\"color: #00af00; text-decoration-color: #00af00\">64</span>)         │           <span style=\"color: #00af00; text-decoration-color: #00af00\">320</span> │\n",
       "├─────────────────────────────────┼────────────────────────┼───────────────┤\n",
       "│ conv1d_11 (<span style=\"color: #0087ff; text-decoration-color: #0087ff\">Conv1D</span>)              │ (<span style=\"color: #00d7ff; text-decoration-color: #00d7ff\">None</span>, <span style=\"color: #00af00; text-decoration-color: #00af00\">58</span>, <span style=\"color: #00af00; text-decoration-color: #00af00\">64</span>)         │        <span style=\"color: #00af00; text-decoration-color: #00af00\">16,448</span> │\n",
       "├─────────────────────────────────┼────────────────────────┼───────────────┤\n",
       "│ flatten_5 (<span style=\"color: #0087ff; text-decoration-color: #0087ff\">Flatten</span>)             │ (<span style=\"color: #00d7ff; text-decoration-color: #00d7ff\">None</span>, <span style=\"color: #00af00; text-decoration-color: #00af00\">3712</span>)           │             <span style=\"color: #00af00; text-decoration-color: #00af00\">0</span> │\n",
       "├─────────────────────────────────┼────────────────────────┼───────────────┤\n",
       "│ dense_10 (<span style=\"color: #0087ff; text-decoration-color: #0087ff\">Dense</span>)                │ (<span style=\"color: #00d7ff; text-decoration-color: #00d7ff\">None</span>, <span style=\"color: #00af00; text-decoration-color: #00af00\">64</span>)             │       <span style=\"color: #00af00; text-decoration-color: #00af00\">237,632</span> │\n",
       "├─────────────────────────────────┼────────────────────────┼───────────────┤\n",
       "│ dense_11 (<span style=\"color: #0087ff; text-decoration-color: #0087ff\">Dense</span>)                │ (<span style=\"color: #00d7ff; text-decoration-color: #00d7ff\">None</span>, <span style=\"color: #00af00; text-decoration-color: #00af00\">4</span>)              │           <span style=\"color: #00af00; text-decoration-color: #00af00\">260</span> │\n",
       "└─────────────────────────────────┴────────────────────────┴───────────────┘\n",
       "</pre>\n"
      ],
      "text/plain": [
       "┏━━━━━━━━━━━━━━━━━━━━━━━━━━━━━━━━━┳━━━━━━━━━━━━━━━━━━━━━━━━┳━━━━━━━━━━━━━━━┓\n",
       "┃\u001b[1m \u001b[0m\u001b[1mLayer (type)                   \u001b[0m\u001b[1m \u001b[0m┃\u001b[1m \u001b[0m\u001b[1mOutput Shape          \u001b[0m\u001b[1m \u001b[0m┃\u001b[1m \u001b[0m\u001b[1m      Param #\u001b[0m\u001b[1m \u001b[0m┃\n",
       "┡━━━━━━━━━━━━━━━━━━━━━━━━━━━━━━━━━╇━━━━━━━━━━━━━━━━━━━━━━━━╇━━━━━━━━━━━━━━━┩\n",
       "│ conv1d_10 (\u001b[38;5;33mConv1D\u001b[0m)              │ (\u001b[38;5;45mNone\u001b[0m, \u001b[38;5;34m61\u001b[0m, \u001b[38;5;34m64\u001b[0m)         │           \u001b[38;5;34m320\u001b[0m │\n",
       "├─────────────────────────────────┼────────────────────────┼───────────────┤\n",
       "│ conv1d_11 (\u001b[38;5;33mConv1D\u001b[0m)              │ (\u001b[38;5;45mNone\u001b[0m, \u001b[38;5;34m58\u001b[0m, \u001b[38;5;34m64\u001b[0m)         │        \u001b[38;5;34m16,448\u001b[0m │\n",
       "├─────────────────────────────────┼────────────────────────┼───────────────┤\n",
       "│ flatten_5 (\u001b[38;5;33mFlatten\u001b[0m)             │ (\u001b[38;5;45mNone\u001b[0m, \u001b[38;5;34m3712\u001b[0m)           │             \u001b[38;5;34m0\u001b[0m │\n",
       "├─────────────────────────────────┼────────────────────────┼───────────────┤\n",
       "│ dense_10 (\u001b[38;5;33mDense\u001b[0m)                │ (\u001b[38;5;45mNone\u001b[0m, \u001b[38;5;34m64\u001b[0m)             │       \u001b[38;5;34m237,632\u001b[0m │\n",
       "├─────────────────────────────────┼────────────────────────┼───────────────┤\n",
       "│ dense_11 (\u001b[38;5;33mDense\u001b[0m)                │ (\u001b[38;5;45mNone\u001b[0m, \u001b[38;5;34m4\u001b[0m)              │           \u001b[38;5;34m260\u001b[0m │\n",
       "└─────────────────────────────────┴────────────────────────┴───────────────┘\n"
      ]
     },
     "metadata": {},
     "output_type": "display_data"
    },
    {
     "data": {
      "text/html": [
       "<pre style=\"white-space:pre;overflow-x:auto;line-height:normal;font-family:Menlo,'DejaVu Sans Mono',consolas,'Courier New',monospace\"><span style=\"font-weight: bold\"> Total params: </span><span style=\"color: #00af00; text-decoration-color: #00af00\">254,660</span> (994.77 KB)\n",
       "</pre>\n"
      ],
      "text/plain": [
       "\u001b[1m Total params: \u001b[0m\u001b[38;5;34m254,660\u001b[0m (994.77 KB)\n"
      ]
     },
     "metadata": {},
     "output_type": "display_data"
    },
    {
     "data": {
      "text/html": [
       "<pre style=\"white-space:pre;overflow-x:auto;line-height:normal;font-family:Menlo,'DejaVu Sans Mono',consolas,'Courier New',monospace\"><span style=\"font-weight: bold\"> Trainable params: </span><span style=\"color: #00af00; text-decoration-color: #00af00\">254,660</span> (994.77 KB)\n",
       "</pre>\n"
      ],
      "text/plain": [
       "\u001b[1m Trainable params: \u001b[0m\u001b[38;5;34m254,660\u001b[0m (994.77 KB)\n"
      ]
     },
     "metadata": {},
     "output_type": "display_data"
    },
    {
     "data": {
      "text/html": [
       "<pre style=\"white-space:pre;overflow-x:auto;line-height:normal;font-family:Menlo,'DejaVu Sans Mono',consolas,'Courier New',monospace\"><span style=\"font-weight: bold\"> Non-trainable params: </span><span style=\"color: #00af00; text-decoration-color: #00af00\">0</span> (0.00 B)\n",
       "</pre>\n"
      ],
      "text/plain": [
       "\u001b[1m Non-trainable params: \u001b[0m\u001b[38;5;34m0\u001b[0m (0.00 B)\n"
      ]
     },
     "metadata": {},
     "output_type": "display_data"
    }
   ],
   "source": [
    "##############################################################\n",
    "# Hyperparameter                                             #\n",
    "##############################################################\n",
    "batch_size = 64\n",
    "epochs = 16\n",
    "\n",
    "initializer='glorot_uniform'\n",
    "\n",
    "\n",
    "##############################################################\n",
    "# Modell erstellen                                           #\n",
    "##############################################################\n",
    "model = keras.Sequential()\n",
    "model.add(layers.InputLayer(input_shape))\n",
    "\n",
    "model.add(layers.Conv1D(64, 4, activation='relu', input_shape=input_shape, kernel_initializer=initializer))\n",
    "\n",
    "model.add(layers.Conv1D(64, 4, activation='relu'))\n",
    "\n",
    "model.add(layers.Flatten())\n",
    "\n",
    "model.add(layers.Dense(64, activation='relu'))\n",
    "\n",
    "\n",
    "model.add(layers.Dense(num_classes, activation = 'softmax'))\n",
    "\n",
    "# Modellparameter ausgeben\n",
    "model.summary()"
   ]
  },
  {
   "cell_type": "code",
   "execution_count": 56,
   "metadata": {},
   "outputs": [
    {
     "name": "stdout",
     "output_type": "stream",
     "text": [
      "Epoch 1/16\n",
      "\u001b[1m52/52\u001b[0m \u001b[32m━━━━━━━━━━━━━━━━━━━━\u001b[0m\u001b[37m\u001b[0m \u001b[1m2s\u001b[0m 9ms/step - accuracy: 0.5298 - loss: 1.0259 - val_accuracy: 0.7720 - val_loss: 0.5472 - learning_rate: 0.0010\n",
      "Epoch 2/16\n",
      "\u001b[1m52/52\u001b[0m \u001b[32m━━━━━━━━━━━━━━━━━━━━\u001b[0m\u001b[37m\u001b[0m \u001b[1m0s\u001b[0m 6ms/step - accuracy: 0.7827 - loss: 0.4827 - val_accuracy: 0.7995 - val_loss: 0.4644 - learning_rate: 0.0010\n",
      "Epoch 3/16\n",
      "\u001b[1m52/52\u001b[0m \u001b[32m━━━━━━━━━━━━━━━━━━━━\u001b[0m\u001b[37m\u001b[0m \u001b[1m0s\u001b[0m 6ms/step - accuracy: 0.8296 - loss: 0.3703 - val_accuracy: 0.7940 - val_loss: 0.4249 - learning_rate: 0.0010\n",
      "Epoch 4/16\n",
      "\u001b[1m52/52\u001b[0m \u001b[32m━━━━━━━━━━━━━━━━━━━━\u001b[0m\u001b[37m\u001b[0m \u001b[1m0s\u001b[0m 6ms/step - accuracy: 0.8848 - loss: 0.2897 - val_accuracy: 0.8214 - val_loss: 0.3996 - learning_rate: 0.0010\n",
      "Epoch 5/16\n",
      "\u001b[1m52/52\u001b[0m \u001b[32m━━━━━━━━━━━━━━━━━━━━\u001b[0m\u001b[37m\u001b[0m \u001b[1m0s\u001b[0m 6ms/step - accuracy: 0.9006 - loss: 0.2560 - val_accuracy: 0.8407 - val_loss: 0.3537 - learning_rate: 0.0010\n",
      "Epoch 6/16\n",
      "\u001b[1m52/52\u001b[0m \u001b[32m━━━━━━━━━━━━━━━━━━━━\u001b[0m\u001b[37m\u001b[0m \u001b[1m0s\u001b[0m 6ms/step - accuracy: 0.9252 - loss: 0.2058 - val_accuracy: 0.8764 - val_loss: 0.3484 - learning_rate: 0.0010\n",
      "Epoch 7/16\n",
      "\u001b[1m52/52\u001b[0m \u001b[32m━━━━━━━━━━━━━━━━━━━━\u001b[0m\u001b[37m\u001b[0m \u001b[1m0s\u001b[0m 6ms/step - accuracy: 0.9495 - loss: 0.1439 - val_accuracy: 0.8681 - val_loss: 0.3558 - learning_rate: 0.0010\n",
      "Epoch 8/16\n",
      "\u001b[1m52/52\u001b[0m \u001b[32m━━━━━━━━━━━━━━━━━━━━\u001b[0m\u001b[37m\u001b[0m \u001b[1m0s\u001b[0m 6ms/step - accuracy: 0.9653 - loss: 0.1032 - val_accuracy: 0.8819 - val_loss: 0.3674 - learning_rate: 0.0010\n",
      "Epoch 9/16\n",
      "\u001b[1m52/52\u001b[0m \u001b[32m━━━━━━━━━━━━━━━━━━━━\u001b[0m\u001b[37m\u001b[0m \u001b[1m0s\u001b[0m 6ms/step - accuracy: 0.9836 - loss: 0.0667 - val_accuracy: 0.8929 - val_loss: 0.3660 - learning_rate: 0.0010\n",
      "Epoch 10/16\n",
      "\u001b[1m52/52\u001b[0m \u001b[32m━━━━━━━━━━━━━━━━━━━━\u001b[0m\u001b[37m\u001b[0m \u001b[1m0s\u001b[0m 6ms/step - accuracy: 0.9826 - loss: 0.0605 - val_accuracy: 0.8681 - val_loss: 0.4380 - learning_rate: 0.0010\n",
      "Epoch 11/16\n",
      "\u001b[1m52/52\u001b[0m \u001b[32m━━━━━━━━━━━━━━━━━━━━\u001b[0m\u001b[37m\u001b[0m \u001b[1m0s\u001b[0m 6ms/step - accuracy: 0.9729 - loss: 0.0694 - val_accuracy: 0.8984 - val_loss: 0.3688 - learning_rate: 0.0010\n",
      "Epoch 12/16\n",
      "\u001b[1m52/52\u001b[0m \u001b[32m━━━━━━━━━━━━━━━━━━━━\u001b[0m\u001b[37m\u001b[0m \u001b[1m0s\u001b[0m 6ms/step - accuracy: 0.9952 - loss: 0.0338 - val_accuracy: 0.9011 - val_loss: 0.4028 - learning_rate: 0.0010\n",
      "Epoch 13/16\n",
      "\u001b[1m52/52\u001b[0m \u001b[32m━━━━━━━━━━━━━━━━━━━━\u001b[0m\u001b[37m\u001b[0m \u001b[1m0s\u001b[0m 6ms/step - accuracy: 0.9991 - loss: 0.0191 - val_accuracy: 0.8846 - val_loss: 0.4444 - learning_rate: 0.0010\n",
      "Epoch 14/16\n",
      "\u001b[1m52/52\u001b[0m \u001b[32m━━━━━━━━━━━━━━━━━━━━\u001b[0m\u001b[37m\u001b[0m \u001b[1m0s\u001b[0m 6ms/step - accuracy: 1.0000 - loss: 0.0093 - val_accuracy: 0.8984 - val_loss: 0.4388 - learning_rate: 0.0010\n",
      "Epoch 15/16\n",
      "\u001b[1m52/52\u001b[0m \u001b[32m━━━━━━━━━━━━━━━━━━━━\u001b[0m\u001b[37m\u001b[0m \u001b[1m0s\u001b[0m 6ms/step - accuracy: 1.0000 - loss: 0.0064 - val_accuracy: 0.9011 - val_loss: 0.4430 - learning_rate: 0.0010\n",
      "Epoch 16/16\n",
      "\u001b[1m52/52\u001b[0m \u001b[32m━━━━━━━━━━━━━━━━━━━━\u001b[0m\u001b[37m\u001b[0m \u001b[1m0s\u001b[0m 6ms/step - accuracy: 1.0000 - loss: 0.0041 - val_accuracy: 0.8929 - val_loss: 0.4640 - learning_rate: 0.0010\n"
     ]
    }
   ],
   "source": [
    "# Modell kompilieren\n",
    "model.compile(\n",
    "    optimizer='adam',\n",
    "    loss = 'categorical_crossentropy',\n",
    "    metrics=['accuracy']\n",
    ")\n",
    "\n",
    "# Parameter und Daten an Modell übergeben\n",
    "# Training durchführen\n",
    "history = model.fit(\n",
    "    X_train,\n",
    "    y_train,\n",
    "    validation_split=0.1,\n",
    "    batch_size=batch_size,    \n",
    "    epochs=epochs,\n",
    "    callbacks=[\n",
    "        tf.keras.callbacks.ReduceLROnPlateau(),\n",
    "    ]\n",
    ")"
   ]
  },
  {
   "cell_type": "code",
   "execution_count": null,
   "metadata": {},
   "outputs": [],
   "source": [
    "\"\"\"\n",
    "Export NN to C++\n",
    "Copy-paste the generated code inside a file named model.h or irisModel.h\n",
    "in your Arduino project\n",
    "\"\"\"\n",
    "from everywhereml.code_generators.tensorflow import convert_model\n",
    "\n",
    "\n",
    "c_header = convert_model(model, X_train, y_train, model_name='1DCNN')\n",
    "print(c_header)"
   ]
  },
  {
   "cell_type": "markdown",
   "metadata": {},
   "source": [
    "### ▶️ Ausgabe der Funktionen für Verlust und Genauigkeit"
   ]
  },
  {
   "cell_type": "code",
   "execution_count": null,
   "metadata": {
    "id": "hKYDX19s1oH3"
   },
   "outputs": [],
   "source": [
    "plt.figure(figsize=(16, 10))\n",
    "\n",
    "plt.plot(range(epochs), history.history['loss'], label=\"Trainingsverlust\")\n",
    "plt.plot(range(epochs), history.history['val_loss'], label=\"Validationsverlust\")\n",
    "\n",
    "plt.xlabel(\"Epochen\")\n",
    "plt.ylabel(\"Verlust\")\n",
    "plt.legend()\n",
    "plt.title(\"Verlauf der Verlustfunktion\")\n",
    "\n",
    "plt.show()"
   ]
  },
  {
   "cell_type": "code",
   "execution_count": null,
   "metadata": {},
   "outputs": [],
   "source": [
    "plt.figure(figsize=(16, 10))\n",
    "\n",
    "plt.plot(range(epochs), history.history['accuracy'], label=\"Trainingsgenauigkeit\")\n",
    "plt.plot(range(epochs), history.history['val_accuracy'], label=\"Validationsgenauigkeit\")\n",
    "\n",
    "plt.xlabel(\"Epochen\")\n",
    "plt.ylabel(\"Genauigkeit\")\n",
    "plt.legend()\n",
    "plt.title(\"Verlauf der Genauigkeitsfunktion\")\n",
    "\n",
    "plt.show()"
   ]
  },
  {
   "cell_type": "markdown",
   "metadata": {},
   "source": [
    "### ▶️ Scores zur Beurteilung der Modellqualität "
   ]
  },
  {
   "cell_type": "code",
   "execution_count": null,
   "metadata": {},
   "outputs": [],
   "source": [
    "score = model.evaluate(X_test, y_test, verbose=0)\n",
    "print(\"Testverlust :\", score[0])\n",
    "print(\"Testgenauigkeit :\", score[1])"
   ]
  },
  {
   "cell_type": "code",
   "execution_count": null,
   "metadata": {},
   "outputs": [],
   "source": [
    "y = model.predict(np.array(Features))[50]\n",
    "print(\"Es handelt sich um Geste : \" + str(np.argmax(y)))"
   ]
  },
  {
   "cell_type": "markdown",
   "metadata": {},
   "source": [
    "### ▶️ Metriken zur Beurteilung der Modellqualität "
   ]
  },
  {
   "cell_type": "code",
   "execution_count": null,
   "metadata": {},
   "outputs": [],
   "source": [
    "y_test_arg=np.argmax(y_test,axis=1)\n",
    "y_pred = np.argmax(model.predict(X_test),axis=1)\n",
    " \n",
    "cm = confusion_matrix(y_test_arg, y_pred)\n",
    "\n",
    "plt.figure(figsize=(6, 6))\n",
    "sns.heatmap(cm, annot=True, fmt='g', cmap='Greens', cbar=False)\n",
    "plt.xlabel(\"Vorhersagen\")\n",
    "plt.ylabel(\"Geste\")\n",
    "plt.title(\"Konfusionsmatrix\")\n",
    "plt.show()\n",
    "\n",
    "print(classification_report(y_test_arg, y_pred))"
   ]
  }
 ],
 "metadata": {
  "colab": {
   "authorship_tag": "ABX9TyNuAXIB7ixK/3gtqh86Wo2I",
   "include_colab_link": true,
   "provenance": []
  },
  "kernelspec": {
   "display_name": "Python 3 (ipykernel)",
   "language": "python",
   "name": "python3"
  },
  "language_info": {
   "codemirror_mode": {
    "name": "ipython",
    "version": 3
   },
   "file_extension": ".py",
   "mimetype": "text/x-python",
   "name": "python",
   "nbconvert_exporter": "python",
   "pygments_lexer": "ipython3",
   "version": "3.12.2"
  }
 },
 "nbformat": 4,
 "nbformat_minor": 4
}

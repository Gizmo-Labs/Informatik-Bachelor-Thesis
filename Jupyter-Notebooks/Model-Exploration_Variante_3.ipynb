{
 "cells": [
  {
   "cell_type": "markdown",
   "metadata": {},
   "source": [
    "## Bachelor Thesis - Informatik\n",
    "\n",
    "### Variante 3 :\n",
    "### Multiclass-Klassifizierung mit 1D Convolutional Neuronal Network\n",
    "***\n",
    "\n",
    "<div align=\"left\">\n",
    "<h2><img src=\"https://i.giphy.com/media/v1.Y2lkPTc5MGI3NjExZ2hrOGtveWx0ZGxsaGFsYXNzbjVhOTNyaTg2cG44anZ5eWd5a3ZyMyZlcD12MV9pbnRlcm5hbF9naWZfYnlfaWQmY3Q9Zw/l3vRcrVqhBVSpJte0/giphy.gif\" width=\"200\" alt=\"Data\"></h2>\n",
    "</div>\n",
    "\n",
    "Beschreibung der zugrunde liegenden Daten :\n",
    "\n",
    "###### ☑️ Die Daten wurden von einem Myo-Armband per Bluetooth LE an einen ESP32S3 übertragen\n",
    "\n",
    "###### ☑️ Sämtliche Daten wurden mit folgender Lösung [Processing-Grapher](https://github.com/chillibasket/processing-grapher.git) aufgezeichnet und als .csv-Datei gespeichert\n",
    "\n",
    "###### ☑️ Vier Testpersonen, davon eine weibliche und drei männliche Personen standen zur Verfügung\n",
    "\n",
    "###### ☑️ Alle Personen haben die folgenden vier Gesten in gleicher Position ausgeführt :\n",
    "\n",
    "<img src=\"./Gestenbilder/Eigene_Geste_0.png\" width=\"150\">    <img src=\"./Gestenbilder/Eigene_Geste_1.png\" width=\"150\">    <img src=\"./Gestenbilder/Eigene_Geste_2.png\" width=\"150\">      <img src=\"./Gestenbilder/Eigene_Geste_3.png\" width=\"150\">\n",
    "\n"
   ]
  },
  {
   "cell_type": "markdown",
   "metadata": {
    "id": "XQZWkqdN6PR7"
   },
   "source": [
    "##### ▶️ Installation notwendiger Python-Bibliotheken\n",
    "***"
   ]
  },
  {
   "cell_type": "code",
   "execution_count": 1,
   "metadata": {
    "colab": {
     "base_uri": "https://localhost:8080/"
    },
    "id": "lERCtA9K5wBW",
    "outputId": "5b9cc7ce-37f2-47eb-a1c6-a7a5cc6f4bd1"
   },
   "outputs": [],
   "source": [
    "##############################################################\n",
    "#      Dieses Notebook wurde mit Python 3.9.13 getestet      #\n",
    "#                                                            #\n",
    "#           Andere Versionen haben teilweise                 #\n",
    "#           Kompatbilitätsprobleme verursacht                #\n",
    "#                                                            #\n",
    "#      This Notebook was tested with Python 3.9.13           #\n",
    "#                                                            #\n",
    "#              Other Versions can cause                      #\n",
    "#                Compatibilityproblems                       #\n",
    "#                                                            #\n",
    "##############################################################"
   ]
  },
  {
   "cell_type": "code",
   "execution_count": 2,
   "metadata": {},
   "outputs": [
    {
     "name": "stdout",
     "output_type": "stream",
     "text": [
      "Requirement already satisfied: scikit-learn==1.0.2 in c:\\users\\gizmo\\appdata\\local\\programs\\python\\python39\\lib\\site-packages (from -r requirements.txt (line 1)) (1.0.2)\n",
      "Requirement already satisfied: numpy==1.24.0 in c:\\users\\gizmo\\appdata\\local\\programs\\python\\python39\\lib\\site-packages (from -r requirements.txt (line 2)) (1.24.0)\n",
      "Requirement already satisfied: seaborn==0.11.2 in c:\\users\\gizmo\\appdata\\local\\programs\\python\\python39\\lib\\site-packages (from -r requirements.txt (line 3)) (0.11.2)\n",
      "Requirement already satisfied: pandas==1.4.0 in c:\\users\\gizmo\\appdata\\local\\programs\\python\\python39\\lib\\site-packages (from -r requirements.txt (line 4)) (1.4.0)\n",
      "Requirement already satisfied: matplotlib==3.7.1 in c:\\users\\gizmo\\appdata\\local\\programs\\python\\python39\\lib\\site-packages (from -r requirements.txt (line 5)) (3.7.1)\n",
      "Requirement already satisfied: tensorflow==2.15.1 in c:\\users\\gizmo\\appdata\\local\\programs\\python\\python39\\lib\\site-packages (from -r requirements.txt (line 6)) (2.15.1)\n",
      "Requirement already satisfied: tf-keras==2.15.1 in c:\\users\\gizmo\\appdata\\local\\programs\\python\\python39\\lib\\site-packages (from -r requirements.txt (line 7)) (2.15.1)\n",
      "Requirement already satisfied: scipy>=1.1.0 in c:\\users\\gizmo\\appdata\\local\\programs\\python\\python39\\lib\\site-packages (from scikit-learn==1.0.2->-r requirements.txt (line 1)) (1.13.1)\n",
      "Requirement already satisfied: threadpoolctl>=2.0.0 in c:\\users\\gizmo\\appdata\\local\\programs\\python\\python39\\lib\\site-packages (from scikit-learn==1.0.2->-r requirements.txt (line 1)) (3.5.0)\n",
      "Requirement already satisfied: joblib>=0.11 in c:\\users\\gizmo\\appdata\\local\\programs\\python\\python39\\lib\\site-packages (from scikit-learn==1.0.2->-r requirements.txt (line 1)) (1.4.2)\n",
      "Requirement already satisfied: python-dateutil>=2.8.1 in c:\\users\\gizmo\\appdata\\roaming\\python\\python39\\site-packages (from pandas==1.4.0->-r requirements.txt (line 4)) (2.9.0.post0)\n",
      "Requirement already satisfied: pytz>=2020.1 in c:\\users\\gizmo\\appdata\\local\\programs\\python\\python39\\lib\\site-packages (from pandas==1.4.0->-r requirements.txt (line 4)) (2024.1)\n",
      "Requirement already satisfied: fonttools>=4.22.0 in c:\\users\\gizmo\\appdata\\local\\programs\\python\\python39\\lib\\site-packages (from matplotlib==3.7.1->-r requirements.txt (line 5)) (4.53.1)\n",
      "Requirement already satisfied: kiwisolver>=1.0.1 in c:\\users\\gizmo\\appdata\\local\\programs\\python\\python39\\lib\\site-packages (from matplotlib==3.7.1->-r requirements.txt (line 5)) (1.4.5)\n",
      "Requirement already satisfied: pyparsing>=2.3.1 in c:\\users\\gizmo\\appdata\\local\\programs\\python\\python39\\lib\\site-packages (from matplotlib==3.7.1->-r requirements.txt (line 5)) (3.1.2)\n",
      "Requirement already satisfied: cycler>=0.10 in c:\\users\\gizmo\\appdata\\local\\programs\\python\\python39\\lib\\site-packages (from matplotlib==3.7.1->-r requirements.txt (line 5)) (0.12.1)\n",
      "Requirement already satisfied: pillow>=6.2.0 in c:\\users\\gizmo\\appdata\\local\\programs\\python\\python39\\lib\\site-packages (from matplotlib==3.7.1->-r requirements.txt (line 5)) (10.4.0)\n",
      "Requirement already satisfied: packaging>=20.0 in c:\\users\\gizmo\\appdata\\roaming\\python\\python39\\site-packages (from matplotlib==3.7.1->-r requirements.txt (line 5)) (24.1)\n",
      "Requirement already satisfied: contourpy>=1.0.1 in c:\\users\\gizmo\\appdata\\local\\programs\\python\\python39\\lib\\site-packages (from matplotlib==3.7.1->-r requirements.txt (line 5)) (1.2.1)\n",
      "Requirement already satisfied: importlib-resources>=3.2.0 in c:\\users\\gizmo\\appdata\\local\\programs\\python\\python39\\lib\\site-packages (from matplotlib==3.7.1->-r requirements.txt (line 5)) (6.4.0)\n",
      "Requirement already satisfied: tensorflow-intel==2.15.1 in c:\\users\\gizmo\\appdata\\local\\programs\\python\\python39\\lib\\site-packages (from tensorflow==2.15.1->-r requirements.txt (line 6)) (2.15.1)\n",
      "Requirement already satisfied: astunparse>=1.6.0 in c:\\users\\gizmo\\appdata\\local\\programs\\python\\python39\\lib\\site-packages (from tensorflow-intel==2.15.1->tensorflow==2.15.1->-r requirements.txt (line 6)) (1.6.3)\n",
      "Requirement already satisfied: grpcio<2.0,>=1.24.3 in c:\\users\\gizmo\\appdata\\local\\programs\\python\\python39\\lib\\site-packages (from tensorflow-intel==2.15.1->tensorflow==2.15.1->-r requirements.txt (line 6)) (1.65.4)\n",
      "Requirement already satisfied: typing-extensions>=3.6.6 in c:\\users\\gizmo\\appdata\\roaming\\python\\python39\\site-packages (from tensorflow-intel==2.15.1->tensorflow==2.15.1->-r requirements.txt (line 6)) (4.12.2)\n",
      "Requirement already satisfied: flatbuffers>=23.5.26 in c:\\users\\gizmo\\appdata\\local\\programs\\python\\python39\\lib\\site-packages (from tensorflow-intel==2.15.1->tensorflow==2.15.1->-r requirements.txt (line 6)) (24.3.25)\n",
      "Requirement already satisfied: gast!=0.5.0,!=0.5.1,!=0.5.2,>=0.2.1 in c:\\users\\gizmo\\appdata\\local\\programs\\python\\python39\\lib\\site-packages (from tensorflow-intel==2.15.1->tensorflow==2.15.1->-r requirements.txt (line 6)) (0.6.0)\n",
      "Requirement already satisfied: h5py>=2.9.0 in c:\\users\\gizmo\\appdata\\local\\programs\\python\\python39\\lib\\site-packages (from tensorflow-intel==2.15.1->tensorflow==2.15.1->-r requirements.txt (line 6)) (3.11.0)\n",
      "Requirement already satisfied: absl-py>=1.0.0 in c:\\users\\gizmo\\appdata\\local\\programs\\python\\python39\\lib\\site-packages (from tensorflow-intel==2.15.1->tensorflow==2.15.1->-r requirements.txt (line 6)) (2.1.0)\n",
      "Requirement already satisfied: google-pasta>=0.1.1 in c:\\users\\gizmo\\appdata\\local\\programs\\python\\python39\\lib\\site-packages (from tensorflow-intel==2.15.1->tensorflow==2.15.1->-r requirements.txt (line 6)) (0.2.0)\n",
      "Requirement already satisfied: six>=1.12.0 in c:\\users\\gizmo\\appdata\\roaming\\python\\python39\\site-packages (from tensorflow-intel==2.15.1->tensorflow==2.15.1->-r requirements.txt (line 6)) (1.16.0)\n",
      "Requirement already satisfied: wrapt<1.15,>=1.11.0 in c:\\users\\gizmo\\appdata\\local\\programs\\python\\python39\\lib\\site-packages (from tensorflow-intel==2.15.1->tensorflow==2.15.1->-r requirements.txt (line 6)) (1.14.1)\n",
      "Requirement already satisfied: keras<2.16,>=2.15.0 in c:\\users\\gizmo\\appdata\\local\\programs\\python\\python39\\lib\\site-packages (from tensorflow-intel==2.15.1->tensorflow==2.15.1->-r requirements.txt (line 6)) (2.15.0)\n",
      "Requirement already satisfied: tensorboard<2.16,>=2.15 in c:\\users\\gizmo\\appdata\\local\\programs\\python\\python39\\lib\\site-packages (from tensorflow-intel==2.15.1->tensorflow==2.15.1->-r requirements.txt (line 6)) (2.15.2)\n",
      "Requirement already satisfied: tensorflow-estimator<2.16,>=2.15.0 in c:\\users\\gizmo\\appdata\\local\\programs\\python\\python39\\lib\\site-packages (from tensorflow-intel==2.15.1->tensorflow==2.15.1->-r requirements.txt (line 6)) (2.15.0)\n",
      "Requirement already satisfied: opt-einsum>=2.3.2 in c:\\users\\gizmo\\appdata\\local\\programs\\python\\python39\\lib\\site-packages (from tensorflow-intel==2.15.1->tensorflow==2.15.1->-r requirements.txt (line 6)) (3.3.0)\n",
      "Requirement already satisfied: libclang>=13.0.0 in c:\\users\\gizmo\\appdata\\local\\programs\\python\\python39\\lib\\site-packages (from tensorflow-intel==2.15.1->tensorflow==2.15.1->-r requirements.txt (line 6)) (18.1.1)\n",
      "Requirement already satisfied: ml-dtypes~=0.3.1 in c:\\users\\gizmo\\appdata\\local\\programs\\python\\python39\\lib\\site-packages (from tensorflow-intel==2.15.1->tensorflow==2.15.1->-r requirements.txt (line 6)) (0.3.2)\n",
      "Requirement already satisfied: termcolor>=1.1.0 in c:\\users\\gizmo\\appdata\\local\\programs\\python\\python39\\lib\\site-packages (from tensorflow-intel==2.15.1->tensorflow==2.15.1->-r requirements.txt (line 6)) (2.4.0)\n",
      "Requirement already satisfied: setuptools in c:\\users\\gizmo\\appdata\\local\\programs\\python\\python39\\lib\\site-packages (from tensorflow-intel==2.15.1->tensorflow==2.15.1->-r requirements.txt (line 6)) (58.1.0)\n",
      "Requirement already satisfied: protobuf!=4.21.0,!=4.21.1,!=4.21.2,!=4.21.3,!=4.21.4,!=4.21.5,<5.0.0dev,>=3.20.3 in c:\\users\\gizmo\\appdata\\local\\programs\\python\\python39\\lib\\site-packages (from tensorflow-intel==2.15.1->tensorflow==2.15.1->-r requirements.txt (line 6)) (4.25.4)\n",
      "Requirement already satisfied: tensorflow-io-gcs-filesystem>=0.23.1 in c:\\users\\gizmo\\appdata\\local\\programs\\python\\python39\\lib\\site-packages (from tensorflow-intel==2.15.1->tensorflow==2.15.1->-r requirements.txt (line 6)) (0.31.0)\n",
      "Requirement already satisfied: zipp>=3.1.0 in c:\\users\\gizmo\\appdata\\roaming\\python\\python39\\site-packages (from importlib-resources>=3.2.0->matplotlib==3.7.1->-r requirements.txt (line 5)) (3.19.2)\n",
      "Requirement already satisfied: wheel<1.0,>=0.23.0 in c:\\users\\gizmo\\appdata\\local\\programs\\python\\python39\\lib\\site-packages (from astunparse>=1.6.0->tensorflow-intel==2.15.1->tensorflow==2.15.1->-r requirements.txt (line 6)) (0.44.0)\n",
      "Requirement already satisfied: tensorboard-data-server<0.8.0,>=0.7.0 in c:\\users\\gizmo\\appdata\\local\\programs\\python\\python39\\lib\\site-packages (from tensorboard<2.16,>=2.15->tensorflow-intel==2.15.1->tensorflow==2.15.1->-r requirements.txt (line 6)) (0.7.2)\n",
      "Requirement already satisfied: requests<3,>=2.21.0 in c:\\users\\gizmo\\appdata\\local\\programs\\python\\python39\\lib\\site-packages (from tensorboard<2.16,>=2.15->tensorflow-intel==2.15.1->tensorflow==2.15.1->-r requirements.txt (line 6)) (2.32.3)\n",
      "Requirement already satisfied: werkzeug>=1.0.1 in c:\\users\\gizmo\\appdata\\local\\programs\\python\\python39\\lib\\site-packages (from tensorboard<2.16,>=2.15->tensorflow-intel==2.15.1->tensorflow==2.15.1->-r requirements.txt (line 6)) (3.0.3)\n",
      "Requirement already satisfied: markdown>=2.6.8 in c:\\users\\gizmo\\appdata\\local\\programs\\python\\python39\\lib\\site-packages (from tensorboard<2.16,>=2.15->tensorflow-intel==2.15.1->tensorflow==2.15.1->-r requirements.txt (line 6)) (3.6)\n",
      "Requirement already satisfied: google-auth-oauthlib<2,>=0.5 in c:\\users\\gizmo\\appdata\\local\\programs\\python\\python39\\lib\\site-packages (from tensorboard<2.16,>=2.15->tensorflow-intel==2.15.1->tensorflow==2.15.1->-r requirements.txt (line 6)) (1.2.1)\n",
      "Requirement already satisfied: google-auth<3,>=1.6.3 in c:\\users\\gizmo\\appdata\\local\\programs\\python\\python39\\lib\\site-packages (from tensorboard<2.16,>=2.15->tensorflow-intel==2.15.1->tensorflow==2.15.1->-r requirements.txt (line 6)) (2.33.0)\n",
      "Requirement already satisfied: cachetools<6.0,>=2.0.0 in c:\\users\\gizmo\\appdata\\local\\programs\\python\\python39\\lib\\site-packages (from google-auth<3,>=1.6.3->tensorboard<2.16,>=2.15->tensorflow-intel==2.15.1->tensorflow==2.15.1->-r requirements.txt (line 6)) (5.4.0)\n",
      "Requirement already satisfied: pyasn1-modules>=0.2.1 in c:\\users\\gizmo\\appdata\\local\\programs\\python\\python39\\lib\\site-packages (from google-auth<3,>=1.6.3->tensorboard<2.16,>=2.15->tensorflow-intel==2.15.1->tensorflow==2.15.1->-r requirements.txt (line 6)) (0.4.0)\n",
      "Requirement already satisfied: rsa<5,>=3.1.4 in c:\\users\\gizmo\\appdata\\local\\programs\\python\\python39\\lib\\site-packages (from google-auth<3,>=1.6.3->tensorboard<2.16,>=2.15->tensorflow-intel==2.15.1->tensorflow==2.15.1->-r requirements.txt (line 6)) (4.9)\n",
      "Requirement already satisfied: requests-oauthlib>=0.7.0 in c:\\users\\gizmo\\appdata\\local\\programs\\python\\python39\\lib\\site-packages (from google-auth-oauthlib<2,>=0.5->tensorboard<2.16,>=2.15->tensorflow-intel==2.15.1->tensorflow==2.15.1->-r requirements.txt (line 6)) (2.0.0)\n",
      "Requirement already satisfied: importlib-metadata>=4.4 in c:\\users\\gizmo\\appdata\\roaming\\python\\python39\\site-packages (from markdown>=2.6.8->tensorboard<2.16,>=2.15->tensorflow-intel==2.15.1->tensorflow==2.15.1->-r requirements.txt (line 6)) (8.2.0)\n",
      "Requirement already satisfied: charset-normalizer<4,>=2 in c:\\users\\gizmo\\appdata\\local\\programs\\python\\python39\\lib\\site-packages (from requests<3,>=2.21.0->tensorboard<2.16,>=2.15->tensorflow-intel==2.15.1->tensorflow==2.15.1->-r requirements.txt (line 6)) (3.3.2)\n",
      "Requirement already satisfied: urllib3<3,>=1.21.1 in c:\\users\\gizmo\\appdata\\local\\programs\\python\\python39\\lib\\site-packages (from requests<3,>=2.21.0->tensorboard<2.16,>=2.15->tensorflow-intel==2.15.1->tensorflow==2.15.1->-r requirements.txt (line 6)) (2.2.2)\n",
      "Requirement already satisfied: certifi>=2017.4.17 in c:\\users\\gizmo\\appdata\\local\\programs\\python\\python39\\lib\\site-packages (from requests<3,>=2.21.0->tensorboard<2.16,>=2.15->tensorflow-intel==2.15.1->tensorflow==2.15.1->-r requirements.txt (line 6)) (2024.7.4)\n",
      "Requirement already satisfied: idna<4,>=2.5 in c:\\users\\gizmo\\appdata\\local\\programs\\python\\python39\\lib\\site-packages (from requests<3,>=2.21.0->tensorboard<2.16,>=2.15->tensorflow-intel==2.15.1->tensorflow==2.15.1->-r requirements.txt (line 6)) (3.7)\n",
      "Requirement already satisfied: MarkupSafe>=2.1.1 in c:\\users\\gizmo\\appdata\\local\\programs\\python\\python39\\lib\\site-packages (from werkzeug>=1.0.1->tensorboard<2.16,>=2.15->tensorflow-intel==2.15.1->tensorflow==2.15.1->-r requirements.txt (line 6)) (2.1.5)\n",
      "Requirement already satisfied: pyasn1<0.7.0,>=0.4.6 in c:\\users\\gizmo\\appdata\\local\\programs\\python\\python39\\lib\\site-packages (from pyasn1-modules>=0.2.1->google-auth<3,>=1.6.3->tensorboard<2.16,>=2.15->tensorflow-intel==2.15.1->tensorflow==2.15.1->-r requirements.txt (line 6)) (0.6.0)\n",
      "Requirement already satisfied: oauthlib>=3.0.0 in c:\\users\\gizmo\\appdata\\local\\programs\\python\\python39\\lib\\site-packages (from requests-oauthlib>=0.7.0->google-auth-oauthlib<2,>=0.5->tensorboard<2.16,>=2.15->tensorflow-intel==2.15.1->tensorflow==2.15.1->-r requirements.txt (line 6)) (3.2.2)\n",
      "Note: you may need to restart the kernel to use updated packages.\n"
     ]
    },
    {
     "name": "stderr",
     "output_type": "stream",
     "text": [
      "WARNING: Ignoring invalid distribution -ensorflow-intel (c:\\users\\gizmo\\appdata\\local\\programs\\python\\python39\\lib\\site-packages)\n",
      "WARNING: Ignoring invalid distribution -ensorflow-intel (c:\\users\\gizmo\\appdata\\local\\programs\\python\\python39\\lib\\site-packages)\n",
      "WARNING: Ignoring invalid distribution -ensorflow-intel (c:\\users\\gizmo\\appdata\\local\\programs\\python\\python39\\lib\\site-packages)\n",
      "WARNING: Ignoring invalid distribution -ensorflow-intel (c:\\users\\gizmo\\appdata\\local\\programs\\python\\python39\\lib\\site-packages)\n",
      "WARNING: Ignoring invalid distribution -ensorflow-intel (c:\\users\\gizmo\\appdata\\local\\programs\\python\\python39\\lib\\site-packages)\n",
      "WARNING: Ignoring invalid distribution -ensorflow-intel (c:\\users\\gizmo\\appdata\\local\\programs\\python\\python39\\lib\\site-packages)\n",
      "WARNING: You are using pip version 22.0.4; however, version 24.2 is available.\n",
      "You should consider upgrading via the 'c:\\Users\\Gizmo\\AppData\\Local\\Programs\\Python\\Python39\\python.exe -m pip install --upgrade pip' command.\n"
     ]
    }
   ],
   "source": [
    "##############################################################\n",
    "# Achtung!! Die Konvertierung des Modells nach C++           #\n",
    "#           funktioniert nur mit Tensorflow <=2.15.1         #\n",
    "#           Keras 3 funktioniert nicht!                      #\n",
    "#                                                            #\n",
    "# Attention! Converting the model to C++ ist only working    #\n",
    "#            with Tensorflow <=2.15.1                        #\n",
    "#            Keras 3 will not work!                          #\n",
    "##############################################################\n",
    "%pip install -r requirements.txt"
   ]
  },
  {
   "cell_type": "markdown",
   "metadata": {},
   "source": [
    "##### ▶️ Importieren notwendiger Python-Bibliotheken\n",
    "***"
   ]
  },
  {
   "cell_type": "code",
   "execution_count": 3,
   "metadata": {
    "id": "qNjJFQ0Y_qRl"
   },
   "outputs": [
    {
     "name": "stdout",
     "output_type": "stream",
     "text": [
      "WARNING:tensorflow:From c:\\Users\\Gizmo\\AppData\\Local\\Programs\\Python\\Python39\\lib\\site-packages\\keras\\src\\losses.py:2976: The name tf.losses.sparse_softmax_cross_entropy is deprecated. Please use tf.compat.v1.losses.sparse_softmax_cross_entropy instead.\n",
      "\n"
     ]
    }
   ],
   "source": [
    "import pandas as pd # type: ignore\n",
    "import numpy as np # type: ignore\n",
    "import seaborn as sns # type: ignore\n",
    "import matplotlib.pyplot as plt # type: ignore\n",
    "\n",
    "from sklearn.model_selection import train_test_split # type: ignore\n",
    "from sklearn.metrics import classification_report, confusion_matrix # type: ignore\n",
    "from sklearn.preprocessing import MinMaxScaler, StandardScaler # type: ignore\n",
    "\n",
    "import tensorflow as tf # type: ignore\n",
    "from tensorflow import keras # type: ignore\n",
    "from keras import layers # type: ignore\n",
    "\n",
    "import logging\n",
    "tf.get_logger().setLevel(logging.ERROR)"
   ]
  },
  {
   "cell_type": "markdown",
   "metadata": {},
   "source": [
    "##### ▶️ Einlesen der aufgezeichneten Daten aus dem Quellordner<br>\n",
    "****"
   ]
  },
  {
   "cell_type": "code",
   "execution_count": 4,
   "metadata": {
    "id": "US2Lj9nc_MkG"
   },
   "outputs": [],
   "source": [
    "# Importiere die .csv-Dateien mit den EMG-Daten der einzelnen Probanden und den einzelnen Labels (Gesten)\n",
    "# Dabei gilt folgendes Schema, siehe auch Bilder im Ordner \"Gestenbilder\"\n",
    "# Label 0 --> Faust\n",
    "# Label 1 --> Daumen hoch\n",
    "# Label 2 --> Schere\n",
    "# Label 3 --> Gespreizte Hand\n",
    "\n",
    "\n",
    "##############################################################\n",
    "# Aufnahme der Einzelgesten                                  #\n",
    "# Datentyp: Python List                                      #\n",
    "##############################################################\n",
    "proband1 = []\n",
    "proband2 = []\n",
    "proband3 = []\n",
    "proband4 = []\n",
    "\n",
    "\n",
    "##############################################################\n",
    "# Baue daraus den Dateipfad und lese Datei ein               #\n",
    "# Schreibe Nummer der Geste in entsprechende Spalte          #\n",
    "##############################################################\n",
    "for label in ['0', '1', '2', '3']:\n",
    "    proband1.append(pd.read_csv('./Eigene Datenaufzeichnungen/P1L' + label + '.csv', sep=',', header=None))    \n",
    "    proband1[int(label)][64] = int(label)\n",
    "\n",
    "for label in ['0', '1', '2', '3']:\n",
    "    proband2.append(pd.read_csv('./Eigene Datenaufzeichnungen/P2L' + label + '.csv', sep=',', header=None))    \n",
    "    proband2[int(label)][64] = int(label)\n",
    "\n",
    "for label in ['0', '1', '2', '3']:\n",
    "    proband3.append(pd.read_csv('./Eigene Datenaufzeichnungen/P3L' + label + '.csv', sep=',', header=None))    \n",
    "    proband3[int(label)][64] = int(label)\n",
    "\n",
    "for label in ['0', '1', '2', '3']:\n",
    "    proband4.append(pd.read_csv('./Eigene Datenaufzeichnungen/P4L' + label + '.csv', sep=',', header=None))    \n",
    "    proband4[int(label)][64] = int(label)\n",
    "\n",
    "\n",
    "##############################################################\n",
    "# Schreibe alle Unterlisten in jeweils ein Dataframe         #\n",
    "# Datentyp: Pandas Dataframe                                 #\n",
    "##############################################################\n",
    "proband1 = pd.concat([df for df in proband1], axis=0).reset_index(drop=True)\n",
    "proband2 = pd.concat([df for df in proband2], axis=0).reset_index(drop=True)\n",
    "proband3 = pd.concat([df for df in proband3], axis=0).reset_index(drop=True)\n",
    "proband4 = pd.concat([df for df in proband4], axis=0).reset_index(drop=True)\n",
    "\n",
    "\n",
    "##############################################################\n",
    "# Schreibe alle Sub-Dataframes in ein gesamtes Dataframe     #\n",
    "# Datentyp: Pandas Dataframe                                 #\n",
    "##############################################################\n",
    "all_data = pd.concat([proband1, proband2, proband3, proband4]).reset_index(drop=True)"
   ]
  },
  {
   "cell_type": "markdown",
   "metadata": {},
   "source": [
    "##### ▶️ Umwandlung der Daten in geeignete Formate"
   ]
  },
  {
   "cell_type": "code",
   "execution_count": 5,
   "metadata": {},
   "outputs": [
    {
     "name": "stdout",
     "output_type": "stream",
     "text": [
      "Anzahl der Klassen :  4\n",
      "Form der Klassen :  (4, 1)\n",
      "Form der Features :  (6064, 64)\n",
      "Form der Labels :  (6064, 1)\n"
     ]
    }
   ],
   "source": [
    "##############################################################\n",
    "# Einzelwerte der Labels auslesen                            #\n",
    "# Datentyp Pandas Dataframe                                  #\n",
    "##############################################################\n",
    "Labels = all_data[all_data.columns[-1]]\n",
    "Labels = np.array(Labels).astype('int')\n",
    "Labels = np.expand_dims(Labels, -1)\n",
    "\n",
    "\n",
    "##############################################################\n",
    "# Klassen aus den Labels auslesen                            #\n",
    "# Datentyp Numpy Array                                       #\n",
    "##############################################################\n",
    "Klassen = np.unique(Labels)\n",
    "Klassen = np.expand_dims(Klassen, -1)\n",
    "Anzahl_Klassen = Klassen.max() + 1\n",
    "print(\"Anzahl der Klassen : \", Anzahl_Klassen)\n",
    "print(\"Form der Klassen : \", Klassen.shape)\n",
    "\n",
    "\n",
    "##############################################################\n",
    "# Features der Gesten auslesen                               #\n",
    "# Datentyp Pandas Dataframe                                  #\n",
    "##############################################################\n",
    "Features = all_data.drop(64, axis=1).copy()\n",
    "Features = np.array(Features).astype('float32')\n",
    "Features = Features.reshape(-1,64)\n",
    "\n",
    "\n",
    "##############################################################\n",
    "# Gebe die Form des Image-Vectors aus                        #\n",
    "##############################################################\n",
    "print(\"Form der Features : \", Features.shape)\n",
    "\n",
    "\n",
    "##############################################################\n",
    "# Gebe die Form des Label-Vectors aus                        #\n",
    "##############################################################\n",
    "print(\"Form der Labels : \", Labels.shape)"
   ]
  },
  {
   "cell_type": "markdown",
   "metadata": {},
   "source": [
    "#### ▶️ Normalisierung der Daten (Optional)\n",
    "***"
   ]
  },
  {
   "cell_type": "code",
   "execution_count": 6,
   "metadata": {},
   "outputs": [],
   "source": [
    "##############################################################\n",
    "# Datenskalierung mit Z-Score                                #\n",
    "##############################################################  \n",
    "sc = StandardScaler()\n",
    "\n",
    "\n",
    "##############################################################\n",
    "# Normalisierung durchführen                                 #\n",
    "# Datentyp Numpy Array                                       #\n",
    "##############################################################  \n",
    "Features = sc.fit_transform(Features)\n",
    "Features = np.expand_dims(Features, -1)"
   ]
  },
  {
   "cell_type": "markdown",
   "metadata": {
    "id": "bqtb_0qsqcBe"
   },
   "source": [
    "#### ▶️ Datensatz aufteilen in Training-, Test-, und Validierungsdaten\n",
    "***"
   ]
  },
  {
   "cell_type": "code",
   "execution_count": 7,
   "metadata": {
    "colab": {
     "base_uri": "https://localhost:8080/"
    },
    "id": "wkE318CuqruZ",
    "outputId": "80b11002-44b4-4019-c983-05a729ffe78c"
   },
   "outputs": [
    {
     "name": "stdout",
     "output_type": "stream",
     "text": [
      "Form der Training-Features :  (4380, 64, 1)\n",
      "Form der Test-Features :  (910, 64, 1)\n",
      "Form der Validierungs-Features: (774, 64, 1)\n",
      "---------------------------------\n",
      "Form der Training-Labels :  (4380, 1)\n",
      "Form der Test-Labels :  (910, 1)\n",
      "Form der Validierungs-Labels :  (774, 1)\n",
      "---------------------------------\n",
      "6064 Gesamt-Features\n",
      "4380 Training-Features\n",
      "910 Test-Features\n",
      "774 Validierungs-Features\n",
      "---------------------------------\n",
      "6064 Gesamt-Labels\n",
      "4380 Training-Labels\n",
      "910 Test-Labels\n",
      "774 Validierungs-Labels\n"
     ]
    }
   ],
   "source": [
    "##############################################################\n",
    "# 64 x 1 Matrix --> 1D Arrays für CNN-Modell                 #\n",
    "##############################################################\n",
    "input_shape = (64, 1)\n",
    "\n",
    "\n",
    "##############################################################\n",
    "# Aufteilung der Datensätze in Training- und Testdaten       #\n",
    "# Test-Size --> prozentualer Anteil von Gesamtdaten          #\n",
    "# Random-State --> Zufallsgrad der Durchmischung             #\n",
    "##############################################################\n",
    "X_train, X_test, y_train, y_test = train_test_split(Features, Labels, test_size = 0.15, random_state = 100)\n",
    "X_train, X_val, y_train, y_val = train_test_split(X_train, y_train, test_size = 0.15, random_state=100)\n",
    "\n",
    "\n",
    "##############################################################\n",
    "# Status der Datensätze ausgeben                             #\n",
    "##############################################################\n",
    "print(\"Form der Training-Features : \", X_train.shape)\n",
    "print(\"Form der Test-Features : \", X_test.shape)\n",
    "print(\"Form der Validierungs-Features:\", X_val.shape)\n",
    "print(\"---------------------------------\")\n",
    "print(\"Form der Training-Labels : \", y_train.shape)\n",
    "print(\"Form der Test-Labels : \", y_test.shape)\n",
    "print(\"Form der Validierungs-Labels : \", y_val.shape)\n",
    "print(\"---------------------------------\")\n",
    "print(Features.shape[0], \"Gesamt-Features\")\n",
    "print(X_train.shape[0], \"Training-Features\")\n",
    "print(X_test.shape[0], \"Test-Features\")\n",
    "print(X_val.shape[0], \"Validierungs-Features\")\n",
    "print(\"---------------------------------\")\n",
    "print(Labels.shape[0], \"Gesamt-Labels\")\n",
    "print(y_train.shape[0], \"Training-Labels\")\n",
    "print(y_test.shape[0], \"Test-Labels\")\n",
    "print(y_val.shape[0], \"Validierungs-Labels\")\n",
    "\n",
    "\n",
    "##############################################################\n",
    "# Klassen in Matrize konvertieren (One-Hot-Encoding)         #\n",
    "##############################################################\n",
    "y_train = keras.utils.to_categorical(y_train, Anzahl_Klassen)\n",
    "y_test = keras.utils.to_categorical(y_test, Anzahl_Klassen)\n",
    "y_val = keras.utils.to_categorical(y_val, Anzahl_Klassen)"
   ]
  },
  {
   "cell_type": "markdown",
   "metadata": {},
   "source": [
    "#### ▶️ Modellarchitektur\n",
    "***"
   ]
  },
  {
   "cell_type": "code",
   "execution_count": 8,
   "metadata": {},
   "outputs": [
    {
     "name": "stdout",
     "output_type": "stream",
     "text": [
      "Model: \"sequential\"\n",
      "_________________________________________________________________\n",
      " Layer (type)                Output Shape              Param #   \n",
      "=================================================================\n",
      " conv1d (Conv1D)             (None, 61, 64)            320       \n",
      "                                                                 \n",
      " activation (Activation)     (None, 61, 64)            0         \n",
      "                                                                 \n",
      " conv1d_1 (Conv1D)           (None, 58, 64)            16448     \n",
      "                                                                 \n",
      " activation_1 (Activation)   (None, 58, 64)            0         \n",
      "                                                                 \n",
      " flatten (Flatten)           (None, 3712)              0         \n",
      "                                                                 \n",
      " dense (Dense)               (None, 64)                237632    \n",
      "                                                                 \n",
      " activation_2 (Activation)   (None, 64)                0         \n",
      "                                                                 \n",
      " dense_1 (Dense)             (None, 4)                 260       \n",
      "                                                                 \n",
      "=================================================================\n",
      "Total params: 254660 (994.77 KB)\n",
      "Trainable params: 254660 (994.77 KB)\n",
      "Non-trainable params: 0 (0.00 Byte)\n",
      "_________________________________________________________________\n"
     ]
    },
    {
     "name": "stderr",
     "output_type": "stream",
     "text": [
      "c:\\Users\\Gizmo\\AppData\\Local\\Programs\\Python\\Python39\\lib\\site-packages\\keras\\src\\engine\\training.py:3103: UserWarning: You are saving your model as an HDF5 file via `model.save()`. This file format is considered legacy. We recommend using instead the native Keras format, e.g. `model.save('my_model.keras')`.\n",
      "  saving_api.save_model(\n"
     ]
    }
   ],
   "source": [
    "##############################################################\n",
    "# Hyperparameter                                             #\n",
    "##############################################################\n",
    "batch_size = 64\n",
    "epochs = 16\n",
    "\n",
    "\n",
    "##############################################################\n",
    "# Modell erstellen                                           #\n",
    "##############################################################\n",
    "model = keras.Sequential()\n",
    "model.add(layers.InputLayer(input_shape))\n",
    "\n",
    "model.add(layers.Conv1D(64, 4, input_shape=input_shape))\n",
    "model.add(layers.Activation('relu'))\n",
    "\n",
    "model.add(layers.Conv1D(64, 4))\n",
    "model.add(layers.Activation('relu'))\n",
    "\n",
    "model.add(layers.Flatten())\n",
    "\n",
    "model.add(layers.Dense(64))\n",
    "model.add(layers.Activation('relu'))\n",
    "\n",
    "model.add(layers.Dense(Anzahl_Klassen, activation = 'softmax'))\n",
    "\n",
    "# Modellparameter ausgeben\n",
    "model.summary()\n",
    "\n",
    "# Modell speichern\n",
    "model.save('./Gespeicherte Modelle/1DCNN.h5')"
   ]
  },
  {
   "cell_type": "code",
   "execution_count": 9,
   "metadata": {},
   "outputs": [
    {
     "name": "stdout",
     "output_type": "stream",
     "text": [
      "Epoch 1/16\n",
      "69/69 [==============================] - 2s 12ms/step - loss: 0.7511 - accuracy: 0.6653 - val_loss: 0.5614 - val_accuracy: 0.7545 - lr: 0.0010\n",
      "Epoch 2/16\n",
      "69/69 [==============================] - 1s 7ms/step - loss: 0.4124 - accuracy: 0.8146 - val_loss: 0.4229 - val_accuracy: 0.8178 - lr: 0.0010\n",
      "Epoch 3/16\n",
      "69/69 [==============================] - 0s 7ms/step - loss: 0.3181 - accuracy: 0.8610 - val_loss: 0.3569 - val_accuracy: 0.8630 - lr: 0.0010\n",
      "Epoch 4/16\n",
      "69/69 [==============================] - 1s 9ms/step - loss: 0.2422 - accuracy: 0.9064 - val_loss: 0.3711 - val_accuracy: 0.8630 - lr: 0.0010\n",
      "Epoch 5/16\n",
      "69/69 [==============================] - 1s 7ms/step - loss: 0.1921 - accuracy: 0.9237 - val_loss: 0.3058 - val_accuracy: 0.8953 - lr: 0.0010\n",
      "Epoch 6/16\n",
      "69/69 [==============================] - 0s 7ms/step - loss: 0.1463 - accuracy: 0.9475 - val_loss: 0.3098 - val_accuracy: 0.8941 - lr: 0.0010\n",
      "Epoch 7/16\n",
      "69/69 [==============================] - 0s 7ms/step - loss: 0.1053 - accuracy: 0.9616 - val_loss: 0.3250 - val_accuracy: 0.8850 - lr: 0.0010\n",
      "Epoch 8/16\n",
      "69/69 [==============================] - 1s 7ms/step - loss: 0.0759 - accuracy: 0.9756 - val_loss: 0.2998 - val_accuracy: 0.9096 - lr: 0.0010\n",
      "Epoch 9/16\n",
      "69/69 [==============================] - 1s 8ms/step - loss: 0.0572 - accuracy: 0.9838 - val_loss: 0.3479 - val_accuracy: 0.9031 - lr: 0.0010\n",
      "Epoch 10/16\n",
      "69/69 [==============================] - 1s 8ms/step - loss: 0.0592 - accuracy: 0.9801 - val_loss: 0.3863 - val_accuracy: 0.9031 - lr: 0.0010\n",
      "Epoch 11/16\n",
      "69/69 [==============================] - 0s 7ms/step - loss: 0.0491 - accuracy: 0.9861 - val_loss: 0.3735 - val_accuracy: 0.8966 - lr: 0.0010\n",
      "Epoch 12/16\n",
      "69/69 [==============================] - 0s 7ms/step - loss: 0.0320 - accuracy: 0.9920 - val_loss: 0.3703 - val_accuracy: 0.9096 - lr: 0.0010\n",
      "Epoch 13/16\n",
      "69/69 [==============================] - 1s 7ms/step - loss: 0.0173 - accuracy: 0.9968 - val_loss: 0.4046 - val_accuracy: 0.9057 - lr: 0.0010\n",
      "Epoch 14/16\n",
      "69/69 [==============================] - 0s 7ms/step - loss: 0.0098 - accuracy: 0.9993 - val_loss: 0.4308 - val_accuracy: 0.9031 - lr: 0.0010\n",
      "Epoch 15/16\n",
      "69/69 [==============================] - 0s 7ms/step - loss: 0.0047 - accuracy: 1.0000 - val_loss: 0.4490 - val_accuracy: 0.9044 - lr: 0.0010\n",
      "Epoch 16/16\n",
      "69/69 [==============================] - 0s 7ms/step - loss: 0.0033 - accuracy: 1.0000 - val_loss: 0.4540 - val_accuracy: 0.9070 - lr: 0.0010\n"
     ]
    }
   ],
   "source": [
    "# Modell kompilieren\n",
    "model.compile(\n",
    "    optimizer='adam',\n",
    "    loss = 'categorical_crossentropy',\n",
    "    metrics=['accuracy']\n",
    ")\n",
    "\n",
    "# Parameter und Daten an Modell übergeben\n",
    "# Training durchführen\n",
    "history = model.fit(\n",
    "    X_train,\n",
    "    y_train,\n",
    "    validation_data=(X_val, y_val),\n",
    "    batch_size=batch_size,    \n",
    "    epochs=epochs,\n",
    "    callbacks=[\n",
    "        tf.keras.callbacks.ReduceLROnPlateau(),\n",
    "    ]\n",
    ")"
   ]
  },
  {
   "cell_type": "markdown",
   "metadata": {},
   "source": [
    "#### ▶️ Ausgabe der Verlustfunktion für Training und Validierung\n",
    "***"
   ]
  },
  {
   "cell_type": "code",
   "execution_count": 10,
   "metadata": {
    "id": "hKYDX19s1oH3"
   },
   "outputs": [
    {
     "data": {
      "image/png": "[encoded data removed]",
      "text/plain": [
       "<Figure size 640x480 with 1 Axes>"
      ]
     },
     "metadata": {},
     "output_type": "display_data"
    }
   ],
   "source": [
    "loss = history.history['loss']\n",
    "val_loss = history.history['val_loss']\n",
    "epochs = range(1, len(loss) + 1)\n",
    "plt.plot(epochs, loss, 'r.', label='Trainingsverlust')\n",
    "plt.plot(epochs, val_loss, 'y', label='Validationsverlust')\n",
    "plt.title('Verlust Training und Validation')\n",
    "plt.xlabel('Epochen')\n",
    "plt.ylabel('Verlust')\n",
    "plt.grid()\n",
    "plt.legend()\n",
    "plt.savefig('./Metriken/Verlust_1DCNN.png', dpi=300, bbox_inches='tight')\n",
    "plt.show()"
   ]
  },
  {
   "cell_type": "markdown",
   "metadata": {},
   "source": [
    "#### ▶️ Ausgabe der Genauigkeit für Training und Validierung\n",
    "***"
   ]
  },
  {
   "cell_type": "code",
   "execution_count": 11,
   "metadata": {},
   "outputs": [
    {
     "data": {
      "image/png": "[encoded data removed]",
      "text/plain": [
       "<Figure size 640x480 with 1 Axes>"
      ]
     },
     "metadata": {},
     "output_type": "display_data"
    }
   ],
   "source": [
    "acc = history.history['accuracy']\n",
    "val_acc = history.history['val_accuracy']\n",
    "epochs = range(1, len(loss) + 1)\n",
    "plt.plot(epochs, acc, 'r.', label='Trainingsgenauigkeit')\n",
    "plt.plot(epochs, val_acc, 'y', label='Validationsgenauigkeit')\n",
    "plt.title('Genauigkeit Training und Validation')\n",
    "plt.xlabel('Epochen')\n",
    "plt.ylabel('Genauigkeit')\n",
    "plt.grid()\n",
    "plt.legend()\n",
    "plt.savefig('./Metriken/Genauigkeit_1DCNN.png', dpi=300, bbox_inches='tight')\n",
    "plt.show()"
   ]
  },
  {
   "cell_type": "markdown",
   "metadata": {},
   "source": [
    "#### ▶️ Modell auf Validierungsdaten anwenden und evaluieren\n",
    "***"
   ]
  },
  {
   "cell_type": "code",
   "execution_count": 12,
   "metadata": {},
   "outputs": [
    {
     "name": "stdout",
     "output_type": "stream",
     "text": [
      "Validierungsverlust : 0.45400363206863403\n",
      "Validierungsgenauigkeit : 0.9069767594337463\n"
     ]
    }
   ],
   "source": [
    "score = model.evaluate(X_val, y_val, verbose=0)\n",
    "print(\"Validierungsverlust :\", score[0])\n",
    "print(\"Validierungsgenauigkeit :\", score[1])"
   ]
  },
  {
   "cell_type": "markdown",
   "metadata": {},
   "source": [
    "### ▶️ Metriken zur Beurteilung der Modellqualität \n",
    "***"
   ]
  },
  {
   "cell_type": "code",
   "execution_count": 13,
   "metadata": {},
   "outputs": [
    {
     "name": "stdout",
     "output_type": "stream",
     "text": [
      "25/25 [==============================] - 0s 2ms/step\n"
     ]
    },
    {
     "data": {
      "image/png": "[encoded data removed]",
      "text/plain": [
       "<Figure size 600x600 with 1 Axes>"
      ]
     },
     "metadata": {},
     "output_type": "display_data"
    },
    {
     "name": "stdout",
     "output_type": "stream",
     "text": [
      "              precision    recall  f1-score   support\n",
      "\n",
      "           0       0.87      0.85      0.86       184\n",
      "           1       0.88      0.91      0.90       199\n",
      "           2       0.93      0.96      0.94       177\n",
      "           3       0.94      0.91      0.93       214\n",
      "\n",
      "    accuracy                           0.91       774\n",
      "   macro avg       0.91      0.91      0.91       774\n",
      "weighted avg       0.91      0.91      0.91       774\n",
      "\n"
     ]
    }
   ],
   "source": [
    "y_test_arg=np.argmax(y_val,axis=1)\n",
    "y_val = np.argmax(model.predict(X_val),axis=1)\n",
    " \n",
    "cm = confusion_matrix(y_test_arg, y_val)\n",
    "\n",
    "plt.figure(figsize=(6, 6))\n",
    "sns.heatmap(cm, annot=True, fmt='g', cmap='Greens', cbar=False)\n",
    "plt.xlabel(\"Vorhersagen\")\n",
    "plt.ylabel(\"Geste\")\n",
    "plt.title(\"Konfusionsmatrix\")\n",
    "plt.show()\n",
    "\n",
    "print(classification_report(y_test_arg, y_val))"
   ]
  }
 ],
 "metadata": {
  "colab": {
   "authorship_tag": "ABX9TyNuAXIB7ixK/3gtqh86Wo2I",
   "include_colab_link": true,
   "provenance": []
  },
  "kernelspec": {
   "display_name": "Python 3 (ipykernel)",
   "language": "python",
   "name": "python3"
  },
  "language_info": {
   "codemirror_mode": {
    "name": "ipython",
    "version": 3
   },
   "file_extension": ".py",
   "mimetype": "text/x-python",
   "name": "python",
   "nbconvert_exporter": "python",
   "pygments_lexer": "ipython3",
   "version": "3.9.13"
  }
 },
 "nbformat": 4,
 "nbformat_minor": 4
}
